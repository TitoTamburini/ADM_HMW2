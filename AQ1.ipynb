{
 "cells": [
  {
   "cell_type": "markdown",
   "id": "ef6cac68",
   "metadata": {},
   "source": [
    "# Algorithmic Question\n",
    "1. [**AQ1**] Given the following pseudocode, answer the questions: \n",
    "\n",
    "<pre>\n",
    "Input: \n",
    "    N : an integer \n",
    "    List : array of characters of length N without repetition\n",
    "    \n",
    "function f1(sequence, end): \n",
    "    For i=0 To end:\n",
    "        OUTPUT sequence[i]\n",
    "    EndFor\n",
    "    Output \"\\n\"\n",
    "    \n",
    "function f2(sequence, start, end): \n",
    "    If start = end: \n",
    "        f1(sequence, end)\n",
    "    Else\n",
    "        For i=start To end: \n",
    "            temp <-- sequence[start]\n",
    "            sequence[start] <-- sequence[i]\n",
    "            sequence[i] <-- temp\n",
    "            f2(sequence, start+1, end)\n",
    "            temp <-- sequence[start]\n",
    "            sequence[start] <-- sequence[i]\n",
    "            sequence[i] <-- temp\n",
    "f2(List, 0, N)\n",
    "</pre>\n",
    "- What is the output of this algorithm? Describe the mechanism of the algorithm <ins>in detail </ins>. We __do not__ want to know only its final result. (Describe one example on your own)\n",
    "- What is asymptotically (i.e., we are asking for big-O complexity) the algorithm's running time as a function of N? \n",
    "- Is this algorithm the __optimal__ one to produce this output? If not, can you suggest a <ins>better algorithm</ins> to perform the same task?\n"
   ]
  },
  {
   "cell_type": "markdown",
   "id": "de14d24c",
   "metadata": {},
   "source": [
    "**Pyhton implementation of the algorithm**"
   ]
  },
  {
   "cell_type": "code",
   "execution_count": 1,
   "id": "220f4079",
   "metadata": {},
   "outputs": [],
   "source": [
    "def f1(sequence,end):\n",
    "    for i in range(end):\n",
    "        print(sequence[i])\n",
    "    print('\\n')\n",
    "def f2(sequence,start,end):\n",
    "    if start == end :\n",
    "        f1(sequence,end)\n",
    "    else: \n",
    "        for i in range(start,end):\n",
    "            temp = sequence[start]\n",
    "            sequence[start] = sequence[i]\n",
    "            sequence[i] = temp\n",
    "            f2(sequence,start+1,end)\n",
    "            temp = sequence[start]\n",
    "            sequence[start] = sequence[i]\n",
    "            sequence[i] = temp\n",
    "            "
   ]
  },
  {
   "cell_type": "markdown",
   "id": "0659cdfc",
   "metadata": {},
   "source": [
    "**Example of execution**"
   ]
  },
  {
   "cell_type": "code",
   "execution_count": 7,
   "id": "c0d44be1",
   "metadata": {},
   "outputs": [],
   "source": [
    "sequence = ['a','b','c']\n",
    "N= 3"
   ]
  },
  {
   "cell_type": "code",
   "execution_count": 8,
   "id": "fa17a1bb",
   "metadata": {},
   "outputs": [
    {
     "name": "stdout",
     "output_type": "stream",
     "text": [
      "a\n",
      "b\n",
      "c\n",
      "\n",
      "\n",
      "a\n",
      "c\n",
      "b\n",
      "\n",
      "\n",
      "b\n",
      "a\n",
      "c\n",
      "\n",
      "\n",
      "b\n",
      "c\n",
      "a\n",
      "\n",
      "\n",
      "c\n",
      "b\n",
      "a\n",
      "\n",
      "\n",
      "c\n",
      "a\n",
      "b\n",
      "\n",
      "\n"
     ]
    }
   ],
   "source": [
    "f2(sequence,0,N)"
   ]
  },
  {
   "cell_type": "markdown",
   "id": "0925cb26",
   "metadata": {},
   "source": [
    "**AQ1.1**\n",
    "\n",
    "***The algorithm implements 1 recursive function f2 and 1 function f1 to print all the possible combination of a list of N characters.\n",
    "At first the call f2(sequence,0,N) enters in the else block,because start(=0)!=end(=N), and inside the for loop, the for is blocked, beacuse f2(sequence,0+1,N) is called, and waits for the execution of this recursive call. f2(sequence,0+1,N) starts a recursive chain. \n",
    "This is create a n-ary tree of recursive calls, its leaves are the call to f1(sequence,N) function which\n",
    "prints the sequence given as input.\n",
    "The sequence is modified in the execution of this algorithm beacuse f2 does side-effect.***\n"
   ]
  },
  {
   "cell_type": "markdown",
   "id": "cb1db206",
   "metadata": {},
   "source": [
    "**AQ1.2**\n",
    "\n",
    "\n",
    "***To compute with the big-O notation the asymptotic i counted the number of recursive call made by the call f2(sequece,0,N)***\n"
   ]
  },
  {
   "cell_type": "markdown",
   "id": "29ee00c1",
   "metadata": {},
   "source": [
    "$$\n",
    "\\begin{equation}\n",
    "T(N) = N*T(N-1) + c\n",
    "\\\\\n",
    "T(0) = 1\n",
    "\\\\\n",
    "T(N-1) = (N-1)*T(N-2) + c\n",
    "\\\\\n",
    "T(N) = N*(N-1)*T(N-2) + c(N+1)\n",
    "\\\\\n",
    "T(N) = N*(N-1)*(N-2)*T(N-3) + N*(N-1)c + (N+1)c\n",
    "\\\\\n",
    "T(N) = N*(N-1)*(N-2)*....*2*1*T(0) + c(1+N+N*(N-1)+N*(N-1)*(N-2)+...+N*(N-1)*(N-2)*...*4*3)\n",
    "\\\\\n",
    "T(N) = N! + (\\sum_{k = 0}^{N-2} \\frac {N!}{(N-K)!})*c\n",
    "\\end{equation}\n",
    "$$\n",
    "\n",
    "**T(N) IS O(N!)**"
   ]
  },
  {
   "cell_type": "markdown",
   "id": "9cb725b8",
   "metadata": {},
   "source": [
    "**AQ1.3**\n",
    "\n",
    "***This algorithm is O(N!) which is optimal for the problem of printing all the possible combination of a list of N characters. This result match with the possible number of combinations of N elements which is N!.***"
   ]
  }
 ],
 "metadata": {
  "kernelspec": {
   "display_name": "Python 3",
   "language": "python",
   "name": "python3"
  },
  "language_info": {
   "codemirror_mode": {
    "name": "ipython",
    "version": 3
   },
   "file_extension": ".py",
   "mimetype": "text/x-python",
   "name": "python",
   "nbconvert_exporter": "python",
   "pygments_lexer": "ipython3",
   "version": "3.6.9"
  }
 },
 "nbformat": 4,
 "nbformat_minor": 5
}
