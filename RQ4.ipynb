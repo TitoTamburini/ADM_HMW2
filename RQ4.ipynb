{
 "cells": [
  {
   "cell_type": "markdown",
   "id": "d4903a36-064d-431f-8677-b752d68b15ed",
   "metadata": {},
   "source": [
    "# RQ4"
   ]
  },
  {
   "cell_type": "markdown",
   "id": "440a9503-1a39-482e-b183-78cbb1290fe4",
   "metadata": {},
   "source": [
    "**In most cases, we will not have a __consistent dataset__, and the one we are dealing with is not an exception (ex. in the given datasets, you may not find the information of the profiles for some of the posts). So let’s enhance our analysis.**\n",
    "\n",
    "   **1. Write a function that, given a profile_id, will be able to return the posts that belong to the given *profile_id*.**\n",
    "   \n",
    "   **2. Write another function that, given an input n (an integer), will return the posts that belong to the n top posted profiles (top n profiles that have posted the highest number of posts) that their data is available in the *profile.csv* using the previously written function.**\n",
    "     \n",
    "   **3. What is the average number of \"likes\" and comments of the top 10 profiles with the highest number of posts which their information is available in *profile.csv*?**\n",
    "    \n",
    "   **4. Plot the number of posts that these top 10 profiles have sent on Instagram in the given interval in question RQ3. Interpret the resulting chart.**\n"
   ]
  },
  {
   "cell_type": "markdown",
   "id": "0fae23c9-0fa1-4d9e-a3e2-930c453ff575",
   "metadata": {},
   "source": [
    "# 4.1"
   ]
  },
  {
   "cell_type": "markdown",
   "id": "36851a27-167a-4e9d-8d2d-52f6516e0f9c",
   "metadata": {},
   "source": [
    "**Function which returns all the post published by the account with id = profile_id that are present in the posts_dataframe**"
   ]
  },
  {
   "cell_type": "code",
   "execution_count": 11,
   "id": "f48c1ed0-154b-4164-947d-ec4f07bf573b",
   "metadata": {},
   "outputs": [],
   "source": [
    "def find_posts_byId(profile_id,posts_dataframe):\n",
    "    return posts_dataframe[posts_dataframe.profile_id == profile_id]"
   ]
  },
  {
   "cell_type": "markdown",
   "id": "9477f85d-e14c-43f1-9b3a-f2705d87793a",
   "metadata": {},
   "source": [
    "**TEST**"
   ]
  },
  {
   "cell_type": "code",
   "execution_count": 2,
   "id": "054716fb-2ab2-4df6-8c73-7f784ca55242",
   "metadata": {},
   "outputs": [],
   "source": [
    "import pandas as pd\n",
    "import numpy as np\n",
    "import random\n",
    "import logging"
   ]
  },
  {
   "cell_type": "code",
   "execution_count": 7,
   "id": "b8f8023f-3347-413d-a60a-b2db8bab0faa",
   "metadata": {},
   "outputs": [],
   "source": [
    "posts_dataframe =  pd.read_csv(\"~/Downloads/instagram_posts.zip\",delimiter=\"\\t\",nrows= 4000000)"
   ]
  },
  {
   "cell_type": "code",
   "execution_count": 4,
   "id": "e4503697-ae4e-4799-86c0-00d0f44ed1da",
   "metadata": {},
   "outputs": [],
   "source": [
    "profile_dataframe = pd.read_csv(\"~/Downloads/instagram_profiles.zip\",delimiter=\"\\t\")"
   ]
  },
  {
   "cell_type": "markdown",
   "id": "b0ba3646-2171-4157-88ca-c28e55b439e5",
   "metadata": {},
   "source": [
    "**Random profile_id from dataset**"
   ]
  },
  {
   "cell_type": "code",
   "execution_count": 8,
   "id": "9aca482a-f8ae-4517-ace2-5129e5e4847d",
   "metadata": {},
   "outputs": [],
   "source": [
    "id1 = posts_dataframe.profile_id[random.randint(0,4000000)]\n",
    "id1\n",
    "id2 = 623386236.0"
   ]
  },
  {
   "cell_type": "markdown",
   "id": "03959497-da5f-40d8-b044-c4821510df02",
   "metadata": {},
   "source": [
    "**Function that execute find_posts_byId and checks for errors in the output**"
   ]
  },
  {
   "cell_type": "code",
   "execution_count": 9,
   "id": "b6f384da-8d63-488c-b57f-11ae95026969",
   "metadata": {},
   "outputs": [],
   "source": [
    "def check_test(profile_id,posts_dataframe):\n",
    "    correct  = posts_dataframe[posts_dataframe.profile_id == np.float64(profile_id)].shape[0]\n",
    "    test = find_posts_byId(profile_id,posts_dataframe)\n",
    "    if(test.shape[0] == correct) :\n",
    "        print(\"Function find_posts_byId is working\")\n",
    "    else:\n",
    "        print(\"Function find_posts_byId is incorrect\")"
   ]
  },
  {
   "cell_type": "code",
   "execution_count": 12,
   "id": "a904a2f6-5f21-47df-882a-73053ad77839",
   "metadata": {},
   "outputs": [
    {
     "name": "stdout",
     "output_type": "stream",
     "text": [
      "Function find_posts_byId is working\n",
      "Function find_posts_byId is working\n"
     ]
    }
   ],
   "source": [
    "check_test(id1,posts_dataframe)\n",
    "check_test(id2,posts_dataframe)"
   ]
  },
  {
   "cell_type": "markdown",
   "id": "0ce4717d-2b56-4364-8dba-25984dacd453",
   "metadata": {},
   "source": [
    "# 4.2"
   ]
  },
  {
   "cell_type": "code",
   "execution_count": 13,
   "id": "153bfd45-6959-4586-ae76-66574060d7c0",
   "metadata": {},
   "outputs": [],
   "source": [
    "def posts_top_profiles(n,posts_dataframe,profile_dataframe):\n",
    "    top_posted_profiles = profile_dataframe.sort_values('n_posts',ascending=False).profile_id.head(n)    \n",
    "    output_posts = []\n",
    "    for id in top_posted_profiles:\n",
    "        output_posts.append(find_posts_byId(id,posts_dataframe))\n",
    "    result = pd.concat(output_posts)\n",
    "    return result\n",
    "    "
   ]
  },
  {
   "cell_type": "markdown",
   "id": "de3ffb35-4774-4a0b-b595-3a1840fe8025",
   "metadata": {},
   "source": [
    "**TEST**"
   ]
  },
  {
   "cell_type": "code",
   "execution_count": 14,
   "id": "25c4113f-8d11-43eb-80a7-0c399bbfac9c",
   "metadata": {},
   "outputs": [
    {
     "name": "stdout",
     "output_type": "stream",
     "text": [
      "3990313    1.996648e+08\n",
      "2571453    8.563367e+09\n",
      "4338921    1.273455e+09\n",
      "3942129    9.813508e+06\n",
      "4219642    1.607309e+09\n",
      "2207897    1.087614e+09\n",
      "4313908    1.603890e+09\n",
      "4219476    2.181730e+08\n",
      "4236057    2.855497e+08\n",
      "1631526    8.312603e+09\n",
      "Name: profile_id, dtype: float64\n"
     ]
    },
    {
     "data": {
      "text/html": [
       "<div>\n",
       "<style scoped>\n",
       "    .dataframe tbody tr th:only-of-type {\n",
       "        vertical-align: middle;\n",
       "    }\n",
       "\n",
       "    .dataframe tbody tr th {\n",
       "        vertical-align: top;\n",
       "    }\n",
       "\n",
       "    .dataframe thead th {\n",
       "        text-align: right;\n",
       "    }\n",
       "</style>\n",
       "<table border=\"1\" class=\"dataframe\">\n",
       "  <thead>\n",
       "    <tr style=\"text-align: right;\">\n",
       "      <th></th>\n",
       "      <th>sid</th>\n",
       "      <th>sid_profile</th>\n",
       "      <th>post_id</th>\n",
       "      <th>profile_id</th>\n",
       "      <th>location_id</th>\n",
       "      <th>cts</th>\n",
       "      <th>post_type</th>\n",
       "      <th>description</th>\n",
       "      <th>numbr_likes</th>\n",
       "      <th>number_comments</th>\n",
       "    </tr>\n",
       "  </thead>\n",
       "  <tbody>\n",
       "    <tr>\n",
       "      <th>2700732</th>\n",
       "      <td>31109333</td>\n",
       "      <td>3621669</td>\n",
       "      <td>BuUnJu0Al2B</td>\n",
       "      <td>9.813508e+06</td>\n",
       "      <td>3.448613e+08</td>\n",
       "      <td>2019-02-25 23:47:25.000</td>\n",
       "      <td>2</td>\n",
       "      <td>NaN</td>\n",
       "      <td>1</td>\n",
       "      <td>0</td>\n",
       "    </tr>\n",
       "    <tr>\n",
       "      <th>2701237</th>\n",
       "      <td>31109320</td>\n",
       "      <td>3621669</td>\n",
       "      <td>BuUoORyAH_f</td>\n",
       "      <td>9.813508e+06</td>\n",
       "      <td>3.448613e+08</td>\n",
       "      <td>2019-02-25 23:56:40.000</td>\n",
       "      <td>1</td>\n",
       "      <td>NaN</td>\n",
       "      <td>1</td>\n",
       "      <td>0</td>\n",
       "    </tr>\n",
       "    <tr>\n",
       "      <th>2701238</th>\n",
       "      <td>31109325</td>\n",
       "      <td>3621669</td>\n",
       "      <td>BuUnmnCgUzr</td>\n",
       "      <td>9.813508e+06</td>\n",
       "      <td>3.448613e+08</td>\n",
       "      <td>2019-02-25 23:51:27.000</td>\n",
       "      <td>2</td>\n",
       "      <td>NaN</td>\n",
       "      <td>4</td>\n",
       "      <td>0</td>\n",
       "    </tr>\n",
       "    <tr>\n",
       "      <th>2701239</th>\n",
       "      <td>31109327</td>\n",
       "      <td>3621669</td>\n",
       "      <td>BuUnj84AFkT</td>\n",
       "      <td>9.813508e+06</td>\n",
       "      <td>3.448613e+08</td>\n",
       "      <td>2019-02-25 23:50:53.000</td>\n",
       "      <td>1</td>\n",
       "      <td>NaN</td>\n",
       "      <td>1</td>\n",
       "      <td>0</td>\n",
       "    </tr>\n",
       "    <tr>\n",
       "      <th>2701240</th>\n",
       "      <td>31109328</td>\n",
       "      <td>3621669</td>\n",
       "      <td>BuUnSeIgm2f</td>\n",
       "      <td>9.813508e+06</td>\n",
       "      <td>3.448613e+08</td>\n",
       "      <td>2019-02-25 23:48:30.000</td>\n",
       "      <td>1</td>\n",
       "      <td>NaN</td>\n",
       "      <td>0</td>\n",
       "      <td>0</td>\n",
       "    </tr>\n",
       "    <tr>\n",
       "      <th>233067</th>\n",
       "      <td>28607526</td>\n",
       "      <td>3851869</td>\n",
       "      <td>ByAFx7gnNhZ</td>\n",
       "      <td>1.607309e+09</td>\n",
       "      <td>2.448736e+08</td>\n",
       "      <td>2019-05-28 11:36:28.000</td>\n",
       "      <td>1</td>\n",
       "      <td>อ้วนแค่ไหน ทานอะไรก็เอาไม่ลง \\nมาเจอเซทล้มช้าง...</td>\n",
       "      <td>1</td>\n",
       "      <td>0</td>\n",
       "    </tr>\n",
       "    <tr>\n",
       "      <th>241977</th>\n",
       "      <td>28616591</td>\n",
       "      <td>3851869</td>\n",
       "      <td>BxtZ7__Fosq</td>\n",
       "      <td>1.607309e+09</td>\n",
       "      <td>3.621726e+14</td>\n",
       "      <td>2019-05-21 05:27:02.000</td>\n",
       "      <td>1</td>\n",
       "      <td>อ้วนแค่ไหน ทานอะไรก็เอาไม่ลง \\nมาเจอเซทล้มช้าง...</td>\n",
       "      <td>0</td>\n",
       "      <td>0</td>\n",
       "    </tr>\n",
       "    <tr>\n",
       "      <th>319192</th>\n",
       "      <td>28694641</td>\n",
       "      <td>3851869</td>\n",
       "      <td>ByB2YpbnoZs</td>\n",
       "      <td>1.607309e+09</td>\n",
       "      <td>2.086910e+05</td>\n",
       "      <td>2019-05-29 04:00:25.000</td>\n",
       "      <td>1</td>\n",
       "      <td>อ้วนแค่ไหน ทานอะไรก็เอาไม่ลง \\nมาเจอเซทล้มช้าง...</td>\n",
       "      <td>4</td>\n",
       "      <td>0</td>\n",
       "    </tr>\n",
       "    <tr>\n",
       "      <th>637098</th>\n",
       "      <td>29019247</td>\n",
       "      <td>3851869</td>\n",
       "      <td>BwUPb5dFZCR</td>\n",
       "      <td>1.607309e+09</td>\n",
       "      <td>9.268474e+14</td>\n",
       "      <td>2019-04-16 14:22:51.000</td>\n",
       "      <td>1</td>\n",
       "      <td>📞 สนใจตัวช่วย#dwfifteen🔥เพิ่มการเผาผลาญไขมัน\\n...</td>\n",
       "      <td>1</td>\n",
       "      <td>0</td>\n",
       "    </tr>\n",
       "    <tr>\n",
       "      <th>1300143</th>\n",
       "      <td>29693418</td>\n",
       "      <td>3851869</td>\n",
       "      <td>ByJwLb5nTZ-</td>\n",
       "      <td>1.607309e+09</td>\n",
       "      <td>2.509223e+08</td>\n",
       "      <td>2019-06-01 05:40:06.000</td>\n",
       "      <td>1</td>\n",
       "      <td>อ้วนแค่ไหน ทานอะไรก็เอาไม่ลง \\nมาเจอเซทล้มช้าง...</td>\n",
       "      <td>0</td>\n",
       "      <td>0</td>\n",
       "    </tr>\n",
       "    <tr>\n",
       "      <th>2527831</th>\n",
       "      <td>30932749</td>\n",
       "      <td>3851869</td>\n",
       "      <td>ByAd4lDHeib</td>\n",
       "      <td>1.607309e+09</td>\n",
       "      <td>2.215335e+08</td>\n",
       "      <td>2019-05-28 15:07:05.000</td>\n",
       "      <td>1</td>\n",
       "      <td>#ฮีโร่กู้ปัญหาสิว ฝ้า กระ 🔥🔥\\nคอลลาโรส+เกรปซี้...</td>\n",
       "      <td>4</td>\n",
       "      <td>0</td>\n",
       "    </tr>\n",
       "    <tr>\n",
       "      <th>2890890</th>\n",
       "      <td>31303176</td>\n",
       "      <td>3851869</td>\n",
       "      <td>ByPOfATHMf2</td>\n",
       "      <td>1.607309e+09</td>\n",
       "      <td>2.173866e+08</td>\n",
       "      <td>2019-06-03 08:41:08.000</td>\n",
       "      <td>1</td>\n",
       "      <td>อ้วนแค่ไหน ทานอะไรก็เอาไม่ลง \\nมาเจอเซทล้มช้าง...</td>\n",
       "      <td>2</td>\n",
       "      <td>0</td>\n",
       "    </tr>\n",
       "    <tr>\n",
       "      <th>3025496</th>\n",
       "      <td>31440286</td>\n",
       "      <td>3851869</td>\n",
       "      <td>Bx8vwJSHIvV</td>\n",
       "      <td>1.607309e+09</td>\n",
       "      <td>2.472035e+08</td>\n",
       "      <td>2019-05-27 04:26:15.000</td>\n",
       "      <td>1</td>\n",
       "      <td>เช้าๆ แบบนี้ ⛅\\n️ อย่าลืมทาน dwfifteen 💕 ก่อนอ...</td>\n",
       "      <td>1</td>\n",
       "      <td>0</td>\n",
       "    </tr>\n",
       "    <tr>\n",
       "      <th>3805193</th>\n",
       "      <td>32252611</td>\n",
       "      <td>3851869</td>\n",
       "      <td>ByQAGFzneKw</td>\n",
       "      <td>1.607309e+09</td>\n",
       "      <td>4.627838e+08</td>\n",
       "      <td>2019-06-03 15:54:38.000</td>\n",
       "      <td>1</td>\n",
       "      <td>เช้าๆ แบบนี้ ⛅\\n️ อย่าลืมทาน dwfifteen 💕 ก่อนอ...</td>\n",
       "      <td>4</td>\n",
       "      <td>0</td>\n",
       "    </tr>\n",
       "    <tr>\n",
       "      <th>592982</th>\n",
       "      <td>28973172</td>\n",
       "      <td>345591</td>\n",
       "      <td>BsImXwXgQHo</td>\n",
       "      <td>1.087614e+09</td>\n",
       "      <td>4.299943e+08</td>\n",
       "      <td>2019-01-02 14:46:48.000</td>\n",
       "      <td>1</td>\n",
       "      <td>NaN</td>\n",
       "      <td>0</td>\n",
       "      <td>0</td>\n",
       "    </tr>\n",
       "    <tr>\n",
       "      <th>593003</th>\n",
       "      <td>28973171</td>\n",
       "      <td>345591</td>\n",
       "      <td>BsIqY_RA9EP</td>\n",
       "      <td>1.087614e+09</td>\n",
       "      <td>4.299943e+08</td>\n",
       "      <td>2019-01-02 15:21:55.000</td>\n",
       "      <td>1</td>\n",
       "      <td>NaN</td>\n",
       "      <td>1</td>\n",
       "      <td>0</td>\n",
       "    </tr>\n",
       "    <tr>\n",
       "      <th>593013</th>\n",
       "      <td>28973178</td>\n",
       "      <td>345591</td>\n",
       "      <td>Br6p0uIAjMc</td>\n",
       "      <td>1.087614e+09</td>\n",
       "      <td>4.299943e+08</td>\n",
       "      <td>2018-12-28 04:47:36.000</td>\n",
       "      <td>1</td>\n",
       "      <td>Merry Christmas My Mother</td>\n",
       "      <td>0</td>\n",
       "      <td>0</td>\n",
       "    </tr>\n",
       "    <tr>\n",
       "      <th>494943</th>\n",
       "      <td>28873428</td>\n",
       "      <td>3944512</td>\n",
       "      <td>BxjqpeJhofB</td>\n",
       "      <td>1.603890e+09</td>\n",
       "      <td>2.971150e+08</td>\n",
       "      <td>2019-05-17 10:40:38.000</td>\n",
       "      <td>1</td>\n",
       "      <td>#gamt 1,290 free ems #gamtthailand #gamtsungla...</td>\n",
       "      <td>4</td>\n",
       "      <td>0</td>\n",
       "    </tr>\n",
       "    <tr>\n",
       "      <th>637087</th>\n",
       "      <td>29019245</td>\n",
       "      <td>3944512</td>\n",
       "      <td>BwUPb5mhGKA</td>\n",
       "      <td>1.603890e+09</td>\n",
       "      <td>9.268474e+14</td>\n",
       "      <td>2019-04-16 14:22:51.000</td>\n",
       "      <td>1</td>\n",
       "      <td>📞 สนใจตัวช่วย#dwfifteen🔥เพิ่มการเผาผลาญไขมัน\\n...</td>\n",
       "      <td>1</td>\n",
       "      <td>0</td>\n",
       "    </tr>\n",
       "  </tbody>\n",
       "</table>\n",
       "</div>"
      ],
      "text/plain": [
       "              sid  sid_profile      post_id    profile_id   location_id  \\\n",
       "2700732  31109333      3621669  BuUnJu0Al2B  9.813508e+06  3.448613e+08   \n",
       "2701237  31109320      3621669  BuUoORyAH_f  9.813508e+06  3.448613e+08   \n",
       "2701238  31109325      3621669  BuUnmnCgUzr  9.813508e+06  3.448613e+08   \n",
       "2701239  31109327      3621669  BuUnj84AFkT  9.813508e+06  3.448613e+08   \n",
       "2701240  31109328      3621669  BuUnSeIgm2f  9.813508e+06  3.448613e+08   \n",
       "233067   28607526      3851869  ByAFx7gnNhZ  1.607309e+09  2.448736e+08   \n",
       "241977   28616591      3851869  BxtZ7__Fosq  1.607309e+09  3.621726e+14   \n",
       "319192   28694641      3851869  ByB2YpbnoZs  1.607309e+09  2.086910e+05   \n",
       "637098   29019247      3851869  BwUPb5dFZCR  1.607309e+09  9.268474e+14   \n",
       "1300143  29693418      3851869  ByJwLb5nTZ-  1.607309e+09  2.509223e+08   \n",
       "2527831  30932749      3851869  ByAd4lDHeib  1.607309e+09  2.215335e+08   \n",
       "2890890  31303176      3851869  ByPOfATHMf2  1.607309e+09  2.173866e+08   \n",
       "3025496  31440286      3851869  Bx8vwJSHIvV  1.607309e+09  2.472035e+08   \n",
       "3805193  32252611      3851869  ByQAGFzneKw  1.607309e+09  4.627838e+08   \n",
       "592982   28973172       345591  BsImXwXgQHo  1.087614e+09  4.299943e+08   \n",
       "593003   28973171       345591  BsIqY_RA9EP  1.087614e+09  4.299943e+08   \n",
       "593013   28973178       345591  Br6p0uIAjMc  1.087614e+09  4.299943e+08   \n",
       "494943   28873428      3944512  BxjqpeJhofB  1.603890e+09  2.971150e+08   \n",
       "637087   29019245      3944512  BwUPb5mhGKA  1.603890e+09  9.268474e+14   \n",
       "\n",
       "                             cts  post_type  \\\n",
       "2700732  2019-02-25 23:47:25.000          2   \n",
       "2701237  2019-02-25 23:56:40.000          1   \n",
       "2701238  2019-02-25 23:51:27.000          2   \n",
       "2701239  2019-02-25 23:50:53.000          1   \n",
       "2701240  2019-02-25 23:48:30.000          1   \n",
       "233067   2019-05-28 11:36:28.000          1   \n",
       "241977   2019-05-21 05:27:02.000          1   \n",
       "319192   2019-05-29 04:00:25.000          1   \n",
       "637098   2019-04-16 14:22:51.000          1   \n",
       "1300143  2019-06-01 05:40:06.000          1   \n",
       "2527831  2019-05-28 15:07:05.000          1   \n",
       "2890890  2019-06-03 08:41:08.000          1   \n",
       "3025496  2019-05-27 04:26:15.000          1   \n",
       "3805193  2019-06-03 15:54:38.000          1   \n",
       "592982   2019-01-02 14:46:48.000          1   \n",
       "593003   2019-01-02 15:21:55.000          1   \n",
       "593013   2018-12-28 04:47:36.000          1   \n",
       "494943   2019-05-17 10:40:38.000          1   \n",
       "637087   2019-04-16 14:22:51.000          1   \n",
       "\n",
       "                                               description  numbr_likes  \\\n",
       "2700732                                                NaN            1   \n",
       "2701237                                                NaN            1   \n",
       "2701238                                                NaN            4   \n",
       "2701239                                                NaN            1   \n",
       "2701240                                                NaN            0   \n",
       "233067   อ้วนแค่ไหน ทานอะไรก็เอาไม่ลง \\nมาเจอเซทล้มช้าง...            1   \n",
       "241977   อ้วนแค่ไหน ทานอะไรก็เอาไม่ลง \\nมาเจอเซทล้มช้าง...            0   \n",
       "319192   อ้วนแค่ไหน ทานอะไรก็เอาไม่ลง \\nมาเจอเซทล้มช้าง...            4   \n",
       "637098   📞 สนใจตัวช่วย#dwfifteen🔥เพิ่มการเผาผลาญไขมัน\\n...            1   \n",
       "1300143  อ้วนแค่ไหน ทานอะไรก็เอาไม่ลง \\nมาเจอเซทล้มช้าง...            0   \n",
       "2527831  #ฮีโร่กู้ปัญหาสิว ฝ้า กระ 🔥🔥\\nคอลลาโรส+เกรปซี้...            4   \n",
       "2890890  อ้วนแค่ไหน ทานอะไรก็เอาไม่ลง \\nมาเจอเซทล้มช้าง...            2   \n",
       "3025496  เช้าๆ แบบนี้ ⛅\\n️ อย่าลืมทาน dwfifteen 💕 ก่อนอ...            1   \n",
       "3805193  เช้าๆ แบบนี้ ⛅\\n️ อย่าลืมทาน dwfifteen 💕 ก่อนอ...            4   \n",
       "592982                                                 NaN            0   \n",
       "593003                                                 NaN            1   \n",
       "593013                           Merry Christmas My Mother            0   \n",
       "494943   #gamt 1,290 free ems #gamtthailand #gamtsungla...            4   \n",
       "637087   📞 สนใจตัวช่วย#dwfifteen🔥เพิ่มการเผาผลาญไขมัน\\n...            1   \n",
       "\n",
       "         number_comments  \n",
       "2700732                0  \n",
       "2701237                0  \n",
       "2701238                0  \n",
       "2701239                0  \n",
       "2701240                0  \n",
       "233067                 0  \n",
       "241977                 0  \n",
       "319192                 0  \n",
       "637098                 0  \n",
       "1300143                0  \n",
       "2527831                0  \n",
       "2890890                0  \n",
       "3025496                0  \n",
       "3805193                0  \n",
       "592982                 0  \n",
       "593003                 0  \n",
       "593013                 0  \n",
       "494943                 0  \n",
       "637087                 0  "
      ]
     },
     "metadata": {},
     "output_type": "display_data"
    }
   ],
   "source": [
    "top_posted_profiles = profile_dataframe.sort_values('n_posts',ascending=False).profile_id.head(10)    \n",
    "print(top_posted_profiles)\n",
    "display(posts_top_profiles(10,posts_dataframe,profile_dataframe))"
   ]
  },
  {
   "cell_type": "markdown",
   "id": "e82c3c9d-e55f-49e2-951e-f3e9ee8b411c",
   "metadata": {},
   "source": [
    "# 4.3"
   ]
  },
  {
   "cell_type": "markdown",
   "id": "e2136025-d333-4583-9dc1-45ddd6e46066",
   "metadata": {},
   "source": [
    "**Collect all the posts published by the top 10 profiles who posted more**"
   ]
  },
  {
   "cell_type": "code",
   "execution_count": 15,
   "id": "b7887eee-b1fb-4f4a-8bde-76664cfb2518",
   "metadata": {},
   "outputs": [],
   "source": [
    "averages = posts_top_profiles(10,posts_dataframe,profile_dataframe)"
   ]
  },
  {
   "cell_type": "markdown",
   "id": "2c9a2e6e-9df2-4c9f-9e11-e9b7e6caa085",
   "metadata": {},
   "source": [
    "**Compute the average number of likes and comments for each profile  who is in the top 10 profiles with the most number of posts**"
   ]
  },
  {
   "cell_type": "code",
   "execution_count": 16,
   "id": "2a473ed9-97cb-4308-b174-4d0f894f0537",
   "metadata": {},
   "outputs": [
    {
     "data": {
      "text/html": [
       "<div>\n",
       "<style scoped>\n",
       "    .dataframe tbody tr th:only-of-type {\n",
       "        vertical-align: middle;\n",
       "    }\n",
       "\n",
       "    .dataframe tbody tr th {\n",
       "        vertical-align: top;\n",
       "    }\n",
       "\n",
       "    .dataframe thead th {\n",
       "        text-align: right;\n",
       "    }\n",
       "</style>\n",
       "<table border=\"1\" class=\"dataframe\">\n",
       "  <thead>\n",
       "    <tr style=\"text-align: right;\">\n",
       "      <th></th>\n",
       "      <th>numbr_likes</th>\n",
       "      <th>number_comments</th>\n",
       "    </tr>\n",
       "    <tr>\n",
       "      <th>profile_id</th>\n",
       "      <th></th>\n",
       "      <th></th>\n",
       "    </tr>\n",
       "  </thead>\n",
       "  <tbody>\n",
       "    <tr>\n",
       "      <th>9.813508e+06</th>\n",
       "      <td>1.400000</td>\n",
       "      <td>0.0</td>\n",
       "    </tr>\n",
       "    <tr>\n",
       "      <th>1.087614e+09</th>\n",
       "      <td>0.333333</td>\n",
       "      <td>0.0</td>\n",
       "    </tr>\n",
       "    <tr>\n",
       "      <th>1.603890e+09</th>\n",
       "      <td>2.500000</td>\n",
       "      <td>0.0</td>\n",
       "    </tr>\n",
       "    <tr>\n",
       "      <th>1.607309e+09</th>\n",
       "      <td>1.888889</td>\n",
       "      <td>0.0</td>\n",
       "    </tr>\n",
       "  </tbody>\n",
       "</table>\n",
       "</div>"
      ],
      "text/plain": [
       "              numbr_likes  number_comments\n",
       "profile_id                                \n",
       "9.813508e+06     1.400000              0.0\n",
       "1.087614e+09     0.333333              0.0\n",
       "1.603890e+09     2.500000              0.0\n",
       "1.607309e+09     1.888889              0.0"
      ]
     },
     "execution_count": 16,
     "metadata": {},
     "output_type": "execute_result"
    }
   ],
   "source": [
    "averages.groupby(\"profile_id\")[['numbr_likes','number_comments']].mean()  "
   ]
  },
  {
   "cell_type": "markdown",
   "id": "7c2f01b7-cfc9-493c-a42b-e4f56b314be0",
   "metadata": {},
   "source": [
    "# 4.4"
   ]
  },
  {
   "cell_type": "code",
   "execution_count": 17,
   "id": "1edde76e-4af4-40ee-b420-e2a3dcf448c4",
   "metadata": {},
   "outputs": [],
   "source": [
    "from collections import defaultdict\n",
    "import matplotlib.pyplot as plt\n",
    "from datetime import datetime"
   ]
  },
  {
   "cell_type": "markdown",
   "id": "37da29ef-fced-4777-8345-9312b7a16877",
   "metadata": {},
   "source": [
    "**Functions written in the RQ3 file**"
   ]
  },
  {
   "cell_type": "code",
   "execution_count": 18,
   "id": "74f3cc61-5d1a-4f9c-a2a1-acc96e3c8ad7",
   "metadata": {},
   "outputs": [],
   "source": [
    "def posts_cts_manager(post_dataframe):\n",
    "    posts_dataframe['cts'] = pd.to_datetime(posts_dataframe.cts).dt.time\n",
    "\n",
    "def time_interval(time_list,posts):\n",
    "    counter  = defaultdict()\n",
    "    for time in time_list:\n",
    "        interval = time[0].strftime(\"%H:%M:%S\")+\" \"+time[1].strftime(\"%H:%M:%S\")\n",
    "        counter[interval] = 0\n",
    "        for date in posts['cts']:\n",
    "            if(time[0]<= date and time[1]>=date):\n",
    "                counter[interval] += 1\n",
    "    hist  = plt.bar(range(len(list(counter.keys()))), counter.values(), color='g')\n",
    "    print(\"Histogram with the quantity of post publications for each interval given as input:\")\n",
    "    i= 0\n",
    "    for key in counter.keys():\n",
    "        print( \"Interval \"+str(i)+\" = \"+key)\n",
    "        i+=1\n",
    "    return hist"
   ]
  },
  {
   "cell_type": "markdown",
   "id": "94793cb7-f8fb-43b4-b21c-dcaac3b52945",
   "metadata": {},
   "source": [
    "**Pass the time intervals as input of  time_interval() function**"
   ]
  },
  {
   "cell_type": "code",
   "execution_count": 19,
   "id": "cae3b112-26c5-47e0-ae0c-aaed3253065e",
   "metadata": {},
   "outputs": [],
   "source": [
    "input_t = [['06:00:00','10:59:59'],['11:00:00','13:59:59'],['14:00:00','16:59:59'],['17:00:00', '19:59:59'],['20:00:00','23:59:59'],['00:00:00','02:59:59'],['03:00:00','05:59:59']]\n",
    "time_list = []\n",
    "for interval in input_t:\n",
    "    row  = []\n",
    "    row.append(datetime.strptime(interval[0], '%H:%M:%S').time())\n",
    "    row.append(datetime.strptime(interval[1],'%H:%M:%S').time())\n",
    "    time_list.append(row)"
   ]
  },
  {
   "cell_type": "markdown",
   "id": "6e896708-6081-4b43-a5df-7d2a91eaee59",
   "metadata": {},
   "source": [
    "**Execute time_interval function with the input built in the cell above on the posts of the top10 profiles with the most number of posts**"
   ]
  },
  {
   "cell_type": "code",
   "execution_count": 24,
   "id": "ca7d5cbb-9734-4152-a83e-b40725fb15c1",
   "metadata": {},
   "outputs": [],
   "source": [
    "target_posts = posts_top_profiles(10,posts_dataframe,profile_dataframe)    "
   ]
  },
  {
   "cell_type": "code",
   "execution_count": 26,
   "id": "4970fc50-c7e0-41ff-949c-12057736d470",
   "metadata": {},
   "outputs": [],
   "source": [
    "#execute this cell ONLY if the profile_dataframe and posts_dataframe have just been loaded in the file\n",
    "#posts_cts_manager(target_posts)"
   ]
  },
  {
   "cell_type": "code",
   "execution_count": 25,
   "id": "4536cc49-9d26-472f-a798-6a70c29503f9",
   "metadata": {},
   "outputs": [
    {
     "name": "stdout",
     "output_type": "stream",
     "text": [
      "Histogram with the quantity of post publications for each interval given as input:\n",
      "Interval 0 = 06:00:00 10:59:59\n",
      "Interval 1 = 11:00:00 13:59:59\n",
      "Interval 2 = 14:00:00 16:59:59\n",
      "Interval 3 = 17:00:00 19:59:59\n",
      "Interval 4 = 20:00:00 23:59:59\n",
      "Interval 5 = 00:00:00 02:59:59\n",
      "Interval 6 = 03:00:00 05:59:59\n"
     ]
    },
    {
     "data": {
      "image/png": "[encoded data removed]",
      "text/plain": [
       "<Figure size 432x288 with 1 Axes>"
      ]
     },
     "metadata": {
      "needs_background": "light"
     },
     "output_type": "display_data"
    }
   ],
   "source": [
    "time_interval(time_list,target_posts)\n",
    "plt.show()"
   ]
  },
  {
   "cell_type": "markdown",
   "id": "162812df-a2fe-4bd5-bb38-50b49cf9495b",
   "metadata": {},
   "source": [
    "# CONCLUSION\n",
    "The plot shows us that the top10 profiles prefer to post in the time that goes from 14 pm to 17 pm.\n",
    "This result links with the result given by other studies that puts this time interval as the best for instagram accounts to publish a post because in this period of the day the post is seen by the most of the account's followers "
   ]
  }
 ],
 "metadata": {
  "kernelspec": {
   "display_name": "Python 3.9.12 ('base')",
   "language": "python",
   "name": "python3"
  },
  "language_info": {
   "codemirror_mode": {
    "name": "ipython",
    "version": 3
   },
   "file_extension": ".py",
   "mimetype": "text/x-python",
   "name": "python",
   "nbconvert_exporter": "python",
   "pygments_lexer": "ipython3",
   "version": "3.9.12"
  },
  "vscode": {
   "interpreter": {
    "hash": "1fe61594923d2a5d982534718f3a44d80d54aa84bc222edb79bd8e8f2cce8cae"
   }
  }
 },
 "nbformat": 4,
 "nbformat_minor": 5
}
