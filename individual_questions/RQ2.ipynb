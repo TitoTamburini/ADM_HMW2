{
 "cells": [
  {
   "cell_type": "markdown",
   "metadata": {},
   "source": [
    "## RQ 2"
   ]
  },
  {
   "cell_type": "markdown",
   "metadata": {},
   "source": [
    "####  Let's explore the dataset by finding simple insights regarding the profile and posts"
   ]
  },
  {
   "cell_type": "markdown",
   "metadata": {},
   "source": [
    "#### 2.1 Plot the number of posts for each profile in descending order."
   ]
  },
  {
   "cell_type": "markdown",
   "metadata": {},
   "source": [
    "##### The Pandas import is performed and the Profiles csv is saved in Parquet"
   ]
  },
  {
   "cell_type": "code",
   "execution_count": 10,
   "metadata": {},
   "outputs": [
    {
     "name": "stdout",
     "output_type": "stream",
     "text": [
      "Requirement already satisfied: pyarrow in /Users/mariaalejandrapenaortiz/opt/anaconda3/lib/python3.9/site-packages (9.0.0)\n",
      "Requirement already satisfied: numpy>=1.16.6 in /Users/mariaalejandrapenaortiz/opt/anaconda3/lib/python3.9/site-packages (from pyarrow) (1.21.5)\n",
      "\n",
      "\u001b[1m[\u001b[0m\u001b[34;49mnotice\u001b[0m\u001b[1;39;49m]\u001b[0m\u001b[39;49m A new release of pip available: \u001b[0m\u001b[31;49m22.2.2\u001b[0m\u001b[39;49m -> \u001b[0m\u001b[32;49m22.3\u001b[0m\n",
      "\u001b[1m[\u001b[0m\u001b[34;49mnotice\u001b[0m\u001b[1;39;49m]\u001b[0m\u001b[39;49m To update, run: \u001b[0m\u001b[32;49mpip install --upgrade pip\u001b[0m\n"
     ]
    },
    {
     "data": {
      "text/html": [
       "<div>\n",
       "<style scoped>\n",
       "    .dataframe tbody tr th:only-of-type {\n",
       "        vertical-align: middle;\n",
       "    }\n",
       "\n",
       "    .dataframe tbody tr th {\n",
       "        vertical-align: top;\n",
       "    }\n",
       "\n",
       "    .dataframe thead th {\n",
       "        text-align: right;\n",
       "    }\n",
       "</style>\n",
       "<table border=\"1\" class=\"dataframe\">\n",
       "  <thead>\n",
       "    <tr style=\"text-align: right;\">\n",
       "      <th></th>\n",
       "      <th>sid</th>\n",
       "      <th>profile_id</th>\n",
       "      <th>profile_name</th>\n",
       "      <th>firstname_lastname</th>\n",
       "      <th>description</th>\n",
       "      <th>following</th>\n",
       "      <th>followers</th>\n",
       "      <th>n_posts</th>\n",
       "      <th>url</th>\n",
       "      <th>cts</th>\n",
       "      <th>is_business_account</th>\n",
       "    </tr>\n",
       "  </thead>\n",
       "  <tbody>\n",
       "    <tr>\n",
       "      <th>0</th>\n",
       "      <td>4184446</td>\n",
       "      <td>4.721050e+09</td>\n",
       "      <td>jphillip033</td>\n",
       "      <td>John Pierce</td>\n",
       "      <td>\"Document Everything Always\"</td>\n",
       "      <td>250.0</td>\n",
       "      <td>146.0</td>\n",
       "      <td>170.0</td>\n",
       "      <td>NaN</td>\n",
       "      <td>2019-08-01 14:38:55.394 -0400</td>\n",
       "      <td>False</td>\n",
       "    </tr>\n",
       "    <tr>\n",
       "      <th>1</th>\n",
       "      <td>4184457</td>\n",
       "      <td>5.905830e+08</td>\n",
       "      <td>mama_haas</td>\n",
       "      <td>Deanna</td>\n",
       "      <td>Trying to enjoy the simple things in life. Kni...</td>\n",
       "      <td>534.0</td>\n",
       "      <td>1145.0</td>\n",
       "      <td>2878.0</td>\n",
       "      <td>www.etsy.com/shop/MamaHaas69</td>\n",
       "      <td>2019-08-01 14:39:36.526 -0400</td>\n",
       "      <td>False</td>\n",
       "    </tr>\n",
       "  </tbody>\n",
       "</table>\n",
       "</div>"
      ],
      "text/plain": [
       "       sid    profile_id profile_name firstname_lastname  \\\n",
       "0  4184446  4.721050e+09  jphillip033        John Pierce   \n",
       "1  4184457  5.905830e+08    mama_haas             Deanna   \n",
       "\n",
       "                                         description  following  followers  \\\n",
       "0                       \"Document Everything Always\"      250.0      146.0   \n",
       "1  Trying to enjoy the simple things in life. Kni...      534.0     1145.0   \n",
       "\n",
       "   n_posts                           url                            cts  \\\n",
       "0    170.0                           NaN  2019-08-01 14:38:55.394 -0400   \n",
       "1   2878.0  www.etsy.com/shop/MamaHaas69  2019-08-01 14:39:36.526 -0400   \n",
       "\n",
       "  is_business_account  \n",
       "0               False  \n",
       "1               False  "
      ]
     },
     "execution_count": 10,
     "metadata": {},
     "output_type": "execute_result"
    }
   ],
   "source": [
    "import pandas as pd\n",
    "\n",
    "profiles_df = pd.read_csv('instagram_profiles.zip', delimiter='\\t')\n",
    "\n",
    "!pip install pyarrow\n",
    "\n",
    "profiles_df.to_parquet('profiles_df.parquet.snappy')\n",
    "\n",
    "profiles_df.head(2)"
   ]
  },
  {
   "cell_type": "markdown",
   "metadata": {},
   "source": [
    "##### Order from highest to lowest with respect to number of posts"
   ]
  },
  {
   "cell_type": "code",
   "execution_count": 3,
   "metadata": {},
   "outputs": [],
   "source": [
    "profiles_df.sort_values(by='n_posts', ascending=False, inplace=True)"
   ]
  },
  {
   "cell_type": "markdown",
   "metadata": {},
   "source": [
    "##### Drop NaN values in n_posts column"
   ]
  },
  {
   "cell_type": "code",
   "execution_count": 4,
   "metadata": {},
   "outputs": [],
   "source": [
    "profiles_df = profiles_df[profiles_df[\"n_posts\"].notna()]"
   ]
  },
  {
   "cell_type": "markdown",
   "metadata": {},
   "source": [
    "##### Drop n_posts that are equal to 0"
   ]
  },
  {
   "cell_type": "code",
   "execution_count": 5,
   "metadata": {},
   "outputs": [],
   "source": [
    "profiles_df_without_0 = profiles_df.loc[profiles_df[\"n_posts\"] != 0]"
   ]
  },
  {
   "cell_type": "code",
   "execution_count": 6,
   "metadata": {},
   "outputs": [],
   "source": [
    "profiles_df_without_0_filtered = profiles_df_without_0[['profile_name','n_posts']]"
   ]
  },
  {
   "cell_type": "markdown",
   "metadata": {},
   "source": [
    "##### The DataFrame was transformed to Numpy to be able to plot it."
   ]
  },
  {
   "cell_type": "code",
   "execution_count": 10,
   "metadata": {},
   "outputs": [],
   "source": [
    "profiles_df_without_0_filtered_array = profiles_df_without_0_filtered.to_numpy()"
   ]
  },
  {
   "cell_type": "markdown",
   "metadata": {},
   "source": [
    "##### Because the DataFrame to be plotted is quite large, LensPy DynamicPlot was used. \"LensPy extends Plotly's Dash to allow you to plot very large datasets (millions of points) while ensuring that figures are still fast, fluid, and responsive\" https://pypi.org/project/lenspy/\n",
    "\n",
    "##### LensPy can build dynamic figures of very large datasets without overwhelming the browser when viewing the figures.\n",
    "\n",
    "##### When the code is run, you can see that it is on the server:\n",
    "\n",
    "##### \" Dash is running on http://127.0.0.1:8050/ \"\n",
    "\n",
    "##### And there we can see that the user with the highest number of posts is jasem3312 with 188.73k posts.\n",
    "##### You can move the pointer and see each of the profiles with their amount of posts."
   ]
  },
  {
   "cell_type": "markdown",
   "metadata": {},
   "source": [
    "<img src= 'Dash_ADM2.png'>"
   ]
  },
  {
   "cell_type": "code",
   "execution_count": null,
   "metadata": {},
   "outputs": [],
   "source": [
    "pip install lenspy"
   ]
  },
  {
   "cell_type": "code",
   "execution_count": 16,
   "metadata": {},
   "outputs": [
    {
     "name": "stderr",
     "output_type": "stream",
     "text": [
      "/Users/mariaalejandrapenaortiz/opt/anaconda3/lib/python3.9/site-packages/lenspy/__init__.py:7: UserWarning: \n",
      "The dash_core_components package is deprecated. Please replace\n",
      "`import dash_core_components as dcc` with `from dash import dcc`\n",
      "  import dash_core_components as dcc\n",
      "/Users/mariaalejandrapenaortiz/opt/anaconda3/lib/python3.9/site-packages/lenspy/__init__.py:8: UserWarning: \n",
      "The dash_html_components package is deprecated. Please replace\n",
      "`import dash_html_components as html` with `from dash import html`\n",
      "  import dash_html_components as html\n"
     ]
    },
    {
     "name": "stdout",
     "output_type": "stream",
     "text": [
      "Dash is running on http://127.0.0.1:8050/\n",
      "\n",
      " * Serving Flask app \"__main__\" (lazy loading)\n",
      " * Environment: production\n",
      "\u001b[31m   WARNING: This is a development server. Do not use it in a production deployment.\u001b[0m\n",
      "\u001b[2m   Use a production WSGI server instead.\u001b[0m\n",
      " * Debug mode: off\n",
      "Exception on /_dash-update-component [POST]\n",
      "Traceback (most recent call last):\n",
      "  File \"/Users/mariaalejandrapenaortiz/opt/anaconda3/lib/python3.9/site-packages/flask/app.py\", line 2447, in wsgi_app\n",
      "    response = self.full_dispatch_request()\n",
      "  File \"/Users/mariaalejandrapenaortiz/opt/anaconda3/lib/python3.9/site-packages/flask/app.py\", line 1952, in full_dispatch_request\n",
      "    rv = self.handle_user_exception(e)\n",
      "  File \"/Users/mariaalejandrapenaortiz/opt/anaconda3/lib/python3.9/site-packages/flask/app.py\", line 1821, in handle_user_exception\n",
      "    reraise(exc_type, exc_value, tb)\n",
      "  File \"/Users/mariaalejandrapenaortiz/opt/anaconda3/lib/python3.9/site-packages/flask/_compat.py\", line 39, in reraise\n",
      "    raise value\n",
      "  File \"/Users/mariaalejandrapenaortiz/opt/anaconda3/lib/python3.9/site-packages/flask/app.py\", line 1950, in full_dispatch_request\n",
      "    rv = self.dispatch_request()\n",
      "  File \"/Users/mariaalejandrapenaortiz/opt/anaconda3/lib/python3.9/site-packages/flask/app.py\", line 1936, in dispatch_request\n",
      "    return self.view_functions[rule.endpoint](**req.view_args)\n",
      "  File \"/Users/mariaalejandrapenaortiz/opt/anaconda3/lib/python3.9/site-packages/dash/dash.py\", line 1261, in dispatch\n",
      "    ctx.run(\n",
      "  File \"/Users/mariaalejandrapenaortiz/opt/anaconda3/lib/python3.9/site-packages/dash/_callback.py\", line 440, in add_context\n",
      "    output_value = func(*func_args, **func_kwargs)  # %% callback invoked %%\n",
      "  File \"/Users/mariaalejandrapenaortiz/opt/anaconda3/lib/python3.9/site-packages/lenspy/__init__.py\", line 238, in refine_plot\n",
      "    self._refresh_traces(vw)\n",
      "  File \"/Users/mariaalejandrapenaortiz/opt/anaconda3/lib/python3.9/site-packages/lenspy/__init__.py\", line 198, in _refresh_traces\n",
      "    trace.refresh(view_port)\n",
      "  File \"/Users/mariaalejandrapenaortiz/opt/anaconda3/lib/python3.9/site-packages/lenspy/__init__.py\", line 100, in refresh\n",
      "    filts = [((self.trace_df[d] >= vp[f\"{d}1\"]) &\n",
      "  File \"/Users/mariaalejandrapenaortiz/opt/anaconda3/lib/python3.9/site-packages/lenspy/__init__.py\", line 100, in <listcomp>\n",
      "    filts = [((self.trace_df[d] >= vp[f\"{d}1\"]) &\n",
      "  File \"/Users/mariaalejandrapenaortiz/opt/anaconda3/lib/python3.9/site-packages/pandas/core/ops/common.py\", line 70, in new_method\n",
      "    return method(self, other)\n",
      "  File \"/Users/mariaalejandrapenaortiz/opt/anaconda3/lib/python3.9/site-packages/pandas/core/arraylike.py\", line 60, in __ge__\n",
      "    return self._cmp_method(other, operator.ge)\n",
      "  File \"/Users/mariaalejandrapenaortiz/opt/anaconda3/lib/python3.9/site-packages/pandas/core/series.py\", line 5623, in _cmp_method\n",
      "    res_values = ops.comparison_op(lvalues, rvalues, op)\n",
      "  File \"/Users/mariaalejandrapenaortiz/opt/anaconda3/lib/python3.9/site-packages/pandas/core/ops/array_ops.py\", line 283, in comparison_op\n",
      "    res_values = comp_method_OBJECT_ARRAY(op, lvalues, rvalues)\n",
      "  File \"/Users/mariaalejandrapenaortiz/opt/anaconda3/lib/python3.9/site-packages/pandas/core/ops/array_ops.py\", line 73, in comp_method_OBJECT_ARRAY\n",
      "    result = libops.scalar_compare(x.ravel(), y, op)\n",
      "  File \"pandas/_libs/ops.pyx\", line 107, in pandas._libs.ops.scalar_compare\n",
      "TypeError: '>=' not supported between instances of 'str' and 'float'\n",
      "Exception on /_dash-update-component [POST]\n",
      "Traceback (most recent call last):\n",
      "  File \"/Users/mariaalejandrapenaortiz/opt/anaconda3/lib/python3.9/site-packages/flask/app.py\", line 2447, in wsgi_app\n",
      "    response = self.full_dispatch_request()\n",
      "  File \"/Users/mariaalejandrapenaortiz/opt/anaconda3/lib/python3.9/site-packages/flask/app.py\", line 1952, in full_dispatch_request\n",
      "    rv = self.handle_user_exception(e)\n",
      "  File \"/Users/mariaalejandrapenaortiz/opt/anaconda3/lib/python3.9/site-packages/flask/app.py\", line 1821, in handle_user_exception\n",
      "    reraise(exc_type, exc_value, tb)\n",
      "  File \"/Users/mariaalejandrapenaortiz/opt/anaconda3/lib/python3.9/site-packages/flask/_compat.py\", line 39, in reraise\n",
      "    raise value\n",
      "  File \"/Users/mariaalejandrapenaortiz/opt/anaconda3/lib/python3.9/site-packages/flask/app.py\", line 1950, in full_dispatch_request\n",
      "    rv = self.dispatch_request()\n",
      "  File \"/Users/mariaalejandrapenaortiz/opt/anaconda3/lib/python3.9/site-packages/flask/app.py\", line 1936, in dispatch_request\n",
      "    return self.view_functions[rule.endpoint](**req.view_args)\n",
      "  File \"/Users/mariaalejandrapenaortiz/opt/anaconda3/lib/python3.9/site-packages/dash/dash.py\", line 1261, in dispatch\n",
      "    ctx.run(\n",
      "  File \"/Users/mariaalejandrapenaortiz/opt/anaconda3/lib/python3.9/site-packages/dash/_callback.py\", line 440, in add_context\n",
      "    output_value = func(*func_args, **func_kwargs)  # %% callback invoked %%\n",
      "  File \"/Users/mariaalejandrapenaortiz/opt/anaconda3/lib/python3.9/site-packages/lenspy/__init__.py\", line 238, in refine_plot\n",
      "    self._refresh_traces(vw)\n",
      "  File \"/Users/mariaalejandrapenaortiz/opt/anaconda3/lib/python3.9/site-packages/lenspy/__init__.py\", line 198, in _refresh_traces\n",
      "    trace.refresh(view_port)\n",
      "  File \"/Users/mariaalejandrapenaortiz/opt/anaconda3/lib/python3.9/site-packages/lenspy/__init__.py\", line 100, in refresh\n",
      "    filts = [((self.trace_df[d] >= vp[f\"{d}1\"]) &\n",
      "  File \"/Users/mariaalejandrapenaortiz/opt/anaconda3/lib/python3.9/site-packages/lenspy/__init__.py\", line 100, in <listcomp>\n",
      "    filts = [((self.trace_df[d] >= vp[f\"{d}1\"]) &\n",
      "  File \"/Users/mariaalejandrapenaortiz/opt/anaconda3/lib/python3.9/site-packages/pandas/core/ops/common.py\", line 70, in new_method\n",
      "    return method(self, other)\n",
      "  File \"/Users/mariaalejandrapenaortiz/opt/anaconda3/lib/python3.9/site-packages/pandas/core/arraylike.py\", line 60, in __ge__\n",
      "    return self._cmp_method(other, operator.ge)\n",
      "  File \"/Users/mariaalejandrapenaortiz/opt/anaconda3/lib/python3.9/site-packages/pandas/core/series.py\", line 5623, in _cmp_method\n",
      "    res_values = ops.comparison_op(lvalues, rvalues, op)\n",
      "  File \"/Users/mariaalejandrapenaortiz/opt/anaconda3/lib/python3.9/site-packages/pandas/core/ops/array_ops.py\", line 283, in comparison_op\n",
      "    res_values = comp_method_OBJECT_ARRAY(op, lvalues, rvalues)\n",
      "  File \"/Users/mariaalejandrapenaortiz/opt/anaconda3/lib/python3.9/site-packages/pandas/core/ops/array_ops.py\", line 73, in comp_method_OBJECT_ARRAY\n",
      "    result = libops.scalar_compare(x.ravel(), y, op)\n",
      "  File \"pandas/_libs/ops.pyx\", line 107, in pandas._libs.ops.scalar_compare\n",
      "TypeError: '>=' not supported between instances of 'str' and 'int'\n"
     ]
    }
   ],
   "source": [
    "import numpy as np\n",
    "import plotly.graph_objects as go\n",
    "from lenspy import DynamicPlot\n",
    "\n",
    "x = profiles_df_without_0_filtered_array[:,0]\n",
    "\n",
    "y = profiles_df_without_0_filtered_array[:,1]\n",
    "\n",
    "fig = go.Figure(data=[go.Scattergl(x=x, y=y)])\n",
    "\n",
    "plot = DynamicPlot(fig)\n",
    "plot.show()\n",
    "\n",
    "\n"
   ]
  },
  {
   "cell_type": "markdown",
   "metadata": {},
   "source": [
    "#### 2.2 What posts have the highest number of \"likes\"?"
   ]
  },
  {
   "cell_type": "markdown",
   "metadata": {},
   "source": [
    "##### Through the for loop and the established chunksize, we select only the columns of interest: post_id and numbr_likes"
   ]
  },
  {
   "cell_type": "code",
   "execution_count": 17,
   "metadata": {},
   "outputs": [
    {
     "name": "stderr",
     "output_type": "stream",
     "text": [
      "86it [03:59,  2.78s/it]\n"
     ]
    }
   ],
   "source": [
    "import pandas as pd\n",
    "from tqdm import tqdm\n",
    "\n",
    "df_list = []\n",
    "\n",
    "for chunk in tqdm(pd.read_csv('instagram_posts.csv', delimiter='\\t', chunksize=500000)):\n",
    "    \n",
    "    filtered = chunk[['post_id','numbr_likes']]\n",
    "    \n",
    "    df_list.append(filtered)"
   ]
  },
  {
   "cell_type": "markdown",
   "metadata": {},
   "source": [
    "##### Through the lambda function, an append is made of all the 86 DataFrames that were obtained in the previous loop and they are saved in the DataFrame \"post_likes\""
   ]
  },
  {
   "cell_type": "code",
   "execution_count": 18,
   "metadata": {},
   "outputs": [
    {
     "name": "stderr",
     "output_type": "stream",
     "text": [
      "/var/folders/gy/6j7jtq4n7m36jvtq0tfc4t880000gn/T/ipykernel_5154/3432768451.py:3: FutureWarning:\n",
      "\n",
      "The frame.append method is deprecated and will be removed from pandas in a future version. Use pandas.concat instead.\n",
      "\n"
     ]
    },
    {
     "data": {
      "text/html": [
       "<div>\n",
       "<style scoped>\n",
       "    .dataframe tbody tr th:only-of-type {\n",
       "        vertical-align: middle;\n",
       "    }\n",
       "\n",
       "    .dataframe tbody tr th {\n",
       "        vertical-align: top;\n",
       "    }\n",
       "\n",
       "    .dataframe thead th {\n",
       "        text-align: right;\n",
       "    }\n",
       "</style>\n",
       "<table border=\"1\" class=\"dataframe\">\n",
       "  <thead>\n",
       "    <tr style=\"text-align: right;\">\n",
       "      <th></th>\n",
       "      <th>post_id</th>\n",
       "      <th>numbr_likes</th>\n",
       "    </tr>\n",
       "  </thead>\n",
       "  <tbody>\n",
       "    <tr>\n",
       "      <th>0</th>\n",
       "      <td>BXdjjUlgcgq</td>\n",
       "      <td>80.0</td>\n",
       "    </tr>\n",
       "    <tr>\n",
       "      <th>1</th>\n",
       "      <td>BVg0pbolYBC</td>\n",
       "      <td>25.0</td>\n",
       "    </tr>\n",
       "    <tr>\n",
       "      <th>2</th>\n",
       "      <td>BRgkjcXFp3Q</td>\n",
       "      <td>9.0</td>\n",
       "    </tr>\n",
       "    <tr>\n",
       "      <th>3</th>\n",
       "      <td>BKTKeNhjEA7</td>\n",
       "      <td>4.0</td>\n",
       "    </tr>\n",
       "    <tr>\n",
       "      <th>4</th>\n",
       "      <td>8-NQrvoYLX</td>\n",
       "      <td>8.0</td>\n",
       "    </tr>\n",
       "  </tbody>\n",
       "</table>\n",
       "</div>"
      ],
      "text/plain": [
       "       post_id  numbr_likes\n",
       "0  BXdjjUlgcgq         80.0\n",
       "1  BVg0pbolYBC         25.0\n",
       "2  BRgkjcXFp3Q          9.0\n",
       "3  BKTKeNhjEA7          4.0\n",
       "4   8-NQrvoYLX          8.0"
      ]
     },
     "execution_count": 18,
     "metadata": {},
     "output_type": "execute_result"
    }
   ],
   "source": [
    "from functools import reduce\n",
    "\n",
    "post_likes = reduce(lambda df1, df2: df1.append(df2), df_list)\n",
    "\n",
    "post_likes.head(5)"
   ]
  },
  {
   "cell_type": "markdown",
   "metadata": {},
   "source": [
    "##### .nlargest() was used to select the 10 most popular posts based on the number of likes\n",
    "\n",
    "##### As a result, it is obtained that the post with the highest number of likes is the post_id \"Bt3yaXmAM0d\" with 8.8M likes."
   ]
  },
  {
   "cell_type": "code",
   "execution_count": 19,
   "metadata": {},
   "outputs": [
    {
     "data": {
      "text/html": [
       "<div>\n",
       "<style scoped>\n",
       "    .dataframe tbody tr th:only-of-type {\n",
       "        vertical-align: middle;\n",
       "    }\n",
       "\n",
       "    .dataframe tbody tr th {\n",
       "        vertical-align: top;\n",
       "    }\n",
       "\n",
       "    .dataframe thead th {\n",
       "        text-align: right;\n",
       "    }\n",
       "</style>\n",
       "<table border=\"1\" class=\"dataframe\">\n",
       "  <thead>\n",
       "    <tr style=\"text-align: right;\">\n",
       "      <th></th>\n",
       "      <th>post_id</th>\n",
       "      <th>numbr_likes</th>\n",
       "    </tr>\n",
       "  </thead>\n",
       "  <tbody>\n",
       "    <tr>\n",
       "      <th>19624085</th>\n",
       "      <td>Bt3yaXmAM0d</td>\n",
       "      <td>8822952.0</td>\n",
       "    </tr>\n",
       "    <tr>\n",
       "      <th>19623988</th>\n",
       "      <td>BuwffB7g8cK</td>\n",
       "      <td>5447066.0</td>\n",
       "    </tr>\n",
       "    <tr>\n",
       "      <th>19624082</th>\n",
       "      <td>Buc1gyZAaMQ</td>\n",
       "      <td>5116398.0</td>\n",
       "    </tr>\n",
       "    <tr>\n",
       "      <th>19623986</th>\n",
       "      <td>BvcukE8AMuG</td>\n",
       "      <td>4271466.0</td>\n",
       "    </tr>\n",
       "    <tr>\n",
       "      <th>39701024</th>\n",
       "      <td>BqSLFVBFLfq</td>\n",
       "      <td>4264745.0</td>\n",
       "    </tr>\n",
       "    <tr>\n",
       "      <th>6293907</th>\n",
       "      <td>BwTSXBKg7gN</td>\n",
       "      <td>3586546.0</td>\n",
       "    </tr>\n",
       "    <tr>\n",
       "      <th>19624086</th>\n",
       "      <td>Btw8pFXAvQm</td>\n",
       "      <td>3558599.0</td>\n",
       "    </tr>\n",
       "    <tr>\n",
       "      <th>19802016</th>\n",
       "      <td>BvC3n6_gqin</td>\n",
       "      <td>3533326.0</td>\n",
       "    </tr>\n",
       "    <tr>\n",
       "      <th>30850564</th>\n",
       "      <td>Bw7vqLrFkHi</td>\n",
       "      <td>3340297.0</td>\n",
       "    </tr>\n",
       "    <tr>\n",
       "      <th>39812576</th>\n",
       "      <td>Bw2gTH1AiDA</td>\n",
       "      <td>3311246.0</td>\n",
       "    </tr>\n",
       "  </tbody>\n",
       "</table>\n",
       "</div>"
      ],
      "text/plain": [
       "              post_id  numbr_likes\n",
       "19624085  Bt3yaXmAM0d    8822952.0\n",
       "19623988  BuwffB7g8cK    5447066.0\n",
       "19624082  Buc1gyZAaMQ    5116398.0\n",
       "19623986  BvcukE8AMuG    4271466.0\n",
       "39701024  BqSLFVBFLfq    4264745.0\n",
       "6293907   BwTSXBKg7gN    3586546.0\n",
       "19624086  Btw8pFXAvQm    3558599.0\n",
       "19802016  BvC3n6_gqin    3533326.0\n",
       "30850564  Bw7vqLrFkHi    3340297.0\n",
       "39812576  Bw2gTH1AiDA    3311246.0"
      ]
     },
     "execution_count": 19,
     "metadata": {},
     "output_type": "execute_result"
    }
   ],
   "source": [
    "top10_post_id = post_likes \\\n",
    "    .nlargest(10, 'numbr_likes')\n",
    "    \n",
    "top10_post_id"
   ]
  },
  {
   "cell_type": "markdown",
   "metadata": {},
   "source": [
    "#### 2.3 What posts have the most and the least number of comments?"
   ]
  },
  {
   "cell_type": "markdown",
   "metadata": {},
   "source": [
    "##### Through the for loop and the established chunksize, we select only the columns of interest: post_id and number_comments"
   ]
  },
  {
   "cell_type": "code",
   "execution_count": 20,
   "metadata": {},
   "outputs": [
    {
     "name": "stderr",
     "output_type": "stream",
     "text": [
      "86it [03:28,  2.43s/it]\n"
     ]
    }
   ],
   "source": [
    "import pandas as pd\n",
    "from tqdm import tqdm\n",
    "\n",
    "df_list = []\n",
    "\n",
    "for chunk in tqdm(pd.read_csv('instagram_posts.csv', delimiter='\\t', chunksize=500000)):\n",
    "    \n",
    "    filtered = chunk[['post_id','number_comments']]\n",
    "    \n",
    "    df_list.append(filtered)"
   ]
  },
  {
   "cell_type": "markdown",
   "metadata": {},
   "source": [
    "##### Through the lambda function, an append is made of all the 86 DataFrames that were obtained in the previous loop and they are saved in the DataFrame \"post_comments\""
   ]
  },
  {
   "cell_type": "code",
   "execution_count": 21,
   "metadata": {},
   "outputs": [
    {
     "name": "stderr",
     "output_type": "stream",
     "text": [
      "/var/folders/gy/6j7jtq4n7m36jvtq0tfc4t880000gn/T/ipykernel_5154/3953308785.py:3: FutureWarning:\n",
      "\n",
      "The frame.append method is deprecated and will be removed from pandas in a future version. Use pandas.concat instead.\n",
      "\n"
     ]
    },
    {
     "data": {
      "text/html": [
       "<div>\n",
       "<style scoped>\n",
       "    .dataframe tbody tr th:only-of-type {\n",
       "        vertical-align: middle;\n",
       "    }\n",
       "\n",
       "    .dataframe tbody tr th {\n",
       "        vertical-align: top;\n",
       "    }\n",
       "\n",
       "    .dataframe thead th {\n",
       "        text-align: right;\n",
       "    }\n",
       "</style>\n",
       "<table border=\"1\" class=\"dataframe\">\n",
       "  <thead>\n",
       "    <tr style=\"text-align: right;\">\n",
       "      <th></th>\n",
       "      <th>post_id</th>\n",
       "      <th>number_comments</th>\n",
       "    </tr>\n",
       "  </thead>\n",
       "  <tbody>\n",
       "    <tr>\n",
       "      <th>0</th>\n",
       "      <td>BXdjjUlgcgq</td>\n",
       "      <td>0.0</td>\n",
       "    </tr>\n",
       "    <tr>\n",
       "      <th>1</th>\n",
       "      <td>BVg0pbolYBC</td>\n",
       "      <td>1.0</td>\n",
       "    </tr>\n",
       "    <tr>\n",
       "      <th>2</th>\n",
       "      <td>BRgkjcXFp3Q</td>\n",
       "      <td>0.0</td>\n",
       "    </tr>\n",
       "    <tr>\n",
       "      <th>3</th>\n",
       "      <td>BKTKeNhjEA7</td>\n",
       "      <td>0.0</td>\n",
       "    </tr>\n",
       "    <tr>\n",
       "      <th>4</th>\n",
       "      <td>8-NQrvoYLX</td>\n",
       "      <td>0.0</td>\n",
       "    </tr>\n",
       "  </tbody>\n",
       "</table>\n",
       "</div>"
      ],
      "text/plain": [
       "       post_id  number_comments\n",
       "0  BXdjjUlgcgq              0.0\n",
       "1  BVg0pbolYBC              1.0\n",
       "2  BRgkjcXFp3Q              0.0\n",
       "3  BKTKeNhjEA7              0.0\n",
       "4   8-NQrvoYLX              0.0"
      ]
     },
     "execution_count": 21,
     "metadata": {},
     "output_type": "execute_result"
    }
   ],
   "source": [
    "from functools import reduce\n",
    "\n",
    "post_comments = reduce(lambda df1, df2: df1.append(df2), df_list)\n",
    "\n",
    "post_comments.head(5)"
   ]
  },
  {
   "cell_type": "markdown",
   "metadata": {},
   "source": [
    "##### .nlargest() was used to select the 10 most popular posts based on the number of comments\n",
    "\n",
    "##### As a result, it is obtained that the post with the highest number of comments is the post_id \"Bx2sPAjHviO\" with 488k likes."
   ]
  },
  {
   "cell_type": "code",
   "execution_count": 22,
   "metadata": {},
   "outputs": [
    {
     "data": {
      "text/html": [
       "<div>\n",
       "<style scoped>\n",
       "    .dataframe tbody tr th:only-of-type {\n",
       "        vertical-align: middle;\n",
       "    }\n",
       "\n",
       "    .dataframe tbody tr th {\n",
       "        vertical-align: top;\n",
       "    }\n",
       "\n",
       "    .dataframe thead th {\n",
       "        text-align: right;\n",
       "    }\n",
       "</style>\n",
       "<table border=\"1\" class=\"dataframe\">\n",
       "  <thead>\n",
       "    <tr style=\"text-align: right;\">\n",
       "      <th></th>\n",
       "      <th>post_id</th>\n",
       "      <th>number_comments</th>\n",
       "    </tr>\n",
       "  </thead>\n",
       "  <tbody>\n",
       "    <tr>\n",
       "      <th>41873060</th>\n",
       "      <td>Bx2sPAjHviO</td>\n",
       "      <td>488953.0</td>\n",
       "    </tr>\n",
       "    <tr>\n",
       "      <th>12164781</th>\n",
       "      <td>BuGjhWAhAW5</td>\n",
       "      <td>313997.0</td>\n",
       "    </tr>\n",
       "    <tr>\n",
       "      <th>33261751</th>\n",
       "      <td>BJ-rkpTgn1N</td>\n",
       "      <td>257488.0</td>\n",
       "    </tr>\n",
       "    <tr>\n",
       "      <th>11149127</th>\n",
       "      <td>BMtisIxjhtT</td>\n",
       "      <td>214365.0</td>\n",
       "    </tr>\n",
       "    <tr>\n",
       "      <th>9383817</th>\n",
       "      <td>BzOOWj3DfZK</td>\n",
       "      <td>189888.0</td>\n",
       "    </tr>\n",
       "    <tr>\n",
       "      <th>5427268</th>\n",
       "      <td>BoQoM-JFkPA</td>\n",
       "      <td>180635.0</td>\n",
       "    </tr>\n",
       "    <tr>\n",
       "      <th>25257169</th>\n",
       "      <td>Bwarws1lCok</td>\n",
       "      <td>173988.0</td>\n",
       "    </tr>\n",
       "    <tr>\n",
       "      <th>6220011</th>\n",
       "      <td>Bt4qlVDAZMH</td>\n",
       "      <td>170836.0</td>\n",
       "    </tr>\n",
       "    <tr>\n",
       "      <th>31689573</th>\n",
       "      <td>Bs9NhQkAcJA</td>\n",
       "      <td>166919.0</td>\n",
       "    </tr>\n",
       "    <tr>\n",
       "      <th>14257307</th>\n",
       "      <td>Bzqb95QI_1E</td>\n",
       "      <td>166198.0</td>\n",
       "    </tr>\n",
       "  </tbody>\n",
       "</table>\n",
       "</div>"
      ],
      "text/plain": [
       "              post_id  number_comments\n",
       "41873060  Bx2sPAjHviO         488953.0\n",
       "12164781  BuGjhWAhAW5         313997.0\n",
       "33261751  BJ-rkpTgn1N         257488.0\n",
       "11149127  BMtisIxjhtT         214365.0\n",
       "9383817   BzOOWj3DfZK         189888.0\n",
       "5427268   BoQoM-JFkPA         180635.0\n",
       "25257169  Bwarws1lCok         173988.0\n",
       "6220011   Bt4qlVDAZMH         170836.0\n",
       "31689573  Bs9NhQkAcJA         166919.0\n",
       "14257307  Bzqb95QI_1E         166198.0"
      ]
     },
     "execution_count": 22,
     "metadata": {},
     "output_type": "execute_result"
    }
   ],
   "source": [
    "top10_comments = post_comments \\\n",
    "    .nlargest(10, 'number_comments')\n",
    "    \n",
    "top10_comments"
   ]
  },
  {
   "cell_type": "markdown",
   "metadata": {},
   "source": [
    "##### .nsmallest() was used to select the 10 least popular posts based on the number of comments\n",
    "\n",
    "##### As a result, it is observed that there are many posts with 0 comments."
   ]
  },
  {
   "cell_type": "code",
   "execution_count": 24,
   "metadata": {},
   "outputs": [
    {
     "data": {
      "text/html": [
       "<div>\n",
       "<style scoped>\n",
       "    .dataframe tbody tr th:only-of-type {\n",
       "        vertical-align: middle;\n",
       "    }\n",
       "\n",
       "    .dataframe tbody tr th {\n",
       "        vertical-align: top;\n",
       "    }\n",
       "\n",
       "    .dataframe thead th {\n",
       "        text-align: right;\n",
       "    }\n",
       "</style>\n",
       "<table border=\"1\" class=\"dataframe\">\n",
       "  <thead>\n",
       "    <tr style=\"text-align: right;\">\n",
       "      <th></th>\n",
       "      <th>post_id</th>\n",
       "      <th>number_comments</th>\n",
       "    </tr>\n",
       "  </thead>\n",
       "  <tbody>\n",
       "    <tr>\n",
       "      <th>0</th>\n",
       "      <td>BXdjjUlgcgq</td>\n",
       "      <td>0.0</td>\n",
       "    </tr>\n",
       "    <tr>\n",
       "      <th>2</th>\n",
       "      <td>BRgkjcXFp3Q</td>\n",
       "      <td>0.0</td>\n",
       "    </tr>\n",
       "    <tr>\n",
       "      <th>3</th>\n",
       "      <td>BKTKeNhjEA7</td>\n",
       "      <td>0.0</td>\n",
       "    </tr>\n",
       "    <tr>\n",
       "      <th>4</th>\n",
       "      <td>8-NQrvoYLX</td>\n",
       "      <td>0.0</td>\n",
       "    </tr>\n",
       "    <tr>\n",
       "      <th>11</th>\n",
       "      <td>Bx-ptmpinBs</td>\n",
       "      <td>0.0</td>\n",
       "    </tr>\n",
       "    <tr>\n",
       "      <th>12</th>\n",
       "      <td>Bx9uKZAAHDg</td>\n",
       "      <td>0.0</td>\n",
       "    </tr>\n",
       "    <tr>\n",
       "      <th>13</th>\n",
       "      <td>Bx5qGE0AlMM</td>\n",
       "      <td>0.0</td>\n",
       "    </tr>\n",
       "    <tr>\n",
       "      <th>23</th>\n",
       "      <td>Bxf-Vl4lK2S</td>\n",
       "      <td>0.0</td>\n",
       "    </tr>\n",
       "    <tr>\n",
       "      <th>24</th>\n",
       "      <td>BxCrxafBm-9</td>\n",
       "      <td>0.0</td>\n",
       "    </tr>\n",
       "    <tr>\n",
       "      <th>28</th>\n",
       "      <td>BwRE4lYhQ3r</td>\n",
       "      <td>0.0</td>\n",
       "    </tr>\n",
       "  </tbody>\n",
       "</table>\n",
       "</div>"
      ],
      "text/plain": [
       "        post_id  number_comments\n",
       "0   BXdjjUlgcgq              0.0\n",
       "2   BRgkjcXFp3Q              0.0\n",
       "3   BKTKeNhjEA7              0.0\n",
       "4    8-NQrvoYLX              0.0\n",
       "11  Bx-ptmpinBs              0.0\n",
       "12  Bx9uKZAAHDg              0.0\n",
       "13  Bx5qGE0AlMM              0.0\n",
       "23  Bxf-Vl4lK2S              0.0\n",
       "24  BxCrxafBm-9              0.0\n",
       "28  BwRE4lYhQ3r              0.0"
      ]
     },
     "execution_count": 24,
     "metadata": {},
     "output_type": "execute_result"
    }
   ],
   "source": [
    "least10_comments = post_comments \\\n",
    "    .nsmallest(10, 'number_comments')\n",
    "\n",
    "least10_comments"
   ]
  },
  {
   "cell_type": "markdown",
   "metadata": {},
   "source": [
    "#### 2.4 How many posts include tagged locations, and how many do not? Show it using an appropriate chart and comment your results."
   ]
  },
  {
   "cell_type": "markdown",
   "metadata": {},
   "source": [
    "##### Through the for loop and the established chunksize, we select only the columns of interest: post_id and location_id"
   ]
  },
  {
   "cell_type": "code",
   "execution_count": 25,
   "metadata": {},
   "outputs": [
    {
     "name": "stderr",
     "output_type": "stream",
     "text": [
      "86it [03:17,  2.30s/it]\n"
     ]
    }
   ],
   "source": [
    "import pandas as pd\n",
    "from tqdm import tqdm\n",
    "\n",
    "df_list = []\n",
    "\n",
    "for chunk in tqdm(pd.read_csv('instagram_posts.csv', delimiter='\\t', chunksize=500000)):\n",
    "    \n",
    "    filtered = chunk[['post_id','location_id']]\n",
    "    \n",
    "    df_list.append(filtered)"
   ]
  },
  {
   "cell_type": "markdown",
   "metadata": {},
   "source": [
    "##### Through the lambda function, an append is made of all the 86 DataFrames that were obtained in the previous loop and they are saved in the DataFrame \"post_location_id\""
   ]
  },
  {
   "cell_type": "code",
   "execution_count": 58,
   "metadata": {},
   "outputs": [
    {
     "name": "stderr",
     "output_type": "stream",
     "text": [
      "/var/folders/gy/6j7jtq4n7m36jvtq0tfc4t880000gn/T/ipykernel_5154/2672636998.py:3: FutureWarning:\n",
      "\n",
      "The frame.append method is deprecated and will be removed from pandas in a future version. Use pandas.concat instead.\n",
      "\n"
     ]
    },
    {
     "data": {
      "text/html": [
       "<div>\n",
       "<style scoped>\n",
       "    .dataframe tbody tr th:only-of-type {\n",
       "        vertical-align: middle;\n",
       "    }\n",
       "\n",
       "    .dataframe tbody tr th {\n",
       "        vertical-align: top;\n",
       "    }\n",
       "\n",
       "    .dataframe thead th {\n",
       "        text-align: right;\n",
       "    }\n",
       "</style>\n",
       "<table border=\"1\" class=\"dataframe\">\n",
       "  <thead>\n",
       "    <tr style=\"text-align: right;\">\n",
       "      <th></th>\n",
       "      <th>post_id</th>\n",
       "      <th>location_id</th>\n",
       "    </tr>\n",
       "  </thead>\n",
       "  <tbody>\n",
       "    <tr>\n",
       "      <th>0</th>\n",
       "      <td>BXdjjUlgcgq</td>\n",
       "      <td>1.022366e+15</td>\n",
       "    </tr>\n",
       "    <tr>\n",
       "      <th>1</th>\n",
       "      <td>BVg0pbolYBC</td>\n",
       "      <td>4.574268e+14</td>\n",
       "    </tr>\n",
       "    <tr>\n",
       "      <th>2</th>\n",
       "      <td>BRgkjcXFp3Q</td>\n",
       "      <td>4.574268e+14</td>\n",
       "    </tr>\n",
       "    <tr>\n",
       "      <th>3</th>\n",
       "      <td>BKTKeNhjEA7</td>\n",
       "      <td>4.574268e+14</td>\n",
       "    </tr>\n",
       "    <tr>\n",
       "      <th>4</th>\n",
       "      <td>8-NQrvoYLX</td>\n",
       "      <td>4.574268e+14</td>\n",
       "    </tr>\n",
       "  </tbody>\n",
       "</table>\n",
       "</div>"
      ],
      "text/plain": [
       "       post_id   location_id\n",
       "0  BXdjjUlgcgq  1.022366e+15\n",
       "1  BVg0pbolYBC  4.574268e+14\n",
       "2  BRgkjcXFp3Q  4.574268e+14\n",
       "3  BKTKeNhjEA7  4.574268e+14\n",
       "4   8-NQrvoYLX  4.574268e+14"
      ]
     },
     "execution_count": 58,
     "metadata": {},
     "output_type": "execute_result"
    }
   ],
   "source": [
    "from functools import reduce\n",
    "\n",
    "post_location_id = reduce(lambda df1, df2: df1.append(df2), df_list)\n",
    "\n",
    "post_location_id.head(5)"
   ]
  },
  {
   "cell_type": "markdown",
   "metadata": {},
   "source": [
    "##### np.any was used to create the null_location_id column and assign 1 to posts that did not have a location ID and 0 to posts that did."
   ]
  },
  {
   "cell_type": "code",
   "execution_count": 63,
   "metadata": {},
   "outputs": [],
   "source": [
    "post_location_id['null_location_id'] = np.any(post_location_id[post_location_id.columns[1:]].isnull(), axis=1).astype(int)"
   ]
  },
  {
   "cell_type": "code",
   "execution_count": 76,
   "metadata": {},
   "outputs": [],
   "source": [
    "post_location_id_tag =post_location_id \\\n",
    "    .groupby(['null_location_id'])  \\\n",
    "    .agg(count=('null_location_id', 'count'))\n"
   ]
  },
  {
   "cell_type": "code",
   "execution_count": 77,
   "metadata": {},
   "outputs": [
    {
     "data": {
      "text/html": [
       "<div>\n",
       "<style scoped>\n",
       "    .dataframe tbody tr th:only-of-type {\n",
       "        vertical-align: middle;\n",
       "    }\n",
       "\n",
       "    .dataframe tbody tr th {\n",
       "        vertical-align: top;\n",
       "    }\n",
       "\n",
       "    .dataframe thead th {\n",
       "        text-align: right;\n",
       "    }\n",
       "</style>\n",
       "<table border=\"1\" class=\"dataframe\">\n",
       "  <thead>\n",
       "    <tr style=\"text-align: right;\">\n",
       "      <th></th>\n",
       "      <th>count</th>\n",
       "    </tr>\n",
       "    <tr>\n",
       "      <th>null_location_id</th>\n",
       "      <th></th>\n",
       "    </tr>\n",
       "  </thead>\n",
       "  <tbody>\n",
       "    <tr>\n",
       "      <th>0</th>\n",
       "      <td>29737425</td>\n",
       "    </tr>\n",
       "    <tr>\n",
       "      <th>1</th>\n",
       "      <td>12972772</td>\n",
       "    </tr>\n",
       "  </tbody>\n",
       "</table>\n",
       "</div>"
      ],
      "text/plain": [
       "                     count\n",
       "null_location_id          \n",
       "0                 29737425\n",
       "1                 12972772"
      ]
     },
     "execution_count": 77,
     "metadata": {},
     "output_type": "execute_result"
    }
   ],
   "source": [
    "post_location_id_tag"
   ]
  },
  {
   "cell_type": "markdown",
   "metadata": {},
   "source": [
    "##### plot.pie was used to visualize the result.\n",
    "\n",
    "##### As can be seen in the graph, 30.4% of the posts do not have a location ID, while 69.6% do have a location ID. Therefore, it is concluded that most Instagram users use the location tag so that their followers can see where they are."
   ]
  },
  {
   "cell_type": "code",
   "execution_count": 78,
   "metadata": {},
   "outputs": [
    {
     "data": {
      "text/plain": [
       "<AxesSubplot:title={'center':'Tag Locations'}, ylabel='count'>"
      ]
     },
     "execution_count": 78,
     "metadata": {},
     "output_type": "execute_result"
    },
    {
     "data": {
      "image/png": "[encoded data removed]",
      "text/plain": [
       "<Figure size 432x288 with 1 Axes>"
      ]
     },
     "metadata": {},
     "output_type": "display_data"
    }
   ],
   "source": [
    "post_location_id_tag.plot.pie(y='count', title='Tag Locations', \\\n",
    "                         shadow=True, autopct='%1.1f%%', \\\n",
    "                         explode=(0, 0.1), startangle=0)"
   ]
  },
  {
   "cell_type": "markdown",
   "metadata": {},
   "source": [
    "#### 2.5 How many posts include only photos? How many also have videos?"
   ]
  },
  {
   "cell_type": "markdown",
   "metadata": {},
   "source": [
    "##### Through the for loop and the established chunksize, we select only the columns of interest: post_id and post_type"
   ]
  },
  {
   "cell_type": "code",
   "execution_count": 1,
   "metadata": {},
   "outputs": [
    {
     "name": "stderr",
     "output_type": "stream",
     "text": [
      "86it [02:57,  2.07s/it]\n"
     ]
    }
   ],
   "source": [
    "import pandas as pd\n",
    "from tqdm import tqdm\n",
    "\n",
    "df_list = []\n",
    "\n",
    "for chunk in tqdm(pd.read_csv('instagram_posts.csv', delimiter='\\t', chunksize=500000)):\n",
    "    \n",
    "    filtered = chunk[['post_id','post_type']]\n",
    "    \n",
    "    df_list.append(filtered)"
   ]
  },
  {
   "cell_type": "markdown",
   "metadata": {},
   "source": [
    "##### Through the lambda function, an append is made of all the 86 DataFrames that were obtained in the previous loop and they are saved in the DataFrame \"post_type_id\""
   ]
  },
  {
   "cell_type": "code",
   "execution_count": 2,
   "metadata": {},
   "outputs": [
    {
     "name": "stderr",
     "output_type": "stream",
     "text": [
      "/var/folders/gy/6j7jtq4n7m36jvtq0tfc4t880000gn/T/ipykernel_1110/3773087190.py:3: FutureWarning: The frame.append method is deprecated and will be removed from pandas in a future version. Use pandas.concat instead.\n",
      "  post_type_id = reduce(lambda df1, df2: df1.append(df2), df_list)\n"
     ]
    },
    {
     "data": {
      "text/html": [
       "<div>\n",
       "<style scoped>\n",
       "    .dataframe tbody tr th:only-of-type {\n",
       "        vertical-align: middle;\n",
       "    }\n",
       "\n",
       "    .dataframe tbody tr th {\n",
       "        vertical-align: top;\n",
       "    }\n",
       "\n",
       "    .dataframe thead th {\n",
       "        text-align: right;\n",
       "    }\n",
       "</style>\n",
       "<table border=\"1\" class=\"dataframe\">\n",
       "  <thead>\n",
       "    <tr style=\"text-align: right;\">\n",
       "      <th></th>\n",
       "      <th>post_id</th>\n",
       "      <th>post_type</th>\n",
       "    </tr>\n",
       "  </thead>\n",
       "  <tbody>\n",
       "    <tr>\n",
       "      <th>0</th>\n",
       "      <td>BXdjjUlgcgq</td>\n",
       "      <td>2</td>\n",
       "    </tr>\n",
       "    <tr>\n",
       "      <th>1</th>\n",
       "      <td>BVg0pbolYBC</td>\n",
       "      <td>1</td>\n",
       "    </tr>\n",
       "    <tr>\n",
       "      <th>2</th>\n",
       "      <td>BRgkjcXFp3Q</td>\n",
       "      <td>1</td>\n",
       "    </tr>\n",
       "    <tr>\n",
       "      <th>3</th>\n",
       "      <td>BKTKeNhjEA7</td>\n",
       "      <td>1</td>\n",
       "    </tr>\n",
       "    <tr>\n",
       "      <th>4</th>\n",
       "      <td>8-NQrvoYLX</td>\n",
       "      <td>1</td>\n",
       "    </tr>\n",
       "  </tbody>\n",
       "</table>\n",
       "</div>"
      ],
      "text/plain": [
       "       post_id  post_type\n",
       "0  BXdjjUlgcgq          2\n",
       "1  BVg0pbolYBC          1\n",
       "2  BRgkjcXFp3Q          1\n",
       "3  BKTKeNhjEA7          1\n",
       "4   8-NQrvoYLX          1"
      ]
     },
     "execution_count": 2,
     "metadata": {},
     "output_type": "execute_result"
    }
   ],
   "source": [
    "from functools import reduce\n",
    "\n",
    "post_type_id = reduce(lambda df1, df2: df1.append(df2), df_list)\n",
    "\n",
    "post_type_id.head(5)"
   ]
  },
  {
   "cell_type": "markdown",
   "metadata": {},
   "source": [
    "##### It was grouped by type of post and a count was made to know how many were Post type 1 (pictures) and how many were Post type 3 (pictures and videos)."
   ]
  },
  {
   "cell_type": "code",
   "execution_count": 4,
   "metadata": {},
   "outputs": [],
   "source": [
    "post_type_id_count =post_type_id \\\n",
    "    .groupby(['post_type'])  \\\n",
    "    .agg(count=('post_type', 'count'))"
   ]
  },
  {
   "cell_type": "code",
   "execution_count": 6,
   "metadata": {},
   "outputs": [
    {
     "data": {
      "text/html": [
       "<div>\n",
       "<style scoped>\n",
       "    .dataframe tbody tr th:only-of-type {\n",
       "        vertical-align: middle;\n",
       "    }\n",
       "\n",
       "    .dataframe tbody tr th {\n",
       "        vertical-align: top;\n",
       "    }\n",
       "\n",
       "    .dataframe thead th {\n",
       "        text-align: right;\n",
       "    }\n",
       "</style>\n",
       "<table border=\"1\" class=\"dataframe\">\n",
       "  <thead>\n",
       "    <tr style=\"text-align: right;\">\n",
       "      <th></th>\n",
       "      <th>count</th>\n",
       "    </tr>\n",
       "    <tr>\n",
       "      <th>post_type</th>\n",
       "      <th></th>\n",
       "    </tr>\n",
       "  </thead>\n",
       "  <tbody>\n",
       "    <tr>\n",
       "      <th>1</th>\n",
       "      <td>41534486</td>\n",
       "    </tr>\n",
       "    <tr>\n",
       "      <th>2</th>\n",
       "      <td>1134768</td>\n",
       "    </tr>\n",
       "    <tr>\n",
       "      <th>3</th>\n",
       "      <td>40943</td>\n",
       "    </tr>\n",
       "  </tbody>\n",
       "</table>\n",
       "</div>"
      ],
      "text/plain": [
       "              count\n",
       "post_type          \n",
       "1          41534486\n",
       "2           1134768\n",
       "3             40943"
      ]
     },
     "execution_count": 6,
     "metadata": {},
     "output_type": "execute_result"
    }
   ],
   "source": [
    "post_type_id_count"
   ]
  },
  {
   "cell_type": "markdown",
   "metadata": {},
   "source": [
    "##### .plot.pie was used to visualize that 97.2% of posts only have pictures and 0.1% of posts have both, pictures and videos."
   ]
  },
  {
   "cell_type": "code",
   "execution_count": 9,
   "metadata": {},
   "outputs": [
    {
     "data": {
      "text/plain": [
       "<AxesSubplot:title={'center':'Post type'}, ylabel='count'>"
      ]
     },
     "execution_count": 9,
     "metadata": {},
     "output_type": "execute_result"
    },
    {
     "data": {
      "image/png": "[encoded data removed]",
      "text/plain": [
       "<Figure size 432x288 with 1 Axes>"
      ]
     },
     "metadata": {},
     "output_type": "display_data"
    }
   ],
   "source": [
    "post_type_id_count.plot.pie(y='count', title='Post type', \\\n",
    "                    shadow=True, autopct='%1.1f%%', \\\n",
    "                    explode=(0, 0, 0.1), startangle=0)"
   ]
  },
  {
   "cell_type": "markdown",
   "metadata": {},
   "source": [
    "#### 2.6 What's the percentage of business accounts vs non-business? What can you interpret regarding that percentage?"
   ]
  },
  {
   "cell_type": "markdown",
   "metadata": {},
   "source": [
    "##### The columns of interest were saved in a DataFrame"
   ]
  },
  {
   "cell_type": "code",
   "execution_count": 11,
   "metadata": {},
   "outputs": [],
   "source": [
    "business_account = profiles_df[['profile_id','is_business_account']]"
   ]
  },
  {
   "cell_type": "markdown",
   "metadata": {},
   "source": [
    "##### A group by was made for the column and its values and a count"
   ]
  },
  {
   "cell_type": "code",
   "execution_count": 14,
   "metadata": {},
   "outputs": [],
   "source": [
    "business_account_count =business_account  \\\n",
    "    .groupby(['is_business_account'])  \\\n",
    "    .agg(count=('is_business_account', 'count'))"
   ]
  },
  {
   "cell_type": "markdown",
   "metadata": {},
   "source": [
    "##### .plot.pie was used to visualize that 24.8% of the accounts are business accounts. Therefore, it can be said that a very high percentage is used by companies to carry out marketing and advertising campaigns."
   ]
  },
  {
   "cell_type": "code",
   "execution_count": 17,
   "metadata": {},
   "outputs": [
    {
     "data": {
      "text/plain": [
       "<AxesSubplot:title={'center':'Is Business Account?'}, ylabel='count'>"
      ]
     },
     "execution_count": 17,
     "metadata": {},
     "output_type": "execute_result"
    },
    {
     "data": {
      "image/png": "[encoded data removed]",
      "text/plain": [
       "<Figure size 432x288 with 1 Axes>"
      ]
     },
     "metadata": {},
     "output_type": "display_data"
    }
   ],
   "source": [
    "business_account_count.plot.pie(y='count', title='Is Business Account?', \\\n",
    "                    shadow=True, autopct='%1.1f%%', \\\n",
    "                    explode=(0, 0.1), startangle=0)"
   ]
  }
 ],
 "metadata": {
  "kernelspec": {
   "display_name": "Python 3.9.12 ('base')",
   "language": "python",
   "name": "python3"
  },
  "language_info": {
   "codemirror_mode": {
    "name": "ipython",
    "version": 3
   },
   "file_extension": ".py",
   "mimetype": "text/x-python",
   "name": "python",
   "nbconvert_exporter": "python",
   "pygments_lexer": "ipython3",
   "version": "3.9.12"
  },
  "orig_nbformat": 4,
  "vscode": {
   "interpreter": {
    "hash": "167eec726b819e0c6a70093e6eca930a95ad1db30271bf8923599164b221a31b"
   }
  }
 },
 "nbformat": 4,
 "nbformat_minor": 2
}
