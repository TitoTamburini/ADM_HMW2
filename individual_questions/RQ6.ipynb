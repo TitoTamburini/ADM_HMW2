{
 "cells": [
  {
   "cell_type": "markdown",
   "metadata": {},
   "source": [
    "## RQ6"
   ]
  },
  {
   "cell_type": "markdown",
   "metadata": {},
   "source": [
    "#### It's time to get information from the user posting effectiveness."
   ]
  },
  {
   "cell_type": "markdown",
   "metadata": {},
   "source": [
    "#### 6.1 What is the average time (days and minutes) a user lets pass before publishing another post? Plot the top 3 users that publish posts more frequently (calculate the average time that passes between posts), including their amount of followers and following. Provide insights from that chart."
   ]
  },
  {
   "cell_type": "markdown",
   "metadata": {},
   "source": [
    "##### Through the for loop and the established chunksize, we select only the columns of interest: profile_id and cts"
   ]
  },
  {
   "cell_type": "code",
   "execution_count": 3,
   "metadata": {},
   "outputs": [
    {
     "name": "stderr",
     "output_type": "stream",
     "text": [
      "86it [03:12,  2.24s/it]\n"
     ]
    }
   ],
   "source": [
    "import pandas as pd\n",
    "from tqdm import tqdm\n",
    "\n",
    "df_list = []\n",
    "\n",
    "for chunk in tqdm(pd.read_csv('instagram_posts.csv', delimiter='\\t', chunksize=500000)):\n",
    "    \n",
    "    filtered = chunk[['profile_id','cts']]\n",
    "    \n",
    "    df_list.append(filtered)"
   ]
  },
  {
   "cell_type": "markdown",
   "metadata": {},
   "source": [
    "##### Through the lambda function, an append is made of all the 86 DataFrames that were obtained in the previous loop and they are saved in the DataFrame \"post_dt_by_profile_id\""
   ]
  },
  {
   "cell_type": "code",
   "execution_count": 4,
   "metadata": {},
   "outputs": [
    {
     "data": {
      "text/html": [
       "<div>\n",
       "<style scoped>\n",
       "    .dataframe tbody tr th:only-of-type {\n",
       "        vertical-align: middle;\n",
       "    }\n",
       "\n",
       "    .dataframe tbody tr th {\n",
       "        vertical-align: top;\n",
       "    }\n",
       "\n",
       "    .dataframe thead th {\n",
       "        text-align: right;\n",
       "    }\n",
       "</style>\n",
       "<table border=\"1\" class=\"dataframe\">\n",
       "  <thead>\n",
       "    <tr style=\"text-align: right;\">\n",
       "      <th></th>\n",
       "      <th>profile_id</th>\n",
       "      <th>cts</th>\n",
       "    </tr>\n",
       "  </thead>\n",
       "  <tbody>\n",
       "    <tr>\n",
       "      <th>0</th>\n",
       "      <td>2.237948e+09</td>\n",
       "      <td>2017-08-06 20:06:57.000</td>\n",
       "    </tr>\n",
       "    <tr>\n",
       "      <th>1</th>\n",
       "      <td>5.579335e+09</td>\n",
       "      <td>2017-06-19 09:31:16.000</td>\n",
       "    </tr>\n",
       "    <tr>\n",
       "      <th>2</th>\n",
       "      <td>3.134296e+08</td>\n",
       "      <td>2017-03-11 20:05:03.000</td>\n",
       "    </tr>\n",
       "    <tr>\n",
       "      <th>3</th>\n",
       "      <td>1.837593e+09</td>\n",
       "      <td>2016-09-13 16:27:16.000</td>\n",
       "    </tr>\n",
       "    <tr>\n",
       "      <th>4</th>\n",
       "      <td>1.131527e+09</td>\n",
       "      <td>2015-10-18 10:19:27.000</td>\n",
       "    </tr>\n",
       "  </tbody>\n",
       "</table>\n",
       "</div>"
      ],
      "text/plain": [
       "     profile_id                      cts\n",
       "0  2.237948e+09  2017-08-06 20:06:57.000\n",
       "1  5.579335e+09  2017-06-19 09:31:16.000\n",
       "2  3.134296e+08  2017-03-11 20:05:03.000\n",
       "3  1.837593e+09  2016-09-13 16:27:16.000\n",
       "4  1.131527e+09  2015-10-18 10:19:27.000"
      ]
     },
     "execution_count": 4,
     "metadata": {},
     "output_type": "execute_result"
    }
   ],
   "source": [
    "from functools import reduce\n",
    "\n",
    "post_dt_by_profile_id = reduce(lambda df1, df2: df1.append(df2), df_list)\n",
    "\n",
    "post_dt_by_profile_id.head(5)"
   ]
  },
  {
   "cell_type": "markdown",
   "metadata": {},
   "source": [
    "##### A backup CSV file is saved"
   ]
  },
  {
   "cell_type": "code",
   "execution_count": null,
   "metadata": {},
   "outputs": [],
   "source": [
    "post_dt_by_profile_id.to_csv('post_dt_by_profile_id.csv')\n",
    "\n",
    "post_dt_by_profile_id = pd.read_csv('post_dt_by_profile_id.csv', header=0, index_col=0)"
   ]
  },
  {
   "cell_type": "markdown",
   "metadata": {},
   "source": [
    "##### A window operation was performed to obtain the time delta that a user had between one operation and another.\n",
    "\n",
    "##### A count was made to find out how many posts had been made per user and the DataFrame was restricted to analyze the average time between posts only for users who had made more than one post."
   ]
  },
  {
   "cell_type": "code",
   "execution_count": 5,
   "metadata": {},
   "outputs": [],
   "source": [
    "post_dt_by_profile_id.cts = pd.to_datetime(post_dt_by_profile_id.cts)\n",
    "\n",
    "#Window operation \n",
    "post_dt_by_profile_id[\"_previous_time\"] = ( \n",
    "    post_dt_by_profile_id.sort_values(\"cts\").groupby(\"profile_id\")[\"cts\"].shift(1)\n",
    "    )\n",
    "\n",
    "post_dt_by_profile_id[\"_count_cts\"] = post_dt_by_profile_id.groupby(\"profile_id\")[\"cts\"].transform(\"count\")\n",
    "\n",
    "post_dt_by_profile_id = post_dt_by_profile_id[post_dt_by_profile_id[\"_count_cts\"] > 1].reset_index()\n",
    "\n",
    "post_dt_by_profile_id[\"delta_time\"] = post_dt_by_profile_id[\"cts\"] - post_dt_by_profile_id[\"_previous_time\"]"
   ]
  },
  {
   "cell_type": "markdown",
   "metadata": {},
   "source": [
    "##### The columns of interest are saved in the DataFrame, the NaT values ​​are eliminated and we convert the DataFrame to Int64"
   ]
  },
  {
   "cell_type": "code",
   "execution_count": 6,
   "metadata": {},
   "outputs": [],
   "source": [
    "post_dt_by_profile_id = post_dt_by_profile_id[['profile_id','delta_time']]\n",
    "\n",
    "post_dt_by_profile_id = post_dt_by_profile_id[post_dt_by_profile_id[\"delta_time\"].notna()]\n",
    "\n",
    "post_dt_by_profile_id = post_dt_by_profile_id.astype('int64')"
   ]
  },
  {
   "cell_type": "markdown",
   "metadata": {},
   "source": [
    "##### The average time that passes between posts was calculated using .mean() after a groupby per profile_id"
   ]
  },
  {
   "cell_type": "code",
   "execution_count": 12,
   "metadata": {},
   "outputs": [],
   "source": [
    "post_dt_by_profile_id_mean = post_dt_by_profile_id \\\n",
    "    .groupby(\"profile_id\")['delta_time'].mean().reset_index(name=\"mean\")"
   ]
  },
  {
   "cell_type": "markdown",
   "metadata": {},
   "source": [
    "##### The 3 people with the shortest average time were selected."
   ]
  },
  {
   "cell_type": "code",
   "execution_count": 13,
   "metadata": {},
   "outputs": [
    {
     "data": {
      "text/html": [
       "<div>\n",
       "<style scoped>\n",
       "    .dataframe tbody tr th:only-of-type {\n",
       "        vertical-align: middle;\n",
       "    }\n",
       "\n",
       "    .dataframe tbody tr th {\n",
       "        vertical-align: top;\n",
       "    }\n",
       "\n",
       "    .dataframe thead th {\n",
       "        text-align: right;\n",
       "    }\n",
       "</style>\n",
       "<table border=\"1\" class=\"dataframe\">\n",
       "  <thead>\n",
       "    <tr style=\"text-align: right;\">\n",
       "      <th></th>\n",
       "      <th>profile_id</th>\n",
       "      <th>mean</th>\n",
       "    </tr>\n",
       "  </thead>\n",
       "  <tbody>\n",
       "    <tr>\n",
       "      <th>125819</th>\n",
       "      <td>8801686</td>\n",
       "      <td>0.0</td>\n",
       "    </tr>\n",
       "    <tr>\n",
       "      <th>160364</th>\n",
       "      <td>11534437</td>\n",
       "      <td>0.0</td>\n",
       "    </tr>\n",
       "    <tr>\n",
       "      <th>256203</th>\n",
       "      <td>19420666</td>\n",
       "      <td>0.0</td>\n",
       "    </tr>\n",
       "  </tbody>\n",
       "</table>\n",
       "</div>"
      ],
      "text/plain": [
       "        profile_id  mean\n",
       "125819     8801686   0.0\n",
       "160364    11534437   0.0\n",
       "256203    19420666   0.0"
      ]
     },
     "execution_count": 13,
     "metadata": {},
     "output_type": "execute_result"
    }
   ],
   "source": [
    "post_dt_by_profile_id_mean = post_dt_by_profile_id_mean.nsmallest(3,'mean')\n",
    "\n",
    "#Use to have the mean time in Days.\n",
    "post_dt_by_profile_id_mean = post_dt_by_profile_id_mean.astype({'profile_id':'int64', 'mean': 'timedelta64[ns]'})\n",
    "\n",
    "post_dt_by_profile_id_mean"
   ]
  },
  {
   "cell_type": "markdown",
   "metadata": {},
   "source": [
    "##### To verify why there are 3 users with an average of 0, a filter was made of all the posts that these users made."
   ]
  },
  {
   "cell_type": "code",
   "execution_count": 14,
   "metadata": {},
   "outputs": [
    {
     "name": "stderr",
     "output_type": "stream",
     "text": [
      "86it [04:04,  2.84s/it]\n"
     ]
    }
   ],
   "source": [
    "top_3_smallest_mean = post_dt_by_profile_id_mean.profile_id.astype('int32').to_list()\n",
    "\n",
    "from tqdm import tqdm\n",
    "\n",
    "posts_list = []\n",
    "\n",
    "for chunk in tqdm(pd.read_csv('instagram_posts.zip', delimiter='\\t', chunksize=500000)):\n",
    "    \n",
    "    filtered = chunk[chunk.profile_id.isin(top_3_smallest_mean)]\n",
    "    \n",
    "    posts_list.append(filtered)"
   ]
  },
  {
   "cell_type": "markdown",
   "metadata": {},
   "source": [
    "##### As you can see, these 3 people made 2 different posts (they have different post IDs) at the same time. Therefore, they are the top 3 people with the lowest average between posts."
   ]
  },
  {
   "cell_type": "code",
   "execution_count": null,
   "metadata": {},
   "outputs": [],
   "source": [
    "from functools import reduce\n",
    "\n",
    "top_3_smallest_mean_posts = reduce(lambda df1, df2: df1.append(df2), posts_list)\n",
    "\n"
   ]
  },
  {
   "cell_type": "code",
   "execution_count": 17,
   "metadata": {},
   "outputs": [
    {
     "data": {
      "text/html": [
       "<div>\n",
       "<style scoped>\n",
       "    .dataframe tbody tr th:only-of-type {\n",
       "        vertical-align: middle;\n",
       "    }\n",
       "\n",
       "    .dataframe tbody tr th {\n",
       "        vertical-align: top;\n",
       "    }\n",
       "\n",
       "    .dataframe thead th {\n",
       "        text-align: right;\n",
       "    }\n",
       "</style>\n",
       "<table border=\"1\" class=\"dataframe\">\n",
       "  <thead>\n",
       "    <tr style=\"text-align: right;\">\n",
       "      <th></th>\n",
       "      <th>sid</th>\n",
       "      <th>sid_profile</th>\n",
       "      <th>post_id</th>\n",
       "      <th>profile_id</th>\n",
       "      <th>location_id</th>\n",
       "      <th>cts</th>\n",
       "      <th>post_type</th>\n",
       "      <th>description</th>\n",
       "      <th>numbr_likes</th>\n",
       "      <th>number_comments</th>\n",
       "    </tr>\n",
       "  </thead>\n",
       "  <tbody>\n",
       "    <tr>\n",
       "      <th>8777270</th>\n",
       "      <td>37101699</td>\n",
       "      <td>156474</td>\n",
       "      <td>BnfClvhHN1WDJjKC_arIKYTniDzomnufr0qJRM0</td>\n",
       "      <td>8801686.0</td>\n",
       "      <td>2.049153e+14</td>\n",
       "      <td>2018-09-09 02:19:42.000</td>\n",
       "      <td>1</td>\n",
       "      <td>Saltountastic</td>\n",
       "      <td>46.0</td>\n",
       "      <td>3.0</td>\n",
       "    </tr>\n",
       "    <tr>\n",
       "      <th>31198194</th>\n",
       "      <td>15778261</td>\n",
       "      <td>156474</td>\n",
       "      <td>BnfClvhHN1W</td>\n",
       "      <td>8801686.0</td>\n",
       "      <td>2.049153e+14</td>\n",
       "      <td>2018-09-09 02:19:42.000</td>\n",
       "      <td>1</td>\n",
       "      <td>Saltountastic</td>\n",
       "      <td>46.0</td>\n",
       "      <td>3.0</td>\n",
       "    </tr>\n",
       "    <tr>\n",
       "      <th>39888507</th>\n",
       "      <td>25490420</td>\n",
       "      <td>-1</td>\n",
       "      <td>BvM-wR9lSUB</td>\n",
       "      <td>19420666.0</td>\n",
       "      <td>8.559840e+06</td>\n",
       "      <td>2019-03-19 21:11:01.000</td>\n",
       "      <td>1</td>\n",
       "      <td>She has the best big brother 💗</td>\n",
       "      <td>21.0</td>\n",
       "      <td>0.0</td>\n",
       "    </tr>\n",
       "    <tr>\n",
       "      <th>39888508</th>\n",
       "      <td>25490422</td>\n",
       "      <td>-1</td>\n",
       "      <td>BvM-wRnllHV</td>\n",
       "      <td>19420666.0</td>\n",
       "      <td>8.559840e+06</td>\n",
       "      <td>2019-03-19 21:11:01.000</td>\n",
       "      <td>1</td>\n",
       "      <td>“Angels are often disguised as daughters” - un...</td>\n",
       "      <td>21.0</td>\n",
       "      <td>0.0</td>\n",
       "    </tr>\n",
       "    <tr>\n",
       "      <th>42142328</th>\n",
       "      <td>27785492</td>\n",
       "      <td>-1</td>\n",
       "      <td>Msn7GmxVvS</td>\n",
       "      <td>11534437.0</td>\n",
       "      <td>2.176185e+07</td>\n",
       "      <td>2012-07-05 13:19:11.000</td>\n",
       "      <td>1</td>\n",
       "      <td>NaN</td>\n",
       "      <td>0.0</td>\n",
       "      <td>0.0</td>\n",
       "    </tr>\n",
       "    <tr>\n",
       "      <th>42142453</th>\n",
       "      <td>27785493</td>\n",
       "      <td>-1</td>\n",
       "      <td>Msn6-9xVvR</td>\n",
       "      <td>11534437.0</td>\n",
       "      <td>2.176185e+07</td>\n",
       "      <td>2012-07-05 13:19:11.000</td>\n",
       "      <td>1</td>\n",
       "      <td>NaN</td>\n",
       "      <td>0.0</td>\n",
       "      <td>0.0</td>\n",
       "    </tr>\n",
       "  </tbody>\n",
       "</table>\n",
       "</div>"
      ],
      "text/plain": [
       "               sid  sid_profile                                  post_id  \\\n",
       "8777270   37101699       156474  BnfClvhHN1WDJjKC_arIKYTniDzomnufr0qJRM0   \n",
       "31198194  15778261       156474                              BnfClvhHN1W   \n",
       "39888507  25490420           -1                              BvM-wR9lSUB   \n",
       "39888508  25490422           -1                              BvM-wRnllHV   \n",
       "42142328  27785492           -1                               Msn7GmxVvS   \n",
       "42142453  27785493           -1                               Msn6-9xVvR   \n",
       "\n",
       "          profile_id   location_id                      cts  post_type  \\\n",
       "8777270    8801686.0  2.049153e+14  2018-09-09 02:19:42.000          1   \n",
       "31198194   8801686.0  2.049153e+14  2018-09-09 02:19:42.000          1   \n",
       "39888507  19420666.0  8.559840e+06  2019-03-19 21:11:01.000          1   \n",
       "39888508  19420666.0  8.559840e+06  2019-03-19 21:11:01.000          1   \n",
       "42142328  11534437.0  2.176185e+07  2012-07-05 13:19:11.000          1   \n",
       "42142453  11534437.0  2.176185e+07  2012-07-05 13:19:11.000          1   \n",
       "\n",
       "                                                description  numbr_likes  \\\n",
       "8777270                                       Saltountastic         46.0   \n",
       "31198194                                      Saltountastic         46.0   \n",
       "39888507                     She has the best big brother 💗         21.0   \n",
       "39888508  “Angels are often disguised as daughters” - un...         21.0   \n",
       "42142328                                                NaN          0.0   \n",
       "42142453                                                NaN          0.0   \n",
       "\n",
       "          number_comments  \n",
       "8777270               3.0  \n",
       "31198194              3.0  \n",
       "39888507              0.0  \n",
       "39888508              0.0  \n",
       "42142328              0.0  \n",
       "42142453              0.0  "
      ]
     },
     "execution_count": 17,
     "metadata": {},
     "output_type": "execute_result"
    }
   ],
   "source": [
    "top_3_smallest_mean_posts"
   ]
  },
  {
   "cell_type": "markdown",
   "metadata": {},
   "source": [
    "##### The Data Frame Profiles was brought to obtain the number of followers and following."
   ]
  },
  {
   "cell_type": "code",
   "execution_count": 22,
   "metadata": {},
   "outputs": [],
   "source": [
    "profiles_df = pd.read_csv('instagram_profiles.zip', delimiter='\\t')\n",
    "\n",
    "profiles_df = profiles_df[profiles_df[\"profile_id\"].notna()]\n",
    "\n",
    "profiles_df = profiles_df.astype({'profile_id':'int64'})"
   ]
  },
  {
   "cell_type": "code",
   "execution_count": 28,
   "metadata": {},
   "outputs": [
    {
     "data": {
      "text/html": [
       "<div>\n",
       "<style scoped>\n",
       "    .dataframe tbody tr th:only-of-type {\n",
       "        vertical-align: middle;\n",
       "    }\n",
       "\n",
       "    .dataframe tbody tr th {\n",
       "        vertical-align: top;\n",
       "    }\n",
       "\n",
       "    .dataframe thead th {\n",
       "        text-align: right;\n",
       "    }\n",
       "</style>\n",
       "<table border=\"1\" class=\"dataframe\">\n",
       "  <thead>\n",
       "    <tr style=\"text-align: right;\">\n",
       "      <th></th>\n",
       "      <th>profile_id</th>\n",
       "      <th>mean</th>\n",
       "    </tr>\n",
       "  </thead>\n",
       "  <tbody>\n",
       "    <tr>\n",
       "      <th>125819</th>\n",
       "      <td>8801686</td>\n",
       "      <td>0.0</td>\n",
       "    </tr>\n",
       "    <tr>\n",
       "      <th>160364</th>\n",
       "      <td>11534437</td>\n",
       "      <td>0.0</td>\n",
       "    </tr>\n",
       "    <tr>\n",
       "      <th>256203</th>\n",
       "      <td>19420666</td>\n",
       "      <td>0.0</td>\n",
       "    </tr>\n",
       "  </tbody>\n",
       "</table>\n",
       "</div>"
      ],
      "text/plain": [
       "        profile_id  mean\n",
       "125819     8801686   0.0\n",
       "160364    11534437   0.0\n",
       "256203    19420666   0.0"
      ]
     },
     "execution_count": 28,
     "metadata": {},
     "output_type": "execute_result"
    }
   ],
   "source": [
    "post_dt_by_profile_id_mean"
   ]
  },
  {
   "cell_type": "markdown",
   "metadata": {},
   "source": [
    "##### A pd.merge() was used to fetch the number of followers using the profile_id key."
   ]
  },
  {
   "cell_type": "code",
   "execution_count": 25,
   "metadata": {},
   "outputs": [],
   "source": [
    "#Join posts and profile\n",
    "followers_following_top3 = pd.merge(left=post_dt_by_profile_id_mean, right=profiles_df, left_on='profile_id', right_on='profile_id')"
   ]
  },
  {
   "cell_type": "markdown",
   "metadata": {},
   "source": [
    "##### As stated above, there are inconsistencies between the databases, so it only matched a profile ID belonging to Alex Dinsdale with 705 followers and 1572 following.\n",
    "\n",
    "##### The number of n_posts is also ignored due to inconsistencies found between databases."
   ]
  },
  {
   "cell_type": "code",
   "execution_count": 30,
   "metadata": {},
   "outputs": [
    {
     "data": {
      "text/html": [
       "<div>\n",
       "<style scoped>\n",
       "    .dataframe tbody tr th:only-of-type {\n",
       "        vertical-align: middle;\n",
       "    }\n",
       "\n",
       "    .dataframe tbody tr th {\n",
       "        vertical-align: top;\n",
       "    }\n",
       "\n",
       "    .dataframe thead th {\n",
       "        text-align: right;\n",
       "    }\n",
       "</style>\n",
       "<table border=\"1\" class=\"dataframe\">\n",
       "  <thead>\n",
       "    <tr style=\"text-align: right;\">\n",
       "      <th></th>\n",
       "      <th>profile_id</th>\n",
       "      <th>mean</th>\n",
       "      <th>followers</th>\n",
       "      <th>following</th>\n",
       "    </tr>\n",
       "  </thead>\n",
       "  <tbody>\n",
       "    <tr>\n",
       "      <th>0</th>\n",
       "      <td>8801686</td>\n",
       "      <td>0.0</td>\n",
       "      <td>705.0</td>\n",
       "      <td>1572.0</td>\n",
       "    </tr>\n",
       "  </tbody>\n",
       "</table>\n",
       "</div>"
      ],
      "text/plain": [
       "   profile_id  mean  followers  following\n",
       "0     8801686   0.0      705.0     1572.0"
      ]
     },
     "execution_count": 30,
     "metadata": {},
     "output_type": "execute_result"
    }
   ],
   "source": [
    "followers_following_top3 = followers_following_top3[['profile_id','mean','followers','following']]\n",
    "followers_following_top3"
   ]
  },
  {
   "cell_type": "markdown",
   "metadata": {},
   "source": [
    "##### According to experts, it is recommended to make 3 posts a week to have an active profile on Instagram: https://www.iprofesional.com/actualidad/330966-instagram-revela-su-secreto-cuantas-veces-debes-postear-al-dia\n",
    "\n",
    "##### A year has 52.14 weeks. Doing the multiplication, this is equivalent to 156 publications per year. Taking into account that Instagram was created in 2010 and the base was extracted in 2019, by multiplying 156 by 9, we have 1,404 posts. Therefore, a better analysis would have been to look at the average number of posts from users who have at least 1,404 posts in these 9 years. It should be noted that the results would not have been entirely correct because the databases present inconsistencies."
   ]
  },
  {
   "cell_type": "markdown",
   "metadata": {},
   "source": [
    "#### 6.2 Using the function you previously coded, plot the time intervals with the highest average number of “likes” and the ones with the highest average number of comments on posts."
   ]
  },
  {
   "cell_type": "markdown",
   "metadata": {},
   "source": [
    "##### Through the for loop and the established chunksize, we select only the columns of interest: profile_id and cts"
   ]
  },
  {
   "cell_type": "code",
   "execution_count": 31,
   "metadata": {},
   "outputs": [
    {
     "name": "stderr",
     "output_type": "stream",
     "text": [
      "86it [12:01,  8.38s/it] \n"
     ]
    }
   ],
   "source": [
    "import pandas as pd\n",
    "from tqdm import tqdm\n",
    "\n",
    "likesandcomments_list = []\n",
    "\n",
    "for chunk in tqdm(pd.read_csv('instagram_posts.zip', delimiter='\\t', chunksize=500000)):\n",
    "    \n",
    "    filtered = chunk[['numbr_likes','number_comments','cts']]\n",
    "    \n",
    "    likesandcomments_list.append(filtered)"
   ]
  },
  {
   "cell_type": "markdown",
   "metadata": {},
   "source": [
    "##### Through the lambda function, an append is made of all the 86 DataFrames that were obtained in the previous loop and they are saved in the DataFrame \"post_dt_by_profile_id\""
   ]
  },
  {
   "cell_type": "code",
   "execution_count": 34,
   "metadata": {},
   "outputs": [
    {
     "name": "stderr",
     "output_type": "stream",
     "text": [
      "/var/folders/gy/6j7jtq4n7m36jvtq0tfc4t880000gn/T/ipykernel_1230/1804233208.py:3: FutureWarning: The frame.append method is deprecated and will be removed from pandas in a future version. Use pandas.concat instead.\n",
      "  likesandcomments_df = reduce(lambda df1, df2: df1.append(df2), likesandcomments_list)\n"
     ]
    },
    {
     "data": {
      "text/html": [
       "<div>\n",
       "<style scoped>\n",
       "    .dataframe tbody tr th:only-of-type {\n",
       "        vertical-align: middle;\n",
       "    }\n",
       "\n",
       "    .dataframe tbody tr th {\n",
       "        vertical-align: top;\n",
       "    }\n",
       "\n",
       "    .dataframe thead th {\n",
       "        text-align: right;\n",
       "    }\n",
       "</style>\n",
       "<table border=\"1\" class=\"dataframe\">\n",
       "  <thead>\n",
       "    <tr style=\"text-align: right;\">\n",
       "      <th></th>\n",
       "      <th>numbr_likes</th>\n",
       "      <th>number_comments</th>\n",
       "      <th>cts</th>\n",
       "    </tr>\n",
       "  </thead>\n",
       "  <tbody>\n",
       "    <tr>\n",
       "      <th>0</th>\n",
       "      <td>80.0</td>\n",
       "      <td>0.0</td>\n",
       "      <td>2017-08-06 20:06:57.000</td>\n",
       "    </tr>\n",
       "    <tr>\n",
       "      <th>1</th>\n",
       "      <td>25.0</td>\n",
       "      <td>1.0</td>\n",
       "      <td>2017-06-19 09:31:16.000</td>\n",
       "    </tr>\n",
       "    <tr>\n",
       "      <th>2</th>\n",
       "      <td>9.0</td>\n",
       "      <td>0.0</td>\n",
       "      <td>2017-03-11 20:05:03.000</td>\n",
       "    </tr>\n",
       "    <tr>\n",
       "      <th>3</th>\n",
       "      <td>4.0</td>\n",
       "      <td>0.0</td>\n",
       "      <td>2016-09-13 16:27:16.000</td>\n",
       "    </tr>\n",
       "    <tr>\n",
       "      <th>4</th>\n",
       "      <td>8.0</td>\n",
       "      <td>0.0</td>\n",
       "      <td>2015-10-18 10:19:27.000</td>\n",
       "    </tr>\n",
       "  </tbody>\n",
       "</table>\n",
       "</div>"
      ],
      "text/plain": [
       "   numbr_likes  number_comments                      cts\n",
       "0         80.0              0.0  2017-08-06 20:06:57.000\n",
       "1         25.0              1.0  2017-06-19 09:31:16.000\n",
       "2          9.0              0.0  2017-03-11 20:05:03.000\n",
       "3          4.0              0.0  2016-09-13 16:27:16.000\n",
       "4          8.0              0.0  2015-10-18 10:19:27.000"
      ]
     },
     "execution_count": 34,
     "metadata": {},
     "output_type": "execute_result"
    }
   ],
   "source": [
    "from functools import reduce\n",
    "\n",
    "likesandcomments_df = reduce(lambda df1, df2: df1.append(df2), likesandcomments_list)\n",
    "\n",
    "likesandcomments_df.head(5)"
   ]
  },
  {
   "cell_type": "markdown",
   "metadata": {},
   "source": [
    "##### A backup CSV file is saved"
   ]
  },
  {
   "cell_type": "code",
   "execution_count": 7,
   "metadata": {},
   "outputs": [],
   "source": [
    "#Save a copy of the DF of interest\n",
    "\n",
    "likesandcomments_df.to_csv('likesandcomments_df.csv')\n",
    "\n",
    "likesandcomments_df = pd.read_csv('likesandcomments_df.csv', header=0, index_col=0)"
   ]
  },
  {
   "cell_type": "markdown",
   "metadata": {},
   "source": [
    "#### The function from point 3 was used to convert the \"cts\" column to a datetime"
   ]
  },
  {
   "cell_type": "code",
   "execution_count": 35,
   "metadata": {},
   "outputs": [
    {
     "data": {
      "text/plain": [
       "numbr_likes        float64\n",
       "number_comments    float64\n",
       "cts                 object\n",
       "dtype: object"
      ]
     },
     "execution_count": 35,
     "metadata": {},
     "output_type": "execute_result"
    }
   ],
   "source": [
    "#Function used in RQ3\n",
    "def posts_cts_manager(post_dataframe):\n",
    "    post_dataframe['cts'] = pd.to_datetime(post_dataframe.cts).dt.time\n",
    "    return post_dataframe#\n",
    "\n",
    "likesandcomments_df = posts_cts_manager(likesandcomments_df)\n",
    "likesandcomments_df.dtypes"
   ]
  },
  {
   "cell_type": "markdown",
   "metadata": {},
   "source": [
    "##### All null values ​​that are in the cts column are removed."
   ]
  },
  {
   "cell_type": "code",
   "execution_count": 36,
   "metadata": {},
   "outputs": [],
   "source": [
    "likesandcomments_df.dropna(inplace = True, subset = ['cts'])"
   ]
  },
  {
   "cell_type": "markdown",
   "metadata": {},
   "source": [
    "##### Two DataFrame are created, one for the number of likes and another for the number of comments, both related to cts."
   ]
  },
  {
   "cell_type": "code",
   "execution_count": 63,
   "metadata": {},
   "outputs": [],
   "source": [
    "#DataFrime for the Number of Likes\n",
    "likes_df = likesandcomments_df[['numbr_likes','cts']]\n",
    "\n",
    "#DataFrime for the Number of Comments\n",
    "comments_df = likesandcomments_df[['number_comments','cts']]"
   ]
  },
  {
   "cell_type": "markdown",
   "metadata": {},
   "source": [
    "##### .hour was used to extract only the hour from the cts column and save it to a new one (_hour)"
   ]
  },
  {
   "cell_type": "code",
   "execution_count": 47,
   "metadata": {},
   "outputs": [
    {
     "data": {
      "text/html": [
       "<div>\n",
       "<style scoped>\n",
       "    .dataframe tbody tr th:only-of-type {\n",
       "        vertical-align: middle;\n",
       "    }\n",
       "\n",
       "    .dataframe tbody tr th {\n",
       "        vertical-align: top;\n",
       "    }\n",
       "\n",
       "    .dataframe thead th {\n",
       "        text-align: right;\n",
       "    }\n",
       "</style>\n",
       "<table border=\"1\" class=\"dataframe\">\n",
       "  <thead>\n",
       "    <tr style=\"text-align: right;\">\n",
       "      <th></th>\n",
       "      <th>numbr_likes</th>\n",
       "      <th>cts</th>\n",
       "      <th>_hour</th>\n",
       "    </tr>\n",
       "  </thead>\n",
       "  <tbody>\n",
       "    <tr>\n",
       "      <th>0</th>\n",
       "      <td>80.0</td>\n",
       "      <td>20:06:57</td>\n",
       "      <td>20</td>\n",
       "    </tr>\n",
       "    <tr>\n",
       "      <th>1</th>\n",
       "      <td>25.0</td>\n",
       "      <td>09:31:16</td>\n",
       "      <td>9</td>\n",
       "    </tr>\n",
       "    <tr>\n",
       "      <th>2</th>\n",
       "      <td>9.0</td>\n",
       "      <td>20:05:03</td>\n",
       "      <td>20</td>\n",
       "    </tr>\n",
       "    <tr>\n",
       "      <th>3</th>\n",
       "      <td>4.0</td>\n",
       "      <td>16:27:16</td>\n",
       "      <td>16</td>\n",
       "    </tr>\n",
       "    <tr>\n",
       "      <th>4</th>\n",
       "      <td>8.0</td>\n",
       "      <td>10:19:27</td>\n",
       "      <td>10</td>\n",
       "    </tr>\n",
       "    <tr>\n",
       "      <th>...</th>\n",
       "      <td>...</td>\n",
       "      <td>...</td>\n",
       "      <td>...</td>\n",
       "    </tr>\n",
       "    <tr>\n",
       "      <th>42710192</th>\n",
       "      <td>74.0</td>\n",
       "      <td>15:38:04</td>\n",
       "      <td>15</td>\n",
       "    </tr>\n",
       "    <tr>\n",
       "      <th>42710193</th>\n",
       "      <td>49.0</td>\n",
       "      <td>11:28:01</td>\n",
       "      <td>11</td>\n",
       "    </tr>\n",
       "    <tr>\n",
       "      <th>42710194</th>\n",
       "      <td>18.0</td>\n",
       "      <td>20:16:37</td>\n",
       "      <td>20</td>\n",
       "    </tr>\n",
       "    <tr>\n",
       "      <th>42710195</th>\n",
       "      <td>27.0</td>\n",
       "      <td>20:07:52</td>\n",
       "      <td>20</td>\n",
       "    </tr>\n",
       "    <tr>\n",
       "      <th>42710196</th>\n",
       "      <td>1824.0</td>\n",
       "      <td>02:57:17</td>\n",
       "      <td>2</td>\n",
       "    </tr>\n",
       "  </tbody>\n",
       "</table>\n",
       "<p>42706865 rows × 3 columns</p>\n",
       "</div>"
      ],
      "text/plain": [
       "          numbr_likes       cts  _hour\n",
       "0                80.0  20:06:57     20\n",
       "1                25.0  09:31:16      9\n",
       "2                 9.0  20:05:03     20\n",
       "3                 4.0  16:27:16     16\n",
       "4                 8.0  10:19:27     10\n",
       "...               ...       ...    ...\n",
       "42710192         74.0  15:38:04     15\n",
       "42710193         49.0  11:28:01     11\n",
       "42710194         18.0  20:16:37     20\n",
       "42710195         27.0  20:07:52     20\n",
       "42710196       1824.0  02:57:17      2\n",
       "\n",
       "[42706865 rows x 3 columns]"
      ]
     },
     "execution_count": 47,
     "metadata": {},
     "output_type": "execute_result"
    }
   ],
   "source": [
    "likes_df['_hour'] = likes_df.cts.apply(lambda i: i.hour).astype(int)\n",
    "likes_df"
   ]
  },
  {
   "cell_type": "markdown",
   "metadata": {},
   "source": [
    "##### We define the predefined intervals in point 3 in the \"intervals\" list.\n",
    "\n",
    "##### Some changes were made to the function that was made in RQ3 since it works perfectly to count the number of posts but to perform operations it is not efficient."
   ]
  },
  {
   "cell_type": "code",
   "execution_count": 48,
   "metadata": {},
   "outputs": [],
   "source": [
    "intervals = [0, 3, 6, 11, 14, 17, 20, 24]"
   ]
  },
  {
   "cell_type": "markdown",
   "metadata": {},
   "source": [
    "##### Used pd.cut() function to segment and sort data values ​​into bins (time intervals)\n",
    "\n",
    "##### The execution time is lower, so it's evident that it's more efficient to use pandas for databases than loops."
   ]
  },
  {
   "cell_type": "code",
   "execution_count": 49,
   "metadata": {},
   "outputs": [
    {
     "data": {
      "text/html": [
       "<div>\n",
       "<style scoped>\n",
       "    .dataframe tbody tr th:only-of-type {\n",
       "        vertical-align: middle;\n",
       "    }\n",
       "\n",
       "    .dataframe tbody tr th {\n",
       "        vertical-align: top;\n",
       "    }\n",
       "\n",
       "    .dataframe thead th {\n",
       "        text-align: right;\n",
       "    }\n",
       "</style>\n",
       "<table border=\"1\" class=\"dataframe\">\n",
       "  <thead>\n",
       "    <tr style=\"text-align: right;\">\n",
       "      <th></th>\n",
       "      <th>numbr_likes</th>\n",
       "      <th>cts</th>\n",
       "      <th>_hour</th>\n",
       "      <th>_bin</th>\n",
       "    </tr>\n",
       "  </thead>\n",
       "  <tbody>\n",
       "    <tr>\n",
       "      <th>0</th>\n",
       "      <td>80.0</td>\n",
       "      <td>20:06:57</td>\n",
       "      <td>20</td>\n",
       "      <td>[20, 24)</td>\n",
       "    </tr>\n",
       "    <tr>\n",
       "      <th>1</th>\n",
       "      <td>25.0</td>\n",
       "      <td>09:31:16</td>\n",
       "      <td>9</td>\n",
       "      <td>[6, 11)</td>\n",
       "    </tr>\n",
       "    <tr>\n",
       "      <th>2</th>\n",
       "      <td>9.0</td>\n",
       "      <td>20:05:03</td>\n",
       "      <td>20</td>\n",
       "      <td>[20, 24)</td>\n",
       "    </tr>\n",
       "    <tr>\n",
       "      <th>3</th>\n",
       "      <td>4.0</td>\n",
       "      <td>16:27:16</td>\n",
       "      <td>16</td>\n",
       "      <td>[14, 17)</td>\n",
       "    </tr>\n",
       "    <tr>\n",
       "      <th>4</th>\n",
       "      <td>8.0</td>\n",
       "      <td>10:19:27</td>\n",
       "      <td>10</td>\n",
       "      <td>[6, 11)</td>\n",
       "    </tr>\n",
       "    <tr>\n",
       "      <th>...</th>\n",
       "      <td>...</td>\n",
       "      <td>...</td>\n",
       "      <td>...</td>\n",
       "      <td>...</td>\n",
       "    </tr>\n",
       "    <tr>\n",
       "      <th>42710192</th>\n",
       "      <td>74.0</td>\n",
       "      <td>15:38:04</td>\n",
       "      <td>15</td>\n",
       "      <td>[14, 17)</td>\n",
       "    </tr>\n",
       "    <tr>\n",
       "      <th>42710193</th>\n",
       "      <td>49.0</td>\n",
       "      <td>11:28:01</td>\n",
       "      <td>11</td>\n",
       "      <td>[11, 14)</td>\n",
       "    </tr>\n",
       "    <tr>\n",
       "      <th>42710194</th>\n",
       "      <td>18.0</td>\n",
       "      <td>20:16:37</td>\n",
       "      <td>20</td>\n",
       "      <td>[20, 24)</td>\n",
       "    </tr>\n",
       "    <tr>\n",
       "      <th>42710195</th>\n",
       "      <td>27.0</td>\n",
       "      <td>20:07:52</td>\n",
       "      <td>20</td>\n",
       "      <td>[20, 24)</td>\n",
       "    </tr>\n",
       "    <tr>\n",
       "      <th>42710196</th>\n",
       "      <td>1824.0</td>\n",
       "      <td>02:57:17</td>\n",
       "      <td>2</td>\n",
       "      <td>[0, 3)</td>\n",
       "    </tr>\n",
       "  </tbody>\n",
       "</table>\n",
       "<p>42706865 rows × 4 columns</p>\n",
       "</div>"
      ],
      "text/plain": [
       "          numbr_likes       cts  _hour      _bin\n",
       "0                80.0  20:06:57     20  [20, 24)\n",
       "1                25.0  09:31:16      9   [6, 11)\n",
       "2                 9.0  20:05:03     20  [20, 24)\n",
       "3                 4.0  16:27:16     16  [14, 17)\n",
       "4                 8.0  10:19:27     10   [6, 11)\n",
       "...               ...       ...    ...       ...\n",
       "42710192         74.0  15:38:04     15  [14, 17)\n",
       "42710193         49.0  11:28:01     11  [11, 14)\n",
       "42710194         18.0  20:16:37     20  [20, 24)\n",
       "42710195         27.0  20:07:52     20  [20, 24)\n",
       "42710196       1824.0  02:57:17      2    [0, 3)\n",
       "\n",
       "[42706865 rows x 4 columns]"
      ]
     },
     "execution_count": 49,
     "metadata": {},
     "output_type": "execute_result"
    }
   ],
   "source": [
    "likes_df['_bin'] = pd.cut(likes_df['_hour'], intervals, include_lowest=True, right=False)\n",
    "\n",
    "likes_df"
   ]
  },
  {
   "cell_type": "markdown",
   "metadata": {},
   "source": [
    "##### We perform a group by by _bin and add the number of likes to find out which is the interval with the highest number of likes."
   ]
  },
  {
   "cell_type": "code",
   "execution_count": 50,
   "metadata": {},
   "outputs": [
    {
     "data": {
      "text/html": [
       "<div>\n",
       "<style scoped>\n",
       "    .dataframe tbody tr th:only-of-type {\n",
       "        vertical-align: middle;\n",
       "    }\n",
       "\n",
       "    .dataframe tbody tr th {\n",
       "        vertical-align: top;\n",
       "    }\n",
       "\n",
       "    .dataframe thead th {\n",
       "        text-align: right;\n",
       "    }\n",
       "</style>\n",
       "<table border=\"1\" class=\"dataframe\">\n",
       "  <thead>\n",
       "    <tr style=\"text-align: right;\">\n",
       "      <th></th>\n",
       "      <th>_bin</th>\n",
       "      <th>numbr_likes</th>\n",
       "    </tr>\n",
       "  </thead>\n",
       "  <tbody>\n",
       "    <tr>\n",
       "      <th>0</th>\n",
       "      <td>[0, 3)</td>\n",
       "      <td>1132228305</td>\n",
       "    </tr>\n",
       "    <tr>\n",
       "      <th>1</th>\n",
       "      <td>[3, 6)</td>\n",
       "      <td>906307766</td>\n",
       "    </tr>\n",
       "    <tr>\n",
       "      <th>2</th>\n",
       "      <td>[6, 11)</td>\n",
       "      <td>1714755026</td>\n",
       "    </tr>\n",
       "    <tr>\n",
       "      <th>3</th>\n",
       "      <td>[11, 14)</td>\n",
       "      <td>1655934971</td>\n",
       "    </tr>\n",
       "    <tr>\n",
       "      <th>4</th>\n",
       "      <td>[14, 17)</td>\n",
       "      <td>2008428995</td>\n",
       "    </tr>\n",
       "    <tr>\n",
       "      <th>5</th>\n",
       "      <td>[17, 20)</td>\n",
       "      <td>2228425199</td>\n",
       "    </tr>\n",
       "    <tr>\n",
       "      <th>6</th>\n",
       "      <td>[20, 24)</td>\n",
       "      <td>2461097190</td>\n",
       "    </tr>\n",
       "  </tbody>\n",
       "</table>\n",
       "</div>"
      ],
      "text/plain": [
       "       _bin  numbr_likes\n",
       "0    [0, 3)   1132228305\n",
       "1    [3, 6)    906307766\n",
       "2   [6, 11)   1714755026\n",
       "3  [11, 14)   1655934971\n",
       "4  [14, 17)   2008428995\n",
       "5  [17, 20)   2228425199\n",
       "6  [20, 24)   2461097190"
      ]
     },
     "execution_count": 50,
     "metadata": {},
     "output_type": "execute_result"
    }
   ],
   "source": [
    "result_group_by_likes = likes_df \\\n",
    "    .groupby(['_bin'])[['numbr_likes']] \\\n",
    "    .sum() \\\n",
    "    .reset_index()\n",
    "\n",
    "result_group_by_likes = result_group_by_likes \\\n",
    "    .astype({'numbr_likes' : 'int64'})\n",
    "\n",
    "result_group_by_likes"
   ]
  },
  {
   "cell_type": "markdown",
   "metadata": {},
   "source": [
    "##### Each interval has 4 hours, therefore the total sum obtained previously is divided into 4 to obtain the average"
   ]
  },
  {
   "cell_type": "code",
   "execution_count": 52,
   "metadata": {},
   "outputs": [
    {
     "data": {
      "text/html": [
       "<div>\n",
       "<style scoped>\n",
       "    .dataframe tbody tr th:only-of-type {\n",
       "        vertical-align: middle;\n",
       "    }\n",
       "\n",
       "    .dataframe tbody tr th {\n",
       "        vertical-align: top;\n",
       "    }\n",
       "\n",
       "    .dataframe thead th {\n",
       "        text-align: right;\n",
       "    }\n",
       "</style>\n",
       "<table border=\"1\" class=\"dataframe\">\n",
       "  <thead>\n",
       "    <tr style=\"text-align: right;\">\n",
       "      <th></th>\n",
       "      <th>_bin</th>\n",
       "      <th>numbr_likes</th>\n",
       "      <th>average_of_likes_per_interval</th>\n",
       "    </tr>\n",
       "  </thead>\n",
       "  <tbody>\n",
       "    <tr>\n",
       "      <th>0</th>\n",
       "      <td>[0, 3)</td>\n",
       "      <td>1132228305</td>\n",
       "      <td>283057076</td>\n",
       "    </tr>\n",
       "    <tr>\n",
       "      <th>1</th>\n",
       "      <td>[3, 6)</td>\n",
       "      <td>906307766</td>\n",
       "      <td>226576941</td>\n",
       "    </tr>\n",
       "    <tr>\n",
       "      <th>2</th>\n",
       "      <td>[6, 11)</td>\n",
       "      <td>1714755026</td>\n",
       "      <td>428688756</td>\n",
       "    </tr>\n",
       "    <tr>\n",
       "      <th>3</th>\n",
       "      <td>[11, 14)</td>\n",
       "      <td>1655934971</td>\n",
       "      <td>413983742</td>\n",
       "    </tr>\n",
       "    <tr>\n",
       "      <th>4</th>\n",
       "      <td>[14, 17)</td>\n",
       "      <td>2008428995</td>\n",
       "      <td>502107248</td>\n",
       "    </tr>\n",
       "    <tr>\n",
       "      <th>5</th>\n",
       "      <td>[17, 20)</td>\n",
       "      <td>2228425199</td>\n",
       "      <td>557106299</td>\n",
       "    </tr>\n",
       "    <tr>\n",
       "      <th>6</th>\n",
       "      <td>[20, 24)</td>\n",
       "      <td>2461097190</td>\n",
       "      <td>615274297</td>\n",
       "    </tr>\n",
       "  </tbody>\n",
       "</table>\n",
       "</div>"
      ],
      "text/plain": [
       "       _bin  numbr_likes  average_of_likes_per_interval\n",
       "0    [0, 3)   1132228305                      283057076\n",
       "1    [3, 6)    906307766                      226576941\n",
       "2   [6, 11)   1714755026                      428688756\n",
       "3  [11, 14)   1655934971                      413983742\n",
       "4  [14, 17)   2008428995                      502107248\n",
       "5  [17, 20)   2228425199                      557106299\n",
       "6  [20, 24)   2461097190                      615274297"
      ]
     },
     "execution_count": 52,
     "metadata": {},
     "output_type": "execute_result"
    }
   ],
   "source": [
    "#Average of Likes\n",
    "result_group_by_likes['average_of_likes_per_interval']=result_group_by_likes['numbr_likes']/4\n",
    "\n",
    "result_group_by_likes = result_group_by_likes \\\n",
    "    .astype({'average_of_likes_per_interval' : 'int64'})\n",
    "\n",
    "result_group_by_likes"
   ]
  },
  {
   "cell_type": "markdown",
   "metadata": {},
   "source": [
    "##### The DataFrame was transformed to Numpy to be able to plot it."
   ]
  },
  {
   "cell_type": "code",
   "execution_count": 53,
   "metadata": {},
   "outputs": [],
   "source": [
    "result_group_by_likes_values = result_group_by_likes[['_bin','average_of_likes_per_interval']].astype(str)\n",
    " \n",
    "result_group_by_likes_values_array = result_group_by_likes_values.to_numpy().tolist()"
   ]
  },
  {
   "cell_type": "code",
   "execution_count": 54,
   "metadata": {},
   "outputs": [
    {
     "data": {
      "text/plain": [
       "[['[0, 3)', '283057076'],\n",
       " ['[3, 6)', '226576941'],\n",
       " ['[6, 11)', '428688756'],\n",
       " ['[11, 14)', '413983742'],\n",
       " ['[14, 17)', '502107248'],\n",
       " ['[17, 20)', '557106299'],\n",
       " ['[20, 24)', '615274297']]"
      ]
     },
     "execution_count": 54,
     "metadata": {},
     "output_type": "execute_result"
    }
   ],
   "source": [
    "result_group_by_likes_values_array"
   ]
  },
  {
   "cell_type": "code",
   "execution_count": 55,
   "metadata": {},
   "outputs": [],
   "source": [
    "from collections import defaultdict\n",
    "import matplotlib.pyplot as plt\n",
    "from datetime import datetime"
   ]
  },
  {
   "cell_type": "markdown",
   "metadata": {},
   "source": [
    "##### The function carried out in point 3 was slightly modified in order to continue using dictionaries and their attributes in the creation of the histogram."
   ]
  },
  {
   "cell_type": "code",
   "execution_count": 56,
   "metadata": {},
   "outputs": [],
   "source": [
    "#Function used in RQ3\n",
    "def time_interval(time_list,posts):\n",
    "    counter  = defaultdict()\n",
    "    for time in time_list:\n",
    "        interval = time[0].strftime(\"%H:%M:%S\")+\" \"+time[1].strftime(\"%H:%M:%S\")\n",
    "        counter[interval] = 0\n",
    "\n",
    "    for _bin, value in posts:\n",
    "        if _bin == '[0, 3)':\n",
    "            counter['00:00:00 02:59:59'] = value\n",
    "        elif _bin == '[3, 6)':\n",
    "            counter['03:00:00 05:59:59'] = value \n",
    "        elif _bin == '[6, 11)':\n",
    "            counter['06:00:00 10:59:59'] = value \n",
    "        elif _bin == '[11, 14)':\n",
    "            counter['11:00:00 13:59:59'] = value \n",
    "        elif _bin == '[14, 17)':\n",
    "            counter['14:00:00 16:59:59'] = value \n",
    "        elif _bin == '[17, 20)':\n",
    "            counter['17:00:00 19:59:59'] = value \n",
    "        elif _bin == '[20, 24)':\n",
    "            counter['20:00:00 23:59:59'] = value \n",
    "    for key in counter:\n",
    "        counter[key] = int(counter[key])\n",
    "    hist  = plt.bar(range(len(list(counter.keys()))), counter.values(), color='g')\n",
    "    print(\"Histogram with the avergae quantity of number of likes for each interval given as input:\")\n",
    "    i= 0\n",
    "    for key in counter.keys():\n",
    "        print( \"Interval \"+str(i)+\" = \"+key)\n",
    "        i+=1"
   ]
  },
  {
   "cell_type": "markdown",
   "metadata": {},
   "source": [
    "##### In the histogram we can see that the interval that has the highest number of likes is interval 4 from 8:00 p.m. to 12:00 a.m with an average of 615M likes per hour"
   ]
  },
  {
   "cell_type": "code",
   "execution_count": 57,
   "metadata": {},
   "outputs": [
    {
     "name": "stdout",
     "output_type": "stream",
     "text": [
      "Digit 1 to insert custom input, other char will execute code with default\n",
      "\n",
      "\n",
      "Histogram with the avergae quantity of number of likes for each interval given as input:\n",
      "Interval 0 = 06:00:00 10:59:59\n",
      "Interval 1 = 11:00:00 13:59:59\n",
      "Interval 2 = 14:00:00 16:59:59\n",
      "Interval 3 = 17:00:00 19:59:59\n",
      "Interval 4 = 20:00:00 23:59:59\n",
      "Interval 5 = 00:00:00 02:59:59\n",
      "Interval 6 = 03:00:00 05:59:59\n"
     ]
    },
    {
     "data": {
      "image/png": "[encoded data removed]",
      "text/plain": [
       "<Figure size 432x288 with 1 Axes>"
      ]
     },
     "metadata": {
      "needs_background": "light"
     },
     "output_type": "display_data"
    }
   ],
   "source": [
    "posts = result_group_by_likes_values_array\n",
    "\n",
    "#Function used in RQ3\n",
    "print(\"Digit 1 to insert custom input, other char will execute code with default\")\n",
    "if(input() ==  str(1)):\n",
    "    print(\"\\n\")\n",
    "    input_t = [] \n",
    "    print(\"Write number of intervals:\")\n",
    "    n = int(input())\n",
    "    print(\"Insert \"+str(n)+\" time intervals: (example: 06:00:00 10:59:59)\")\n",
    "    for i in range(n):\n",
    "        print(\"Interval #\",i)\n",
    "        input_t.append(list(input().split()))\n",
    "else:\n",
    "    print(\"\\n\")\n",
    "    input_t = [['06:00:00','10:59:59'],['11:00:00','13:59:59'],['14:00:00','16:59:59'],['17:00:00', '19:59:59'],['20:00:00','23:59:59'],['00:00:00','02:59:59'],['03:00:00','05:59:59']]\n",
    "time_list = []\n",
    "for interval in input_t:\n",
    "    row  = []\n",
    "    row.append(datetime.strptime(interval[0], '%H:%M:%S').time())\n",
    "    row.append(datetime.strptime(interval[1],'%H:%M:%S').time())\n",
    "    time_list.append(row)\n",
    "time_interval(time_list,posts)\n",
    "plt.show()"
   ]
  },
  {
   "cell_type": "markdown",
   "metadata": {},
   "source": [
    "##### The same process is repeated but with number of comments:"
   ]
  },
  {
   "cell_type": "code",
   "execution_count": 64,
   "metadata": {},
   "outputs": [
    {
     "data": {
      "text/html": [
       "<div>\n",
       "<style scoped>\n",
       "    .dataframe tbody tr th:only-of-type {\n",
       "        vertical-align: middle;\n",
       "    }\n",
       "\n",
       "    .dataframe tbody tr th {\n",
       "        vertical-align: top;\n",
       "    }\n",
       "\n",
       "    .dataframe thead th {\n",
       "        text-align: right;\n",
       "    }\n",
       "</style>\n",
       "<table border=\"1\" class=\"dataframe\">\n",
       "  <thead>\n",
       "    <tr style=\"text-align: right;\">\n",
       "      <th></th>\n",
       "      <th>number_comments</th>\n",
       "      <th>cts</th>\n",
       "      <th>_hour</th>\n",
       "    </tr>\n",
       "  </thead>\n",
       "  <tbody>\n",
       "    <tr>\n",
       "      <th>0</th>\n",
       "      <td>0.0</td>\n",
       "      <td>20:06:57</td>\n",
       "      <td>20</td>\n",
       "    </tr>\n",
       "    <tr>\n",
       "      <th>1</th>\n",
       "      <td>1.0</td>\n",
       "      <td>09:31:16</td>\n",
       "      <td>9</td>\n",
       "    </tr>\n",
       "    <tr>\n",
       "      <th>2</th>\n",
       "      <td>0.0</td>\n",
       "      <td>20:05:03</td>\n",
       "      <td>20</td>\n",
       "    </tr>\n",
       "    <tr>\n",
       "      <th>3</th>\n",
       "      <td>0.0</td>\n",
       "      <td>16:27:16</td>\n",
       "      <td>16</td>\n",
       "    </tr>\n",
       "    <tr>\n",
       "      <th>4</th>\n",
       "      <td>0.0</td>\n",
       "      <td>10:19:27</td>\n",
       "      <td>10</td>\n",
       "    </tr>\n",
       "    <tr>\n",
       "      <th>...</th>\n",
       "      <td>...</td>\n",
       "      <td>...</td>\n",
       "      <td>...</td>\n",
       "    </tr>\n",
       "    <tr>\n",
       "      <th>42710192</th>\n",
       "      <td>0.0</td>\n",
       "      <td>15:38:04</td>\n",
       "      <td>15</td>\n",
       "    </tr>\n",
       "    <tr>\n",
       "      <th>42710193</th>\n",
       "      <td>0.0</td>\n",
       "      <td>11:28:01</td>\n",
       "      <td>11</td>\n",
       "    </tr>\n",
       "    <tr>\n",
       "      <th>42710194</th>\n",
       "      <td>0.0</td>\n",
       "      <td>20:16:37</td>\n",
       "      <td>20</td>\n",
       "    </tr>\n",
       "    <tr>\n",
       "      <th>42710195</th>\n",
       "      <td>1.0</td>\n",
       "      <td>20:07:52</td>\n",
       "      <td>20</td>\n",
       "    </tr>\n",
       "    <tr>\n",
       "      <th>42710196</th>\n",
       "      <td>49.0</td>\n",
       "      <td>02:57:17</td>\n",
       "      <td>2</td>\n",
       "    </tr>\n",
       "  </tbody>\n",
       "</table>\n",
       "<p>42706865 rows × 3 columns</p>\n",
       "</div>"
      ],
      "text/plain": [
       "          number_comments       cts  _hour\n",
       "0                     0.0  20:06:57     20\n",
       "1                     1.0  09:31:16      9\n",
       "2                     0.0  20:05:03     20\n",
       "3                     0.0  16:27:16     16\n",
       "4                     0.0  10:19:27     10\n",
       "...                   ...       ...    ...\n",
       "42710192              0.0  15:38:04     15\n",
       "42710193              0.0  11:28:01     11\n",
       "42710194              0.0  20:16:37     20\n",
       "42710195              1.0  20:07:52     20\n",
       "42710196             49.0  02:57:17      2\n",
       "\n",
       "[42706865 rows x 3 columns]"
      ]
     },
     "execution_count": 64,
     "metadata": {},
     "output_type": "execute_result"
    }
   ],
   "source": [
    "comments_df['_hour'] = comments_df.cts.apply(lambda i: i.hour).astype(int)\n",
    "comments_df"
   ]
  },
  {
   "cell_type": "code",
   "execution_count": 65,
   "metadata": {},
   "outputs": [
    {
     "data": {
      "text/html": [
       "<div>\n",
       "<style scoped>\n",
       "    .dataframe tbody tr th:only-of-type {\n",
       "        vertical-align: middle;\n",
       "    }\n",
       "\n",
       "    .dataframe tbody tr th {\n",
       "        vertical-align: top;\n",
       "    }\n",
       "\n",
       "    .dataframe thead th {\n",
       "        text-align: right;\n",
       "    }\n",
       "</style>\n",
       "<table border=\"1\" class=\"dataframe\">\n",
       "  <thead>\n",
       "    <tr style=\"text-align: right;\">\n",
       "      <th></th>\n",
       "      <th>number_comments</th>\n",
       "      <th>cts</th>\n",
       "      <th>_hour</th>\n",
       "      <th>_bin</th>\n",
       "    </tr>\n",
       "  </thead>\n",
       "  <tbody>\n",
       "    <tr>\n",
       "      <th>0</th>\n",
       "      <td>0.0</td>\n",
       "      <td>20:06:57</td>\n",
       "      <td>20</td>\n",
       "      <td>[20, 24)</td>\n",
       "    </tr>\n",
       "    <tr>\n",
       "      <th>1</th>\n",
       "      <td>1.0</td>\n",
       "      <td>09:31:16</td>\n",
       "      <td>9</td>\n",
       "      <td>[6, 11)</td>\n",
       "    </tr>\n",
       "    <tr>\n",
       "      <th>2</th>\n",
       "      <td>0.0</td>\n",
       "      <td>20:05:03</td>\n",
       "      <td>20</td>\n",
       "      <td>[20, 24)</td>\n",
       "    </tr>\n",
       "    <tr>\n",
       "      <th>3</th>\n",
       "      <td>0.0</td>\n",
       "      <td>16:27:16</td>\n",
       "      <td>16</td>\n",
       "      <td>[14, 17)</td>\n",
       "    </tr>\n",
       "    <tr>\n",
       "      <th>4</th>\n",
       "      <td>0.0</td>\n",
       "      <td>10:19:27</td>\n",
       "      <td>10</td>\n",
       "      <td>[6, 11)</td>\n",
       "    </tr>\n",
       "    <tr>\n",
       "      <th>...</th>\n",
       "      <td>...</td>\n",
       "      <td>...</td>\n",
       "      <td>...</td>\n",
       "      <td>...</td>\n",
       "    </tr>\n",
       "    <tr>\n",
       "      <th>42710192</th>\n",
       "      <td>0.0</td>\n",
       "      <td>15:38:04</td>\n",
       "      <td>15</td>\n",
       "      <td>[14, 17)</td>\n",
       "    </tr>\n",
       "    <tr>\n",
       "      <th>42710193</th>\n",
       "      <td>0.0</td>\n",
       "      <td>11:28:01</td>\n",
       "      <td>11</td>\n",
       "      <td>[11, 14)</td>\n",
       "    </tr>\n",
       "    <tr>\n",
       "      <th>42710194</th>\n",
       "      <td>0.0</td>\n",
       "      <td>20:16:37</td>\n",
       "      <td>20</td>\n",
       "      <td>[20, 24)</td>\n",
       "    </tr>\n",
       "    <tr>\n",
       "      <th>42710195</th>\n",
       "      <td>1.0</td>\n",
       "      <td>20:07:52</td>\n",
       "      <td>20</td>\n",
       "      <td>[20, 24)</td>\n",
       "    </tr>\n",
       "    <tr>\n",
       "      <th>42710196</th>\n",
       "      <td>49.0</td>\n",
       "      <td>02:57:17</td>\n",
       "      <td>2</td>\n",
       "      <td>[0, 3)</td>\n",
       "    </tr>\n",
       "  </tbody>\n",
       "</table>\n",
       "<p>42706865 rows × 4 columns</p>\n",
       "</div>"
      ],
      "text/plain": [
       "          number_comments       cts  _hour      _bin\n",
       "0                     0.0  20:06:57     20  [20, 24)\n",
       "1                     1.0  09:31:16      9   [6, 11)\n",
       "2                     0.0  20:05:03     20  [20, 24)\n",
       "3                     0.0  16:27:16     16  [14, 17)\n",
       "4                     0.0  10:19:27     10   [6, 11)\n",
       "...                   ...       ...    ...       ...\n",
       "42710192              0.0  15:38:04     15  [14, 17)\n",
       "42710193              0.0  11:28:01     11  [11, 14)\n",
       "42710194              0.0  20:16:37     20  [20, 24)\n",
       "42710195              1.0  20:07:52     20  [20, 24)\n",
       "42710196             49.0  02:57:17      2    [0, 3)\n",
       "\n",
       "[42706865 rows x 4 columns]"
      ]
     },
     "execution_count": 65,
     "metadata": {},
     "output_type": "execute_result"
    }
   ],
   "source": [
    "comments_df['_bin'] = pd.cut(comments_df['_hour'], intervals, include_lowest=True, right=False)\n",
    "comments_df"
   ]
  },
  {
   "cell_type": "code",
   "execution_count": 66,
   "metadata": {},
   "outputs": [
    {
     "data": {
      "text/html": [
       "<div>\n",
       "<style scoped>\n",
       "    .dataframe tbody tr th:only-of-type {\n",
       "        vertical-align: middle;\n",
       "    }\n",
       "\n",
       "    .dataframe tbody tr th {\n",
       "        vertical-align: top;\n",
       "    }\n",
       "\n",
       "    .dataframe thead th {\n",
       "        text-align: right;\n",
       "    }\n",
       "</style>\n",
       "<table border=\"1\" class=\"dataframe\">\n",
       "  <thead>\n",
       "    <tr style=\"text-align: right;\">\n",
       "      <th></th>\n",
       "      <th>_bin</th>\n",
       "      <th>number_comments</th>\n",
       "    </tr>\n",
       "  </thead>\n",
       "  <tbody>\n",
       "    <tr>\n",
       "      <th>0</th>\n",
       "      <td>[0, 3)</td>\n",
       "      <td>32027925</td>\n",
       "    </tr>\n",
       "    <tr>\n",
       "      <th>1</th>\n",
       "      <td>[3, 6)</td>\n",
       "      <td>23870239</td>\n",
       "    </tr>\n",
       "    <tr>\n",
       "      <th>2</th>\n",
       "      <td>[6, 11)</td>\n",
       "      <td>46784338</td>\n",
       "    </tr>\n",
       "    <tr>\n",
       "      <th>3</th>\n",
       "      <td>[11, 14)</td>\n",
       "      <td>43755376</td>\n",
       "    </tr>\n",
       "    <tr>\n",
       "      <th>4</th>\n",
       "      <td>[14, 17)</td>\n",
       "      <td>52081094</td>\n",
       "    </tr>\n",
       "    <tr>\n",
       "      <th>5</th>\n",
       "      <td>[17, 20)</td>\n",
       "      <td>59538096</td>\n",
       "    </tr>\n",
       "    <tr>\n",
       "      <th>6</th>\n",
       "      <td>[20, 24)</td>\n",
       "      <td>66302700</td>\n",
       "    </tr>\n",
       "  </tbody>\n",
       "</table>\n",
       "</div>"
      ],
      "text/plain": [
       "       _bin  number_comments\n",
       "0    [0, 3)         32027925\n",
       "1    [3, 6)         23870239\n",
       "2   [6, 11)         46784338\n",
       "3  [11, 14)         43755376\n",
       "4  [14, 17)         52081094\n",
       "5  [17, 20)         59538096\n",
       "6  [20, 24)         66302700"
      ]
     },
     "execution_count": 66,
     "metadata": {},
     "output_type": "execute_result"
    }
   ],
   "source": [
    "result_group_by_comments = comments_df \\\n",
    "    .groupby(['_bin'])[['number_comments']] \\\n",
    "    .sum() \\\n",
    "    .reset_index()\n",
    "\n",
    "result_group_by_comments = result_group_by_comments \\\n",
    "    .astype({'number_comments' : 'int64'})\n",
    "\n",
    "result_group_by_comments"
   ]
  },
  {
   "cell_type": "code",
   "execution_count": 68,
   "metadata": {},
   "outputs": [],
   "source": [
    "#Average of comments\n",
    "result_group_by_comments['average_of_comments_per_hour']=result_group_by_comments['number_comments']/4\n",
    "\n",
    "result_group_by_comments = result_group_by_comments \\\n",
    "    .astype({'average_of_comments_per_hour' : 'int64'})"
   ]
  },
  {
   "cell_type": "code",
   "execution_count": 71,
   "metadata": {},
   "outputs": [
    {
     "data": {
      "text/plain": [
       "[['[0, 3)', '8006981'],\n",
       " ['[3, 6)', '5967559'],\n",
       " ['[6, 11)', '11696084'],\n",
       " ['[11, 14)', '10938844'],\n",
       " ['[14, 17)', '13020273'],\n",
       " ['[17, 20)', '14884524'],\n",
       " ['[20, 24)', '16575675']]"
      ]
     },
     "execution_count": 71,
     "metadata": {},
     "output_type": "execute_result"
    }
   ],
   "source": [
    "result_group_by_comments_values = result_group_by_comments[['_bin','average_of_comments_per_hour']].astype(str)\n",
    " \n",
    "result_group_by_comments_values_array = result_group_by_comments_values.to_numpy().tolist()\n",
    "\n",
    "result_group_by_comments_values_array"
   ]
  },
  {
   "cell_type": "code",
   "execution_count": 72,
   "metadata": {},
   "outputs": [],
   "source": [
    "#Function used in RQ3\n",
    "def time_interval(time_list,posts):\n",
    "    counter  = defaultdict()\n",
    "    for time in time_list:\n",
    "        interval = time[0].strftime(\"%H:%M:%S\")+\" \"+time[1].strftime(\"%H:%M:%S\")\n",
    "        counter[interval] = 0\n",
    "\n",
    "    for _bin, value in posts:\n",
    "        if _bin == '[0, 3)':\n",
    "            counter['00:00:00 02:59:59'] = value\n",
    "        elif _bin == '[3, 6)':\n",
    "            counter['03:00:00 05:59:59'] = value \n",
    "        elif _bin == '[6, 11)':\n",
    "            counter['06:00:00 10:59:59'] = value \n",
    "        elif _bin == '[11, 14)':\n",
    "            counter['11:00:00 13:59:59'] = value \n",
    "        elif _bin == '[14, 17)':\n",
    "            counter['14:00:00 16:59:59'] = value \n",
    "        elif _bin == '[17, 20)':\n",
    "            counter['17:00:00 19:59:59'] = value \n",
    "        elif _bin == '[20, 24)':\n",
    "            counter['20:00:00 23:59:59'] = value \n",
    "    for key in counter:\n",
    "        counter[key] = int(counter[key])\n",
    "    hist  = plt.bar(range(len(list(counter.keys()))), counter.values(), color='g')\n",
    "    print(\"Histogram with the avergae quantity of number of likes for each interval given as input:\")\n",
    "    i= 0\n",
    "    for key in counter.keys():\n",
    "        print( \"Interval \"+str(i)+\" = \"+key)\n",
    "        i+=1"
   ]
  },
  {
   "cell_type": "markdown",
   "metadata": {},
   "source": [
    "##### As can be seen in the histogram, interval 4 is the one that obtains the highest number of comments as well as the highest number of likes."
   ]
  },
  {
   "cell_type": "code",
   "execution_count": 73,
   "metadata": {},
   "outputs": [
    {
     "name": "stdout",
     "output_type": "stream",
     "text": [
      "Digit 1 to insert custom input, other char will execute code with default\n",
      "\n",
      "\n",
      "Histogram with the avergae quantity of number of likes for each interval given as input:\n",
      "Interval 0 = 06:00:00 10:59:59\n",
      "Interval 1 = 11:00:00 13:59:59\n",
      "Interval 2 = 14:00:00 16:59:59\n",
      "Interval 3 = 17:00:00 19:59:59\n",
      "Interval 4 = 20:00:00 23:59:59\n",
      "Interval 5 = 00:00:00 02:59:59\n",
      "Interval 6 = 03:00:00 05:59:59\n"
     ]
    },
    {
     "data": {
      "image/png": "[encoded data removed]",
      "text/plain": [
       "<Figure size 432x288 with 1 Axes>"
      ]
     },
     "metadata": {
      "needs_background": "light"
     },
     "output_type": "display_data"
    }
   ],
   "source": [
    "posts = result_group_by_comments_values_array\n",
    "\n",
    "#Function used in RQ3\n",
    "print(\"Digit 1 to insert custom input, other char will execute code with default\")\n",
    "if(input() ==  str(1)):\n",
    "    print(\"\\n\")\n",
    "    input_t = [] \n",
    "    print(\"Write number of intervals:\")\n",
    "    n = int(input())\n",
    "    print(\"Insert \"+str(n)+\" time intervals: (example: 06:00:00 10:59:59)\")\n",
    "    for i in range(n):\n",
    "        print(\"Interval #\",i)\n",
    "        input_t.append(list(input().split()))\n",
    "else:\n",
    "    print(\"\\n\")\n",
    "    input_t = [['06:00:00','10:59:59'],['11:00:00','13:59:59'],['14:00:00','16:59:59'],['17:00:00', '19:59:59'],['20:00:00','23:59:59'],['00:00:00','02:59:59'],['03:00:00','05:59:59']]\n",
    "time_list = []\n",
    "for interval in input_t:\n",
    "    row  = []\n",
    "    row.append(datetime.strptime(interval[0], '%H:%M:%S').time())\n",
    "    row.append(datetime.strptime(interval[1],'%H:%M:%S').time())\n",
    "    time_list.append(row)\n",
    "time_interval(time_list,posts)\n",
    "plt.show()"
   ]
  }
 ],
 "metadata": {
  "kernelspec": {
   "display_name": "Python 3.9.12 ('base')",
   "language": "python",
   "name": "python3"
  },
  "language_info": {
   "codemirror_mode": {
    "name": "ipython",
    "version": 3
   },
   "file_extension": ".py",
   "mimetype": "text/x-python",
   "name": "python",
   "nbconvert_exporter": "python",
   "pygments_lexer": "ipython3",
   "version": "3.9.12"
  },
  "orig_nbformat": 4,
  "vscode": {
   "interpreter": {
    "hash": "167eec726b819e0c6a70093e6eca930a95ad1db30271bf8923599164b221a31b"
   }
  }
 },
 "nbformat": 4,
 "nbformat_minor": 2
}
