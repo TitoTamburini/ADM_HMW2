{
 "cells": [
  {
   "cell_type": "markdown",
   "metadata": {},
   "source": [
    "### [AQ2] Considering the following problem, answer the questions:\n",
    "\n",
    "##### Alex has a ribbon of length N. He wants to cut the ribbon in a way that fulfils the following three conditions:\n",
    "\n",
    "##### Each piece of the cut should have an integer length\n",
    "##### He should at least cut the ribbon once\n",
    "##### The multiplication of the length of all the pieces be the maximum possible"
   ]
  },
  {
   "cell_type": "markdown",
   "metadata": {},
   "source": [
    "#### 1. Implement a recursive algorithm to help Alex find the maximum possible value after multiplying the length of the pieces. Explain your algorithm in detail."
   ]
  },
  {
   "cell_type": "markdown",
   "metadata": {},
   "source": [
    "##### ribbon_pieces is the recursive function that is going to be in charge of using max() to solve condition 3 of the problem statement.\n",
    "\n",
    "##### max() funcion returns the item with the highest value of the multiplication of the parts.\n",
    "\n",
    "##### The ribbon cannot be of negative length and cannot be less than 1 to meet conditions 1 and 2. This is why the first base case was made.\n",
    "\n",
    "##### A for loop is set to iterate piece in the range of N (ribbon len). The range of the iteration is going to be from 1 to N-1 to be able to apply recursion without reaching N = 1. When N = 2, the only solution is to cut the ribbon into 2 parts (1 and 1) so it returns 1 and would be the second base case.\n",
    "\n",
    "##### The ribbon begins to be cut in \"piece\" and the remainder of the ribbon is \"N - piece\". Recursion is performed in this second part of the ribbon to choose the maximum value that results from the multiplication of the cuts by doing comparisons. This result is saved in the variable \"recursive_path\". As the for loop progresses, the variable \"ans_max\" will choose between which multiplication is greater, if the one that is being done now or the one that was done in the previous iteration.\n"
   ]
  },
  {
   "cell_type": "code",
   "execution_count": 25,
   "metadata": {},
   "outputs": [
    {
     "data": {
      "text/plain": [
       "36"
      ]
     },
     "execution_count": 25,
     "metadata": {},
     "output_type": "execute_result"
    }
   ],
   "source": [
    "def ribbon_pieces(N):\n",
    "\n",
    "    ans_max = 1\n",
    "\n",
    "    #Base cases:\n",
    "    if (N <= 1):\n",
    "        return 0\n",
    "    \n",
    "    if (N == 2):\n",
    "        return 1\n",
    "    \n",
    "    #range from 1 to N: to be able to apply recursion without reaching N = 1.\n",
    "    for piece in range(1, N-1):\n",
    "\n",
    "        recursive_path = max(piece * (N-piece), piece * ribbon_pieces(N-piece))\n",
    "        \n",
    "        ans_max = max(ans_max, recursive_path)\n",
    "    \n",
    "\n",
    "    return ans_max\n",
    "\n",
    "N= int(input().strip())\n",
    "\n",
    "ribbon_pieces(N)"
   ]
  },
  {
   "cell_type": "markdown",
   "metadata": {},
   "source": [
    "#### 2. Show that the algorithm has exponential running time."
   ]
  },
  {
   "cell_type": "markdown",
   "metadata": {},
   "source": [
    "##### To show that the time complexity of the algorithm is exponential, a recursion tree was made:"
   ]
  },
  {
   "cell_type": "markdown",
   "metadata": {},
   "source": [
    "<img src= 'ADMHW2AQ2.png'>"
   ]
  },
  {
   "cell_type": "markdown",
   "metadata": {},
   "source": [
    "##### This is the recursion tree of ribbon_pieces when N=7. \n",
    "\n",
    "#### Therefore, the time complexity if the algorithm is equal to: (The number of times the function is repeated was counted following the recursion tree)\n",
    "\n",
    "$$ T(1) = 0 $$\n",
    "$$ T(2) = T(1) + 1 = 1 $$\n",
    "$$ T(3) = T(2) + 1 = 2 $$\n",
    "$$ T(4) = T(3) + T(2) + 1 = 4 $$\n",
    "$$ T(5) = T(4) + T(3) + T(2) + 1 = 8 $$\n",
    "$$ T(6) = T(5) + T(4) + T(3) + T(2) + 1 = 16 $$\n",
    "$$ T(7) = T(6) + T(5) + T(4) + T(3) + T(2) + 1 = 32 $$\n"
   ]
  },
  {
   "cell_type": "markdown",
   "metadata": {},
   "source": [
    "$$ T(n) = \\sum_{i=2}^{n-1} T(i) + 1 $$\n",
    "\n",
    "$$ T(n) = 2^{n-2}  \\ n>=2 $$"
   ]
  },
  {
   "cell_type": "markdown",
   "metadata": {},
   "source": [
    "##### Math induction:\n",
    "\n"
   ]
  },
  {
   "cell_type": "markdown",
   "metadata": {},
   "source": [
    "$$ T(2) = 2^{2-2} = 1 $$\n",
    "$$ T(n) = 2^{n-2} $$\n",
    "$$ T(n+1) = 2^{n+1-2} $$\n",
    "$$ T(n+1) = \\sum_{i=2}^{n+1-1} T(i) + 1 $$\n",
    "$$ T(n+1) = T(n) + \\sum_{i=2}^{n-1} T(i) + 1 $$\n",
    "$$ T(n+1) = T(n) + T(n) $$\n",
    "$$ T(n+1) = 2T(n) = 2(2^{n-2}) = 2^{n-1}\n",
    "\n"
   ]
  },
  {
   "cell_type": "markdown",
   "metadata": {},
   "source": [
    "##### The result is that the time complexity has an exponencial running time: \n",
    "$$ 2^{n-1}"
   ]
  },
  {
   "cell_type": "markdown",
   "metadata": {},
   "source": [
    "#### 3. Now provide a polynomial solution, based on dynamic programming, and compute its running-time complexity."
   ]
  },
  {
   "cell_type": "code",
   "execution_count": 72,
   "metadata": {},
   "outputs": [
    {
     "data": {
      "text/plain": [
       "12"
      ]
     },
     "execution_count": 72,
     "metadata": {},
     "output_type": "execute_result"
    }
   ],
   "source": [
    "def ribbon_pieces_dynamic(N):\n",
    "\n",
    "    #Base cases:\n",
    "    if (N <= 1):\n",
    "        return 0\n",
    "    \n",
    "    if (N == 2):\n",
    "        return 1\n",
    "    \n",
    "    #list_ans will save all the results of the previous iterations\n",
    "    list_ans = []\n",
    "\n",
    "    for piece_len in range(0,N+1):\n",
    "            \n",
    "        a = 0\n",
    "        list_ans.append(a)\n",
    "\n",
    "    for piece_len in range(1,N+1):\n",
    "\n",
    "        ans_max = 0\n",
    "    \n",
    "        for piece in range(1, piece_len):\n",
    "\n",
    "             ans_max = max(ans_max, (list_ans[piece_len - piece]*piece))\n",
    "\n",
    "             ans_max = max(ans_max, (piece_len - piece)*piece)\n",
    "\n",
    "        list_ans[piece_len] = ans_max\n",
    "    \n",
    "    return list_ans[N]\n",
    "\n",
    "N= int(input().strip())\n",
    "\n",
    "ribbon_pieces_dynamic(N)"
   ]
  },
  {
   "cell_type": "markdown",
   "metadata": {},
   "source": [
    "##### Since we are saving the values ​​of each traversal in the \"list_ans\" list, the time complexity would be as follows:\n",
    "\n",
    "##### Without focusing on the for loop of the list, and only focusing on the double for, we get the execution time.\n",
    "\n",
    "##### With N= 3, in the first for, the execution time would be:\n",
    "\n",
    "$$ T(1) = 1 + 3(n+1) + 3n = 6n + 4 $$\n",
    "\n",
    "##### The inner for execution time:\n",
    "\n",
    "$$ T(2) = 1 + \\frac{((n-1)*n)}{2} = \\frac{(n^{2} - n + 2)}{2} $$\n",
    "\n",
    "##### Total time execution:\n",
    "\n",
    "$$ T(1) + T(2) = \\frac{n^2 + 11n + 10}{2} $$\n",
    "\n",
    "##### Therefore, the time complexity is:\n",
    "\n",
    "$$ O(n^2)"
   ]
  },
  {
   "cell_type": "markdown",
   "metadata": {},
   "source": [
    "#### 4. Evaluate the running time of your algorithm for the sizes (Ns) in the range of [2, 25], plot the results, and interpret it (if you have implemented two algorithms, please include both in the plot and compare them)."
   ]
  },
  {
   "cell_type": "code",
   "execution_count": 64,
   "metadata": {},
   "outputs": [],
   "source": [
    "import time\n",
    "\n",
    "def f1(x):\n",
    "    ## f1 is the recursion algorithm\n",
    "    ans = ribbon_pieces(x)\n",
    "    return ans\n",
    "\n",
    "def f2(x):\n",
    "    ## f2 is the dynamic solution\n",
    "    ans = ribbon_pieces_dynamic(x)\n",
    "    return ans\n",
    "\n",
    "def timed(f):\n",
    "    \n",
    "    def wrapper(n):\n",
    "        start_time = time.time()\n",
    "        ret = f(n)\n",
    "        elapsed_time = time.time() - start_time\n",
    "        return elapsed_time, ret\n",
    "    \n",
    "    return wrapper\n",
    "\n",
    "timed_f1 = timed(f1)\n",
    "\n",
    "timed_f2 = timed(f2)\n",
    "\n",
    "#timed_f2(10)\n"
   ]
  },
  {
   "cell_type": "code",
   "execution_count": 65,
   "metadata": {},
   "outputs": [
    {
     "data": {
      "text/html": [
       "<div>\n",
       "<style scoped>\n",
       "    .dataframe tbody tr th:only-of-type {\n",
       "        vertical-align: middle;\n",
       "    }\n",
       "\n",
       "    .dataframe tbody tr th {\n",
       "        vertical-align: top;\n",
       "    }\n",
       "\n",
       "    .dataframe thead th {\n",
       "        text-align: right;\n",
       "    }\n",
       "</style>\n",
       "<table border=\"1\" class=\"dataframe\">\n",
       "  <thead>\n",
       "    <tr style=\"text-align: right;\">\n",
       "      <th></th>\n",
       "      <th>index</th>\n",
       "      <th>time_f1</th>\n",
       "      <th>result_f1</th>\n",
       "      <th>time_f2</th>\n",
       "      <th>result_f2</th>\n",
       "    </tr>\n",
       "  </thead>\n",
       "  <tbody>\n",
       "    <tr>\n",
       "      <th>0</th>\n",
       "      <td>0</td>\n",
       "      <td>0.000010</td>\n",
       "      <td>1</td>\n",
       "      <td>0.000002</td>\n",
       "      <td>1</td>\n",
       "    </tr>\n",
       "    <tr>\n",
       "      <th>1</th>\n",
       "      <td>1</td>\n",
       "      <td>0.000016</td>\n",
       "      <td>2</td>\n",
       "      <td>0.000004</td>\n",
       "      <td>2</td>\n",
       "    </tr>\n",
       "    <tr>\n",
       "      <th>2</th>\n",
       "      <td>2</td>\n",
       "      <td>0.000002</td>\n",
       "      <td>4</td>\n",
       "      <td>0.000005</td>\n",
       "      <td>4</td>\n",
       "    </tr>\n",
       "    <tr>\n",
       "      <th>3</th>\n",
       "      <td>3</td>\n",
       "      <td>0.000005</td>\n",
       "      <td>6</td>\n",
       "      <td>0.000007</td>\n",
       "      <td>6</td>\n",
       "    </tr>\n",
       "    <tr>\n",
       "      <th>4</th>\n",
       "      <td>4</td>\n",
       "      <td>0.000009</td>\n",
       "      <td>9</td>\n",
       "      <td>0.000009</td>\n",
       "      <td>9</td>\n",
       "    </tr>\n",
       "    <tr>\n",
       "      <th>5</th>\n",
       "      <td>5</td>\n",
       "      <td>0.000017</td>\n",
       "      <td>12</td>\n",
       "      <td>0.000011</td>\n",
       "      <td>12</td>\n",
       "    </tr>\n",
       "    <tr>\n",
       "      <th>6</th>\n",
       "      <td>6</td>\n",
       "      <td>0.000035</td>\n",
       "      <td>18</td>\n",
       "      <td>0.000015</td>\n",
       "      <td>18</td>\n",
       "    </tr>\n",
       "    <tr>\n",
       "      <th>7</th>\n",
       "      <td>7</td>\n",
       "      <td>0.000071</td>\n",
       "      <td>27</td>\n",
       "      <td>0.000018</td>\n",
       "      <td>27</td>\n",
       "    </tr>\n",
       "    <tr>\n",
       "      <th>8</th>\n",
       "      <td>8</td>\n",
       "      <td>0.000141</td>\n",
       "      <td>36</td>\n",
       "      <td>0.000022</td>\n",
       "      <td>36</td>\n",
       "    </tr>\n",
       "    <tr>\n",
       "      <th>9</th>\n",
       "      <td>9</td>\n",
       "      <td>0.000283</td>\n",
       "      <td>54</td>\n",
       "      <td>0.000025</td>\n",
       "      <td>54</td>\n",
       "    </tr>\n",
       "    <tr>\n",
       "      <th>10</th>\n",
       "      <td>10</td>\n",
       "      <td>0.000582</td>\n",
       "      <td>81</td>\n",
       "      <td>0.000030</td>\n",
       "      <td>81</td>\n",
       "    </tr>\n",
       "    <tr>\n",
       "      <th>11</th>\n",
       "      <td>11</td>\n",
       "      <td>0.001054</td>\n",
       "      <td>108</td>\n",
       "      <td>0.000032</td>\n",
       "      <td>108</td>\n",
       "    </tr>\n",
       "    <tr>\n",
       "      <th>12</th>\n",
       "      <td>12</td>\n",
       "      <td>0.002089</td>\n",
       "      <td>162</td>\n",
       "      <td>0.000041</td>\n",
       "      <td>162</td>\n",
       "    </tr>\n",
       "    <tr>\n",
       "      <th>13</th>\n",
       "      <td>13</td>\n",
       "      <td>0.004318</td>\n",
       "      <td>243</td>\n",
       "      <td>0.000047</td>\n",
       "      <td>243</td>\n",
       "    </tr>\n",
       "    <tr>\n",
       "      <th>14</th>\n",
       "      <td>14</td>\n",
       "      <td>0.007957</td>\n",
       "      <td>324</td>\n",
       "      <td>0.000049</td>\n",
       "      <td>324</td>\n",
       "    </tr>\n",
       "    <tr>\n",
       "      <th>15</th>\n",
       "      <td>15</td>\n",
       "      <td>0.014689</td>\n",
       "      <td>486</td>\n",
       "      <td>0.000054</td>\n",
       "      <td>486</td>\n",
       "    </tr>\n",
       "    <tr>\n",
       "      <th>16</th>\n",
       "      <td>16</td>\n",
       "      <td>0.027961</td>\n",
       "      <td>729</td>\n",
       "      <td>0.000056</td>\n",
       "      <td>729</td>\n",
       "    </tr>\n",
       "    <tr>\n",
       "      <th>17</th>\n",
       "      <td>17</td>\n",
       "      <td>0.061311</td>\n",
       "      <td>972</td>\n",
       "      <td>0.000060</td>\n",
       "      <td>972</td>\n",
       "    </tr>\n",
       "    <tr>\n",
       "      <th>18</th>\n",
       "      <td>18</td>\n",
       "      <td>0.112588</td>\n",
       "      <td>1458</td>\n",
       "      <td>0.000071</td>\n",
       "      <td>1458</td>\n",
       "    </tr>\n",
       "    <tr>\n",
       "      <th>19</th>\n",
       "      <td>19</td>\n",
       "      <td>0.219032</td>\n",
       "      <td>2187</td>\n",
       "      <td>0.000074</td>\n",
       "      <td>2187</td>\n",
       "    </tr>\n",
       "    <tr>\n",
       "      <th>20</th>\n",
       "      <td>20</td>\n",
       "      <td>0.439364</td>\n",
       "      <td>2916</td>\n",
       "      <td>0.000079</td>\n",
       "      <td>2916</td>\n",
       "    </tr>\n",
       "    <tr>\n",
       "      <th>21</th>\n",
       "      <td>21</td>\n",
       "      <td>0.877928</td>\n",
       "      <td>4374</td>\n",
       "      <td>0.000087</td>\n",
       "      <td>4374</td>\n",
       "    </tr>\n",
       "    <tr>\n",
       "      <th>22</th>\n",
       "      <td>22</td>\n",
       "      <td>1.753172</td>\n",
       "      <td>6561</td>\n",
       "      <td>0.000091</td>\n",
       "      <td>6561</td>\n",
       "    </tr>\n",
       "    <tr>\n",
       "      <th>23</th>\n",
       "      <td>23</td>\n",
       "      <td>3.511542</td>\n",
       "      <td>8748</td>\n",
       "      <td>0.000102</td>\n",
       "      <td>8748</td>\n",
       "    </tr>\n",
       "  </tbody>\n",
       "</table>\n",
       "</div>"
      ],
      "text/plain": [
       "    index   time_f1  result_f1   time_f2  result_f2\n",
       "0       0  0.000010          1  0.000002          1\n",
       "1       1  0.000016          2  0.000004          2\n",
       "2       2  0.000002          4  0.000005          4\n",
       "3       3  0.000005          6  0.000007          6\n",
       "4       4  0.000009          9  0.000009          9\n",
       "5       5  0.000017         12  0.000011         12\n",
       "6       6  0.000035         18  0.000015         18\n",
       "7       7  0.000071         27  0.000018         27\n",
       "8       8  0.000141         36  0.000022         36\n",
       "9       9  0.000283         54  0.000025         54\n",
       "10     10  0.000582         81  0.000030         81\n",
       "11     11  0.001054        108  0.000032        108\n",
       "12     12  0.002089        162  0.000041        162\n",
       "13     13  0.004318        243  0.000047        243\n",
       "14     14  0.007957        324  0.000049        324\n",
       "15     15  0.014689        486  0.000054        486\n",
       "16     16  0.027961        729  0.000056        729\n",
       "17     17  0.061311        972  0.000060        972\n",
       "18     18  0.112588       1458  0.000071       1458\n",
       "19     19  0.219032       2187  0.000074       2187\n",
       "20     20  0.439364       2916  0.000079       2916\n",
       "21     21  0.877928       4374  0.000087       4374\n",
       "22     22  1.753172       6561  0.000091       6561\n",
       "23     23  3.511542       8748  0.000102       8748"
      ]
     },
     "execution_count": 65,
     "metadata": {},
     "output_type": "execute_result"
    }
   ],
   "source": [
    "import pandas as pd\n",
    "\n",
    "result = pd.DataFrame([(*timed_f1(x), *timed_f2(x)) for x in range(2,26)], \n",
    "                        columns=[\"time_f1\",\"result_f1\",\"time_f2\",\"result_f2\"])\n",
    "\n",
    "result.reset_index(inplace = True)\n",
    "\n",
    "result"
   ]
  },
  {
   "cell_type": "code",
   "execution_count": 66,
   "metadata": {},
   "outputs": [
    {
     "data": {
      "text/plain": [
       "<AxesSubplot:title={'center':'Execution time'}, xlabel='Ns', ylabel='Executon time'>"
      ]
     },
     "execution_count": 66,
     "metadata": {},
     "output_type": "execute_result"
    },
    {
     "data": {
      "image/png": "[encoded data removed]",
      "text/plain": [
       "<Figure size 432x288 with 1 Axes>"
      ]
     },
     "metadata": {
      "needs_background": "light"
     },
     "output_type": "display_data"
    }
   ],
   "source": [
    "result.plot.line(x='index', y=['time_f1','time_f2'], title='Execution time',\n",
    "                    xlabel='Ns', ylabel='Executon time')"
   ]
  },
  {
   "cell_type": "markdown",
   "metadata": {},
   "source": [
    "##### As evidenced in the line graph, when the execution time is exponential, as the number of iterations increases, the execution time increases exponentially. On the other hand, f_2, which was the polynomial solution, has a very small increase in execution time, so it will be more efficient. Likewise, as shown in the \"result\" DataFrame, the results of both implementations are the same, so it can be concluded that you should always try to get a solution that has a polynomial execution time, and not an exponential one so that the algorithm can be more efficient."
   ]
  },
  {
   "cell_type": "markdown",
   "metadata": {},
   "source": [
    "#### 5. (Optional, mini bonus) Is the algorithm of question 3 optimal? If you belive it, can you prove it? If not, can you find a faster algorithm? In case you found a faster algorithm implement it and explain your algorithm in detail."
   ]
  },
  {
   "cell_type": "markdown",
   "metadata": {},
   "source": [
    "##### As we could see in the previous implementations, when the ribbon is cut into pieces of 3, we are going to get the largest multiplication number.\n",
    "\n",
    "##### For example: N = 15\n",
    "\n",
    "$$ \\frac{15}{3} = 5 $$\n",
    "\n",
    "##### Therefore, we have to do:\n",
    "\n",
    "$$ 3^{5} $$\n",
    "\n",
    "##### to get the largest product.\n",
    "\n",
    "##### The problem is when N is not divisible by 3. So the last part of the ribbon must be left at 2 or 4. Therefore, the operation \"N = N-3\" is performed to cut the ribbon in 3 and the piece (initialized in 1) is multiplied by 3.\n",
    "##### As N is greater, and can be divided into 3, piece = piece * 3 will carry out the multiplication of the pieces of len 3 that are cut."
   ]
  },
  {
   "cell_type": "code",
   "execution_count": 73,
   "metadata": {},
   "outputs": [
    {
     "data": {
      "text/plain": [
       "59049"
      ]
     },
     "execution_count": 73,
     "metadata": {},
     "output_type": "execute_result"
    }
   ],
   "source": [
    "def ribbon_pieces__(N):\n",
    "\n",
    "    piece = 1\n",
    "\n",
    "    if (N <= 1):\n",
    "        return 0\n",
    "    \n",
    "    if (N == 2):\n",
    "        return 1\n",
    "     \n",
    "    if (N == 3):\n",
    "        return 2\n",
    "  \n",
    "    while (N > 4):\n",
    "        \n",
    "        N = N - 3\n",
    "        \n",
    "        piece = piece * 3\n",
    "        \n",
    "     \n",
    "    return (N * piece)\n",
    " \n",
    "N= int(input().strip())\n",
    "\n",
    "ribbon_pieces__(N)\n",
    "     "
   ]
  }
 ],
 "metadata": {
  "kernelspec": {
   "display_name": "Python 3.9.12 ('base')",
   "language": "python",
   "name": "python3"
  },
  "language_info": {
   "codemirror_mode": {
    "name": "ipython",
    "version": 3
   },
   "file_extension": ".py",
   "mimetype": "text/x-python",
   "name": "python",
   "nbconvert_exporter": "python",
   "pygments_lexer": "ipython3",
   "version": "3.9.12"
  },
  "orig_nbformat": 4,
  "vscode": {
   "interpreter": {
    "hash": "167eec726b819e0c6a70093e6eca930a95ad1db30271bf8923599164b221a31b"
   }
  }
 },
 "nbformat": 4,
 "nbformat_minor": 2
}
