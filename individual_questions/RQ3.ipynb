{
 "cells": [
  {
   "cell_type": "markdown",
   "id": "34d535df-55c6-49a9-a47e-3e948763b35d",
   "metadata": {},
   "source": [
    "# RQ3\n",
    "\n",
    "**1. What is the most common time in which users publish their posts?**\n",
    "\n",
    "\n",
    "**2. Create a function that receives a time intervals list as a parameter and returns a plot with the number of posts for each given interval.**\n",
    "\n",
    "\n",
    "**3. Use the function that you created in the previous literal to plot the number of posts between the following time intervals:**\n",
    "\n",
    "\n",
    "||Initial Time|Final Time|\n",
    "|---|---|---|\n",
    "| 1 | 06:00:00 | 10:59:59 |\n",
    "| 2 | 11:00:00 |  13:59:59|\n",
    "| 3 | 14:00:00 |  16:59:59|\n",
    "| 4 | 17:00:00 |  19:59:59|\n",
    "| 5 | 20:00:00 | 23:59:59|\n",
    "| 6 | 00:00:00 | 02:59:59|\n",
    "| 7 | 03:00:00 | 05:59:59|\n",
    "|...|||"
   ]
  },
  {
   "cell_type": "markdown",
   "id": "f393bbaf-5f42-4e65-bd36-6747ed8ca7b7",
   "metadata": {},
   "source": [
    "# 3.1 "
   ]
  },
  {
   "cell_type": "code",
   "execution_count": 1,
   "id": "f7d9c62e-5df2-4175-ac44-062fb47230cb",
   "metadata": {},
   "outputs": [],
   "source": [
    "import pandas as pd"
   ]
  },
  {
   "cell_type": "code",
   "execution_count": 2,
   "id": "1516163d-e7f8-4a2a-8147-39fd81d82b5f",
   "metadata": {},
   "outputs": [],
   "source": [
    "posts =  pd.read_csv(\"C:/Users/Winuser/Desktop/ADM_HW2/instagram_posts.zip\",delimiter=\"\\t\",usecols=[\"post_id\", \"cts\"])#Increase up to len of dataframe"
   ]
  },
  {
   "cell_type": "markdown",
   "id": "25bac7b8-124c-4f2e-90d4-a47e40d1921b",
   "metadata": {},
   "source": [
    "**Body of 3.1**"
   ]
  },
  {
   "cell_type": "code",
   "execution_count": 5,
   "id": "2bf5ad27-040d-4805-a940-d6bb6a42ccae",
   "metadata": {},
   "outputs": [
    {
     "data": {
      "text/html": [
       "<div>\n",
       "<style scoped>\n",
       "    .dataframe tbody tr th:only-of-type {\n",
       "        vertical-align: middle;\n",
       "    }\n",
       "\n",
       "    .dataframe tbody tr th {\n",
       "        vertical-align: top;\n",
       "    }\n",
       "\n",
       "    .dataframe thead th {\n",
       "        text-align: right;\n",
       "    }\n",
       "</style>\n",
       "<table border=\"1\" class=\"dataframe\">\n",
       "  <thead>\n",
       "    <tr style=\"text-align: right;\">\n",
       "      <th></th>\n",
       "      <th>post_id</th>\n",
       "      <th>cts</th>\n",
       "    </tr>\n",
       "  </thead>\n",
       "  <tbody>\n",
       "    <tr>\n",
       "      <th>0</th>\n",
       "      <td>BXdjjUlgcgq</td>\n",
       "      <td>2017-08-06 20:06:57.000</td>\n",
       "    </tr>\n",
       "    <tr>\n",
       "      <th>1</th>\n",
       "      <td>BVg0pbolYBC</td>\n",
       "      <td>2017-06-19 09:31:16.000</td>\n",
       "    </tr>\n",
       "    <tr>\n",
       "      <th>2</th>\n",
       "      <td>BRgkjcXFp3Q</td>\n",
       "      <td>2017-03-11 20:05:03.000</td>\n",
       "    </tr>\n",
       "    <tr>\n",
       "      <th>3</th>\n",
       "      <td>BKTKeNhjEA7</td>\n",
       "      <td>2016-09-13 16:27:16.000</td>\n",
       "    </tr>\n",
       "    <tr>\n",
       "      <th>4</th>\n",
       "      <td>8-NQrvoYLX</td>\n",
       "      <td>2015-10-18 10:19:27.000</td>\n",
       "    </tr>\n",
       "    <tr>\n",
       "      <th>...</th>\n",
       "      <td>...</td>\n",
       "      <td>...</td>\n",
       "    </tr>\n",
       "    <tr>\n",
       "      <th>42710192</th>\n",
       "      <td>BcpWMWGBfxh</td>\n",
       "      <td>2017-12-13 15:38:04.000</td>\n",
       "    </tr>\n",
       "    <tr>\n",
       "      <th>42710193</th>\n",
       "      <td>Ba6LZWwlCl8</td>\n",
       "      <td>2017-10-31 11:28:01.000</td>\n",
       "    </tr>\n",
       "    <tr>\n",
       "      <th>42710194</th>\n",
       "      <td>BPN0kM1hYUw</td>\n",
       "      <td>2017-01-13 20:16:37.000</td>\n",
       "    </tr>\n",
       "    <tr>\n",
       "      <th>42710195</th>\n",
       "      <td>BxsZ8nDBr-L</td>\n",
       "      <td>2019-05-20 20:07:52.000</td>\n",
       "    </tr>\n",
       "    <tr>\n",
       "      <th>42710196</th>\n",
       "      <td>BgNJ4EzHQwQ</td>\n",
       "      <td>2018-03-12 02:57:17.000</td>\n",
       "    </tr>\n",
       "  </tbody>\n",
       "</table>\n",
       "<p>42706865 rows × 2 columns</p>\n",
       "</div>"
      ],
      "text/plain": [
       "              post_id                      cts\n",
       "0         BXdjjUlgcgq  2017-08-06 20:06:57.000\n",
       "1         BVg0pbolYBC  2017-06-19 09:31:16.000\n",
       "2         BRgkjcXFp3Q  2017-03-11 20:05:03.000\n",
       "3         BKTKeNhjEA7  2016-09-13 16:27:16.000\n",
       "4          8-NQrvoYLX  2015-10-18 10:19:27.000\n",
       "...               ...                      ...\n",
       "42710192  BcpWMWGBfxh  2017-12-13 15:38:04.000\n",
       "42710193  Ba6LZWwlCl8  2017-10-31 11:28:01.000\n",
       "42710194  BPN0kM1hYUw  2017-01-13 20:16:37.000\n",
       "42710195  BxsZ8nDBr-L  2019-05-20 20:07:52.000\n",
       "42710196  BgNJ4EzHQwQ  2018-03-12 02:57:17.000\n",
       "\n",
       "[42706865 rows x 2 columns]"
      ]
     },
     "execution_count": 5,
     "metadata": {},
     "output_type": "execute_result"
    }
   ],
   "source": [
    "posts.isna().sum()\n",
    "posts.dropna()"
   ]
  },
  {
   "cell_type": "markdown",
   "id": "3481fc93-4af8-4d99-87d3-64bc160644b8",
   "metadata": {},
   "source": [
    "**Convert to datetime and keeping only the hour:minute:second**"
   ]
  },
  {
   "cell_type": "code",
   "execution_count": 6,
   "id": "171b600d-3e5d-412f-b1a7-c2d84ee814f5",
   "metadata": {},
   "outputs": [],
   "source": [
    "posts['cts'] = pd.to_datetime(posts.cts).dt.time"
   ]
  },
  {
   "cell_type": "markdown",
   "id": "045f358e-49f3-4d4a-9076-1e7c51e5999c",
   "metadata": {},
   "source": [
    "**STEP 1: Selecting only cts and post_id columns**\n",
    "\n",
    "\n",
    "**STEP 2: Counting each row grouped by cts**"
   ]
  },
  {
   "cell_type": "code",
   "execution_count": 7,
   "id": "fe4cc420-c4a5-4c5d-897a-953773bdb22c",
   "metadata": {},
   "outputs": [],
   "source": [
    "counter = posts.groupby('cts').post_id.count()"
   ]
  },
  {
   "cell_type": "code",
   "execution_count": 8,
   "id": "5242db38-5d33-47fc-ab72-1595d91ed23d",
   "metadata": {},
   "outputs": [
    {
     "data": {
      "text/plain": [
       "cts\n",
       "00:00:00    470\n",
       "00:00:01    570\n",
       "00:00:02    538\n",
       "00:00:03    555\n",
       "00:00:04    565\n",
       "           ... \n",
       "23:59:55    496\n",
       "23:59:56    487\n",
       "23:59:57    488\n",
       "23:59:58    469\n",
       "23:59:59    491\n",
       "Name: post_id, Length: 86400, dtype: int64"
      ]
     },
     "execution_count": 8,
     "metadata": {},
     "output_type": "execute_result"
    }
   ],
   "source": [
    "counter"
   ]
  },
  {
   "cell_type": "markdown",
   "id": "cb043a8d-5a58-49d3-8893-e47eb166fdbf",
   "metadata": {},
   "source": [
    "**Calculating Maximum count of post**"
   ]
  },
  {
   "cell_type": "code",
   "execution_count": 9,
   "id": "27d0fda3-9f97-4699-a44e-561cbbb51d53",
   "metadata": {},
   "outputs": [
    {
     "name": "stdout",
     "output_type": "stream",
     "text": [
      "928\n"
     ]
    }
   ],
   "source": [
    "maximum  = max(counter)\n",
    "print(maximum)\n",
    "result =  counter[counter == maximum]\n"
   ]
  },
  {
   "cell_type": "markdown",
   "id": "b8159e2e-356a-4c01-9476-0415a23b095c",
   "metadata": {},
   "source": [
    "**Returning the cts value corresponding to the maximum**"
   ]
  },
  {
   "cell_type": "code",
   "execution_count": 10,
   "id": "dde1cfcf-7c15-4cf4-bd24-60f8dbc3ff53",
   "metadata": {},
   "outputs": [
    {
     "name": "stdout",
     "output_type": "stream",
     "text": [
      "The most common time in which users publish their posts is: \n"
     ]
    },
    {
     "data": {
      "text/plain": [
       "'21:00:09'"
      ]
     },
     "execution_count": 10,
     "metadata": {},
     "output_type": "execute_result"
    }
   ],
   "source": [
    "output  = str(result).replace(\"\\n\",\" \")\n",
    "\n",
    "output  = output[4:12]\n",
    "print(\"The most common time in which users publish their posts is: \")\n",
    "output"
   ]
  },
  {
   "cell_type": "markdown",
   "id": "5daac19c-7d1f-4482-90ed-c8bc8eb5d535",
   "metadata": {},
   "source": [
    "# 3.2"
   ]
  },
  {
   "cell_type": "code",
   "execution_count": 11,
   "id": "441112d7-ca53-4e75-8fe3-27b38a2bf5a5",
   "metadata": {},
   "outputs": [],
   "source": [
    "from collections import defaultdict\n",
    "import matplotlib.pyplot as plt\n",
    "from datetime import datetime"
   ]
  },
  {
   "cell_type": "markdown",
   "id": "b9c1c930-4605-4de4-9382-8423fb665895",
   "metadata": {},
   "source": [
    "**time_interval(time_list,posts) takes as input a list of time intervals = time_list which its elements is a list of two datetime.time object. This two datetime.time objects delimit the interval.\n",
    "The second input is the posts_dataframe.\n",
    "Please use posts_cts_manager to cast every entries in posts_dataframe['cts'] column in the right object type(datatime.time)**"
   ]
  },
  {
   "cell_type": "code",
   "execution_count": 24,
   "id": "c636d8ef-1fdd-4ccf-91ba-cc1d1e0dbd9d",
   "metadata": {},
   "outputs": [],
   "source": [
    "def posts_cts_manager(post_dataframe):\n",
    "    posts_dataframe['cts'] = pd.to_datetime(posts_dataframe.cts).dt.time\n",
    "\n",
    "def time_interval(time_list,posts):\n",
    "    counter  = defaultdict()\n",
    "    for time in time_list:\n",
    "        interval = time[0].strftime(\"%H:%M:%S\")+\" \"+time[1].strftime(\"%H:%M:%S\")\n",
    "        counter[interval] = 0\n",
    "        for date in posts['cts']:\n",
    "            if( type(time[0])== type(date) and time[0]<= date and time[1]>=date):\n",
    "                counter[interval] += 1\n",
    "    plt.figure(figsize=(10,10))\n",
    "    hist  = plt.bar(range(len(list(counter.keys()))), counter.values(), color='g',width=.3)\n",
    "    i= 0\n",
    "    for key in counter.keys():\n",
    "        print( \"Interval \"+str(i)+\" = \"+key)\n",
    "        i+=1\n",
    "    return hist"
   ]
  },
  {
   "cell_type": "markdown",
   "id": "26dd95c5-76ef-4f51-9738-f6dc103f03da",
   "metadata": {},
   "source": [
    "# 3.3"
   ]
  },
  {
   "cell_type": "markdown",
   "id": "96214566-e8ab-41f7-ba10-46638e0f5ff3",
   "metadata": {},
   "source": [
    "\n",
    "**The code counts the number of posts published in each time interval given as input and plots the frequencies\n",
    "in a histogram**\n",
    "\n",
    "**The code calls time_interval function written above**\n"
   ]
  },
  {
   "cell_type": "code",
   "execution_count": 26,
   "id": "19b57098-d82f-4865-833f-02ab6e9b2979",
   "metadata": {},
   "outputs": [
    {
     "name": "stdout",
     "output_type": "stream",
     "text": [
      "Interval 0 = 06:00:00 10:59:59\n",
      "Interval 1 = 11:00:00 13:59:59\n",
      "Interval 2 = 14:00:00 16:59:59\n",
      "Interval 3 = 17:00:00 19:59:59\n",
      "Interval 4 = 20:00:00 23:59:59\n",
      "Interval 5 = 00:00:00 02:59:59\n",
      "Interval 6 = 03:00:00 05:59:59\n"
     ]
    },
    {
     "data": {
      "image/png": "[encoded data removed]",
      "text/plain": [
       "<Figure size 720x720 with 1 Axes>"
      ]
     },
     "metadata": {
      "needs_background": "light"
     },
     "output_type": "display_data"
    }
   ],
   "source": [
    "input_t = [['06:00:00','10:59:59'],['11:00:00','13:59:59'],['14:00:00','16:59:59'],['17:00:00', '19:59:59'],['20:00:00','23:59:59'],['00:00:00','02:59:59'],['03:00:00','05:59:59']]\n",
    "time_list = []\n",
    "for interval in input_t:\n",
    "    row  = []\n",
    "    row.append(datetime.strptime(interval[0], '%H:%M:%S').time())\n",
    "    row.append(datetime.strptime(interval[1],'%H:%M:%S').time())\n",
    "    time_list.append(row)\n",
    "time_interval(time_list,posts)\n",
    "plt.title(\"Number of post publications for each time interval\")\n",
    "plt.ylabel(\"Number of publications n*10^6\")\n",
    "plt.xlabel(\"I-th time interval i= [0-6]\")\n",
    "plt.show()"
   ]
  },
  {
   "cell_type": "markdown",
   "id": "a48b40c4",
   "metadata": {},
   "source": [
    "**Users have the tendency to post more in the time interval between 20-00 than in every other time interval we gave as input to the make the plot. Also the most common time in which users publish a post falls inside the time interval with the most publications.**\n",
    "\n",
    "**In fact there are more that 8 million publications in the time between 20-00.**"
   ]
  }
 ],
 "metadata": {
  "kernelspec": {
   "display_name": "Python 3.9.12 ('base')",
   "language": "python",
   "name": "python3"
  },
  "language_info": {
   "codemirror_mode": {
    "name": "ipython",
    "version": 3
   },
   "file_extension": ".py",
   "mimetype": "text/x-python",
   "name": "python",
   "nbconvert_exporter": "python",
   "pygments_lexer": "ipython3",
   "version": "3.9.12"
  },
  "vscode": {
   "interpreter": {
    "hash": "1fe61594923d2a5d982534718f3a44d80d54aa84bc222edb79bd8e8f2cce8cae"
   }
  }
 },
 "nbformat": 4,
 "nbformat_minor": 5
}
