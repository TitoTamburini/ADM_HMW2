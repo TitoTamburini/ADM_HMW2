{
 "cells": [
  {
   "cell_type": "markdown",
   "id": "34d535df-55c6-49a9-a47e-3e948763b35d",
   "metadata": {},
   "source": [
    "# RQ3\n",
    "\n",
    "**1. What is the most common time in which users publish their posts?**\n",
    "\n",
    "\n",
    "**2. Create a function that receives a time intervals list as a parameter and returns a plot with the number of posts for each given interval.**\n",
    "\n",
    "\n",
    "**3. Use the function that you created in the previous literal to plot the number of posts between the following time intervals:**\n",
    "\n",
    "\n",
    "||Initial Time|Final Time|\n",
    "|---|---|---|\n",
    "| 1 | 06:00:00 | 10:59:59 |\n",
    "| 2 | 11:00:00 |  13:59:59|\n",
    "| 3 | 14:00:00 |  16:59:59|\n",
    "| 4 | 17:00:00 |  19:59:59|\n",
    "| 5 | 20:00:00 | 23:59:59|\n",
    "| 6 | 00:00:00 | 02:59:59|\n",
    "| 7 | 03:00:00 | 05:59:59|\n",
    "|...|||"
   ]
  },
  {
   "cell_type": "markdown",
   "id": "f393bbaf-5f42-4e65-bd36-6747ed8ca7b7",
   "metadata": {},
   "source": [
    "# 3.1 "
   ]
  },
  {
   "cell_type": "code",
   "execution_count": 5,
   "id": "f7d9c62e-5df2-4175-ac44-062fb47230cb",
   "metadata": {},
   "outputs": [],
   "source": [
    "import pandas as pd"
   ]
  },
  {
   "cell_type": "code",
   "execution_count": 6,
   "id": "1516163d-e7f8-4a2a-8147-39fd81d82b5f",
   "metadata": {},
   "outputs": [],
   "source": [
    "posts =  pd.read_csv(\"~/instagram_posts.zip\",delimiter=\"\\t\",nrows=1000000)#Increase up to len of dataframe"
   ]
  },
  {
   "cell_type": "markdown",
   "id": "25bac7b8-124c-4f2e-90d4-a47e40d1921b",
   "metadata": {},
   "source": [
    "**Body of 3.1**"
   ]
  },
  {
   "cell_type": "code",
   "execution_count": 7,
   "id": "2bf5ad27-040d-4805-a940-d6bb6a42ccae",
   "metadata": {},
   "outputs": [
    {
     "data": {
      "text/plain": [
       "0         2017-08-06 20:06:57.000\n",
       "1         2017-06-19 09:31:16.000\n",
       "2         2017-03-11 20:05:03.000\n",
       "3         2016-09-13 16:27:16.000\n",
       "4         2015-10-18 10:19:27.000\n",
       "                   ...           \n",
       "999995    2019-05-29 19:44:40.000\n",
       "999996    2018-11-01 23:19:05.000\n",
       "999997    2018-10-07 21:19:42.000\n",
       "999998    2018-09-29 16:55:38.000\n",
       "999999    2018-02-09 19:10:59.000\n",
       "Name: cts, Length: 1000000, dtype: object"
      ]
     },
     "execution_count": 7,
     "metadata": {},
     "output_type": "execute_result"
    }
   ],
   "source": [
    "posts.isna().sum()\n",
    "posts.cts.fillna(\"\")"
   ]
  },
  {
   "cell_type": "markdown",
   "id": "3481fc93-4af8-4d99-87d3-64bc160644b8",
   "metadata": {},
   "source": [
    "**Convert to datetime and keeping only the hour:minute:second**"
   ]
  },
  {
   "cell_type": "code",
   "execution_count": 8,
   "id": "171b600d-3e5d-412f-b1a7-c2d84ee814f5",
   "metadata": {},
   "outputs": [],
   "source": [
    "posts['cts'] = pd.to_datetime(posts.cts).dt.time\n"
   ]
  },
  {
   "cell_type": "markdown",
   "id": "045f358e-49f3-4d4a-9076-1e7c51e5999c",
   "metadata": {},
   "source": [
    "**STEP 1: Selecting only cts and post_id columns**\n",
    "\n",
    "\n",
    "**STEP 2: Counting each row grouped by cts**"
   ]
  },
  {
   "cell_type": "code",
   "execution_count": 9,
   "id": "fe4cc420-c4a5-4c5d-897a-953773bdb22c",
   "metadata": {},
   "outputs": [],
   "source": [
    "\n",
    "counter  =  posts[['cts','post_id']]\n",
    "counter = posts.groupby('cts').post_id.count()"
   ]
  },
  {
   "cell_type": "code",
   "execution_count": 10,
   "id": "5242db38-5d33-47fc-ab72-1595d91ed23d",
   "metadata": {},
   "outputs": [
    {
     "data": {
      "text/plain": [
       "cts\n",
       "00:00:00     9\n",
       "00:00:01    12\n",
       "00:00:02    15\n",
       "00:00:03    11\n",
       "00:00:04     9\n",
       "            ..\n",
       "23:59:55    11\n",
       "23:59:56    17\n",
       "23:59:57     8\n",
       "23:59:58     7\n",
       "23:59:59    11\n",
       "Name: post_id, Length: 86378, dtype: int64"
      ]
     },
     "execution_count": 10,
     "metadata": {},
     "output_type": "execute_result"
    }
   ],
   "source": [
    "counter"
   ]
  },
  {
   "cell_type": "markdown",
   "id": "cb043a8d-5a58-49d3-8893-e47eb166fdbf",
   "metadata": {},
   "source": [
    "**Calculating Maximum count of post**"
   ]
  },
  {
   "cell_type": "code",
   "execution_count": 11,
   "id": "27d0fda3-9f97-4699-a44e-561cbbb51d53",
   "metadata": {},
   "outputs": [
    {
     "name": "stdout",
     "output_type": "stream",
     "text": [
      "37\n"
     ]
    }
   ],
   "source": [
    "maximum  = max(counter)\n",
    "print(maximum)\n",
    "result =  counter[counter == maximum]\n"
   ]
  },
  {
   "cell_type": "markdown",
   "id": "b8159e2e-356a-4c01-9476-0415a23b095c",
   "metadata": {},
   "source": [
    "**Returning the cts value corresponding to the maximum**"
   ]
  },
  {
   "cell_type": "code",
   "execution_count": 12,
   "id": "dde1cfcf-7c15-4cf4-bd24-60f8dbc3ff53",
   "metadata": {},
   "outputs": [
    {
     "name": "stdout",
     "output_type": "stream",
     "text": [
      "The most common time in which users publish their posts is: \n"
     ]
    },
    {
     "data": {
      "text/plain": [
       "'19:05:33'"
      ]
     },
     "execution_count": 12,
     "metadata": {},
     "output_type": "execute_result"
    }
   ],
   "source": [
    "output  = str(result).replace(\"\\n\",\" \")\n",
    "\n",
    "output  = output[4:12]\n",
    "print(\"The most common time in which users publish their posts is: \")\n",
    "output"
   ]
  },
  {
   "cell_type": "markdown",
   "id": "5daac19c-7d1f-4482-90ed-c8bc8eb5d535",
   "metadata": {},
   "source": [
    "# 3.2"
   ]
  },
  {
   "cell_type": "code",
   "execution_count": 22,
   "id": "441112d7-ca53-4e75-8fe3-27b38a2bf5a5",
   "metadata": {},
   "outputs": [],
   "source": [
    "from collections import defaultdict\n",
    "import matplotlib.pyplot as plt\n",
    "from datetime import datetime"
   ]
  },
  {
   "cell_type": "markdown",
   "id": "b9c1c930-4605-4de4-9382-8423fb665895",
   "metadata": {},
   "source": [
    "**time_interval(time_list,posts) takes as input a list of time intervals = time_list which its elements is a list of two datetime.time object. This two datetime.time objects delimit the interval.\n",
    "The second input is the posts_dataframe.\n",
    "Please use posts_cts_manager to cast every entries in posts_dataframe['cts'] column in the right object type(datatime.time)"
   ]
  },
  {
   "cell_type": "code",
   "execution_count": 45,
   "id": "c636d8ef-1fdd-4ccf-91ba-cc1d1e0dbd9d",
   "metadata": {},
   "outputs": [],
   "source": [
    "def posts_cts_manager(post_dataframe):\n",
    "    posts_dataframe['cts'] = pd.to_datetime(posts_dataframe.cts).dt.time\n",
    "\n",
    "def time_interval(time_list,posts):\n",
    "    counter  = defaultdict()\n",
    "    for time in time_list:\n",
    "        interval = time[0].strftime(\"%H:%M:%S\")+\" \"+time[1].strftime(\"%H:%M:%S\")\n",
    "        counter[interval] = 0\n",
    "        for date in posts['cts']:\n",
    "            if(time[0]<= date and time[1]>=date):\n",
    "                counter[interval] += 1\n",
    "    hist  = plt.bar(range(len(list(counter.keys()))), counter.values(), color='g')\n",
    "    print(\"Histogram with the quantity of post publications for each interval given as input:\")\n",
    "    i= 0\n",
    "    for key in counter.keys():\n",
    "        print( \"Interval \"+str(i)+\" = \"+key)\n",
    "        i+=1\n",
    "    return hist"
   ]
  },
  {
   "cell_type": "markdown",
   "id": "26dd95c5-76ef-4f51-9738-f6dc103f03da",
   "metadata": {},
   "source": [
    "# 3.3"
   ]
  },
  {
   "cell_type": "markdown",
   "id": "96214566-e8ab-41f7-ba10-46638e0f5ff3",
   "metadata": {},
   "source": [
    "**The following code checks if the user wants to use a custom input**\n",
    "\n",
    "**If the user digits any char different from 1 the code will execute with default input**\n",
    "\n",
    "**The code counts the number of posts published in each time interval given as input and plots the frequencies\n",
    "in a histogram**\n",
    "\n",
    "**The code calls time_interval function written above**\n"
   ]
  },
  {
   "cell_type": "code",
   "execution_count": 50,
   "id": "19b57098-d82f-4865-833f-02ab6e9b2979",
   "metadata": {},
   "outputs": [
    {
     "name": "stdout",
     "output_type": "stream",
     "text": [
      "Digit 1 to insert custom input, other char will execute code with default\n"
     ]
    },
    {
     "name": "stdin",
     "output_type": "stream",
     "text": [
      " 0\n"
     ]
    },
    {
     "name": "stdout",
     "output_type": "stream",
     "text": [
      "\n",
      "\n",
      "Histogram with the quantity of post publications for each interval given as input:\n",
      "Interval 0 = 06:00:00 10:59:59\n",
      "Interval 1 = 11:00:00 13:59:59\n",
      "Interval 2 = 14:00:00 16:59:59\n",
      "Interval 3 = 17:00:00 19:59:59\n",
      "Interval 4 = 20:00:00 23:59:59\n",
      "Interval 5 = 00:00:00 02:59:59\n",
      "Interval 6 = 03:00:00 05:59:59\n"
     ]
    },
    {
     "data": {
      "image/png": "[encoded data removed]",
      "text/plain": [
       "<Figure size 432x288 with 1 Axes>"
      ]
     },
     "metadata": {
      "needs_background": "light"
     },
     "output_type": "display_data"
    }
   ],
   "source": [
    "print(\"Digit 1 to insert custom input, other char will execute code with default\")\n",
    "if(input() ==  str(1)):\n",
    "    print(\"\\n\")\n",
    "    input_t = [] \n",
    "    print(\"Write number of intervals:\")\n",
    "    n = int(input())\n",
    "    print(\"Insert \"+str(n)+\" time intervals: (example: 06:00:00 10:59:59)\")\n",
    "    for i in range(n):\n",
    "        print(\"Interval #\",i)\n",
    "        input_t.append(list(input().split()))\n",
    "else:\n",
    "    print(\"\\n\")\n",
    "    input_t = [['06:00:00','10:59:59'],['11:00:00','13:59:59'],['14:00:00','16:59:59'],['17:00:00', '19:59:59'],['20:00:00','23:59:59'],['00:00:00','02:59:59'],['03:00:00','05:59:59']]\n",
    "time_list = []\n",
    "for interval in input_t:\n",
    "    row  = []\n",
    "    row.append(datetime.strptime(interval[0], '%H:%M:%S').time())\n",
    "    row.append(datetime.strptime(interval[1],'%H:%M:%S').time())\n",
    "    time_list.append(row)\n",
    "time_interval(time_list,posts)\n",
    "plt.show()"
   ]
  },
  {
   "cell_type": "code",
   "execution_count": null,
   "id": "d920a486-8d63-4711-b486-9370f7f6ab4c",
   "metadata": {},
   "outputs": [],
   "source": []
  }
 ],
 "metadata": {
  "kernelspec": {
   "display_name": "conda_python3",
   "language": "python",
   "name": "conda_python3"
  },
  "language_info": {
   "codemirror_mode": {
    "name": "ipython",
    "version": 3
   },
   "file_extension": ".py",
   "mimetype": "text/x-python",
   "name": "python",
   "nbconvert_exporter": "python",
   "pygments_lexer": "ipython3",
   "version": "3.8.12"
  }
 },
 "nbformat": 4,
 "nbformat_minor": 5
}
