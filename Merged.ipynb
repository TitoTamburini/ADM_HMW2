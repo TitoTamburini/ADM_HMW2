{
 "cells": [
  {
   "cell_type": "markdown",
   "metadata": {},
   "source": [
    "## RQ 2"
   ]
  },
  {
   "cell_type": "markdown",
   "metadata": {},
   "source": [
    "####  Let's explore the dataset by finding simple insights regarding the profile and posts"
   ]
  },
  {
   "cell_type": "markdown",
   "metadata": {},
   "source": [
    "#### 2.1 Plot the number of posts for each profile in descending order."
   ]
  },
  {
   "cell_type": "markdown",
   "metadata": {},
   "source": [
    "##### The Pandas import is performed and the Profiles csv is saved in Parquet"
   ]
  },
  {
   "cell_type": "code",
   "execution_count": null,
   "metadata": {},
   "outputs": [
    {
     "name": "stdout",
     "output_type": "stream",
     "text": [
      "Requirement already satisfied: pyarrow in /Users/mariaalejandrapenaortiz/opt/anaconda3/lib/python3.9/site-packages (9.0.0)\n",
      "Requirement already satisfied: numpy>=1.16.6 in /Users/mariaalejandrapenaortiz/opt/anaconda3/lib/python3.9/site-packages (from pyarrow) (1.21.5)\n",
      "\n",
      "\u001b[1m[\u001b[0m\u001b[34;49mnotice\u001b[0m\u001b[1;39;49m]\u001b[0m\u001b[39;49m A new release of pip available: \u001b[0m\u001b[31;49m22.2.2\u001b[0m\u001b[39;49m -> \u001b[0m\u001b[32;49m22.3\u001b[0m\n",
      "\u001b[1m[\u001b[0m\u001b[34;49mnotice\u001b[0m\u001b[1;39;49m]\u001b[0m\u001b[39;49m To update, run: \u001b[0m\u001b[32;49mpip install --upgrade pip\u001b[0m\n"
     ]
    },
    {
     "data": {
      "text/html": [
       "<div>\n",
       "<style scoped>\n",
       "    .dataframe tbody tr th:only-of-type {\n",
       "        vertical-align: middle;\n",
       "    }\n",
       "\n",
       "    .dataframe tbody tr th {\n",
       "        vertical-align: top;\n",
       "    }\n",
       "\n",
       "    .dataframe thead th {\n",
       "        text-align: right;\n",
       "    }\n",
       "</style>\n",
       "<table border=\"1\" class=\"dataframe\">\n",
       "  <thead>\n",
       "    <tr style=\"text-align: right;\">\n",
       "      <th></th>\n",
       "      <th>sid</th>\n",
       "      <th>profile_id</th>\n",
       "      <th>profile_name</th>\n",
       "      <th>firstname_lastname</th>\n",
       "      <th>description</th>\n",
       "      <th>following</th>\n",
       "      <th>followers</th>\n",
       "      <th>n_posts</th>\n",
       "      <th>url</th>\n",
       "      <th>cts</th>\n",
       "      <th>is_business_account</th>\n",
       "    </tr>\n",
       "  </thead>\n",
       "  <tbody>\n",
       "    <tr>\n",
       "      <th>0</th>\n",
       "      <td>4184446</td>\n",
       "      <td>4.721050e+09</td>\n",
       "      <td>jphillip033</td>\n",
       "      <td>John Pierce</td>\n",
       "      <td>\"Document Everything Always\"</td>\n",
       "      <td>250.0</td>\n",
       "      <td>146.0</td>\n",
       "      <td>170.0</td>\n",
       "      <td>NaN</td>\n",
       "      <td>2019-08-01 14:38:55.394 -0400</td>\n",
       "      <td>False</td>\n",
       "    </tr>\n",
       "    <tr>\n",
       "      <th>1</th>\n",
       "      <td>4184457</td>\n",
       "      <td>5.905830e+08</td>\n",
       "      <td>mama_haas</td>\n",
       "      <td>Deanna</td>\n",
       "      <td>Trying to enjoy the simple things in life. Kni...</td>\n",
       "      <td>534.0</td>\n",
       "      <td>1145.0</td>\n",
       "      <td>2878.0</td>\n",
       "      <td>www.etsy.com/shop/MamaHaas69</td>\n",
       "      <td>2019-08-01 14:39:36.526 -0400</td>\n",
       "      <td>False</td>\n",
       "    </tr>\n",
       "  </tbody>\n",
       "</table>\n",
       "</div>"
      ],
      "text/plain": [
       "       sid    profile_id profile_name firstname_lastname  \\\n",
       "0  4184446  4.721050e+09  jphillip033        John Pierce   \n",
       "1  4184457  5.905830e+08    mama_haas             Deanna   \n",
       "\n",
       "                                         description  following  followers  \\\n",
       "0                       \"Document Everything Always\"      250.0      146.0   \n",
       "1  Trying to enjoy the simple things in life. Kni...      534.0     1145.0   \n",
       "\n",
       "   n_posts                           url                            cts  \\\n",
       "0    170.0                           NaN  2019-08-01 14:38:55.394 -0400   \n",
       "1   2878.0  www.etsy.com/shop/MamaHaas69  2019-08-01 14:39:36.526 -0400   \n",
       "\n",
       "  is_business_account  \n",
       "0               False  \n",
       "1               False  "
      ]
     },
     "metadata": {},
     "output_type": "display_data"
    }
   ],
   "source": [
    "import pandas as pd\n",
    "\n",
    "profiles_df = pd.read_csv('instagram_profiles.zip', delimiter='\\t')\n",
    "\n",
    "!pip install pyarrow\n",
    "\n",
    "profiles_df.to_parquet('profiles_df.parquet.snappy')\n",
    "\n",
    "profiles_df.head(2)"
   ]
  },
  {
   "cell_type": "markdown",
   "metadata": {},
   "source": [
    "##### Order from highest to lowest with respect to number of posts"
   ]
  },
  {
   "cell_type": "code",
   "execution_count": null,
   "metadata": {},
   "outputs": [],
   "source": [
    "profiles_df.sort_values(by='n_posts', ascending=False, inplace=True)"
   ]
  },
  {
   "cell_type": "markdown",
   "metadata": {},
   "source": [
    "##### Drop NaN values in n_posts column"
   ]
  },
  {
   "cell_type": "code",
   "execution_count": null,
   "metadata": {},
   "outputs": [],
   "source": [
    "profiles_df = profiles_df[profiles_df[\"n_posts\"].notna()]"
   ]
  },
  {
   "cell_type": "markdown",
   "metadata": {},
   "source": [
    "##### Drop n_posts that are equal to 0"
   ]
  },
  {
   "cell_type": "code",
   "execution_count": null,
   "metadata": {},
   "outputs": [],
   "source": [
    "profiles_df_without_0 = profiles_df.loc[profiles_df[\"n_posts\"] != 0]"
   ]
  },
  {
   "cell_type": "code",
   "execution_count": null,
   "metadata": {},
   "outputs": [],
   "source": [
    "profiles_df_without_0_filtered = profiles_df_without_0[['profile_name','n_posts']]"
   ]
  },
  {
   "cell_type": "markdown",
   "metadata": {},
   "source": [
    "##### The DataFrame was transformed to Numpy to be able to plot it."
   ]
  },
  {
   "cell_type": "code",
   "execution_count": null,
   "metadata": {},
   "outputs": [],
   "source": [
    "profiles_df_without_0_filtered_array = profiles_df_without_0_filtered.to_numpy()"
   ]
  },
  {
   "cell_type": "markdown",
   "metadata": {},
   "source": [
    "##### Because the DataFrame to be plotted is quite large, LensPy DynamicPlot was used. \"LensPy extends Plotly's Dash to allow you to plot very large datasets (millions of points) while ensuring that figures are still fast, fluid, and responsive\" https://pypi.org/project/lenspy/\n",
    "\n",
    "##### LensPy can build dynamic figures of very large datasets without overwhelming the browser when viewing the figures.\n",
    "\n",
    "##### When the code is run, you can see that it is on the server:\n",
    "\n",
    "##### \" Dash is running on http://127.0.0.1:8050/ \"\n",
    "\n",
    "##### And there we can see that the user with the highest number of posts is jasem3312 with 188.73k posts.\n",
    "##### You can move the pointer and see each of the profiles with their amount of posts."
   ]
  },
  {
   "cell_type": "markdown",
   "metadata": {},
   "source": [
    "<img src= 'Dash_ADM2.png'>"
   ]
  },
  {
   "cell_type": "code",
   "execution_count": null,
   "metadata": {},
   "outputs": [],
   "source": [
    "pip install lenspy"
   ]
  },
  {
   "cell_type": "code",
   "execution_count": null,
   "metadata": {},
   "outputs": [
    {
     "name": "stderr",
     "output_type": "stream",
     "text": [
      "/Users/mariaalejandrapenaortiz/opt/anaconda3/lib/python3.9/site-packages/lenspy/__init__.py:7: UserWarning: \n",
      "The dash_core_components package is deprecated. Please replace\n",
      "`import dash_core_components as dcc` with `from dash import dcc`\n",
      "  import dash_core_components as dcc\n",
      "/Users/mariaalejandrapenaortiz/opt/anaconda3/lib/python3.9/site-packages/lenspy/__init__.py:8: UserWarning: \n",
      "The dash_html_components package is deprecated. Please replace\n",
      "`import dash_html_components as html` with `from dash import html`\n",
      "  import dash_html_components as html\n"
     ]
    },
    {
     "name": "stdout",
     "output_type": "stream",
     "text": [
      "Dash is running on http://127.0.0.1:8050/\n",
      "\n",
      " * Serving Flask app \"__main__\" (lazy loading)\n",
      " * Environment: production\n",
      "\u001b[31m   WARNING: This is a development server. Do not use it in a production deployment.\u001b[0m\n",
      "\u001b[2m   Use a production WSGI server instead.\u001b[0m\n",
      " * Debug mode: off\n",
      "Exception on /_dash-update-component [POST]\n",
      "Traceback (most recent call last):\n",
      "  File \"/Users/mariaalejandrapenaortiz/opt/anaconda3/lib/python3.9/site-packages/flask/app.py\", line 2447, in wsgi_app\n",
      "    response = self.full_dispatch_request()\n",
      "  File \"/Users/mariaalejandrapenaortiz/opt/anaconda3/lib/python3.9/site-packages/flask/app.py\", line 1952, in full_dispatch_request\n",
      "    rv = self.handle_user_exception(e)\n",
      "  File \"/Users/mariaalejandrapenaortiz/opt/anaconda3/lib/python3.9/site-packages/flask/app.py\", line 1821, in handle_user_exception\n",
      "    reraise(exc_type, exc_value, tb)\n",
      "  File \"/Users/mariaalejandrapenaortiz/opt/anaconda3/lib/python3.9/site-packages/flask/_compat.py\", line 39, in reraise\n",
      "    raise value\n",
      "  File \"/Users/mariaalejandrapenaortiz/opt/anaconda3/lib/python3.9/site-packages/flask/app.py\", line 1950, in full_dispatch_request\n",
      "    rv = self.dispatch_request()\n",
      "  File \"/Users/mariaalejandrapenaortiz/opt/anaconda3/lib/python3.9/site-packages/flask/app.py\", line 1936, in dispatch_request\n",
      "    return self.view_functions[rule.endpoint](**req.view_args)\n",
      "  File \"/Users/mariaalejandrapenaortiz/opt/anaconda3/lib/python3.9/site-packages/dash/dash.py\", line 1261, in dispatch\n",
      "    ctx.run(\n",
      "  File \"/Users/mariaalejandrapenaortiz/opt/anaconda3/lib/python3.9/site-packages/dash/_callback.py\", line 440, in add_context\n",
      "    output_value = func(*func_args, **func_kwargs)  # %% callback invoked %%\n",
      "  File \"/Users/mariaalejandrapenaortiz/opt/anaconda3/lib/python3.9/site-packages/lenspy/__init__.py\", line 238, in refine_plot\n",
      "    self._refresh_traces(vw)\n",
      "  File \"/Users/mariaalejandrapenaortiz/opt/anaconda3/lib/python3.9/site-packages/lenspy/__init__.py\", line 198, in _refresh_traces\n",
      "    trace.refresh(view_port)\n",
      "  File \"/Users/mariaalejandrapenaortiz/opt/anaconda3/lib/python3.9/site-packages/lenspy/__init__.py\", line 100, in refresh\n",
      "    filts = [((self.trace_df[d] >= vp[f\"{d}1\"]) &\n",
      "  File \"/Users/mariaalejandrapenaortiz/opt/anaconda3/lib/python3.9/site-packages/lenspy/__init__.py\", line 100, in <listcomp>\n",
      "    filts = [((self.trace_df[d] >= vp[f\"{d}1\"]) &\n",
      "  File \"/Users/mariaalejandrapenaortiz/opt/anaconda3/lib/python3.9/site-packages/pandas/core/ops/common.py\", line 70, in new_method\n",
      "    return method(self, other)\n",
      "  File \"/Users/mariaalejandrapenaortiz/opt/anaconda3/lib/python3.9/site-packages/pandas/core/arraylike.py\", line 60, in __ge__\n",
      "    return self._cmp_method(other, operator.ge)\n",
      "  File \"/Users/mariaalejandrapenaortiz/opt/anaconda3/lib/python3.9/site-packages/pandas/core/series.py\", line 5623, in _cmp_method\n",
      "    res_values = ops.comparison_op(lvalues, rvalues, op)\n",
      "  File \"/Users/mariaalejandrapenaortiz/opt/anaconda3/lib/python3.9/site-packages/pandas/core/ops/array_ops.py\", line 283, in comparison_op\n",
      "    res_values = comp_method_OBJECT_ARRAY(op, lvalues, rvalues)\n",
      "  File \"/Users/mariaalejandrapenaortiz/opt/anaconda3/lib/python3.9/site-packages/pandas/core/ops/array_ops.py\", line 73, in comp_method_OBJECT_ARRAY\n",
      "    result = libops.scalar_compare(x.ravel(), y, op)\n",
      "  File \"pandas/_libs/ops.pyx\", line 107, in pandas._libs.ops.scalar_compare\n",
      "TypeError: '>=' not supported between instances of 'str' and 'float'\n",
      "Exception on /_dash-update-component [POST]\n",
      "Traceback (most recent call last):\n",
      "  File \"/Users/mariaalejandrapenaortiz/opt/anaconda3/lib/python3.9/site-packages/flask/app.py\", line 2447, in wsgi_app\n",
      "    response = self.full_dispatch_request()\n",
      "  File \"/Users/mariaalejandrapenaortiz/opt/anaconda3/lib/python3.9/site-packages/flask/app.py\", line 1952, in full_dispatch_request\n",
      "    rv = self.handle_user_exception(e)\n",
      "  File \"/Users/mariaalejandrapenaortiz/opt/anaconda3/lib/python3.9/site-packages/flask/app.py\", line 1821, in handle_user_exception\n",
      "    reraise(exc_type, exc_value, tb)\n",
      "  File \"/Users/mariaalejandrapenaortiz/opt/anaconda3/lib/python3.9/site-packages/flask/_compat.py\", line 39, in reraise\n",
      "    raise value\n",
      "  File \"/Users/mariaalejandrapenaortiz/opt/anaconda3/lib/python3.9/site-packages/flask/app.py\", line 1950, in full_dispatch_request\n",
      "    rv = self.dispatch_request()\n",
      "  File \"/Users/mariaalejandrapenaortiz/opt/anaconda3/lib/python3.9/site-packages/flask/app.py\", line 1936, in dispatch_request\n",
      "    return self.view_functions[rule.endpoint](**req.view_args)\n",
      "  File \"/Users/mariaalejandrapenaortiz/opt/anaconda3/lib/python3.9/site-packages/dash/dash.py\", line 1261, in dispatch\n",
      "    ctx.run(\n",
      "  File \"/Users/mariaalejandrapenaortiz/opt/anaconda3/lib/python3.9/site-packages/dash/_callback.py\", line 440, in add_context\n",
      "    output_value = func(*func_args, **func_kwargs)  # %% callback invoked %%\n",
      "  File \"/Users/mariaalejandrapenaortiz/opt/anaconda3/lib/python3.9/site-packages/lenspy/__init__.py\", line 238, in refine_plot\n",
      "    self._refresh_traces(vw)\n",
      "  File \"/Users/mariaalejandrapenaortiz/opt/anaconda3/lib/python3.9/site-packages/lenspy/__init__.py\", line 198, in _refresh_traces\n",
      "    trace.refresh(view_port)\n",
      "  File \"/Users/mariaalejandrapenaortiz/opt/anaconda3/lib/python3.9/site-packages/lenspy/__init__.py\", line 100, in refresh\n",
      "    filts = [((self.trace_df[d] >= vp[f\"{d}1\"]) &\n",
      "  File \"/Users/mariaalejandrapenaortiz/opt/anaconda3/lib/python3.9/site-packages/lenspy/__init__.py\", line 100, in <listcomp>\n",
      "    filts = [((self.trace_df[d] >= vp[f\"{d}1\"]) &\n",
      "  File \"/Users/mariaalejandrapenaortiz/opt/anaconda3/lib/python3.9/site-packages/pandas/core/ops/common.py\", line 70, in new_method\n",
      "    return method(self, other)\n",
      "  File \"/Users/mariaalejandrapenaortiz/opt/anaconda3/lib/python3.9/site-packages/pandas/core/arraylike.py\", line 60, in __ge__\n",
      "    return self._cmp_method(other, operator.ge)\n",
      "  File \"/Users/mariaalejandrapenaortiz/opt/anaconda3/lib/python3.9/site-packages/pandas/core/series.py\", line 5623, in _cmp_method\n",
      "    res_values = ops.comparison_op(lvalues, rvalues, op)\n",
      "  File \"/Users/mariaalejandrapenaortiz/opt/anaconda3/lib/python3.9/site-packages/pandas/core/ops/array_ops.py\", line 283, in comparison_op\n",
      "    res_values = comp_method_OBJECT_ARRAY(op, lvalues, rvalues)\n",
      "  File \"/Users/mariaalejandrapenaortiz/opt/anaconda3/lib/python3.9/site-packages/pandas/core/ops/array_ops.py\", line 73, in comp_method_OBJECT_ARRAY\n",
      "    result = libops.scalar_compare(x.ravel(), y, op)\n",
      "  File \"pandas/_libs/ops.pyx\", line 107, in pandas._libs.ops.scalar_compare\n",
      "TypeError: '>=' not supported between instances of 'str' and 'int'\n"
     ]
    }
   ],
   "source": [
    "import numpy as np\n",
    "import plotly.graph_objects as go\n",
    "from lenspy import DynamicPlot\n",
    "\n",
    "x = profiles_df_without_0_filtered_array[:,0]\n",
    "\n",
    "y = profiles_df_without_0_filtered_array[:,1]\n",
    "\n",
    "fig = go.Figure(data=[go.Scattergl(x=x, y=y)])\n",
    "\n",
    "plot = DynamicPlot(fig)\n",
    "plot.show()\n",
    "\n",
    "\n"
   ]
  },
  {
   "cell_type": "markdown",
   "metadata": {},
   "source": [
    "#### 2.2 What posts have the highest number of \"likes\"?"
   ]
  },
  {
   "cell_type": "markdown",
   "metadata": {},
   "source": [
    "##### Through the for loop and the established chunksize, we select only the columns of interest: post_id and numbr_likes"
   ]
  },
  {
   "cell_type": "code",
   "execution_count": null,
   "metadata": {},
   "outputs": [
    {
     "name": "stderr",
     "output_type": "stream",
     "text": [
      "86it [03:59,  2.78s/it]\n"
     ]
    }
   ],
   "source": [
    "import pandas as pd\n",
    "from tqdm import tqdm\n",
    "\n",
    "df_list = []\n",
    "\n",
    "for chunk in tqdm(pd.read_csv('instagram_posts.csv', delimiter='\\t', chunksize=500000)):\n",
    "    \n",
    "    filtered = chunk[['post_id','numbr_likes']]\n",
    "    \n",
    "    df_list.append(filtered)"
   ]
  },
  {
   "cell_type": "markdown",
   "metadata": {},
   "source": [
    "##### Through the lambda function, an append is made of all the 86 DataFrames that were obtained in the previous loop and they are saved in the DataFrame \"post_likes\""
   ]
  },
  {
   "cell_type": "code",
   "execution_count": null,
   "metadata": {},
   "outputs": [
    {
     "name": "stderr",
     "output_type": "stream",
     "text": [
      "/var/folders/gy/6j7jtq4n7m36jvtq0tfc4t880000gn/T/ipykernel_5154/3432768451.py:3: FutureWarning:\n",
      "\n",
      "The frame.append method is deprecated and will be removed from pandas in a future version. Use pandas.concat instead.\n",
      "\n"
     ]
    },
    {
     "data": {
      "text/html": [
       "<div>\n",
       "<style scoped>\n",
       "    .dataframe tbody tr th:only-of-type {\n",
       "        vertical-align: middle;\n",
       "    }\n",
       "\n",
       "    .dataframe tbody tr th {\n",
       "        vertical-align: top;\n",
       "    }\n",
       "\n",
       "    .dataframe thead th {\n",
       "        text-align: right;\n",
       "    }\n",
       "</style>\n",
       "<table border=\"1\" class=\"dataframe\">\n",
       "  <thead>\n",
       "    <tr style=\"text-align: right;\">\n",
       "      <th></th>\n",
       "      <th>post_id</th>\n",
       "      <th>numbr_likes</th>\n",
       "    </tr>\n",
       "  </thead>\n",
       "  <tbody>\n",
       "    <tr>\n",
       "      <th>0</th>\n",
       "      <td>BXdjjUlgcgq</td>\n",
       "      <td>80.0</td>\n",
       "    </tr>\n",
       "    <tr>\n",
       "      <th>1</th>\n",
       "      <td>BVg0pbolYBC</td>\n",
       "      <td>25.0</td>\n",
       "    </tr>\n",
       "    <tr>\n",
       "      <th>2</th>\n",
       "      <td>BRgkjcXFp3Q</td>\n",
       "      <td>9.0</td>\n",
       "    </tr>\n",
       "    <tr>\n",
       "      <th>3</th>\n",
       "      <td>BKTKeNhjEA7</td>\n",
       "      <td>4.0</td>\n",
       "    </tr>\n",
       "    <tr>\n",
       "      <th>4</th>\n",
       "      <td>8-NQrvoYLX</td>\n",
       "      <td>8.0</td>\n",
       "    </tr>\n",
       "  </tbody>\n",
       "</table>\n",
       "</div>"
      ],
      "text/plain": [
       "       post_id  numbr_likes\n",
       "0  BXdjjUlgcgq         80.0\n",
       "1  BVg0pbolYBC         25.0\n",
       "2  BRgkjcXFp3Q          9.0\n",
       "3  BKTKeNhjEA7          4.0\n",
       "4   8-NQrvoYLX          8.0"
      ]
     },
     "metadata": {},
     "output_type": "display_data"
    }
   ],
   "source": [
    "from functools import reduce\n",
    "\n",
    "post_likes = reduce(lambda df1, df2: df1.append(df2), df_list)\n",
    "\n",
    "post_likes.head(5)"
   ]
  },
  {
   "cell_type": "markdown",
   "metadata": {},
   "source": [
    "##### .nlargest() was used to select the 10 most popular posts based on the number of likes\n",
    "\n",
    "##### As a result, it is obtained that the post with the highest number of likes is the post_id \"Bt3yaXmAM0d\" with 8.8M likes."
   ]
  },
  {
   "cell_type": "code",
   "execution_count": null,
   "metadata": {},
   "outputs": [
    {
     "data": {
      "text/html": [
       "<div>\n",
       "<style scoped>\n",
       "    .dataframe tbody tr th:only-of-type {\n",
       "        vertical-align: middle;\n",
       "    }\n",
       "\n",
       "    .dataframe tbody tr th {\n",
       "        vertical-align: top;\n",
       "    }\n",
       "\n",
       "    .dataframe thead th {\n",
       "        text-align: right;\n",
       "    }\n",
       "</style>\n",
       "<table border=\"1\" class=\"dataframe\">\n",
       "  <thead>\n",
       "    <tr style=\"text-align: right;\">\n",
       "      <th></th>\n",
       "      <th>post_id</th>\n",
       "      <th>numbr_likes</th>\n",
       "    </tr>\n",
       "  </thead>\n",
       "  <tbody>\n",
       "    <tr>\n",
       "      <th>19624085</th>\n",
       "      <td>Bt3yaXmAM0d</td>\n",
       "      <td>8822952.0</td>\n",
       "    </tr>\n",
       "    <tr>\n",
       "      <th>19623988</th>\n",
       "      <td>BuwffB7g8cK</td>\n",
       "      <td>5447066.0</td>\n",
       "    </tr>\n",
       "    <tr>\n",
       "      <th>19624082</th>\n",
       "      <td>Buc1gyZAaMQ</td>\n",
       "      <td>5116398.0</td>\n",
       "    </tr>\n",
       "    <tr>\n",
       "      <th>19623986</th>\n",
       "      <td>BvcukE8AMuG</td>\n",
       "      <td>4271466.0</td>\n",
       "    </tr>\n",
       "    <tr>\n",
       "      <th>39701024</th>\n",
       "      <td>BqSLFVBFLfq</td>\n",
       "      <td>4264745.0</td>\n",
       "    </tr>\n",
       "    <tr>\n",
       "      <th>6293907</th>\n",
       "      <td>BwTSXBKg7gN</td>\n",
       "      <td>3586546.0</td>\n",
       "    </tr>\n",
       "    <tr>\n",
       "      <th>19624086</th>\n",
       "      <td>Btw8pFXAvQm</td>\n",
       "      <td>3558599.0</td>\n",
       "    </tr>\n",
       "    <tr>\n",
       "      <th>19802016</th>\n",
       "      <td>BvC3n6_gqin</td>\n",
       "      <td>3533326.0</td>\n",
       "    </tr>\n",
       "    <tr>\n",
       "      <th>30850564</th>\n",
       "      <td>Bw7vqLrFkHi</td>\n",
       "      <td>3340297.0</td>\n",
       "    </tr>\n",
       "    <tr>\n",
       "      <th>39812576</th>\n",
       "      <td>Bw2gTH1AiDA</td>\n",
       "      <td>3311246.0</td>\n",
       "    </tr>\n",
       "  </tbody>\n",
       "</table>\n",
       "</div>"
      ],
      "text/plain": [
       "              post_id  numbr_likes\n",
       "19624085  Bt3yaXmAM0d    8822952.0\n",
       "19623988  BuwffB7g8cK    5447066.0\n",
       "19624082  Buc1gyZAaMQ    5116398.0\n",
       "19623986  BvcukE8AMuG    4271466.0\n",
       "39701024  BqSLFVBFLfq    4264745.0\n",
       "6293907   BwTSXBKg7gN    3586546.0\n",
       "19624086  Btw8pFXAvQm    3558599.0\n",
       "19802016  BvC3n6_gqin    3533326.0\n",
       "30850564  Bw7vqLrFkHi    3340297.0\n",
       "39812576  Bw2gTH1AiDA    3311246.0"
      ]
     },
     "metadata": {},
     "output_type": "display_data"
    }
   ],
   "source": [
    "top10_post_id = post_likes \\\n",
    "    .nlargest(10, 'numbr_likes')\n",
    "    \n",
    "top10_post_id"
   ]
  },
  {
   "cell_type": "markdown",
   "metadata": {},
   "source": [
    "#### 2.3 What posts have the most and the least number of comments?"
   ]
  },
  {
   "cell_type": "markdown",
   "metadata": {},
   "source": [
    "##### Through the for loop and the established chunksize, we select only the columns of interest: post_id and number_comments"
   ]
  },
  {
   "cell_type": "code",
   "execution_count": null,
   "metadata": {},
   "outputs": [
    {
     "name": "stderr",
     "output_type": "stream",
     "text": [
      "86it [03:28,  2.43s/it]\n"
     ]
    }
   ],
   "source": [
    "import pandas as pd\n",
    "from tqdm import tqdm\n",
    "\n",
    "df_list = []\n",
    "\n",
    "for chunk in tqdm(pd.read_csv('instagram_posts.csv', delimiter='\\t', chunksize=500000)):\n",
    "    \n",
    "    filtered = chunk[['post_id','number_comments']]\n",
    "    \n",
    "    df_list.append(filtered)"
   ]
  },
  {
   "cell_type": "markdown",
   "metadata": {},
   "source": [
    "##### Through the lambda function, an append is made of all the 86 DataFrames that were obtained in the previous loop and they are saved in the DataFrame \"post_comments\""
   ]
  },
  {
   "cell_type": "code",
   "execution_count": null,
   "metadata": {},
   "outputs": [
    {
     "name": "stderr",
     "output_type": "stream",
     "text": [
      "/var/folders/gy/6j7jtq4n7m36jvtq0tfc4t880000gn/T/ipykernel_5154/3953308785.py:3: FutureWarning:\n",
      "\n",
      "The frame.append method is deprecated and will be removed from pandas in a future version. Use pandas.concat instead.\n",
      "\n"
     ]
    },
    {
     "data": {
      "text/html": [
       "<div>\n",
       "<style scoped>\n",
       "    .dataframe tbody tr th:only-of-type {\n",
       "        vertical-align: middle;\n",
       "    }\n",
       "\n",
       "    .dataframe tbody tr th {\n",
       "        vertical-align: top;\n",
       "    }\n",
       "\n",
       "    .dataframe thead th {\n",
       "        text-align: right;\n",
       "    }\n",
       "</style>\n",
       "<table border=\"1\" class=\"dataframe\">\n",
       "  <thead>\n",
       "    <tr style=\"text-align: right;\">\n",
       "      <th></th>\n",
       "      <th>post_id</th>\n",
       "      <th>number_comments</th>\n",
       "    </tr>\n",
       "  </thead>\n",
       "  <tbody>\n",
       "    <tr>\n",
       "      <th>0</th>\n",
       "      <td>BXdjjUlgcgq</td>\n",
       "      <td>0.0</td>\n",
       "    </tr>\n",
       "    <tr>\n",
       "      <th>1</th>\n",
       "      <td>BVg0pbolYBC</td>\n",
       "      <td>1.0</td>\n",
       "    </tr>\n",
       "    <tr>\n",
       "      <th>2</th>\n",
       "      <td>BRgkjcXFp3Q</td>\n",
       "      <td>0.0</td>\n",
       "    </tr>\n",
       "    <tr>\n",
       "      <th>3</th>\n",
       "      <td>BKTKeNhjEA7</td>\n",
       "      <td>0.0</td>\n",
       "    </tr>\n",
       "    <tr>\n",
       "      <th>4</th>\n",
       "      <td>8-NQrvoYLX</td>\n",
       "      <td>0.0</td>\n",
       "    </tr>\n",
       "  </tbody>\n",
       "</table>\n",
       "</div>"
      ],
      "text/plain": [
       "       post_id  number_comments\n",
       "0  BXdjjUlgcgq              0.0\n",
       "1  BVg0pbolYBC              1.0\n",
       "2  BRgkjcXFp3Q              0.0\n",
       "3  BKTKeNhjEA7              0.0\n",
       "4   8-NQrvoYLX              0.0"
      ]
     },
     "metadata": {},
     "output_type": "display_data"
    }
   ],
   "source": [
    "from functools import reduce\n",
    "\n",
    "post_comments = reduce(lambda df1, df2: df1.append(df2), df_list)\n",
    "\n",
    "post_comments.head(5)"
   ]
  },
  {
   "cell_type": "markdown",
   "metadata": {},
   "source": [
    "##### .nlargest() was used to select the 10 most popular posts based on the number of comments\n",
    "\n",
    "##### As a result, it is obtained that the post with the highest number of comments is the post_id \"Bx2sPAjHviO\" with 488k likes."
   ]
  },
  {
   "cell_type": "code",
   "execution_count": null,
   "metadata": {},
   "outputs": [
    {
     "data": {
      "text/html": [
       "<div>\n",
       "<style scoped>\n",
       "    .dataframe tbody tr th:only-of-type {\n",
       "        vertical-align: middle;\n",
       "    }\n",
       "\n",
       "    .dataframe tbody tr th {\n",
       "        vertical-align: top;\n",
       "    }\n",
       "\n",
       "    .dataframe thead th {\n",
       "        text-align: right;\n",
       "    }\n",
       "</style>\n",
       "<table border=\"1\" class=\"dataframe\">\n",
       "  <thead>\n",
       "    <tr style=\"text-align: right;\">\n",
       "      <th></th>\n",
       "      <th>post_id</th>\n",
       "      <th>number_comments</th>\n",
       "    </tr>\n",
       "  </thead>\n",
       "  <tbody>\n",
       "    <tr>\n",
       "      <th>41873060</th>\n",
       "      <td>Bx2sPAjHviO</td>\n",
       "      <td>488953.0</td>\n",
       "    </tr>\n",
       "    <tr>\n",
       "      <th>12164781</th>\n",
       "      <td>BuGjhWAhAW5</td>\n",
       "      <td>313997.0</td>\n",
       "    </tr>\n",
       "    <tr>\n",
       "      <th>33261751</th>\n",
       "      <td>BJ-rkpTgn1N</td>\n",
       "      <td>257488.0</td>\n",
       "    </tr>\n",
       "    <tr>\n",
       "      <th>11149127</th>\n",
       "      <td>BMtisIxjhtT</td>\n",
       "      <td>214365.0</td>\n",
       "    </tr>\n",
       "    <tr>\n",
       "      <th>9383817</th>\n",
       "      <td>BzOOWj3DfZK</td>\n",
       "      <td>189888.0</td>\n",
       "    </tr>\n",
       "    <tr>\n",
       "      <th>5427268</th>\n",
       "      <td>BoQoM-JFkPA</td>\n",
       "      <td>180635.0</td>\n",
       "    </tr>\n",
       "    <tr>\n",
       "      <th>25257169</th>\n",
       "      <td>Bwarws1lCok</td>\n",
       "      <td>173988.0</td>\n",
       "    </tr>\n",
       "    <tr>\n",
       "      <th>6220011</th>\n",
       "      <td>Bt4qlVDAZMH</td>\n",
       "      <td>170836.0</td>\n",
       "    </tr>\n",
       "    <tr>\n",
       "      <th>31689573</th>\n",
       "      <td>Bs9NhQkAcJA</td>\n",
       "      <td>166919.0</td>\n",
       "    </tr>\n",
       "    <tr>\n",
       "      <th>14257307</th>\n",
       "      <td>Bzqb95QI_1E</td>\n",
       "      <td>166198.0</td>\n",
       "    </tr>\n",
       "  </tbody>\n",
       "</table>\n",
       "</div>"
      ],
      "text/plain": [
       "              post_id  number_comments\n",
       "41873060  Bx2sPAjHviO         488953.0\n",
       "12164781  BuGjhWAhAW5         313997.0\n",
       "33261751  BJ-rkpTgn1N         257488.0\n",
       "11149127  BMtisIxjhtT         214365.0\n",
       "9383817   BzOOWj3DfZK         189888.0\n",
       "5427268   BoQoM-JFkPA         180635.0\n",
       "25257169  Bwarws1lCok         173988.0\n",
       "6220011   Bt4qlVDAZMH         170836.0\n",
       "31689573  Bs9NhQkAcJA         166919.0\n",
       "14257307  Bzqb95QI_1E         166198.0"
      ]
     },
     "metadata": {},
     "output_type": "display_data"
    }
   ],
   "source": [
    "top10_comments = post_comments \\\n",
    "    .nlargest(10, 'number_comments')\n",
    "    \n",
    "top10_comments"
   ]
  },
  {
   "cell_type": "markdown",
   "metadata": {},
   "source": [
    "##### .nsmallest() was used to select the 10 least popular posts based on the number of comments\n",
    "\n",
    "##### As a result, it is observed that there are many posts with 0 comments."
   ]
  },
  {
   "cell_type": "code",
   "execution_count": null,
   "metadata": {},
   "outputs": [
    {
     "data": {
      "text/html": [
       "<div>\n",
       "<style scoped>\n",
       "    .dataframe tbody tr th:only-of-type {\n",
       "        vertical-align: middle;\n",
       "    }\n",
       "\n",
       "    .dataframe tbody tr th {\n",
       "        vertical-align: top;\n",
       "    }\n",
       "\n",
       "    .dataframe thead th {\n",
       "        text-align: right;\n",
       "    }\n",
       "</style>\n",
       "<table border=\"1\" class=\"dataframe\">\n",
       "  <thead>\n",
       "    <tr style=\"text-align: right;\">\n",
       "      <th></th>\n",
       "      <th>post_id</th>\n",
       "      <th>number_comments</th>\n",
       "    </tr>\n",
       "  </thead>\n",
       "  <tbody>\n",
       "    <tr>\n",
       "      <th>0</th>\n",
       "      <td>BXdjjUlgcgq</td>\n",
       "      <td>0.0</td>\n",
       "    </tr>\n",
       "    <tr>\n",
       "      <th>2</th>\n",
       "      <td>BRgkjcXFp3Q</td>\n",
       "      <td>0.0</td>\n",
       "    </tr>\n",
       "    <tr>\n",
       "      <th>3</th>\n",
       "      <td>BKTKeNhjEA7</td>\n",
       "      <td>0.0</td>\n",
       "    </tr>\n",
       "    <tr>\n",
       "      <th>4</th>\n",
       "      <td>8-NQrvoYLX</td>\n",
       "      <td>0.0</td>\n",
       "    </tr>\n",
       "    <tr>\n",
       "      <th>11</th>\n",
       "      <td>Bx-ptmpinBs</td>\n",
       "      <td>0.0</td>\n",
       "    </tr>\n",
       "    <tr>\n",
       "      <th>12</th>\n",
       "      <td>Bx9uKZAAHDg</td>\n",
       "      <td>0.0</td>\n",
       "    </tr>\n",
       "    <tr>\n",
       "      <th>13</th>\n",
       "      <td>Bx5qGE0AlMM</td>\n",
       "      <td>0.0</td>\n",
       "    </tr>\n",
       "    <tr>\n",
       "      <th>23</th>\n",
       "      <td>Bxf-Vl4lK2S</td>\n",
       "      <td>0.0</td>\n",
       "    </tr>\n",
       "    <tr>\n",
       "      <th>24</th>\n",
       "      <td>BxCrxafBm-9</td>\n",
       "      <td>0.0</td>\n",
       "    </tr>\n",
       "    <tr>\n",
       "      <th>28</th>\n",
       "      <td>BwRE4lYhQ3r</td>\n",
       "      <td>0.0</td>\n",
       "    </tr>\n",
       "  </tbody>\n",
       "</table>\n",
       "</div>"
      ],
      "text/plain": [
       "        post_id  number_comments\n",
       "0   BXdjjUlgcgq              0.0\n",
       "2   BRgkjcXFp3Q              0.0\n",
       "3   BKTKeNhjEA7              0.0\n",
       "4    8-NQrvoYLX              0.0\n",
       "11  Bx-ptmpinBs              0.0\n",
       "12  Bx9uKZAAHDg              0.0\n",
       "13  Bx5qGE0AlMM              0.0\n",
       "23  Bxf-Vl4lK2S              0.0\n",
       "24  BxCrxafBm-9              0.0\n",
       "28  BwRE4lYhQ3r              0.0"
      ]
     },
     "metadata": {},
     "output_type": "display_data"
    }
   ],
   "source": [
    "least10_comments = post_comments \\\n",
    "    .nsmallest(10, 'number_comments')\n",
    "\n",
    "least10_comments"
   ]
  },
  {
   "cell_type": "markdown",
   "metadata": {},
   "source": [
    "#### 2.4 How many posts include tagged locations, and how many do not? Show it using an appropriate chart and comment your results."
   ]
  },
  {
   "cell_type": "markdown",
   "metadata": {},
   "source": [
    "##### Through the for loop and the established chunksize, we select only the columns of interest: post_id and location_id"
   ]
  },
  {
   "cell_type": "code",
   "execution_count": null,
   "metadata": {},
   "outputs": [
    {
     "name": "stderr",
     "output_type": "stream",
     "text": [
      "86it [03:17,  2.30s/it]\n"
     ]
    }
   ],
   "source": [
    "import pandas as pd\n",
    "from tqdm import tqdm\n",
    "\n",
    "df_list = []\n",
    "\n",
    "for chunk in tqdm(pd.read_csv('instagram_posts.csv', delimiter='\\t', chunksize=500000)):\n",
    "    \n",
    "    filtered = chunk[['post_id','location_id']]\n",
    "    \n",
    "    df_list.append(filtered)"
   ]
  },
  {
   "cell_type": "markdown",
   "metadata": {},
   "source": [
    "##### Through the lambda function, an append is made of all the 86 DataFrames that were obtained in the previous loop and they are saved in the DataFrame \"post_location_id\""
   ]
  },
  {
   "cell_type": "code",
   "execution_count": null,
   "metadata": {},
   "outputs": [
    {
     "name": "stderr",
     "output_type": "stream",
     "text": [
      "/var/folders/gy/6j7jtq4n7m36jvtq0tfc4t880000gn/T/ipykernel_5154/2672636998.py:3: FutureWarning:\n",
      "\n",
      "The frame.append method is deprecated and will be removed from pandas in a future version. Use pandas.concat instead.\n",
      "\n"
     ]
    },
    {
     "data": {
      "text/html": [
       "<div>\n",
       "<style scoped>\n",
       "    .dataframe tbody tr th:only-of-type {\n",
       "        vertical-align: middle;\n",
       "    }\n",
       "\n",
       "    .dataframe tbody tr th {\n",
       "        vertical-align: top;\n",
       "    }\n",
       "\n",
       "    .dataframe thead th {\n",
       "        text-align: right;\n",
       "    }\n",
       "</style>\n",
       "<table border=\"1\" class=\"dataframe\">\n",
       "  <thead>\n",
       "    <tr style=\"text-align: right;\">\n",
       "      <th></th>\n",
       "      <th>post_id</th>\n",
       "      <th>location_id</th>\n",
       "    </tr>\n",
       "  </thead>\n",
       "  <tbody>\n",
       "    <tr>\n",
       "      <th>0</th>\n",
       "      <td>BXdjjUlgcgq</td>\n",
       "      <td>1.022366e+15</td>\n",
       "    </tr>\n",
       "    <tr>\n",
       "      <th>1</th>\n",
       "      <td>BVg0pbolYBC</td>\n",
       "      <td>4.574268e+14</td>\n",
       "    </tr>\n",
       "    <tr>\n",
       "      <th>2</th>\n",
       "      <td>BRgkjcXFp3Q</td>\n",
       "      <td>4.574268e+14</td>\n",
       "    </tr>\n",
       "    <tr>\n",
       "      <th>3</th>\n",
       "      <td>BKTKeNhjEA7</td>\n",
       "      <td>4.574268e+14</td>\n",
       "    </tr>\n",
       "    <tr>\n",
       "      <th>4</th>\n",
       "      <td>8-NQrvoYLX</td>\n",
       "      <td>4.574268e+14</td>\n",
       "    </tr>\n",
       "  </tbody>\n",
       "</table>\n",
       "</div>"
      ],
      "text/plain": [
       "       post_id   location_id\n",
       "0  BXdjjUlgcgq  1.022366e+15\n",
       "1  BVg0pbolYBC  4.574268e+14\n",
       "2  BRgkjcXFp3Q  4.574268e+14\n",
       "3  BKTKeNhjEA7  4.574268e+14\n",
       "4   8-NQrvoYLX  4.574268e+14"
      ]
     },
     "metadata": {},
     "output_type": "display_data"
    }
   ],
   "source": [
    "from functools import reduce\n",
    "\n",
    "post_location_id = reduce(lambda df1, df2: df1.append(df2), df_list)\n",
    "\n",
    "post_location_id.head(5)"
   ]
  },
  {
   "cell_type": "markdown",
   "metadata": {},
   "source": [
    "##### np.any was used to create the null_location_id column and assign 1 to posts that did not have a location ID and 0 to posts that did."
   ]
  },
  {
   "cell_type": "code",
   "execution_count": null,
   "metadata": {},
   "outputs": [],
   "source": [
    "post_location_id['null_location_id'] = np.any(post_location_id[post_location_id.columns[1:]].isnull(), axis=1).astype(int)"
   ]
  },
  {
   "cell_type": "code",
   "execution_count": null,
   "metadata": {},
   "outputs": [],
   "source": [
    "post_location_id_tag =post_location_id \\\n",
    "    .groupby(['null_location_id'])  \\\n",
    "    .agg(count=('null_location_id', 'count'))\n"
   ]
  },
  {
   "cell_type": "code",
   "execution_count": null,
   "metadata": {},
   "outputs": [
    {
     "data": {
      "text/html": [
       "<div>\n",
       "<style scoped>\n",
       "    .dataframe tbody tr th:only-of-type {\n",
       "        vertical-align: middle;\n",
       "    }\n",
       "\n",
       "    .dataframe tbody tr th {\n",
       "        vertical-align: top;\n",
       "    }\n",
       "\n",
       "    .dataframe thead th {\n",
       "        text-align: right;\n",
       "    }\n",
       "</style>\n",
       "<table border=\"1\" class=\"dataframe\">\n",
       "  <thead>\n",
       "    <tr style=\"text-align: right;\">\n",
       "      <th></th>\n",
       "      <th>count</th>\n",
       "    </tr>\n",
       "    <tr>\n",
       "      <th>null_location_id</th>\n",
       "      <th></th>\n",
       "    </tr>\n",
       "  </thead>\n",
       "  <tbody>\n",
       "    <tr>\n",
       "      <th>0</th>\n",
       "      <td>29737425</td>\n",
       "    </tr>\n",
       "    <tr>\n",
       "      <th>1</th>\n",
       "      <td>12972772</td>\n",
       "    </tr>\n",
       "  </tbody>\n",
       "</table>\n",
       "</div>"
      ],
      "text/plain": [
       "                     count\n",
       "null_location_id          \n",
       "0                 29737425\n",
       "1                 12972772"
      ]
     },
     "metadata": {},
     "output_type": "display_data"
    }
   ],
   "source": [
    "post_location_id_tag"
   ]
  },
  {
   "cell_type": "markdown",
   "metadata": {},
   "source": [
    "##### plot.pie was used to visualize the result.\n",
    "\n",
    "##### As can be seen in the graph, 30.4% of the posts do not have a location ID, while 69.6% do have a location ID. Therefore, it is concluded that most Instagram users use the location tag so that their followers can see where they are."
   ]
  },
  {
   "cell_type": "code",
   "execution_count": null,
   "metadata": {},
   "outputs": [
    {
     "data": {
      "text/plain": [
       "<AxesSubplot:title={'center':'Tag Locations'}, ylabel='count'>"
      ]
     },
     "metadata": {},
     "output_type": "display_data"
    },
    {
     "data": {
      "image/png": "[encoded data removed]",
      "text/plain": [
       "<Figure size 432x288 with 1 Axes>"
      ]
     },
     "metadata": {},
     "output_type": "display_data"
    }
   ],
   "source": [
    "post_location_id_tag.plot.pie(y='count', title='Tag Locations', \\\n",
    "                         shadow=True, autopct='%1.1f%%', \\\n",
    "                         explode=(0, 0.1), startangle=0)"
   ]
  },
  {
   "cell_type": "markdown",
   "metadata": {},
   "source": [
    "#### 2.5 How many posts include only photos? How many also have videos?"
   ]
  },
  {
   "cell_type": "markdown",
   "metadata": {},
   "source": [
    "##### Through the for loop and the established chunksize, we select only the columns of interest: post_id and post_type"
   ]
  },
  {
   "cell_type": "code",
   "execution_count": null,
   "metadata": {},
   "outputs": [
    {
     "name": "stderr",
     "output_type": "stream",
     "text": [
      "86it [02:57,  2.07s/it]\n"
     ]
    }
   ],
   "source": [
    "import pandas as pd\n",
    "from tqdm import tqdm\n",
    "\n",
    "df_list = []\n",
    "\n",
    "for chunk in tqdm(pd.read_csv('instagram_posts.csv', delimiter='\\t', chunksize=500000)):\n",
    "    \n",
    "    filtered = chunk[['post_id','post_type']]\n",
    "    \n",
    "    df_list.append(filtered)"
   ]
  },
  {
   "cell_type": "markdown",
   "metadata": {},
   "source": [
    "##### Through the lambda function, an append is made of all the 86 DataFrames that were obtained in the previous loop and they are saved in the DataFrame \"post_type_id\""
   ]
  },
  {
   "cell_type": "code",
   "execution_count": null,
   "metadata": {},
   "outputs": [
    {
     "name": "stderr",
     "output_type": "stream",
     "text": [
      "/var/folders/gy/6j7jtq4n7m36jvtq0tfc4t880000gn/T/ipykernel_1110/3773087190.py:3: FutureWarning: The frame.append method is deprecated and will be removed from pandas in a future version. Use pandas.concat instead.\n",
      "  post_type_id = reduce(lambda df1, df2: df1.append(df2), df_list)\n"
     ]
    },
    {
     "data": {
      "text/html": [
       "<div>\n",
       "<style scoped>\n",
       "    .dataframe tbody tr th:only-of-type {\n",
       "        vertical-align: middle;\n",
       "    }\n",
       "\n",
       "    .dataframe tbody tr th {\n",
       "        vertical-align: top;\n",
       "    }\n",
       "\n",
       "    .dataframe thead th {\n",
       "        text-align: right;\n",
       "    }\n",
       "</style>\n",
       "<table border=\"1\" class=\"dataframe\">\n",
       "  <thead>\n",
       "    <tr style=\"text-align: right;\">\n",
       "      <th></th>\n",
       "      <th>post_id</th>\n",
       "      <th>post_type</th>\n",
       "    </tr>\n",
       "  </thead>\n",
       "  <tbody>\n",
       "    <tr>\n",
       "      <th>0</th>\n",
       "      <td>BXdjjUlgcgq</td>\n",
       "      <td>2</td>\n",
       "    </tr>\n",
       "    <tr>\n",
       "      <th>1</th>\n",
       "      <td>BVg0pbolYBC</td>\n",
       "      <td>1</td>\n",
       "    </tr>\n",
       "    <tr>\n",
       "      <th>2</th>\n",
       "      <td>BRgkjcXFp3Q</td>\n",
       "      <td>1</td>\n",
       "    </tr>\n",
       "    <tr>\n",
       "      <th>3</th>\n",
       "      <td>BKTKeNhjEA7</td>\n",
       "      <td>1</td>\n",
       "    </tr>\n",
       "    <tr>\n",
       "      <th>4</th>\n",
       "      <td>8-NQrvoYLX</td>\n",
       "      <td>1</td>\n",
       "    </tr>\n",
       "  </tbody>\n",
       "</table>\n",
       "</div>"
      ],
      "text/plain": [
       "       post_id  post_type\n",
       "0  BXdjjUlgcgq          2\n",
       "1  BVg0pbolYBC          1\n",
       "2  BRgkjcXFp3Q          1\n",
       "3  BKTKeNhjEA7          1\n",
       "4   8-NQrvoYLX          1"
      ]
     },
     "metadata": {},
     "output_type": "display_data"
    }
   ],
   "source": [
    "from functools import reduce\n",
    "\n",
    "post_type_id = reduce(lambda df1, df2: df1.append(df2), df_list)\n",
    "\n",
    "post_type_id.head(5)"
   ]
  },
  {
   "cell_type": "markdown",
   "metadata": {},
   "source": [
    "##### It was grouped by type of post and a count was made to know how many were Post type 1 (pictures) and how many were Post type 3 (pictures and videos)."
   ]
  },
  {
   "cell_type": "code",
   "execution_count": null,
   "metadata": {},
   "outputs": [],
   "source": [
    "post_type_id_count =post_type_id \\\n",
    "    .groupby(['post_type'])  \\\n",
    "    .agg(count=('post_type', 'count'))"
   ]
  },
  {
   "cell_type": "code",
   "execution_count": null,
   "metadata": {},
   "outputs": [
    {
     "data": {
      "text/html": [
       "<div>\n",
       "<style scoped>\n",
       "    .dataframe tbody tr th:only-of-type {\n",
       "        vertical-align: middle;\n",
       "    }\n",
       "\n",
       "    .dataframe tbody tr th {\n",
       "        vertical-align: top;\n",
       "    }\n",
       "\n",
       "    .dataframe thead th {\n",
       "        text-align: right;\n",
       "    }\n",
       "</style>\n",
       "<table border=\"1\" class=\"dataframe\">\n",
       "  <thead>\n",
       "    <tr style=\"text-align: right;\">\n",
       "      <th></th>\n",
       "      <th>count</th>\n",
       "    </tr>\n",
       "    <tr>\n",
       "      <th>post_type</th>\n",
       "      <th></th>\n",
       "    </tr>\n",
       "  </thead>\n",
       "  <tbody>\n",
       "    <tr>\n",
       "      <th>1</th>\n",
       "      <td>41534486</td>\n",
       "    </tr>\n",
       "    <tr>\n",
       "      <th>2</th>\n",
       "      <td>1134768</td>\n",
       "    </tr>\n",
       "    <tr>\n",
       "      <th>3</th>\n",
       "      <td>40943</td>\n",
       "    </tr>\n",
       "  </tbody>\n",
       "</table>\n",
       "</div>"
      ],
      "text/plain": [
       "              count\n",
       "post_type          \n",
       "1          41534486\n",
       "2           1134768\n",
       "3             40943"
      ]
     },
     "metadata": {},
     "output_type": "display_data"
    }
   ],
   "source": [
    "post_type_id_count"
   ]
  },
  {
   "cell_type": "markdown",
   "metadata": {},
   "source": [
    "##### .plot.pie was used to visualize that 97.2% of posts only have pictures and 0.1% of posts have both, pictures and videos."
   ]
  },
  {
   "cell_type": "code",
   "execution_count": null,
   "metadata": {},
   "outputs": [
    {
     "data": {
      "text/plain": [
       "<AxesSubplot:title={'center':'Post type'}, ylabel='count'>"
      ]
     },
     "metadata": {},
     "output_type": "display_data"
    },
    {
     "data": {
      "image/png": "[encoded data removed]",
      "text/plain": [
       "<Figure size 432x288 with 1 Axes>"
      ]
     },
     "metadata": {},
     "output_type": "display_data"
    }
   ],
   "source": [
    "post_type_id_count.plot.pie(y='count', title='Post type', \\\n",
    "                    shadow=True, autopct='%1.1f%%', \\\n",
    "                    explode=(0, 0, 0.1), startangle=0)"
   ]
  },
  {
   "cell_type": "markdown",
   "metadata": {},
   "source": [
    "#### 2.6 What's the percentage of business accounts vs non-business? What can you interpret regarding that percentage?"
   ]
  },
  {
   "cell_type": "markdown",
   "metadata": {},
   "source": [
    "##### The columns of interest were saved in a DataFrame"
   ]
  },
  {
   "cell_type": "code",
   "execution_count": null,
   "metadata": {},
   "outputs": [],
   "source": [
    "business_account = profiles_df[['profile_id','is_business_account']]"
   ]
  },
  {
   "cell_type": "markdown",
   "metadata": {},
   "source": [
    "##### A group by was made for the column and its values and a count"
   ]
  },
  {
   "cell_type": "code",
   "execution_count": null,
   "metadata": {},
   "outputs": [],
   "source": [
    "business_account_count =business_account  \\\n",
    "    .groupby(['is_business_account'])  \\\n",
    "    .agg(count=('is_business_account', 'count'))"
   ]
  },
  {
   "cell_type": "markdown",
   "metadata": {},
   "source": [
    "##### .plot.pie was used to visualize that 24.8% of the accounts are business accounts. Therefore, it can be said that a very high percentage is used by companies to carry out marketing and advertising campaigns."
   ]
  },
  {
   "cell_type": "code",
   "execution_count": null,
   "metadata": {},
   "outputs": [
    {
     "data": {
      "text/plain": [
       "<AxesSubplot:title={'center':'Is Business Account?'}, ylabel='count'>"
      ]
     },
     "metadata": {},
     "output_type": "display_data"
    },
    {
     "data": {
      "image/png": "[encoded data removed]",
      "text/plain": [
       "<Figure size 432x288 with 1 Axes>"
      ]
     },
     "metadata": {},
     "output_type": "display_data"
    }
   ],
   "source": [
    "business_account_count.plot.pie(y='count', title='Is Business Account?', \\\n",
    "                    shadow=True, autopct='%1.1f%%', \\\n",
    "                    explode=(0, 0.1), startangle=0)"
   ]
  },
  {
   "cell_type": "markdown",
   "id": "34d535df-55c6-49a9-a47e-3e948763b35d",
   "metadata": {},
   "source": [
    "# RQ3\n",
    "\n",
    "**1. What is the most common time in which users publish their posts?**\n",
    "\n",
    "\n",
    "**2. Create a function that receives a time intervals list as a parameter and returns a plot with the number of posts for each given interval.**\n",
    "\n",
    "\n",
    "**3. Use the function that you created in the previous literal to plot the number of posts between the following time intervals:**\n",
    "\n",
    "\n",
    "||Initial Time|Final Time|\n",
    "|---|---|---|\n",
    "| 1 | 06:00:00 | 10:59:59 |\n",
    "| 2 | 11:00:00 |  13:59:59|\n",
    "| 3 | 14:00:00 |  16:59:59|\n",
    "| 4 | 17:00:00 |  19:59:59|\n",
    "| 5 | 20:00:00 | 23:59:59|\n",
    "| 6 | 00:00:00 | 02:59:59|\n",
    "| 7 | 03:00:00 | 05:59:59|\n",
    "|...|||"
   ]
  },
  {
   "cell_type": "code",
   "execution_count": null,
   "id": "f7d9c62e-5df2-4175-ac44-062fb47230cb",
   "metadata": {},
   "outputs": [],
   "source": [
    "\n",
    "import pandas as pd\n",
    "from collections import defaultdict\n",
    "import matplotlib.pyplot as plt\n",
    "from datetime import datetime"
   ]
  },
  {
   "cell_type": "markdown",
   "id": "f393bbaf-5f42-4e65-bd36-6747ed8ca7b7",
   "metadata": {},
   "source": [
    "# 3.1 "
   ]
  },
  {
   "cell_type": "code",
   "execution_count": null,
   "id": "1516163d-e7f8-4a2a-8147-39fd81d82b5f",
   "metadata": {},
   "outputs": [],
   "source": [
    "posts =  pd.read_csv(\"instagram_posts.zip\",delimiter=\"\\t\",usecols=[\"post_id\", \"cts\"])#Increase up to len of dataframe"
   ]
  },
  {
   "cell_type": "markdown",
   "id": "25bac7b8-124c-4f2e-90d4-a47e40d1921b",
   "metadata": {},
   "source": [
    "**Body of 3.1**"
   ]
  },
  {
   "cell_type": "code",
   "execution_count": null,
   "id": "2bf5ad27-040d-4805-a940-d6bb6a42ccae",
   "metadata": {},
   "outputs": [
    {
     "data": {
      "text/html": [
       "<div>\n",
       "<style scoped>\n",
       "    .dataframe tbody tr th:only-of-type {\n",
       "        vertical-align: middle;\n",
       "    }\n",
       "\n",
       "    .dataframe tbody tr th {\n",
       "        vertical-align: top;\n",
       "    }\n",
       "\n",
       "    .dataframe thead th {\n",
       "        text-align: right;\n",
       "    }\n",
       "</style>\n",
       "<table border=\"1\" class=\"dataframe\">\n",
       "  <thead>\n",
       "    <tr style=\"text-align: right;\">\n",
       "      <th></th>\n",
       "      <th>post_id</th>\n",
       "      <th>cts</th>\n",
       "    </tr>\n",
       "  </thead>\n",
       "  <tbody>\n",
       "    <tr>\n",
       "      <th>0</th>\n",
       "      <td>BXdjjUlgcgq</td>\n",
       "      <td>2017-08-06 20:06:57.000</td>\n",
       "    </tr>\n",
       "    <tr>\n",
       "      <th>1</th>\n",
       "      <td>BVg0pbolYBC</td>\n",
       "      <td>2017-06-19 09:31:16.000</td>\n",
       "    </tr>\n",
       "    <tr>\n",
       "      <th>2</th>\n",
       "      <td>BRgkjcXFp3Q</td>\n",
       "      <td>2017-03-11 20:05:03.000</td>\n",
       "    </tr>\n",
       "    <tr>\n",
       "      <th>3</th>\n",
       "      <td>BKTKeNhjEA7</td>\n",
       "      <td>2016-09-13 16:27:16.000</td>\n",
       "    </tr>\n",
       "    <tr>\n",
       "      <th>4</th>\n",
       "      <td>8-NQrvoYLX</td>\n",
       "      <td>2015-10-18 10:19:27.000</td>\n",
       "    </tr>\n",
       "    <tr>\n",
       "      <th>...</th>\n",
       "      <td>...</td>\n",
       "      <td>...</td>\n",
       "    </tr>\n",
       "    <tr>\n",
       "      <th>42710192</th>\n",
       "      <td>BcpWMWGBfxh</td>\n",
       "      <td>2017-12-13 15:38:04.000</td>\n",
       "    </tr>\n",
       "    <tr>\n",
       "      <th>42710193</th>\n",
       "      <td>Ba6LZWwlCl8</td>\n",
       "      <td>2017-10-31 11:28:01.000</td>\n",
       "    </tr>\n",
       "    <tr>\n",
       "      <th>42710194</th>\n",
       "      <td>BPN0kM1hYUw</td>\n",
       "      <td>2017-01-13 20:16:37.000</td>\n",
       "    </tr>\n",
       "    <tr>\n",
       "      <th>42710195</th>\n",
       "      <td>BxsZ8nDBr-L</td>\n",
       "      <td>2019-05-20 20:07:52.000</td>\n",
       "    </tr>\n",
       "    <tr>\n",
       "      <th>42710196</th>\n",
       "      <td>BgNJ4EzHQwQ</td>\n",
       "      <td>2018-03-12 02:57:17.000</td>\n",
       "    </tr>\n",
       "  </tbody>\n",
       "</table>\n",
       "<p>42706865 rows × 2 columns</p>\n",
       "</div>"
      ],
      "text/plain": [
       "              post_id                      cts\n",
       "0         BXdjjUlgcgq  2017-08-06 20:06:57.000\n",
       "1         BVg0pbolYBC  2017-06-19 09:31:16.000\n",
       "2         BRgkjcXFp3Q  2017-03-11 20:05:03.000\n",
       "3         BKTKeNhjEA7  2016-09-13 16:27:16.000\n",
       "4          8-NQrvoYLX  2015-10-18 10:19:27.000\n",
       "...               ...                      ...\n",
       "42710192  BcpWMWGBfxh  2017-12-13 15:38:04.000\n",
       "42710193  Ba6LZWwlCl8  2017-10-31 11:28:01.000\n",
       "42710194  BPN0kM1hYUw  2017-01-13 20:16:37.000\n",
       "42710195  BxsZ8nDBr-L  2019-05-20 20:07:52.000\n",
       "42710196  BgNJ4EzHQwQ  2018-03-12 02:57:17.000\n",
       "\n",
       "[42706865 rows x 2 columns]"
      ]
     },
     "metadata": {},
     "output_type": "display_data"
    }
   ],
   "source": [
    "posts.isna().sum()\n",
    "posts.dropna()"
   ]
  },
  {
   "cell_type": "markdown",
   "id": "3481fc93-4af8-4d99-87d3-64bc160644b8",
   "metadata": {},
   "source": [
    "**Convert to datetime and keeping only the hour:minute:second**"
   ]
  },
  {
   "cell_type": "code",
   "execution_count": null,
   "id": "171b600d-3e5d-412f-b1a7-c2d84ee814f5",
   "metadata": {},
   "outputs": [],
   "source": [
    "posts['cts'] = pd.to_datetime(posts.cts).dt.time"
   ]
  },
  {
   "cell_type": "markdown",
   "id": "045f358e-49f3-4d4a-9076-1e7c51e5999c",
   "metadata": {},
   "source": [
    "**STEP 1: Selecting only cts and post_id columns**\n",
    "\n",
    "\n",
    "**STEP 2: Counting each row grouped by cts**"
   ]
  },
  {
   "cell_type": "code",
   "execution_count": null,
   "id": "fe4cc420-c4a5-4c5d-897a-953773bdb22c",
   "metadata": {},
   "outputs": [],
   "source": [
    "counter = posts.groupby('cts').post_id.count()"
   ]
  },
  {
   "cell_type": "code",
   "execution_count": null,
   "id": "5242db38-5d33-47fc-ab72-1595d91ed23d",
   "metadata": {},
   "outputs": [
    {
     "data": {
      "text/plain": [
       "cts\n",
       "00:00:00    470\n",
       "00:00:01    570\n",
       "00:00:02    538\n",
       "00:00:03    555\n",
       "00:00:04    565\n",
       "           ... \n",
       "23:59:55    496\n",
       "23:59:56    487\n",
       "23:59:57    488\n",
       "23:59:58    469\n",
       "23:59:59    491\n",
       "Name: post_id, Length: 86400, dtype: int64"
      ]
     },
     "metadata": {},
     "output_type": "display_data"
    }
   ],
   "source": [
    "counter"
   ]
  },
  {
   "cell_type": "markdown",
   "id": "cb043a8d-5a58-49d3-8893-e47eb166fdbf",
   "metadata": {},
   "source": [
    "**Calculating Maximum count of post**"
   ]
  },
  {
   "cell_type": "code",
   "execution_count": null,
   "id": "27d0fda3-9f97-4699-a44e-561cbbb51d53",
   "metadata": {},
   "outputs": [
    {
     "name": "stdout",
     "output_type": "stream",
     "text": [
      "928\n"
     ]
    }
   ],
   "source": [
    "maximum  = max(counter)\n",
    "print(maximum)\n",
    "result =  counter[counter == maximum]\n"
   ]
  },
  {
   "cell_type": "markdown",
   "id": "b8159e2e-356a-4c01-9476-0415a23b095c",
   "metadata": {},
   "source": [
    "**Returning the cts value corresponding to the maximum**"
   ]
  },
  {
   "cell_type": "code",
   "execution_count": null,
   "id": "dde1cfcf-7c15-4cf4-bd24-60f8dbc3ff53",
   "metadata": {},
   "outputs": [
    {
     "name": "stdout",
     "output_type": "stream",
     "text": [
      "The most common time in which users publish their posts is: \n"
     ]
    },
    {
     "data": {
      "text/plain": [
       "'21:00:09'"
      ]
     },
     "metadata": {},
     "output_type": "display_data"
    }
   ],
   "source": [
    "output  = str(result).replace(\"\\n\",\" \")\n",
    "\n",
    "output  = output[4:12]\n",
    "print(\"The most common time in which users publish their posts is: \")\n",
    "output"
   ]
  },
  {
   "cell_type": "markdown",
   "id": "5daac19c-7d1f-4482-90ed-c8bc8eb5d535",
   "metadata": {},
   "source": [
    "# 3.2"
   ]
  },
  {
   "cell_type": "markdown",
   "id": "b9c1c930-4605-4de4-9382-8423fb665895",
   "metadata": {},
   "source": [
    "**time_interval(time_list,posts) takes as input a list of time intervals = time_list which its elements is a list of two datetime.time object. This two datetime.time objects delimit the interval.\n",
    "The second input is the posts_dataframe.\n",
    "Please use posts_cts_manager to cast every entries in posts_dataframe['cts'] column in the right object type(datatime.time)**"
   ]
  },
  {
   "cell_type": "code",
   "execution_count": null,
   "id": "c636d8ef-1fdd-4ccf-91ba-cc1d1e0dbd9d",
   "metadata": {},
   "outputs": [],
   "source": [
    "def posts_cts_manager(post_dataframe):\n",
    "    posts_dataframe['cts'] = pd.to_datetime(posts_dataframe.cts).dt.time\n",
    "\n",
    "def time_interval(time_list,posts):\n",
    "    counter  = defaultdict()\n",
    "    for time in time_list:\n",
    "        interval = time[0].strftime(\"%H:%M:%S\")+\" \"+time[1].strftime(\"%H:%M:%S\")\n",
    "        counter[interval] = 0\n",
    "        for date in posts['cts']:\n",
    "            if( type(time[0])== type(date) and time[0]<= date and time[1]>=date):\n",
    "                counter[interval] += 1\n",
    "    plt.figure(figsize=(10,10))\n",
    "    hist  = plt.bar(range(len(list(counter.keys()))), counter.values(), color='g',width=.3)\n",
    "    i= 0\n",
    "    for key in counter.keys():\n",
    "        print( \"Interval \"+str(i)+\" = \"+key)\n",
    "        i+=1\n",
    "    return hist"
   ]
  },
  {
   "cell_type": "markdown",
   "id": "26dd95c5-76ef-4f51-9738-f6dc103f03da",
   "metadata": {},
   "source": [
    "# 3.3"
   ]
  },
  {
   "cell_type": "markdown",
   "id": "96214566-e8ab-41f7-ba10-46638e0f5ff3",
   "metadata": {},
   "source": [
    "\n",
    "**The code counts the number of posts published in each time interval given as input and plots the frequencies\n",
    "in a histogram**\n",
    "\n",
    "**The code calls time_interval function written above**\n"
   ]
  },
  {
   "cell_type": "code",
   "execution_count": null,
   "id": "19b57098-d82f-4865-833f-02ab6e9b2979",
   "metadata": {},
   "outputs": [
    {
     "name": "stdout",
     "output_type": "stream",
     "text": [
      "Interval 0 = 06:00:00 10:59:59\n",
      "Interval 1 = 11:00:00 13:59:59\n",
      "Interval 2 = 14:00:00 16:59:59\n",
      "Interval 3 = 17:00:00 19:59:59\n",
      "Interval 4 = 20:00:00 23:59:59\n",
      "Interval 5 = 00:00:00 02:59:59\n",
      "Interval 6 = 03:00:00 05:59:59\n"
     ]
    },
    {
     "data": {
      "image/png": "[encoded data removed]",
      "text/plain": [
       "<Figure size 720x720 with 1 Axes>"
      ]
     },
     "metadata": {},
     "output_type": "display_data"
    }
   ],
   "source": [
    "input_t = [['06:00:00','10:59:59'],['11:00:00','13:59:59'],['14:00:00','16:59:59'],['17:00:00', '19:59:59'],['20:00:00','23:59:59'],['00:00:00','02:59:59'],['03:00:00','05:59:59']]\n",
    "time_list = []\n",
    "for interval in input_t:\n",
    "    row  = []\n",
    "    row.append(datetime.strptime(interval[0], '%H:%M:%S').time())\n",
    "    row.append(datetime.strptime(interval[1],'%H:%M:%S').time())\n",
    "    time_list.append(row)\n",
    "time_interval(time_list,posts)\n",
    "plt.title(\"Number of post publications for each time interval\")\n",
    "plt.ylabel(\"Number of publications n*10^6\")\n",
    "plt.xlabel(\"I-th time interval i= [0-6]\")\n",
    "plt.show()"
   ]
  },
  {
   "cell_type": "markdown",
   "id": "a48b40c4",
   "metadata": {},
   "source": [
    "**Users have the tendency to post more in the time interval between 20-00 than in every other time interval we gave as input to the make the plot. Also the most common time in which users publish a post falls inside the time interval with the most publications.**\n",
    "\n",
    "**In fact there are more that 8 million publications in the time between 20-00.**"
   ]
  },
  {
   "cell_type": "markdown",
   "id": "891978e8",
   "metadata": {},
   "source": [
    "# FREE MEMORY"
   ]
  },
  {
   "cell_type": "code",
   "execution_count": 1,
   "id": "1389d2c8",
   "metadata": {},
   "outputs": [
    {
     "ename": "NameError",
     "evalue": "name 'posts' is not defined",
     "output_type": "error",
     "traceback": [
      "\u001b[1;31m---------------------------------------------------------------------------\u001b[0m",
      "\u001b[1;31mNameError\u001b[0m                                 Traceback (most recent call last)",
      "\u001b[1;32mUntitled-1.ipynb Cella 24\u001b[0m in \u001b[0;36m<cell line: 1>\u001b[1;34m()\u001b[0m\n\u001b[1;32m----> <a href='vscode-notebook-cell:Untitled-1.ipynb?jupyter-notebook#X33sdW50aXRsZWQ%3D?line=0'>1</a>\u001b[0m \u001b[39mdel\u001b[39;00m posts\n",
      "\u001b[1;31mNameError\u001b[0m: name 'posts' is not defined"
     ]
    }
   ],
   "source": [
    "del posts"
   ]
  },
  {
   "cell_type": "markdown",
   "id": "d4903a36-064d-431f-8677-b752d68b15ed",
   "metadata": {},
   "source": [
    "# RQ4"
   ]
  },
  {
   "cell_type": "markdown",
   "id": "440a9503-1a39-482e-b183-78cbb1290fe4",
   "metadata": {},
   "source": [
    "**In most cases, we will not have a __consistent dataset__, and the one we are dealing with is not an exception (ex. in the given datasets, you may not find the information of the profiles for some of the posts). So let’s enhance our analysis.**\n",
    "\n",
    "   **1. Write a function that, given a profile_id, will be able to return the posts that belong to the given *profile_id*.**\n",
    "   \n",
    "   **2. Write another function that, given an input n (an integer), will return the posts that belong to the n top posted profiles (top n profiles that have posted the highest number of posts) that their data is available in the *profile.csv* using the previously written function.**\n",
    "     \n",
    "   **3. What is the average number of \"likes\" and comments of the top 10 profiles with the highest number of posts which their information is available in *profile.csv*?**\n",
    "    \n",
    "   **4. Plot the number of posts that these top 10 profiles have sent on Instagram in the given interval in question RQ3. Interpret the resulting chart.**\n"
   ]
  },
  {
   "cell_type": "code",
   "execution_count": null,
   "id": "4f42dffd",
   "metadata": {},
   "outputs": [],
   "source": [
    "import pandas as pd\n",
    "import numpy as np\n",
    "import random\n",
    "import logging\n",
    "import datatable as dt\n",
    "from collections import defaultdict\n",
    "import matplotlib.pyplot as plt\n",
    "from datetime import datetime"
   ]
  },
  {
   "cell_type": "markdown",
   "id": "0fae23c9-0fa1-4d9e-a3e2-930c453ff575",
   "metadata": {},
   "source": [
    "# 4.1"
   ]
  },
  {
   "cell_type": "markdown",
   "id": "36851a27-167a-4e9d-8d2d-52f6516e0f9c",
   "metadata": {},
   "source": [
    "**Function which returns all the post published by the account with id = profile_id that are present in the posts_dataframe**"
   ]
  },
  {
   "cell_type": "code",
   "execution_count": null,
   "id": "f48c1ed0-154b-4164-947d-ec4f07bf573b",
   "metadata": {},
   "outputs": [],
   "source": [
    "def find_posts_byId(profile_id,posts_dataframe):\n",
    "    return posts_dataframe[posts_dataframe.profile_id == profile_id]"
   ]
  },
  {
   "cell_type": "markdown",
   "id": "9477f85d-e14c-43f1-9b3a-f2705d87793a",
   "metadata": {},
   "source": [
    "**TEST**"
   ]
  },
  {
   "cell_type": "code",
   "execution_count": null,
   "id": "b8f8023f-3347-413d-a60a-b2db8bab0faa",
   "metadata": {},
   "outputs": [],
   "source": [
    "#For the entire dataframe:\n",
    "    # posts_datatable = dt.fread(\"~/Downloads/instagram_posts.zip\",sep='\\t')\n",
    "posts_dataframe =  pd.read_csv(\"instagram_posts.zip\",delimiter=\"\\t\",usecols=['post_id','profile_id','cts','numbr_likes','number_comments'])"
   ]
  },
  {
   "cell_type": "code",
   "execution_count": null,
   "id": "e4503697-ae4e-4799-86c0-00d0f44ed1da",
   "metadata": {},
   "outputs": [],
   "source": [
    "profile_dataframe = pd.read_csv(\"instagram_profiles.zip\",delimiter=\"\\t\")"
   ]
  },
  {
   "cell_type": "markdown",
   "id": "b0ba3646-2171-4157-88ca-c28e55b439e5",
   "metadata": {},
   "source": [
    "**Random profile_id from dataset**"
   ]
  },
  {
   "cell_type": "code",
   "execution_count": null,
   "id": "aa53e447",
   "metadata": {},
   "outputs": [
    {
     "name": "stdout",
     "output_type": "stream",
     "text": [
      "42710197\n"
     ]
    }
   ],
   "source": [
    "print(posts_dataframe.shape[0])"
   ]
  },
  {
   "cell_type": "code",
   "execution_count": null,
   "id": "9aca482a-f8ae-4517-ace2-5129e5e4847d",
   "metadata": {},
   "outputs": [],
   "source": [
    "id1 = posts_dataframe.profile_id[random.randint(0,posts_dataframe.shape[0])]\n",
    "id1\n",
    "id2 = 623386236.0"
   ]
  },
  {
   "cell_type": "markdown",
   "id": "03959497-da5f-40d8-b044-c4821510df02",
   "metadata": {},
   "source": [
    "**Function that execute find_posts_byId and checks for errors in the output**"
   ]
  },
  {
   "cell_type": "code",
   "execution_count": null,
   "id": "b6f384da-8d63-488c-b57f-11ae95026969",
   "metadata": {},
   "outputs": [],
   "source": [
    "def check_test(profile_id,posts_dataframe):\n",
    "    correct  = posts_dataframe[posts_dataframe.profile_id == np.float64(profile_id)].shape[0]\n",
    "    test = find_posts_byId(profile_id,posts_dataframe)\n",
    "    if(test.shape[0] == correct) :\n",
    "        print(\"Function find_posts_byId is working\")\n",
    "    else:\n",
    "        print(\"Function find_posts_byId is incorrect\")"
   ]
  },
  {
   "cell_type": "code",
   "execution_count": null,
   "id": "a904a2f6-5f21-47df-882a-73053ad77839",
   "metadata": {},
   "outputs": [
    {
     "name": "stdout",
     "output_type": "stream",
     "text": [
      "Function find_posts_byId is working\n",
      "Function find_posts_byId is working\n"
     ]
    }
   ],
   "source": [
    "check_test(id1,posts_dataframe)\n",
    "check_test(id2,posts_dataframe)"
   ]
  },
  {
   "cell_type": "markdown",
   "id": "0ce4717d-2b56-4364-8dba-25984dacd453",
   "metadata": {},
   "source": [
    "# 4.2"
   ]
  },
  {
   "cell_type": "code",
   "execution_count": null,
   "id": "153bfd45-6959-4586-ae76-66574060d7c0",
   "metadata": {},
   "outputs": [],
   "source": [
    "def posts_top_profiles(n,posts_dataframe,profile_dataframe):\n",
    "    top_posted_profiles = profile_dataframe.sort_values('n_posts',ascending=False).profile_id.head(n+1)    \n",
    "    output_posts = []\n",
    "    for id in top_posted_profiles:\n",
    "        output_posts.append(find_posts_byId(id,posts_dataframe))\n",
    "    result = pd.concat(output_posts)\n",
    "    return result\n",
    "    "
   ]
  },
  {
   "cell_type": "markdown",
   "id": "de3ffb35-4774-4a0b-b595-3a1840fe8025",
   "metadata": {},
   "source": [
    "**TEST**"
   ]
  },
  {
   "cell_type": "code",
   "execution_count": null,
   "id": "25c4113f-8d11-43eb-80a7-0c399bbfac9c",
   "metadata": {},
   "outputs": [
    {
     "name": "stdout",
     "output_type": "stream",
     "text": [
      "3990313    1.996648e+08\n",
      "2571453    8.563367e+09\n",
      "4338921    1.273455e+09\n",
      "3942129    9.813508e+06\n",
      "4219642    1.607309e+09\n",
      "2207897    1.087614e+09\n",
      "4313908    1.603890e+09\n",
      "4219476    2.181730e+08\n",
      "4236057    2.855497e+08\n",
      "1631526    8.312603e+09\n",
      "4219551    1.701679e+09\n",
      "Name: profile_id, dtype: float64\n"
     ]
    },
    {
     "data": {
      "text/html": [
       "<div>\n",
       "<style scoped>\n",
       "    .dataframe tbody tr th:only-of-type {\n",
       "        vertical-align: middle;\n",
       "    }\n",
       "\n",
       "    .dataframe tbody tr th {\n",
       "        vertical-align: top;\n",
       "    }\n",
       "\n",
       "    .dataframe thead th {\n",
       "        text-align: right;\n",
       "    }\n",
       "</style>\n",
       "<table border=\"1\" class=\"dataframe\">\n",
       "  <thead>\n",
       "    <tr style=\"text-align: right;\">\n",
       "      <th></th>\n",
       "      <th>post_id</th>\n",
       "      <th>profile_id</th>\n",
       "      <th>cts</th>\n",
       "      <th>numbr_likes</th>\n",
       "      <th>number_comments</th>\n",
       "    </tr>\n",
       "  </thead>\n",
       "  <tbody>\n",
       "    <tr>\n",
       "      <th>9592952</th>\n",
       "      <td>Bq3hP3Khp8J</td>\n",
       "      <td>1.996648e+08</td>\n",
       "      <td>2018-12-02 03:03:33.000</td>\n",
       "      <td>0.0</td>\n",
       "      <td>0.0</td>\n",
       "    </tr>\n",
       "    <tr>\n",
       "      <th>9592953</th>\n",
       "      <td>Bq3hN53hUsD</td>\n",
       "      <td>1.996648e+08</td>\n",
       "      <td>2018-12-02 03:03:17.000</td>\n",
       "      <td>0.0</td>\n",
       "      <td>0.0</td>\n",
       "    </tr>\n",
       "    <tr>\n",
       "      <th>9592954</th>\n",
       "      <td>BCqCe9LypeF</td>\n",
       "      <td>1.996648e+08</td>\n",
       "      <td>2016-03-07 16:28:50.000</td>\n",
       "      <td>27.0</td>\n",
       "      <td>0.0</td>\n",
       "    </tr>\n",
       "    <tr>\n",
       "      <th>9592955</th>\n",
       "      <td>20Wu4zypd2</td>\n",
       "      <td>1.996648e+08</td>\n",
       "      <td>2015-05-18 11:21:27.000</td>\n",
       "      <td>28.0</td>\n",
       "      <td>0.0</td>\n",
       "    </tr>\n",
       "    <tr>\n",
       "      <th>9592956</th>\n",
       "      <td>BrKq76AhadU</td>\n",
       "      <td>1.996648e+08</td>\n",
       "      <td>2018-12-09 13:33:47.000</td>\n",
       "      <td>1.0</td>\n",
       "      <td>0.0</td>\n",
       "    </tr>\n",
       "    <tr>\n",
       "      <th>...</th>\n",
       "      <td>...</td>\n",
       "      <td>...</td>\n",
       "      <td>...</td>\n",
       "      <td>...</td>\n",
       "      <td>...</td>\n",
       "    </tr>\n",
       "    <tr>\n",
       "      <th>40437904</th>\n",
       "      <td>BxT74jSH25K</td>\n",
       "      <td>1.701679e+09</td>\n",
       "      <td>2019-05-11 08:03:24.000</td>\n",
       "      <td>0.0</td>\n",
       "      <td>0.0</td>\n",
       "    </tr>\n",
       "    <tr>\n",
       "      <th>40996459</th>\n",
       "      <td>BxzVSO6hq2V</td>\n",
       "      <td>1.701679e+09</td>\n",
       "      <td>2019-05-23 06:41:49.000</td>\n",
       "      <td>1.0</td>\n",
       "      <td>0.0</td>\n",
       "    </tr>\n",
       "    <tr>\n",
       "      <th>41291564</th>\n",
       "      <td>BxrFpFzBquO</td>\n",
       "      <td>1.701679e+09</td>\n",
       "      <td>2019-05-20 07:51:12.000</td>\n",
       "      <td>1.0</td>\n",
       "      <td>0.0</td>\n",
       "    </tr>\n",
       "    <tr>\n",
       "      <th>42357392</th>\n",
       "      <td>BxwWhDXh9-v</td>\n",
       "      <td>1.701679e+09</td>\n",
       "      <td>2019-05-22 08:54:51.000</td>\n",
       "      <td>1.0</td>\n",
       "      <td>0.0</td>\n",
       "    </tr>\n",
       "    <tr>\n",
       "      <th>42518438</th>\n",
       "      <td>Bv9bevBhRyb</td>\n",
       "      <td>1.701679e+09</td>\n",
       "      <td>2019-04-07 17:45:34.000</td>\n",
       "      <td>0.0</td>\n",
       "      <td>0.0</td>\n",
       "    </tr>\n",
       "  </tbody>\n",
       "</table>\n",
       "<p>432 rows × 5 columns</p>\n",
       "</div>"
      ],
      "text/plain": [
       "              post_id    profile_id                      cts  numbr_likes  \\\n",
       "9592952   Bq3hP3Khp8J  1.996648e+08  2018-12-02 03:03:33.000          0.0   \n",
       "9592953   Bq3hN53hUsD  1.996648e+08  2018-12-02 03:03:17.000          0.0   \n",
       "9592954   BCqCe9LypeF  1.996648e+08  2016-03-07 16:28:50.000         27.0   \n",
       "9592955    20Wu4zypd2  1.996648e+08  2015-05-18 11:21:27.000         28.0   \n",
       "9592956   BrKq76AhadU  1.996648e+08  2018-12-09 13:33:47.000          1.0   \n",
       "...               ...           ...                      ...          ...   \n",
       "40437904  BxT74jSH25K  1.701679e+09  2019-05-11 08:03:24.000          0.0   \n",
       "40996459  BxzVSO6hq2V  1.701679e+09  2019-05-23 06:41:49.000          1.0   \n",
       "41291564  BxrFpFzBquO  1.701679e+09  2019-05-20 07:51:12.000          1.0   \n",
       "42357392  BxwWhDXh9-v  1.701679e+09  2019-05-22 08:54:51.000          1.0   \n",
       "42518438  Bv9bevBhRyb  1.701679e+09  2019-04-07 17:45:34.000          0.0   \n",
       "\n",
       "          number_comments  \n",
       "9592952               0.0  \n",
       "9592953               0.0  \n",
       "9592954               0.0  \n",
       "9592955               0.0  \n",
       "9592956               0.0  \n",
       "...                   ...  \n",
       "40437904              0.0  \n",
       "40996459              0.0  \n",
       "41291564              0.0  \n",
       "42357392              0.0  \n",
       "42518438              0.0  \n",
       "\n",
       "[432 rows x 5 columns]"
      ]
     },
     "metadata": {},
     "output_type": "display_data"
    }
   ],
   "source": [
    "top_posted_profiles = profile_dataframe.sort_values('n_posts',ascending=False).profile_id.head(11)    \n",
    "print(top_posted_profiles)\n",
    "display(posts_top_profiles(10,posts_dataframe,profile_dataframe))"
   ]
  },
  {
   "cell_type": "markdown",
   "id": "e82c3c9d-e55f-49e2-951e-f3e9ee8b411c",
   "metadata": {},
   "source": [
    "# 4.3"
   ]
  },
  {
   "cell_type": "markdown",
   "id": "e2136025-d333-4583-9dc1-45ddd6e46066",
   "metadata": {},
   "source": [
    "**Collect all the posts published by the top 10 profiles who posted more**"
   ]
  },
  {
   "cell_type": "code",
   "execution_count": null,
   "id": "b7887eee-b1fb-4f4a-8bde-76664cfb2518",
   "metadata": {},
   "outputs": [],
   "source": [
    "averages = posts_top_profiles(10,posts_dataframe,profile_dataframe)"
   ]
  },
  {
   "cell_type": "markdown",
   "id": "2c9a2e6e-9df2-4c9f-9e11-e9b7e6caa085",
   "metadata": {},
   "source": [
    "**Compute the average number of likes and comments for each profile  who is in the top 10 profiles with the most number of posts**"
   ]
  },
  {
   "cell_type": "code",
   "execution_count": null,
   "id": "2a473ed9-97cb-4308-b174-4d0f894f0537",
   "metadata": {},
   "outputs": [
    {
     "data": {
      "text/html": [
       "<div>\n",
       "<style scoped>\n",
       "    .dataframe tbody tr th:only-of-type {\n",
       "        vertical-align: middle;\n",
       "    }\n",
       "\n",
       "    .dataframe tbody tr th {\n",
       "        vertical-align: top;\n",
       "    }\n",
       "\n",
       "    .dataframe thead th {\n",
       "        text-align: right;\n",
       "    }\n",
       "</style>\n",
       "<table border=\"1\" class=\"dataframe\">\n",
       "  <thead>\n",
       "    <tr style=\"text-align: right;\">\n",
       "      <th></th>\n",
       "      <th>numbr_likes</th>\n",
       "      <th>number_comments</th>\n",
       "    </tr>\n",
       "    <tr>\n",
       "      <th>profile_id</th>\n",
       "      <th></th>\n",
       "      <th></th>\n",
       "    </tr>\n",
       "  </thead>\n",
       "  <tbody>\n",
       "    <tr>\n",
       "      <th>9.813508e+06</th>\n",
       "      <td>0.296296</td>\n",
       "      <td>0.000000</td>\n",
       "    </tr>\n",
       "    <tr>\n",
       "      <th>1.996648e+08</th>\n",
       "      <td>7.666667</td>\n",
       "      <td>0.000000</td>\n",
       "    </tr>\n",
       "    <tr>\n",
       "      <th>2.181730e+08</th>\n",
       "      <td>0.400000</td>\n",
       "      <td>0.040000</td>\n",
       "    </tr>\n",
       "    <tr>\n",
       "      <th>2.855497e+08</th>\n",
       "      <td>3.921875</td>\n",
       "      <td>0.000000</td>\n",
       "    </tr>\n",
       "    <tr>\n",
       "      <th>1.087614e+09</th>\n",
       "      <td>2.026316</td>\n",
       "      <td>0.184211</td>\n",
       "    </tr>\n",
       "    <tr>\n",
       "      <th>1.273455e+09</th>\n",
       "      <td>2.960000</td>\n",
       "      <td>0.040000</td>\n",
       "    </tr>\n",
       "    <tr>\n",
       "      <th>1.603890e+09</th>\n",
       "      <td>6.477612</td>\n",
       "      <td>0.044776</td>\n",
       "    </tr>\n",
       "    <tr>\n",
       "      <th>1.607309e+09</th>\n",
       "      <td>1.540541</td>\n",
       "      <td>0.000000</td>\n",
       "    </tr>\n",
       "    <tr>\n",
       "      <th>1.701679e+09</th>\n",
       "      <td>1.447368</td>\n",
       "      <td>0.000000</td>\n",
       "    </tr>\n",
       "    <tr>\n",
       "      <th>8.563367e+09</th>\n",
       "      <td>0.000000</td>\n",
       "      <td>0.000000</td>\n",
       "    </tr>\n",
       "  </tbody>\n",
       "</table>\n",
       "</div>"
      ],
      "text/plain": [
       "              numbr_likes  number_comments\n",
       "profile_id                                \n",
       "9.813508e+06     0.296296         0.000000\n",
       "1.996648e+08     7.666667         0.000000\n",
       "2.181730e+08     0.400000         0.040000\n",
       "2.855497e+08     3.921875         0.000000\n",
       "1.087614e+09     2.026316         0.184211\n",
       "1.273455e+09     2.960000         0.040000\n",
       "1.603890e+09     6.477612         0.044776\n",
       "1.607309e+09     1.540541         0.000000\n",
       "1.701679e+09     1.447368         0.000000\n",
       "8.563367e+09     0.000000         0.000000"
      ]
     },
     "metadata": {},
     "output_type": "display_data"
    }
   ],
   "source": [
    "averages.groupby(\"profile_id\")[['numbr_likes','number_comments']].mean()  "
   ]
  },
  {
   "cell_type": "markdown",
   "id": "7c2f01b7-cfc9-493c-a42b-e4f56b314be0",
   "metadata": {},
   "source": [
    "# 4.4"
   ]
  },
  {
   "cell_type": "markdown",
   "id": "37da29ef-fced-4777-8345-9312b7a16877",
   "metadata": {},
   "source": [
    "**Functions written in the RQ3 file**"
   ]
  },
  {
   "cell_type": "code",
   "execution_count": null,
   "id": "74f3cc61-5d1a-4f9c-a2a1-acc96e3c8ad7",
   "metadata": {},
   "outputs": [],
   "source": [
    "def posts_cts_manager(post_dataframe):\n",
    "    posts_dataframe['cts'] = pd.to_datetime(posts_dataframe.cts).dt.time\n",
    "\n",
    "def time_interval(time_list,posts):\n",
    "    counter  = defaultdict()\n",
    "    for time in time_list:\n",
    "        interval = time[0].strftime(\"%H:%M:%S\")+\" \"+time[1].strftime(\"%H:%M:%S\")\n",
    "        counter[interval] = 0\n",
    "        for date in posts['cts']:\n",
    "            if(type(time[0])== type(date) and time[0]<= date and time[1]>=date):\n",
    "                counter[interval] += 1\n",
    "    plt.figure(figsize=(10,10))\n",
    "    hist  = plt.bar(range(len(list(counter.keys()))), counter.values(), color='g')\n",
    "    print(\"Histogram with the quantity of post publications for each interval given as input:\")\n",
    "    i= 0\n",
    "    for key in counter.keys():\n",
    "        print( \"Interval \"+str(i)+\" = \"+key)\n",
    "        i+=1\n",
    "    return hist"
   ]
  },
  {
   "cell_type": "markdown",
   "id": "94793cb7-f8fb-43b4-b21c-dcaac3b52945",
   "metadata": {},
   "source": [
    "**Pass the time intervals as input of  time_interval() function**"
   ]
  },
  {
   "cell_type": "code",
   "execution_count": null,
   "id": "cae3b112-26c5-47e0-ae0c-aaed3253065e",
   "metadata": {},
   "outputs": [],
   "source": [
    "input_t = [['06:00:00','10:59:59'],['11:00:00','13:59:59'],['14:00:00','16:59:59'],['17:00:00', '19:59:59'],['20:00:00','23:59:59'],['00:00:00','02:59:59'],['03:00:00','05:59:59']]\n",
    "time_list = []\n",
    "for interval in input_t:\n",
    "    row  = []\n",
    "    row.append(datetime.strptime(interval[0], '%H:%M:%S').time())\n",
    "    row.append(datetime.strptime(interval[1],'%H:%M:%S').time())\n",
    "    time_list.append(row)"
   ]
  },
  {
   "cell_type": "markdown",
   "id": "6e896708-6081-4b43-a5df-7d2a91eaee59",
   "metadata": {},
   "source": [
    "**Execute time_interval function with the input built in the cell above on the posts of the top10 profiles with the most number of posts**"
   ]
  },
  {
   "cell_type": "code",
   "execution_count": null,
   "id": "ca7d5cbb-9734-4152-a83e-b40725fb15c1",
   "metadata": {},
   "outputs": [
    {
     "data": {
      "text/html": [
       "<div>\n",
       "<style scoped>\n",
       "    .dataframe tbody tr th:only-of-type {\n",
       "        vertical-align: middle;\n",
       "    }\n",
       "\n",
       "    .dataframe tbody tr th {\n",
       "        vertical-align: top;\n",
       "    }\n",
       "\n",
       "    .dataframe thead th {\n",
       "        text-align: right;\n",
       "    }\n",
       "</style>\n",
       "<table border=\"1\" class=\"dataframe\">\n",
       "  <thead>\n",
       "    <tr style=\"text-align: right;\">\n",
       "      <th></th>\n",
       "      <th>post_id</th>\n",
       "      <th>profile_id</th>\n",
       "      <th>cts</th>\n",
       "      <th>numbr_likes</th>\n",
       "      <th>number_comments</th>\n",
       "    </tr>\n",
       "  </thead>\n",
       "  <tbody>\n",
       "    <tr>\n",
       "      <th>9592952</th>\n",
       "      <td>Bq3hP3Khp8J</td>\n",
       "      <td>1.996648e+08</td>\n",
       "      <td>03:03:33</td>\n",
       "      <td>0.0</td>\n",
       "      <td>0.0</td>\n",
       "    </tr>\n",
       "    <tr>\n",
       "      <th>9592953</th>\n",
       "      <td>Bq3hN53hUsD</td>\n",
       "      <td>1.996648e+08</td>\n",
       "      <td>03:03:17</td>\n",
       "      <td>0.0</td>\n",
       "      <td>0.0</td>\n",
       "    </tr>\n",
       "    <tr>\n",
       "      <th>9592954</th>\n",
       "      <td>BCqCe9LypeF</td>\n",
       "      <td>1.996648e+08</td>\n",
       "      <td>16:28:50</td>\n",
       "      <td>27.0</td>\n",
       "      <td>0.0</td>\n",
       "    </tr>\n",
       "    <tr>\n",
       "      <th>9592955</th>\n",
       "      <td>20Wu4zypd2</td>\n",
       "      <td>1.996648e+08</td>\n",
       "      <td>11:21:27</td>\n",
       "      <td>28.0</td>\n",
       "      <td>0.0</td>\n",
       "    </tr>\n",
       "    <tr>\n",
       "      <th>9592956</th>\n",
       "      <td>BrKq76AhadU</td>\n",
       "      <td>1.996648e+08</td>\n",
       "      <td>13:33:47</td>\n",
       "      <td>1.0</td>\n",
       "      <td>0.0</td>\n",
       "    </tr>\n",
       "    <tr>\n",
       "      <th>...</th>\n",
       "      <td>...</td>\n",
       "      <td>...</td>\n",
       "      <td>...</td>\n",
       "      <td>...</td>\n",
       "      <td>...</td>\n",
       "    </tr>\n",
       "    <tr>\n",
       "      <th>40437904</th>\n",
       "      <td>BxT74jSH25K</td>\n",
       "      <td>1.701679e+09</td>\n",
       "      <td>08:03:24</td>\n",
       "      <td>0.0</td>\n",
       "      <td>0.0</td>\n",
       "    </tr>\n",
       "    <tr>\n",
       "      <th>40996459</th>\n",
       "      <td>BxzVSO6hq2V</td>\n",
       "      <td>1.701679e+09</td>\n",
       "      <td>06:41:49</td>\n",
       "      <td>1.0</td>\n",
       "      <td>0.0</td>\n",
       "    </tr>\n",
       "    <tr>\n",
       "      <th>41291564</th>\n",
       "      <td>BxrFpFzBquO</td>\n",
       "      <td>1.701679e+09</td>\n",
       "      <td>07:51:12</td>\n",
       "      <td>1.0</td>\n",
       "      <td>0.0</td>\n",
       "    </tr>\n",
       "    <tr>\n",
       "      <th>42357392</th>\n",
       "      <td>BxwWhDXh9-v</td>\n",
       "      <td>1.701679e+09</td>\n",
       "      <td>08:54:51</td>\n",
       "      <td>1.0</td>\n",
       "      <td>0.0</td>\n",
       "    </tr>\n",
       "    <tr>\n",
       "      <th>42518438</th>\n",
       "      <td>Bv9bevBhRyb</td>\n",
       "      <td>1.701679e+09</td>\n",
       "      <td>17:45:34</td>\n",
       "      <td>0.0</td>\n",
       "      <td>0.0</td>\n",
       "    </tr>\n",
       "  </tbody>\n",
       "</table>\n",
       "<p>432 rows × 5 columns</p>\n",
       "</div>"
      ],
      "text/plain": [
       "              post_id    profile_id       cts  numbr_likes  number_comments\n",
       "9592952   Bq3hP3Khp8J  1.996648e+08  03:03:33          0.0              0.0\n",
       "9592953   Bq3hN53hUsD  1.996648e+08  03:03:17          0.0              0.0\n",
       "9592954   BCqCe9LypeF  1.996648e+08  16:28:50         27.0              0.0\n",
       "9592955    20Wu4zypd2  1.996648e+08  11:21:27         28.0              0.0\n",
       "9592956   BrKq76AhadU  1.996648e+08  13:33:47          1.0              0.0\n",
       "...               ...           ...       ...          ...              ...\n",
       "40437904  BxT74jSH25K  1.701679e+09  08:03:24          0.0              0.0\n",
       "40996459  BxzVSO6hq2V  1.701679e+09  06:41:49          1.0              0.0\n",
       "41291564  BxrFpFzBquO  1.701679e+09  07:51:12          1.0              0.0\n",
       "42357392  BxwWhDXh9-v  1.701679e+09  08:54:51          1.0              0.0\n",
       "42518438  Bv9bevBhRyb  1.701679e+09  17:45:34          0.0              0.0\n",
       "\n",
       "[432 rows x 5 columns]"
      ]
     },
     "metadata": {},
     "output_type": "display_data"
    }
   ],
   "source": [
    "target_posts = posts_top_profiles(10,posts_dataframe,profile_dataframe)   \n",
    "display(target_posts)"
   ]
  },
  {
   "cell_type": "code",
   "execution_count": null,
   "id": "4970fc50-c7e0-41ff-949c-12057736d470",
   "metadata": {},
   "outputs": [],
   "source": [
    "#execute this cell ONLY ONCE if target_posts have just been loaded in the file\n",
    "#posts_cts_manager(target_posts)"
   ]
  },
  {
   "cell_type": "code",
   "execution_count": null,
   "id": "4536cc49-9d26-472f-a798-6a70c29503f9",
   "metadata": {},
   "outputs": [
    {
     "name": "stdout",
     "output_type": "stream",
     "text": [
      "Histogram with the quantity of post publications for each interval given as input:\n",
      "Interval 0 = 06:00:00 10:59:59\n",
      "Interval 1 = 11:00:00 13:59:59\n",
      "Interval 2 = 14:00:00 16:59:59\n",
      "Interval 3 = 17:00:00 19:59:59\n",
      "Interval 4 = 20:00:00 23:59:59\n",
      "Interval 5 = 00:00:00 02:59:59\n",
      "Interval 6 = 03:00:00 05:59:59\n"
     ]
    },
    {
     "data": {
      "image/png": "[encoded data removed]",
      "text/plain": [
       "<Figure size 720x720 with 1 Axes>"
      ]
     },
     "metadata": {},
     "output_type": "display_data"
    }
   ],
   "source": [
    "time_interval(time_list,target_posts)\n",
    "plt.title(\"Number of post publications for each time interval\")\n",
    "plt.ylabel(\"Number of publications\")\n",
    "plt.xlabel(\"I-th time interval i= [0-6]\")\n",
    "plt.show()"
   ]
  },
  {
   "cell_type": "markdown",
   "id": "162812df-a2fe-4bd5-bb38-50b49cf9495b",
   "metadata": {},
   "source": [
    "# CONCLUSION\n",
    "The plot shows us that the top10 profiles prefer to post in the time that goes from 6 am to 11 am.\n",
    "This result can't give a general conclusion on the preferred time in which users publish their posts. Beacuse this result is not the same as the one considering all the other profiles, since the result obtained may be influenced by the publication times of a single profile."
   ]
  },
  {
   "cell_type": "markdown",
   "id": "fd9b91ae",
   "metadata": {},
   "source": [
    "# FREE MEMORY"
   ]
  },
  {
   "cell_type": "code",
   "execution_count": null,
   "id": "107ad243",
   "metadata": {},
   "outputs": [
    {
     "ename": "NameError",
     "evalue": "name 'posts_dataframe' is not defined",
     "output_type": "error",
     "traceback": [
      "\u001b[1;31m---------------------------------------------------------------------------\u001b[0m\n",
      "\u001b[1;31mNameError\u001b[0m                                 Traceback (most recent call last)\n",
      "\u001b[1;32mc:\\Users\\Winuser\\Desktop\\ADM_HW2\\RQ4.ipynb Cella 36\u001b[0m in \u001b[0;36m<cell line: 1>\u001b[1;34m()\u001b[0m\n",
      "\u001b[1;32m----> <a href='vscode-notebook-cell:/c%3A/Users/Winuser/Desktop/ADM_HW2/RQ4.ipynb#X54sZmlsZQ%3D%3D?line=0'>1</a>\u001b[0m \u001b[39mdel\u001b[39;00m posts_dataframe\n",
      "\u001b[0;32m      <a href='vscode-notebook-cell:/c%3A/Users/Winuser/Desktop/ADM_HW2/RQ4.ipynb#X54sZmlsZQ%3D%3D?line=1'>2</a>\u001b[0m \u001b[39mdel\u001b[39;00m profile_dataframe\n",
      "\u001b[0;32m      <a href='vscode-notebook-cell:/c%3A/Users/Winuser/Desktop/ADM_HW2/RQ4.ipynb#X54sZmlsZQ%3D%3D?line=2'>3</a>\u001b[0m \u001b[39mdel\u001b[39;00m target_posts\n",
      "\n",
      "\u001b[1;31mNameError\u001b[0m: name 'posts_dataframe' is not defined"
     ]
    }
   ],
   "source": [
    "del posts_dataframe\n",
    "del profile_dataframe\n",
    "del target_posts"
   ]
  },
  {
   "cell_type": "markdown",
   "metadata": {},
   "source": [
    "## RQ 5"
   ]
  },
  {
   "cell_type": "markdown",
   "metadata": {},
   "source": [
    "#### The most influential users are the ones with the highest number of “followers\", you can now look more into their activity"
   ]
  },
  {
   "cell_type": "markdown",
   "metadata": {},
   "source": [
    "##### The Pandas import is performed and the Profiles csv is saved in Parquet"
   ]
  },
  {
   "cell_type": "code",
   "execution_count": null,
   "metadata": {},
   "outputs": [
    {
     "name": "stdout",
     "output_type": "stream",
     "text": [
      "Requirement already satisfied: pyarrow in /Users/mariaalejandrapenaortiz/opt/anaconda3/lib/python3.9/site-packages (9.0.0)\n",
      "Requirement already satisfied: numpy>=1.16.6 in /Users/mariaalejandrapenaortiz/opt/anaconda3/lib/python3.9/site-packages (from pyarrow) (1.21.5)\n",
      "\n",
      "\u001b[1m[\u001b[0m\u001b[34;49mnotice\u001b[0m\u001b[1;39;49m]\u001b[0m\u001b[39;49m A new release of pip available: \u001b[0m\u001b[31;49m22.2.2\u001b[0m\u001b[39;49m -> \u001b[0m\u001b[32;49m22.3\u001b[0m\n",
      "\u001b[1m[\u001b[0m\u001b[34;49mnotice\u001b[0m\u001b[1;39;49m]\u001b[0m\u001b[39;49m To update, run: \u001b[0m\u001b[32;49mpip install --upgrade pip\u001b[0m\n"
     ]
    },
    {
     "data": {
      "text/html": [
       "<div>\n",
       "<style scoped>\n",
       "    .dataframe tbody tr th:only-of-type {\n",
       "        vertical-align: middle;\n",
       "    }\n",
       "\n",
       "    .dataframe tbody tr th {\n",
       "        vertical-align: top;\n",
       "    }\n",
       "\n",
       "    .dataframe thead th {\n",
       "        text-align: right;\n",
       "    }\n",
       "</style>\n",
       "<table border=\"1\" class=\"dataframe\">\n",
       "  <thead>\n",
       "    <tr style=\"text-align: right;\">\n",
       "      <th></th>\n",
       "      <th>sid</th>\n",
       "      <th>profile_id</th>\n",
       "      <th>profile_name</th>\n",
       "      <th>firstname_lastname</th>\n",
       "      <th>description</th>\n",
       "      <th>following</th>\n",
       "      <th>followers</th>\n",
       "      <th>n_posts</th>\n",
       "      <th>url</th>\n",
       "      <th>cts</th>\n",
       "      <th>is_business_account</th>\n",
       "    </tr>\n",
       "  </thead>\n",
       "  <tbody>\n",
       "    <tr>\n",
       "      <th>0</th>\n",
       "      <td>4184446</td>\n",
       "      <td>4.721050e+09</td>\n",
       "      <td>jphillip033</td>\n",
       "      <td>John Pierce</td>\n",
       "      <td>\"Document Everything Always\"</td>\n",
       "      <td>250.0</td>\n",
       "      <td>146.0</td>\n",
       "      <td>170.0</td>\n",
       "      <td>NaN</td>\n",
       "      <td>2019-08-01 14:38:55.394 -0400</td>\n",
       "      <td>False</td>\n",
       "    </tr>\n",
       "    <tr>\n",
       "      <th>1</th>\n",
       "      <td>4184457</td>\n",
       "      <td>5.905830e+08</td>\n",
       "      <td>mama_haas</td>\n",
       "      <td>Deanna</td>\n",
       "      <td>Trying to enjoy the simple things in life. Kni...</td>\n",
       "      <td>534.0</td>\n",
       "      <td>1145.0</td>\n",
       "      <td>2878.0</td>\n",
       "      <td>www.etsy.com/shop/MamaHaas69</td>\n",
       "      <td>2019-08-01 14:39:36.526 -0400</td>\n",
       "      <td>False</td>\n",
       "    </tr>\n",
       "  </tbody>\n",
       "</table>\n",
       "</div>"
      ],
      "text/plain": [
       "       sid    profile_id profile_name firstname_lastname  \\\n",
       "0  4184446  4.721050e+09  jphillip033        John Pierce   \n",
       "1  4184457  5.905830e+08    mama_haas             Deanna   \n",
       "\n",
       "                                         description  following  followers  \\\n",
       "0                       \"Document Everything Always\"      250.0      146.0   \n",
       "1  Trying to enjoy the simple things in life. Kni...      534.0     1145.0   \n",
       "\n",
       "   n_posts                           url                            cts  \\\n",
       "0    170.0                           NaN  2019-08-01 14:38:55.394 -0400   \n",
       "1   2878.0  www.etsy.com/shop/MamaHaas69  2019-08-01 14:39:36.526 -0400   \n",
       "\n",
       "  is_business_account  \n",
       "0               False  \n",
       "1               False  "
      ]
     },
     "metadata": {},
     "output_type": "display_data"
    }
   ],
   "source": [
    "import pandas as pd\n",
    "\n",
    "profiles_df = pd.read_csv('instagram_profiles.zip', delimiter='\\t')\n",
    "\n",
    "!pip install pyarrow\n",
    "\n",
    "profiles_df.to_parquet('profiles_df.parquet.snappy')\n",
    "\n",
    "profiles_df.head(2)"
   ]
  },
  {
   "cell_type": "markdown",
   "metadata": {},
   "source": [
    "#### 5.1 Plot the top 10 most popular users in terms of followers and their number of posts."
   ]
  },
  {
   "cell_type": "markdown",
   "metadata": {},
   "source": [
    "##### The dataframe was organized to only obtain the necessary columns. .nlargest() was used to select the 10 most popular usersbased on followers"
   ]
  },
  {
   "cell_type": "code",
   "execution_count": null,
   "metadata": {},
   "outputs": [
    {
     "data": {
      "text/html": [
       "<div>\n",
       "<style scoped>\n",
       "    .dataframe tbody tr th:only-of-type {\n",
       "        vertical-align: middle;\n",
       "    }\n",
       "\n",
       "    .dataframe tbody tr th {\n",
       "        vertical-align: top;\n",
       "    }\n",
       "\n",
       "    .dataframe thead th {\n",
       "        text-align: right;\n",
       "    }\n",
       "</style>\n",
       "<table border=\"1\" class=\"dataframe\">\n",
       "  <thead>\n",
       "    <tr style=\"text-align: right;\">\n",
       "      <th></th>\n",
       "      <th>profile_id</th>\n",
       "      <th>profile_name</th>\n",
       "      <th>followers</th>\n",
       "      <th>n_posts</th>\n",
       "    </tr>\n",
       "  </thead>\n",
       "  <tbody>\n",
       "    <tr>\n",
       "      <th>2880218</th>\n",
       "      <td>2.502532e+07</td>\n",
       "      <td>instagram</td>\n",
       "      <td>285457645.0</td>\n",
       "      <td>5760.0</td>\n",
       "    </tr>\n",
       "    <tr>\n",
       "      <th>2582507</th>\n",
       "      <td>3.416684e+06</td>\n",
       "      <td>victoriassecret</td>\n",
       "      <td>65269440.0</td>\n",
       "      <td>7355.0</td>\n",
       "    </tr>\n",
       "    <tr>\n",
       "      <th>3820939</th>\n",
       "      <td>2.082449e+07</td>\n",
       "      <td>nba</td>\n",
       "      <td>35339708.0</td>\n",
       "      <td>28816.0</td>\n",
       "    </tr>\n",
       "    <tr>\n",
       "      <th>701965</th>\n",
       "      <td>1.876191e+08</td>\n",
       "      <td>louisvuitton</td>\n",
       "      <td>30689316.0</td>\n",
       "      <td>3352.0</td>\n",
       "    </tr>\n",
       "    <tr>\n",
       "      <th>2414951</th>\n",
       "      <td>2.125507e+09</td>\n",
       "      <td>buzzfeedtasty</td>\n",
       "      <td>30246783.0</td>\n",
       "      <td>2791.0</td>\n",
       "    </tr>\n",
       "    <tr>\n",
       "      <th>2785241</th>\n",
       "      <td>4.968651e+08</td>\n",
       "      <td>andresiniesta8</td>\n",
       "      <td>29542143.0</td>\n",
       "      <td>990.0</td>\n",
       "    </tr>\n",
       "    <tr>\n",
       "      <th>333193</th>\n",
       "      <td>2.341008e+07</td>\n",
       "      <td>hm</td>\n",
       "      <td>29176804.0</td>\n",
       "      <td>4566.0</td>\n",
       "    </tr>\n",
       "    <tr>\n",
       "      <th>3934581</th>\n",
       "      <td>2.423993e+07</td>\n",
       "      <td>princessyahrini</td>\n",
       "      <td>29042823.0</td>\n",
       "      <td>4719.0</td>\n",
       "    </tr>\n",
       "    <tr>\n",
       "      <th>1311970</th>\n",
       "      <td>5.041706e+07</td>\n",
       "      <td>danbilzerian</td>\n",
       "      <td>26476004.0</td>\n",
       "      <td>1311.0</td>\n",
       "    </tr>\n",
       "    <tr>\n",
       "      <th>1703764</th>\n",
       "      <td>9.070254e+08</td>\n",
       "      <td>akshaykumar</td>\n",
       "      <td>26252169.0</td>\n",
       "      <td>1173.0</td>\n",
       "    </tr>\n",
       "  </tbody>\n",
       "</table>\n",
       "</div>"
      ],
      "text/plain": [
       "           profile_id     profile_name    followers  n_posts\n",
       "2880218  2.502532e+07        instagram  285457645.0   5760.0\n",
       "2582507  3.416684e+06  victoriassecret   65269440.0   7355.0\n",
       "3820939  2.082449e+07              nba   35339708.0  28816.0\n",
       "701965   1.876191e+08     louisvuitton   30689316.0   3352.0\n",
       "2414951  2.125507e+09    buzzfeedtasty   30246783.0   2791.0\n",
       "2785241  4.968651e+08   andresiniesta8   29542143.0    990.0\n",
       "333193   2.341008e+07               hm   29176804.0   4566.0\n",
       "3934581  2.423993e+07  princessyahrini   29042823.0   4719.0\n",
       "1311970  5.041706e+07     danbilzerian   26476004.0   1311.0\n",
       "1703764  9.070254e+08      akshaykumar   26252169.0   1173.0"
      ]
     },
     "metadata": {},
     "output_type": "display_data"
    }
   ],
   "source": [
    "top10 = profiles_df[['profile_id', 'profile_name', 'followers', 'n_posts']] \\\n",
    "    .nlargest(10, 'followers')\n",
    "    \n",
    "top10"
   ]
  },
  {
   "cell_type": "markdown",
   "metadata": {},
   "source": [
    "##### pd.plot() and the subplot attribute were used to get the top 10 most popular users in terms of number of posts and followers. Subplot was used because the scale of y values ​​differed by a large number and therefore it was not possible to correctly represent both attributes in the same plot.\n",
    "\n",
    "##### More props at https://pandas.pydata.org/docs/reference/api/pandas.DataFrame.plot.html"
   ]
  },
  {
   "cell_type": "code",
   "execution_count": null,
   "metadata": {},
   "outputs": [
    {
     "data": {
      "text/plain": [
       "array([<AxesSubplot:title={'center':'n_posts'}, xlabel='profile_name'>,\n",
       "       <AxesSubplot:title={'center':'followers'}, xlabel='profile_name'>],\n",
       "      dtype=object)"
      ]
     },
     "metadata": {},
     "output_type": "display_data"
    },
    {
     "data": {
      "image/png": "[encoded data removed]",
      "text/plain": [
       "<Figure size 576x576 with 2 Axes>"
      ]
     },
     "metadata": {},
     "output_type": "display_data"
    }
   ],
   "source": [
    "top10.plot(x='profile_name', y=['n_posts', 'followers'], kind='bar', subplots=True, \n",
    "           title='Top 10 - Popular users', figsize=(8, 8)) # , layout=(1, 2), sharey=True)"
   ]
  },
  {
   "cell_type": "markdown",
   "metadata": {},
   "source": [
    "#### 5.2 Who is the most influential user?\n",
    "\n",
    "##### Assuming that the most influential user is the one with the largest number of followers, the \"Instagram\" user is the most influential as it has 285M followers with 5.7K posts."
   ]
  },
  {
   "cell_type": "code",
   "execution_count": null,
   "metadata": {},
   "outputs": [
    {
     "data": {
      "text/html": [
       "<div>\n",
       "<style scoped>\n",
       "    .dataframe tbody tr th:only-of-type {\n",
       "        vertical-align: middle;\n",
       "    }\n",
       "\n",
       "    .dataframe tbody tr th {\n",
       "        vertical-align: top;\n",
       "    }\n",
       "\n",
       "    .dataframe thead th {\n",
       "        text-align: right;\n",
       "    }\n",
       "</style>\n",
       "<table border=\"1\" class=\"dataframe\">\n",
       "  <thead>\n",
       "    <tr style=\"text-align: right;\">\n",
       "      <th></th>\n",
       "      <th>profile_id</th>\n",
       "      <th>profile_name</th>\n",
       "      <th>followers</th>\n",
       "      <th>n_posts</th>\n",
       "    </tr>\n",
       "  </thead>\n",
       "  <tbody>\n",
       "    <tr>\n",
       "      <th>2880218</th>\n",
       "      <td>25025320.0</td>\n",
       "      <td>instagram</td>\n",
       "      <td>285457645.0</td>\n",
       "      <td>5760.0</td>\n",
       "    </tr>\n",
       "  </tbody>\n",
       "</table>\n",
       "</div>"
      ],
      "text/plain": [
       "         profile_id profile_name    followers  n_posts\n",
       "2880218  25025320.0    instagram  285457645.0   5760.0"
      ]
     },
     "metadata": {},
     "output_type": "display_data"
    }
   ],
   "source": [
    "top10.head(1)"
   ]
  },
  {
   "cell_type": "markdown",
   "metadata": {},
   "source": [
    "#### 5.3 Have they posted anything with tagged locations? Extract the most frequent areas on their posts and plot the number of times each city has been visited.\n",
    "\n",
    "##### .astype('int32') was used to convert the \"profile_id\" column format to integers."
   ]
  },
  {
   "cell_type": "code",
   "execution_count": null,
   "metadata": {},
   "outputs": [],
   "source": [
    "\n",
    "selected_profile_ids = top10.profile_id.astype('int32').to_list()"
   ]
  },
  {
   "cell_type": "markdown",
   "metadata": {},
   "source": [
    "##### Through the for loop and the established chunksize, we search for all the posts that are related to the 10 most influential profiles."
   ]
  },
  {
   "cell_type": "code",
   "execution_count": null,
   "metadata": {},
   "outputs": [
    {
     "name": "stderr",
     "output_type": "stream",
     "text": [
      "86it [04:03,  2.83s/it]\n"
     ]
    }
   ],
   "source": [
    "from tqdm import tqdm\n",
    "\n",
    "posts_list = []\n",
    "\n",
    "for chunk in tqdm(pd.read_csv('instagram_posts.zip', delimiter='\\t', chunksize=500000)):\n",
    "    \n",
    "    filtered = chunk[chunk.profile_id.isin(selected_profile_ids)]\n",
    "    \n",
    "    posts_list.append(filtered)\n"
   ]
  },
  {
   "cell_type": "markdown",
   "metadata": {},
   "source": [
    "##### Through the lambda function, an append is made of all the 86 DataFrames that were obtained in the previous loop and they are saved in the DataFrame \"posts_df\""
   ]
  },
  {
   "cell_type": "code",
   "execution_count": null,
   "metadata": {},
   "outputs": [
    {
     "name": "stderr",
     "output_type": "stream",
     "text": [
      "/var/folders/gy/6j7jtq4n7m36jvtq0tfc4t880000gn/T/ipykernel_1098/1048374259.py:3: FutureWarning: The frame.append method is deprecated and will be removed from pandas in a future version. Use pandas.concat instead.\n",
      "  posts_df = reduce(lambda df1, df2: df1.append(df2), posts_list)\n",
      "/var/folders/gy/6j7jtq4n7m36jvtq0tfc4t880000gn/T/ipykernel_1098/1048374259.py:3: FutureWarning: The frame.append method is deprecated and will be removed from pandas in a future version. Use pandas.concat instead.\n",
      "  posts_df = reduce(lambda df1, df2: df1.append(df2), posts_list)\n",
      "/var/folders/gy/6j7jtq4n7m36jvtq0tfc4t880000gn/T/ipykernel_1098/1048374259.py:3: FutureWarning: The frame.append method is deprecated and will be removed from pandas in a future version. Use pandas.concat instead.\n",
      "  posts_df = reduce(lambda df1, df2: df1.append(df2), posts_list)\n",
      "/var/folders/gy/6j7jtq4n7m36jvtq0tfc4t880000gn/T/ipykernel_1098/1048374259.py:3: FutureWarning: The frame.append method is deprecated and will be removed from pandas in a future version. Use pandas.concat instead.\n",
      "  posts_df = reduce(lambda df1, df2: df1.append(df2), posts_list)\n",
      "/var/folders/gy/6j7jtq4n7m36jvtq0tfc4t880000gn/T/ipykernel_1098/1048374259.py:3: FutureWarning: The frame.append method is deprecated and will be removed from pandas in a future version. Use pandas.concat instead.\n",
      "  posts_df = reduce(lambda df1, df2: df1.append(df2), posts_list)\n",
      "/var/folders/gy/6j7jtq4n7m36jvtq0tfc4t880000gn/T/ipykernel_1098/1048374259.py:3: FutureWarning: The frame.append method is deprecated and will be removed from pandas in a future version. Use pandas.concat instead.\n",
      "  posts_df = reduce(lambda df1, df2: df1.append(df2), posts_list)\n",
      "/var/folders/gy/6j7jtq4n7m36jvtq0tfc4t880000gn/T/ipykernel_1098/1048374259.py:3: FutureWarning: The frame.append method is deprecated and will be removed from pandas in a future version. Use pandas.concat instead.\n",
      "  posts_df = reduce(lambda df1, df2: df1.append(df2), posts_list)\n",
      "/var/folders/gy/6j7jtq4n7m36jvtq0tfc4t880000gn/T/ipykernel_1098/1048374259.py:3: FutureWarning: The frame.append method is deprecated and will be removed from pandas in a future version. Use pandas.concat instead.\n",
      "  posts_df = reduce(lambda df1, df2: df1.append(df2), posts_list)\n",
      "/var/folders/gy/6j7jtq4n7m36jvtq0tfc4t880000gn/T/ipykernel_1098/1048374259.py:3: FutureWarning: The frame.append method is deprecated and will be removed from pandas in a future version. Use pandas.concat instead.\n",
      "  posts_df = reduce(lambda df1, df2: df1.append(df2), posts_list)\n",
      "/var/folders/gy/6j7jtq4n7m36jvtq0tfc4t880000gn/T/ipykernel_1098/1048374259.py:3: FutureWarning: The frame.append method is deprecated and will be removed from pandas in a future version. Use pandas.concat instead.\n",
      "  posts_df = reduce(lambda df1, df2: df1.append(df2), posts_list)\n",
      "/var/folders/gy/6j7jtq4n7m36jvtq0tfc4t880000gn/T/ipykernel_1098/1048374259.py:3: FutureWarning: The frame.append method is deprecated and will be removed from pandas in a future version. Use pandas.concat instead.\n",
      "  posts_df = reduce(lambda df1, df2: df1.append(df2), posts_list)\n",
      "/var/folders/gy/6j7jtq4n7m36jvtq0tfc4t880000gn/T/ipykernel_1098/1048374259.py:3: FutureWarning: The frame.append method is deprecated and will be removed from pandas in a future version. Use pandas.concat instead.\n",
      "  posts_df = reduce(lambda df1, df2: df1.append(df2), posts_list)\n",
      "/var/folders/gy/6j7jtq4n7m36jvtq0tfc4t880000gn/T/ipykernel_1098/1048374259.py:3: FutureWarning: The frame.append method is deprecated and will be removed from pandas in a future version. Use pandas.concat instead.\n",
      "  posts_df = reduce(lambda df1, df2: df1.append(df2), posts_list)\n",
      "/var/folders/gy/6j7jtq4n7m36jvtq0tfc4t880000gn/T/ipykernel_1098/1048374259.py:3: FutureWarning: The frame.append method is deprecated and will be removed from pandas in a future version. Use pandas.concat instead.\n",
      "  posts_df = reduce(lambda df1, df2: df1.append(df2), posts_list)\n",
      "/var/folders/gy/6j7jtq4n7m36jvtq0tfc4t880000gn/T/ipykernel_1098/1048374259.py:3: FutureWarning: The frame.append method is deprecated and will be removed from pandas in a future version. Use pandas.concat instead.\n",
      "  posts_df = reduce(lambda df1, df2: df1.append(df2), posts_list)\n",
      "/var/folders/gy/6j7jtq4n7m36jvtq0tfc4t880000gn/T/ipykernel_1098/1048374259.py:3: FutureWarning: The frame.append method is deprecated and will be removed from pandas in a future version. Use pandas.concat instead.\n",
      "  posts_df = reduce(lambda df1, df2: df1.append(df2), posts_list)\n",
      "/var/folders/gy/6j7jtq4n7m36jvtq0tfc4t880000gn/T/ipykernel_1098/1048374259.py:3: FutureWarning: The frame.append method is deprecated and will be removed from pandas in a future version. Use pandas.concat instead.\n",
      "  posts_df = reduce(lambda df1, df2: df1.append(df2), posts_list)\n",
      "/var/folders/gy/6j7jtq4n7m36jvtq0tfc4t880000gn/T/ipykernel_1098/1048374259.py:3: FutureWarning: The frame.append method is deprecated and will be removed from pandas in a future version. Use pandas.concat instead.\n",
      "  posts_df = reduce(lambda df1, df2: df1.append(df2), posts_list)\n",
      "/var/folders/gy/6j7jtq4n7m36jvtq0tfc4t880000gn/T/ipykernel_1098/1048374259.py:3: FutureWarning: The frame.append method is deprecated and will be removed from pandas in a future version. Use pandas.concat instead.\n",
      "  posts_df = reduce(lambda df1, df2: df1.append(df2), posts_list)\n",
      "/var/folders/gy/6j7jtq4n7m36jvtq0tfc4t880000gn/T/ipykernel_1098/1048374259.py:3: FutureWarning: The frame.append method is deprecated and will be removed from pandas in a future version. Use pandas.concat instead.\n",
      "  posts_df = reduce(lambda df1, df2: df1.append(df2), posts_list)\n",
      "/var/folders/gy/6j7jtq4n7m36jvtq0tfc4t880000gn/T/ipykernel_1098/1048374259.py:3: FutureWarning: The frame.append method is deprecated and will be removed from pandas in a future version. Use pandas.concat instead.\n",
      "  posts_df = reduce(lambda df1, df2: df1.append(df2), posts_list)\n",
      "/var/folders/gy/6j7jtq4n7m36jvtq0tfc4t880000gn/T/ipykernel_1098/1048374259.py:3: FutureWarning: The frame.append method is deprecated and will be removed from pandas in a future version. Use pandas.concat instead.\n",
      "  posts_df = reduce(lambda df1, df2: df1.append(df2), posts_list)\n",
      "/var/folders/gy/6j7jtq4n7m36jvtq0tfc4t880000gn/T/ipykernel_1098/1048374259.py:3: FutureWarning: The frame.append method is deprecated and will be removed from pandas in a future version. Use pandas.concat instead.\n",
      "  posts_df = reduce(lambda df1, df2: df1.append(df2), posts_list)\n",
      "/var/folders/gy/6j7jtq4n7m36jvtq0tfc4t880000gn/T/ipykernel_1098/1048374259.py:3: FutureWarning: The frame.append method is deprecated and will be removed from pandas in a future version. Use pandas.concat instead.\n",
      "  posts_df = reduce(lambda df1, df2: df1.append(df2), posts_list)\n",
      "/var/folders/gy/6j7jtq4n7m36jvtq0tfc4t880000gn/T/ipykernel_1098/1048374259.py:3: FutureWarning: The frame.append method is deprecated and will be removed from pandas in a future version. Use pandas.concat instead.\n",
      "  posts_df = reduce(lambda df1, df2: df1.append(df2), posts_list)\n",
      "/var/folders/gy/6j7jtq4n7m36jvtq0tfc4t880000gn/T/ipykernel_1098/1048374259.py:3: FutureWarning: The frame.append method is deprecated and will be removed from pandas in a future version. Use pandas.concat instead.\n",
      "  posts_df = reduce(lambda df1, df2: df1.append(df2), posts_list)\n",
      "/var/folders/gy/6j7jtq4n7m36jvtq0tfc4t880000gn/T/ipykernel_1098/1048374259.py:3: FutureWarning: The frame.append method is deprecated and will be removed from pandas in a future version. Use pandas.concat instead.\n",
      "  posts_df = reduce(lambda df1, df2: df1.append(df2), posts_list)\n",
      "/var/folders/gy/6j7jtq4n7m36jvtq0tfc4t880000gn/T/ipykernel_1098/1048374259.py:3: FutureWarning: The frame.append method is deprecated and will be removed from pandas in a future version. Use pandas.concat instead.\n",
      "  posts_df = reduce(lambda df1, df2: df1.append(df2), posts_list)\n",
      "/var/folders/gy/6j7jtq4n7m36jvtq0tfc4t880000gn/T/ipykernel_1098/1048374259.py:3: FutureWarning: The frame.append method is deprecated and will be removed from pandas in a future version. Use pandas.concat instead.\n",
      "  posts_df = reduce(lambda df1, df2: df1.append(df2), posts_list)\n",
      "/var/folders/gy/6j7jtq4n7m36jvtq0tfc4t880000gn/T/ipykernel_1098/1048374259.py:3: FutureWarning: The frame.append method is deprecated and will be removed from pandas in a future version. Use pandas.concat instead.\n",
      "  posts_df = reduce(lambda df1, df2: df1.append(df2), posts_list)\n",
      "/var/folders/gy/6j7jtq4n7m36jvtq0tfc4t880000gn/T/ipykernel_1098/1048374259.py:3: FutureWarning: The frame.append method is deprecated and will be removed from pandas in a future version. Use pandas.concat instead.\n",
      "  posts_df = reduce(lambda df1, df2: df1.append(df2), posts_list)\n",
      "/var/folders/gy/6j7jtq4n7m36jvtq0tfc4t880000gn/T/ipykernel_1098/1048374259.py:3: FutureWarning: The frame.append method is deprecated and will be removed from pandas in a future version. Use pandas.concat instead.\n",
      "  posts_df = reduce(lambda df1, df2: df1.append(df2), posts_list)\n",
      "/var/folders/gy/6j7jtq4n7m36jvtq0tfc4t880000gn/T/ipykernel_1098/1048374259.py:3: FutureWarning: The frame.append method is deprecated and will be removed from pandas in a future version. Use pandas.concat instead.\n",
      "  posts_df = reduce(lambda df1, df2: df1.append(df2), posts_list)\n",
      "/var/folders/gy/6j7jtq4n7m36jvtq0tfc4t880000gn/T/ipykernel_1098/1048374259.py:3: FutureWarning: The frame.append method is deprecated and will be removed from pandas in a future version. Use pandas.concat instead.\n",
      "  posts_df = reduce(lambda df1, df2: df1.append(df2), posts_list)\n",
      "/var/folders/gy/6j7jtq4n7m36jvtq0tfc4t880000gn/T/ipykernel_1098/1048374259.py:3: FutureWarning: The frame.append method is deprecated and will be removed from pandas in a future version. Use pandas.concat instead.\n",
      "  posts_df = reduce(lambda df1, df2: df1.append(df2), posts_list)\n",
      "/var/folders/gy/6j7jtq4n7m36jvtq0tfc4t880000gn/T/ipykernel_1098/1048374259.py:3: FutureWarning: The frame.append method is deprecated and will be removed from pandas in a future version. Use pandas.concat instead.\n",
      "  posts_df = reduce(lambda df1, df2: df1.append(df2), posts_list)\n",
      "/var/folders/gy/6j7jtq4n7m36jvtq0tfc4t880000gn/T/ipykernel_1098/1048374259.py:3: FutureWarning: The frame.append method is deprecated and will be removed from pandas in a future version. Use pandas.concat instead.\n",
      "  posts_df = reduce(lambda df1, df2: df1.append(df2), posts_list)\n",
      "/var/folders/gy/6j7jtq4n7m36jvtq0tfc4t880000gn/T/ipykernel_1098/1048374259.py:3: FutureWarning: The frame.append method is deprecated and will be removed from pandas in a future version. Use pandas.concat instead.\n",
      "  posts_df = reduce(lambda df1, df2: df1.append(df2), posts_list)\n",
      "/var/folders/gy/6j7jtq4n7m36jvtq0tfc4t880000gn/T/ipykernel_1098/1048374259.py:3: FutureWarning: The frame.append method is deprecated and will be removed from pandas in a future version. Use pandas.concat instead.\n",
      "  posts_df = reduce(lambda df1, df2: df1.append(df2), posts_list)\n",
      "/var/folders/gy/6j7jtq4n7m36jvtq0tfc4t880000gn/T/ipykernel_1098/1048374259.py:3: FutureWarning: The frame.append method is deprecated and will be removed from pandas in a future version. Use pandas.concat instead.\n",
      "  posts_df = reduce(lambda df1, df2: df1.append(df2), posts_list)\n",
      "/var/folders/gy/6j7jtq4n7m36jvtq0tfc4t880000gn/T/ipykernel_1098/1048374259.py:3: FutureWarning: The frame.append method is deprecated and will be removed from pandas in a future version. Use pandas.concat instead.\n",
      "  posts_df = reduce(lambda df1, df2: df1.append(df2), posts_list)\n",
      "/var/folders/gy/6j7jtq4n7m36jvtq0tfc4t880000gn/T/ipykernel_1098/1048374259.py:3: FutureWarning: The frame.append method is deprecated and will be removed from pandas in a future version. Use pandas.concat instead.\n",
      "  posts_df = reduce(lambda df1, df2: df1.append(df2), posts_list)\n",
      "/var/folders/gy/6j7jtq4n7m36jvtq0tfc4t880000gn/T/ipykernel_1098/1048374259.py:3: FutureWarning: The frame.append method is deprecated and will be removed from pandas in a future version. Use pandas.concat instead.\n",
      "  posts_df = reduce(lambda df1, df2: df1.append(df2), posts_list)\n",
      "/var/folders/gy/6j7jtq4n7m36jvtq0tfc4t880000gn/T/ipykernel_1098/1048374259.py:3: FutureWarning: The frame.append method is deprecated and will be removed from pandas in a future version. Use pandas.concat instead.\n",
      "  posts_df = reduce(lambda df1, df2: df1.append(df2), posts_list)\n",
      "/var/folders/gy/6j7jtq4n7m36jvtq0tfc4t880000gn/T/ipykernel_1098/1048374259.py:3: FutureWarning: The frame.append method is deprecated and will be removed from pandas in a future version. Use pandas.concat instead.\n",
      "  posts_df = reduce(lambda df1, df2: df1.append(df2), posts_list)\n",
      "/var/folders/gy/6j7jtq4n7m36jvtq0tfc4t880000gn/T/ipykernel_1098/1048374259.py:3: FutureWarning: The frame.append method is deprecated and will be removed from pandas in a future version. Use pandas.concat instead.\n",
      "  posts_df = reduce(lambda df1, df2: df1.append(df2), posts_list)\n",
      "/var/folders/gy/6j7jtq4n7m36jvtq0tfc4t880000gn/T/ipykernel_1098/1048374259.py:3: FutureWarning: The frame.append method is deprecated and will be removed from pandas in a future version. Use pandas.concat instead.\n",
      "  posts_df = reduce(lambda df1, df2: df1.append(df2), posts_list)\n",
      "/var/folders/gy/6j7jtq4n7m36jvtq0tfc4t880000gn/T/ipykernel_1098/1048374259.py:3: FutureWarning: The frame.append method is deprecated and will be removed from pandas in a future version. Use pandas.concat instead.\n",
      "  posts_df = reduce(lambda df1, df2: df1.append(df2), posts_list)\n",
      "/var/folders/gy/6j7jtq4n7m36jvtq0tfc4t880000gn/T/ipykernel_1098/1048374259.py:3: FutureWarning: The frame.append method is deprecated and will be removed from pandas in a future version. Use pandas.concat instead.\n",
      "  posts_df = reduce(lambda df1, df2: df1.append(df2), posts_list)\n",
      "/var/folders/gy/6j7jtq4n7m36jvtq0tfc4t880000gn/T/ipykernel_1098/1048374259.py:3: FutureWarning: The frame.append method is deprecated and will be removed from pandas in a future version. Use pandas.concat instead.\n",
      "  posts_df = reduce(lambda df1, df2: df1.append(df2), posts_list)\n",
      "/var/folders/gy/6j7jtq4n7m36jvtq0tfc4t880000gn/T/ipykernel_1098/1048374259.py:3: FutureWarning: The frame.append method is deprecated and will be removed from pandas in a future version. Use pandas.concat instead.\n",
      "  posts_df = reduce(lambda df1, df2: df1.append(df2), posts_list)\n",
      "/var/folders/gy/6j7jtq4n7m36jvtq0tfc4t880000gn/T/ipykernel_1098/1048374259.py:3: FutureWarning: The frame.append method is deprecated and will be removed from pandas in a future version. Use pandas.concat instead.\n",
      "  posts_df = reduce(lambda df1, df2: df1.append(df2), posts_list)\n",
      "/var/folders/gy/6j7jtq4n7m36jvtq0tfc4t880000gn/T/ipykernel_1098/1048374259.py:3: FutureWarning: The frame.append method is deprecated and will be removed from pandas in a future version. Use pandas.concat instead.\n",
      "  posts_df = reduce(lambda df1, df2: df1.append(df2), posts_list)\n",
      "/var/folders/gy/6j7jtq4n7m36jvtq0tfc4t880000gn/T/ipykernel_1098/1048374259.py:3: FutureWarning: The frame.append method is deprecated and will be removed from pandas in a future version. Use pandas.concat instead.\n",
      "  posts_df = reduce(lambda df1, df2: df1.append(df2), posts_list)\n",
      "/var/folders/gy/6j7jtq4n7m36jvtq0tfc4t880000gn/T/ipykernel_1098/1048374259.py:3: FutureWarning: The frame.append method is deprecated and will be removed from pandas in a future version. Use pandas.concat instead.\n",
      "  posts_df = reduce(lambda df1, df2: df1.append(df2), posts_list)\n",
      "/var/folders/gy/6j7jtq4n7m36jvtq0tfc4t880000gn/T/ipykernel_1098/1048374259.py:3: FutureWarning: The frame.append method is deprecated and will be removed from pandas in a future version. Use pandas.concat instead.\n",
      "  posts_df = reduce(lambda df1, df2: df1.append(df2), posts_list)\n",
      "/var/folders/gy/6j7jtq4n7m36jvtq0tfc4t880000gn/T/ipykernel_1098/1048374259.py:3: FutureWarning: The frame.append method is deprecated and will be removed from pandas in a future version. Use pandas.concat instead.\n",
      "  posts_df = reduce(lambda df1, df2: df1.append(df2), posts_list)\n",
      "/var/folders/gy/6j7jtq4n7m36jvtq0tfc4t880000gn/T/ipykernel_1098/1048374259.py:3: FutureWarning: The frame.append method is deprecated and will be removed from pandas in a future version. Use pandas.concat instead.\n",
      "  posts_df = reduce(lambda df1, df2: df1.append(df2), posts_list)\n",
      "/var/folders/gy/6j7jtq4n7m36jvtq0tfc4t880000gn/T/ipykernel_1098/1048374259.py:3: FutureWarning: The frame.append method is deprecated and will be removed from pandas in a future version. Use pandas.concat instead.\n",
      "  posts_df = reduce(lambda df1, df2: df1.append(df2), posts_list)\n",
      "/var/folders/gy/6j7jtq4n7m36jvtq0tfc4t880000gn/T/ipykernel_1098/1048374259.py:3: FutureWarning: The frame.append method is deprecated and will be removed from pandas in a future version. Use pandas.concat instead.\n",
      "  posts_df = reduce(lambda df1, df2: df1.append(df2), posts_list)\n",
      "/var/folders/gy/6j7jtq4n7m36jvtq0tfc4t880000gn/T/ipykernel_1098/1048374259.py:3: FutureWarning: The frame.append method is deprecated and will be removed from pandas in a future version. Use pandas.concat instead.\n",
      "  posts_df = reduce(lambda df1, df2: df1.append(df2), posts_list)\n",
      "/var/folders/gy/6j7jtq4n7m36jvtq0tfc4t880000gn/T/ipykernel_1098/1048374259.py:3: FutureWarning: The frame.append method is deprecated and will be removed from pandas in a future version. Use pandas.concat instead.\n",
      "  posts_df = reduce(lambda df1, df2: df1.append(df2), posts_list)\n",
      "/var/folders/gy/6j7jtq4n7m36jvtq0tfc4t880000gn/T/ipykernel_1098/1048374259.py:3: FutureWarning: The frame.append method is deprecated and will be removed from pandas in a future version. Use pandas.concat instead.\n",
      "  posts_df = reduce(lambda df1, df2: df1.append(df2), posts_list)\n",
      "/var/folders/gy/6j7jtq4n7m36jvtq0tfc4t880000gn/T/ipykernel_1098/1048374259.py:3: FutureWarning: The frame.append method is deprecated and will be removed from pandas in a future version. Use pandas.concat instead.\n",
      "  posts_df = reduce(lambda df1, df2: df1.append(df2), posts_list)\n",
      "/var/folders/gy/6j7jtq4n7m36jvtq0tfc4t880000gn/T/ipykernel_1098/1048374259.py:3: FutureWarning: The frame.append method is deprecated and will be removed from pandas in a future version. Use pandas.concat instead.\n",
      "  posts_df = reduce(lambda df1, df2: df1.append(df2), posts_list)\n",
      "/var/folders/gy/6j7jtq4n7m36jvtq0tfc4t880000gn/T/ipykernel_1098/1048374259.py:3: FutureWarning: The frame.append method is deprecated and will be removed from pandas in a future version. Use pandas.concat instead.\n",
      "  posts_df = reduce(lambda df1, df2: df1.append(df2), posts_list)\n",
      "/var/folders/gy/6j7jtq4n7m36jvtq0tfc4t880000gn/T/ipykernel_1098/1048374259.py:3: FutureWarning: The frame.append method is deprecated and will be removed from pandas in a future version. Use pandas.concat instead.\n",
      "  posts_df = reduce(lambda df1, df2: df1.append(df2), posts_list)\n",
      "/var/folders/gy/6j7jtq4n7m36jvtq0tfc4t880000gn/T/ipykernel_1098/1048374259.py:3: FutureWarning: The frame.append method is deprecated and will be removed from pandas in a future version. Use pandas.concat instead.\n",
      "  posts_df = reduce(lambda df1, df2: df1.append(df2), posts_list)\n",
      "/var/folders/gy/6j7jtq4n7m36jvtq0tfc4t880000gn/T/ipykernel_1098/1048374259.py:3: FutureWarning: The frame.append method is deprecated and will be removed from pandas in a future version. Use pandas.concat instead.\n",
      "  posts_df = reduce(lambda df1, df2: df1.append(df2), posts_list)\n",
      "/var/folders/gy/6j7jtq4n7m36jvtq0tfc4t880000gn/T/ipykernel_1098/1048374259.py:3: FutureWarning: The frame.append method is deprecated and will be removed from pandas in a future version. Use pandas.concat instead.\n",
      "  posts_df = reduce(lambda df1, df2: df1.append(df2), posts_list)\n",
      "/var/folders/gy/6j7jtq4n7m36jvtq0tfc4t880000gn/T/ipykernel_1098/1048374259.py:3: FutureWarning: The frame.append method is deprecated and will be removed from pandas in a future version. Use pandas.concat instead.\n",
      "  posts_df = reduce(lambda df1, df2: df1.append(df2), posts_list)\n",
      "/var/folders/gy/6j7jtq4n7m36jvtq0tfc4t880000gn/T/ipykernel_1098/1048374259.py:3: FutureWarning: The frame.append method is deprecated and will be removed from pandas in a future version. Use pandas.concat instead.\n",
      "  posts_df = reduce(lambda df1, df2: df1.append(df2), posts_list)\n",
      "/var/folders/gy/6j7jtq4n7m36jvtq0tfc4t880000gn/T/ipykernel_1098/1048374259.py:3: FutureWarning: The frame.append method is deprecated and will be removed from pandas in a future version. Use pandas.concat instead.\n",
      "  posts_df = reduce(lambda df1, df2: df1.append(df2), posts_list)\n",
      "/var/folders/gy/6j7jtq4n7m36jvtq0tfc4t880000gn/T/ipykernel_1098/1048374259.py:3: FutureWarning: The frame.append method is deprecated and will be removed from pandas in a future version. Use pandas.concat instead.\n",
      "  posts_df = reduce(lambda df1, df2: df1.append(df2), posts_list)\n",
      "/var/folders/gy/6j7jtq4n7m36jvtq0tfc4t880000gn/T/ipykernel_1098/1048374259.py:3: FutureWarning: The frame.append method is deprecated and will be removed from pandas in a future version. Use pandas.concat instead.\n",
      "  posts_df = reduce(lambda df1, df2: df1.append(df2), posts_list)\n",
      "/var/folders/gy/6j7jtq4n7m36jvtq0tfc4t880000gn/T/ipykernel_1098/1048374259.py:3: FutureWarning: The frame.append method is deprecated and will be removed from pandas in a future version. Use pandas.concat instead.\n",
      "  posts_df = reduce(lambda df1, df2: df1.append(df2), posts_list)\n",
      "/var/folders/gy/6j7jtq4n7m36jvtq0tfc4t880000gn/T/ipykernel_1098/1048374259.py:3: FutureWarning: The frame.append method is deprecated and will be removed from pandas in a future version. Use pandas.concat instead.\n",
      "  posts_df = reduce(lambda df1, df2: df1.append(df2), posts_list)\n",
      "/var/folders/gy/6j7jtq4n7m36jvtq0tfc4t880000gn/T/ipykernel_1098/1048374259.py:3: FutureWarning: The frame.append method is deprecated and will be removed from pandas in a future version. Use pandas.concat instead.\n",
      "  posts_df = reduce(lambda df1, df2: df1.append(df2), posts_list)\n",
      "/var/folders/gy/6j7jtq4n7m36jvtq0tfc4t880000gn/T/ipykernel_1098/1048374259.py:3: FutureWarning: The frame.append method is deprecated and will be removed from pandas in a future version. Use pandas.concat instead.\n",
      "  posts_df = reduce(lambda df1, df2: df1.append(df2), posts_list)\n",
      "/var/folders/gy/6j7jtq4n7m36jvtq0tfc4t880000gn/T/ipykernel_1098/1048374259.py:3: FutureWarning: The frame.append method is deprecated and will be removed from pandas in a future version. Use pandas.concat instead.\n",
      "  posts_df = reduce(lambda df1, df2: df1.append(df2), posts_list)\n",
      "/var/folders/gy/6j7jtq4n7m36jvtq0tfc4t880000gn/T/ipykernel_1098/1048374259.py:3: FutureWarning: The frame.append method is deprecated and will be removed from pandas in a future version. Use pandas.concat instead.\n",
      "  posts_df = reduce(lambda df1, df2: df1.append(df2), posts_list)\n",
      "/var/folders/gy/6j7jtq4n7m36jvtq0tfc4t880000gn/T/ipykernel_1098/1048374259.py:3: FutureWarning: The frame.append method is deprecated and will be removed from pandas in a future version. Use pandas.concat instead.\n",
      "  posts_df = reduce(lambda df1, df2: df1.append(df2), posts_list)\n",
      "/var/folders/gy/6j7jtq4n7m36jvtq0tfc4t880000gn/T/ipykernel_1098/1048374259.py:3: FutureWarning: The frame.append method is deprecated and will be removed from pandas in a future version. Use pandas.concat instead.\n",
      "  posts_df = reduce(lambda df1, df2: df1.append(df2), posts_list)\n",
      "/var/folders/gy/6j7jtq4n7m36jvtq0tfc4t880000gn/T/ipykernel_1098/1048374259.py:3: FutureWarning: The frame.append method is deprecated and will be removed from pandas in a future version. Use pandas.concat instead.\n",
      "  posts_df = reduce(lambda df1, df2: df1.append(df2), posts_list)\n",
      "/var/folders/gy/6j7jtq4n7m36jvtq0tfc4t880000gn/T/ipykernel_1098/1048374259.py:3: FutureWarning: The frame.append method is deprecated and will be removed from pandas in a future version. Use pandas.concat instead.\n",
      "  posts_df = reduce(lambda df1, df2: df1.append(df2), posts_list)\n"
     ]
    },
    {
     "data": {
      "text/html": [
       "<div>\n",
       "<style scoped>\n",
       "    .dataframe tbody tr th:only-of-type {\n",
       "        vertical-align: middle;\n",
       "    }\n",
       "\n",
       "    .dataframe tbody tr th {\n",
       "        vertical-align: top;\n",
       "    }\n",
       "\n",
       "    .dataframe thead th {\n",
       "        text-align: right;\n",
       "    }\n",
       "</style>\n",
       "<table border=\"1\" class=\"dataframe\">\n",
       "  <thead>\n",
       "    <tr style=\"text-align: right;\">\n",
       "      <th></th>\n",
       "      <th>sid</th>\n",
       "      <th>sid_profile</th>\n",
       "      <th>post_id</th>\n",
       "      <th>profile_id</th>\n",
       "      <th>location_id</th>\n",
       "      <th>cts</th>\n",
       "      <th>post_type</th>\n",
       "      <th>description</th>\n",
       "      <th>numbr_likes</th>\n",
       "      <th>number_comments</th>\n",
       "    </tr>\n",
       "  </thead>\n",
       "  <tbody>\n",
       "    <tr>\n",
       "      <th>266570</th>\n",
       "      <td>28641534</td>\n",
       "      <td>336492</td>\n",
       "      <td>Ss3ULFBQeM</td>\n",
       "      <td>25025320.0</td>\n",
       "      <td>5.332856e+06</td>\n",
       "      <td>2012-12-01 17:42:03.000</td>\n",
       "      <td>1</td>\n",
       "      <td>On December 1st, 1955, in Montgomery, Alabama ...</td>\n",
       "      <td>125428.0</td>\n",
       "      <td>1240.0</td>\n",
       "    </tr>\n",
       "    <tr>\n",
       "      <th>659635</th>\n",
       "      <td>29042650</td>\n",
       "      <td>336492</td>\n",
       "      <td>BeECzRuh1O6</td>\n",
       "      <td>25025320.0</td>\n",
       "      <td>5.873874e+08</td>\n",
       "      <td>2018-01-17 20:59:30.000</td>\n",
       "      <td>1</td>\n",
       "      <td>Photo by @jameswhitlowdelano\\nAfter traveling ...</td>\n",
       "      <td>669786.0</td>\n",
       "      <td>4818.0</td>\n",
       "    </tr>\n",
       "    <tr>\n",
       "      <th>1441841</th>\n",
       "      <td>29834978</td>\n",
       "      <td>336492</td>\n",
       "      <td>Brl3hGMAxiy</td>\n",
       "      <td>25025320.0</td>\n",
       "      <td>8.770667e+14</td>\n",
       "      <td>2018-12-20 03:03:13.000</td>\n",
       "      <td>1</td>\n",
       "      <td>Photo by @overrated_outcast\\nOne word you can’...</td>\n",
       "      <td>1914299.0</td>\n",
       "      <td>20065.0</td>\n",
       "    </tr>\n",
       "    <tr>\n",
       "      <th>1559527</th>\n",
       "      <td>29952957</td>\n",
       "      <td>337097</td>\n",
       "      <td>BFrYARaRh55</td>\n",
       "      <td>20824486.0</td>\n",
       "      <td>6.294880e+05</td>\n",
       "      <td>2016-05-21 19:30:19.000</td>\n",
       "      <td>1</td>\n",
       "      <td>Who else is hoopin' today?</td>\n",
       "      <td>164521.0</td>\n",
       "      <td>1415.0</td>\n",
       "    </tr>\n",
       "    <tr>\n",
       "      <th>2410579</th>\n",
       "      <td>30815147</td>\n",
       "      <td>336492</td>\n",
       "      <td>BZNHb3ijnDT</td>\n",
       "      <td>25025320.0</td>\n",
       "      <td>3.500213e+08</td>\n",
       "      <td>2017-09-19 03:56:12.000</td>\n",
       "      <td>1</td>\n",
       "      <td>Photo by @keepingwiththetimes\\nA cheerful burs...</td>\n",
       "      <td>840588.0</td>\n",
       "      <td>3627.0</td>\n",
       "    </tr>\n",
       "  </tbody>\n",
       "</table>\n",
       "</div>"
      ],
      "text/plain": [
       "              sid  sid_profile      post_id  profile_id   location_id  \\\n",
       "266570   28641534       336492   Ss3ULFBQeM  25025320.0  5.332856e+06   \n",
       "659635   29042650       336492  BeECzRuh1O6  25025320.0  5.873874e+08   \n",
       "1441841  29834978       336492  Brl3hGMAxiy  25025320.0  8.770667e+14   \n",
       "1559527  29952957       337097  BFrYARaRh55  20824486.0  6.294880e+05   \n",
       "2410579  30815147       336492  BZNHb3ijnDT  25025320.0  3.500213e+08   \n",
       "\n",
       "                             cts  post_type  \\\n",
       "266570   2012-12-01 17:42:03.000          1   \n",
       "659635   2018-01-17 20:59:30.000          1   \n",
       "1441841  2018-12-20 03:03:13.000          1   \n",
       "1559527  2016-05-21 19:30:19.000          1   \n",
       "2410579  2017-09-19 03:56:12.000          1   \n",
       "\n",
       "                                               description  numbr_likes  \\\n",
       "266570   On December 1st, 1955, in Montgomery, Alabama ...     125428.0   \n",
       "659635   Photo by @jameswhitlowdelano\\nAfter traveling ...     669786.0   \n",
       "1441841  Photo by @overrated_outcast\\nOne word you can’...    1914299.0   \n",
       "1559527                         Who else is hoopin' today?     164521.0   \n",
       "2410579  Photo by @keepingwiththetimes\\nA cheerful burs...     840588.0   \n",
       "\n",
       "         number_comments  \n",
       "266570            1240.0  \n",
       "659635            4818.0  \n",
       "1441841          20065.0  \n",
       "1559527           1415.0  \n",
       "2410579           3627.0  "
      ]
     },
     "metadata": {},
     "output_type": "display_data"
    }
   ],
   "source": [
    "from functools import reduce\n",
    "\n",
    "posts_df = reduce(lambda df1, df2: df1.append(df2), posts_list)\n",
    "\n",
    "posts_df.head(5)"
   ]
  },
  {
   "cell_type": "markdown",
   "metadata": {},
   "source": [
    "##### A backup CSV file is saved"
   ]
  },
  {
   "cell_type": "code",
   "execution_count": null,
   "metadata": {},
   "outputs": [],
   "source": [
    "posts_df.to_parquet('posts_df.parquet.snappy')\n",
    "posts_df.to_csv('posts_df.csv')\n",
    "\n",
    "posts_top10_df = posts_df"
   ]
  },
  {
   "cell_type": "markdown",
   "metadata": {},
   "source": [
    "##### A \"groupby\" by Profile ID and Location ID is made to find out how many different Location IDs were used per profile. Therefore, the answer to the question is: 91 different tag locations were used by the 10 most popular profiles."
   ]
  },
  {
   "cell_type": "code",
   "execution_count": null,
   "metadata": {},
   "outputs": [
    {
     "data": {
      "text/html": [
       "<div>\n",
       "<style scoped>\n",
       "    .dataframe tbody tr th:only-of-type {\n",
       "        vertical-align: middle;\n",
       "    }\n",
       "\n",
       "    .dataframe tbody tr th {\n",
       "        vertical-align: top;\n",
       "    }\n",
       "\n",
       "    .dataframe thead th {\n",
       "        text-align: right;\n",
       "    }\n",
       "</style>\n",
       "<table border=\"1\" class=\"dataframe\">\n",
       "  <thead>\n",
       "    <tr style=\"text-align: right;\">\n",
       "      <th></th>\n",
       "      <th>profile_id</th>\n",
       "      <th>location_id</th>\n",
       "      <th>count</th>\n",
       "    </tr>\n",
       "  </thead>\n",
       "  <tbody>\n",
       "    <tr>\n",
       "      <th>0</th>\n",
       "      <td>3416684</td>\n",
       "      <td>262606339</td>\n",
       "      <td>1</td>\n",
       "    </tr>\n",
       "    <tr>\n",
       "      <th>1</th>\n",
       "      <td>3416684</td>\n",
       "      <td>116531305845344</td>\n",
       "      <td>1</td>\n",
       "    </tr>\n",
       "    <tr>\n",
       "      <th>2</th>\n",
       "      <td>3416684</td>\n",
       "      <td>189331311669042</td>\n",
       "      <td>1</td>\n",
       "    </tr>\n",
       "    <tr>\n",
       "      <th>3</th>\n",
       "      <td>3416684</td>\n",
       "      <td>252960988517436</td>\n",
       "      <td>1</td>\n",
       "    </tr>\n",
       "    <tr>\n",
       "      <th>4</th>\n",
       "      <td>3416684</td>\n",
       "      <td>302612476852048</td>\n",
       "      <td>1</td>\n",
       "    </tr>\n",
       "    <tr>\n",
       "      <th>...</th>\n",
       "      <td>...</td>\n",
       "      <td>...</td>\n",
       "      <td>...</td>\n",
       "    </tr>\n",
       "    <tr>\n",
       "      <th>87</th>\n",
       "      <td>496865116</td>\n",
       "      <td>179370</td>\n",
       "      <td>1</td>\n",
       "    </tr>\n",
       "    <tr>\n",
       "      <th>88</th>\n",
       "      <td>496865116</td>\n",
       "      <td>366902078</td>\n",
       "      <td>3</td>\n",
       "    </tr>\n",
       "    <tr>\n",
       "      <th>89</th>\n",
       "      <td>496865116</td>\n",
       "      <td>2019565374753966</td>\n",
       "      <td>1</td>\n",
       "    </tr>\n",
       "    <tr>\n",
       "      <th>90</th>\n",
       "      <td>907025384</td>\n",
       "      <td>1653066228336077</td>\n",
       "      <td>1</td>\n",
       "    </tr>\n",
       "    <tr>\n",
       "      <th>91</th>\n",
       "      <td>2125506698</td>\n",
       "      <td>284407070</td>\n",
       "      <td>1</td>\n",
       "    </tr>\n",
       "  </tbody>\n",
       "</table>\n",
       "<p>92 rows × 3 columns</p>\n",
       "</div>"
      ],
      "text/plain": [
       "    profile_id       location_id  count\n",
       "0      3416684         262606339      1\n",
       "1      3416684   116531305845344      1\n",
       "2      3416684   189331311669042      1\n",
       "3      3416684   252960988517436      1\n",
       "4      3416684   302612476852048      1\n",
       "..         ...               ...    ...\n",
       "87   496865116            179370      1\n",
       "88   496865116         366902078      3\n",
       "89   496865116  2019565374753966      1\n",
       "90   907025384  1653066228336077      1\n",
       "91  2125506698         284407070      1\n",
       "\n",
       "[92 rows x 3 columns]"
      ]
     },
     "metadata": {},
     "output_type": "display_data"
    }
   ],
   "source": [
    "locations_posts_count = posts_top10_df \\\n",
    "    .groupby(['profile_id', 'location_id'], dropna=True) \\\n",
    "    .agg(count=('post_id', 'count'))\n",
    "    \n",
    "locations_posts_count.reset_index(inplace=True)\n",
    "\n",
    "locations_posts_count = locations_posts_count \\\n",
    "    .astype({'profile_id' : 'int64', 'location_id' : 'int64', 'count' : 'int32'})\n",
    "\n",
    "locations_posts_count"
   ]
  },
  {
   "cell_type": "markdown",
   "metadata": {},
   "source": [
    "##### The base \"posts_top10_df_location\" is prepared to later perform a merge and find the most visited areas and cities according to the ID Location."
   ]
  },
  {
   "cell_type": "code",
   "execution_count": null,
   "metadata": {},
   "outputs": [
    {
     "data": {
      "text/html": [
       "<div>\n",
       "<style scoped>\n",
       "    .dataframe tbody tr th:only-of-type {\n",
       "        vertical-align: middle;\n",
       "    }\n",
       "\n",
       "    .dataframe tbody tr th {\n",
       "        vertical-align: top;\n",
       "    }\n",
       "\n",
       "    .dataframe thead th {\n",
       "        text-align: right;\n",
       "    }\n",
       "</style>\n",
       "<table border=\"1\" class=\"dataframe\">\n",
       "  <thead>\n",
       "    <tr style=\"text-align: right;\">\n",
       "      <th></th>\n",
       "      <th>post_id</th>\n",
       "      <th>profile_id</th>\n",
       "      <th>location_id</th>\n",
       "    </tr>\n",
       "  </thead>\n",
       "  <tbody>\n",
       "    <tr>\n",
       "      <th>266570</th>\n",
       "      <td>Ss3ULFBQeM</td>\n",
       "      <td>25025320</td>\n",
       "      <td>5332856</td>\n",
       "    </tr>\n",
       "    <tr>\n",
       "      <th>659635</th>\n",
       "      <td>BeECzRuh1O6</td>\n",
       "      <td>25025320</td>\n",
       "      <td>587387369</td>\n",
       "    </tr>\n",
       "    <tr>\n",
       "      <th>1441841</th>\n",
       "      <td>Brl3hGMAxiy</td>\n",
       "      <td>25025320</td>\n",
       "      <td>877066659067597</td>\n",
       "    </tr>\n",
       "    <tr>\n",
       "      <th>1559527</th>\n",
       "      <td>BFrYARaRh55</td>\n",
       "      <td>20824486</td>\n",
       "      <td>629488</td>\n",
       "    </tr>\n",
       "    <tr>\n",
       "      <th>2410579</th>\n",
       "      <td>BZNHb3ijnDT</td>\n",
       "      <td>25025320</td>\n",
       "      <td>350021298</td>\n",
       "    </tr>\n",
       "    <tr>\n",
       "      <th>...</th>\n",
       "      <td>...</td>\n",
       "      <td>...</td>\n",
       "      <td>...</td>\n",
       "    </tr>\n",
       "    <tr>\n",
       "      <th>41532427</th>\n",
       "      <td>BswHrnTB2HN</td>\n",
       "      <td>25025320</td>\n",
       "      <td>838523900</td>\n",
       "    </tr>\n",
       "    <tr>\n",
       "      <th>41608204</th>\n",
       "      <td>Bi7wE8uBWNI</td>\n",
       "      <td>25025320</td>\n",
       "      <td>1011688667</td>\n",
       "    </tr>\n",
       "    <tr>\n",
       "      <th>41874115</th>\n",
       "      <td>rdbaZkRhzl</td>\n",
       "      <td>20824486</td>\n",
       "      <td>244021299</td>\n",
       "    </tr>\n",
       "    <tr>\n",
       "      <th>42211393</th>\n",
       "      <td>Bf4WZMdljVZ</td>\n",
       "      <td>20824486</td>\n",
       "      <td>433604130</td>\n",
       "    </tr>\n",
       "    <tr>\n",
       "      <th>42424990</th>\n",
       "      <td>BTmr1kIApHj</td>\n",
       "      <td>25025320</td>\n",
       "      <td>9519563</td>\n",
       "    </tr>\n",
       "  </tbody>\n",
       "</table>\n",
       "<p>105 rows × 3 columns</p>\n",
       "</div>"
      ],
      "text/plain": [
       "              post_id  profile_id      location_id\n",
       "266570     Ss3ULFBQeM    25025320          5332856\n",
       "659635    BeECzRuh1O6    25025320        587387369\n",
       "1441841   Brl3hGMAxiy    25025320  877066659067597\n",
       "1559527   BFrYARaRh55    20824486           629488\n",
       "2410579   BZNHb3ijnDT    25025320        350021298\n",
       "...               ...         ...              ...\n",
       "41532427  BswHrnTB2HN    25025320        838523900\n",
       "41608204  Bi7wE8uBWNI    25025320       1011688667\n",
       "41874115   rdbaZkRhzl    20824486        244021299\n",
       "42211393  Bf4WZMdljVZ    20824486        433604130\n",
       "42424990  BTmr1kIApHj    25025320          9519563\n",
       "\n",
       "[105 rows x 3 columns]"
      ]
     },
     "metadata": {},
     "output_type": "display_data"
    }
   ],
   "source": [
    "locations_df = pd.read_csv('instagram_locations.csv', delimiter='\\t')\n",
    "\n",
    "posts_top10_df_location = posts_top10_df[['post_id','profile_id','location_id']]\n",
    "posts_top10_df_location = posts_top10_df_location.dropna()\n",
    "\n",
    "posts_top10_df_location = posts_top10_df_location \\\n",
    "    .astype({'profile_id' : 'int64', 'location_id' : 'int64'})\n",
    "\n",
    "posts_top10_df_location    "
   ]
  },
  {
   "cell_type": "markdown",
   "metadata": {},
   "source": [
    "##### pd.merge() was used to merge the CSV Instagram Locations using the Location ID."
   ]
  },
  {
   "cell_type": "code",
   "execution_count": null,
   "metadata": {},
   "outputs": [
    {
     "data": {
      "text/html": [
       "<div>\n",
       "<style scoped>\n",
       "    .dataframe tbody tr th:only-of-type {\n",
       "        vertical-align: middle;\n",
       "    }\n",
       "\n",
       "    .dataframe tbody tr th {\n",
       "        vertical-align: top;\n",
       "    }\n",
       "\n",
       "    .dataframe thead th {\n",
       "        text-align: right;\n",
       "    }\n",
       "</style>\n",
       "<table border=\"1\" class=\"dataframe\">\n",
       "  <thead>\n",
       "    <tr style=\"text-align: right;\">\n",
       "      <th></th>\n",
       "      <th>post_id</th>\n",
       "      <th>profile_id</th>\n",
       "      <th>location_id</th>\n",
       "      <th>sid</th>\n",
       "      <th>id</th>\n",
       "      <th>name</th>\n",
       "      <th>street</th>\n",
       "      <th>zip</th>\n",
       "      <th>city</th>\n",
       "      <th>region</th>\n",
       "      <th>...</th>\n",
       "      <th>dir_city_name</th>\n",
       "      <th>dir_city_slug</th>\n",
       "      <th>dir_country_id</th>\n",
       "      <th>dir_country_name</th>\n",
       "      <th>lat</th>\n",
       "      <th>lng</th>\n",
       "      <th>primary_alias_on_fb</th>\n",
       "      <th>slug</th>\n",
       "      <th>website</th>\n",
       "      <th>cts</th>\n",
       "    </tr>\n",
       "  </thead>\n",
       "  <tbody>\n",
       "    <tr>\n",
       "      <th>0</th>\n",
       "      <td>Ss3ULFBQeM</td>\n",
       "      <td>25025320</td>\n",
       "      <td>5332856</td>\n",
       "      <td>762145</td>\n",
       "      <td>5332856</td>\n",
       "      <td>Rosa Parks Plaza</td>\n",
       "      <td>250 N Lamar St</td>\n",
       "      <td>75202</td>\n",
       "      <td>Dallas, Texas</td>\n",
       "      <td>NaN</td>\n",
       "      <td>...</td>\n",
       "      <td>Downtown Dallas</td>\n",
       "      <td>downtown-dallas</td>\n",
       "      <td>US</td>\n",
       "      <td>United States</td>\n",
       "      <td>-96.804370</td>\n",
       "      <td>32.780616</td>\n",
       "      <td>NaN</td>\n",
       "      <td>rosa-parks-plaza</td>\n",
       "      <td>NaN</td>\n",
       "      <td>2019-05-30 21:26:01.789</td>\n",
       "    </tr>\n",
       "    <tr>\n",
       "      <th>1</th>\n",
       "      <td>BeECzRuh1O6</td>\n",
       "      <td>25025320</td>\n",
       "      <td>587387369</td>\n",
       "      <td>775485</td>\n",
       "      <td>587387369</td>\n",
       "      <td>Ethiopian Highlands</td>\n",
       "      <td>NaN</td>\n",
       "      <td>NaN</td>\n",
       "      <td>NaN</td>\n",
       "      <td>NaN</td>\n",
       "      <td>...</td>\n",
       "      <td>NaN</td>\n",
       "      <td>NaN</td>\n",
       "      <td>NaN</td>\n",
       "      <td>NaN</td>\n",
       "      <td>38.166667</td>\n",
       "      <td>10.000000</td>\n",
       "      <td>NaN</td>\n",
       "      <td>ethiopian-highlands</td>\n",
       "      <td>NaN</td>\n",
       "      <td>2019-05-31 11:22:21.183</td>\n",
       "    </tr>\n",
       "    <tr>\n",
       "      <th>2</th>\n",
       "      <td>Brl3hGMAxiy</td>\n",
       "      <td>25025320</td>\n",
       "      <td>877066659067597</td>\n",
       "      <td>804342</td>\n",
       "      <td>877066659067597</td>\n",
       "      <td>Machu Picchu</td>\n",
       "      <td>Machu Picchu</td>\n",
       "      <td>NaN</td>\n",
       "      <td>Cusco, Peru</td>\n",
       "      <td>NaN</td>\n",
       "      <td>...</td>\n",
       "      <td>Mondor Pampa Aserradero</td>\n",
       "      <td>mondor-pampa-aserradero</td>\n",
       "      <td>PE</td>\n",
       "      <td>Peru</td>\n",
       "      <td>-72.545428</td>\n",
       "      <td>-13.164656</td>\n",
       "      <td>MachuPicchuWonderOfTheWorld</td>\n",
       "      <td>machu-picchu</td>\n",
       "      <td>NaN</td>\n",
       "      <td>2019-06-01 16:12:10.227</td>\n",
       "    </tr>\n",
       "    <tr>\n",
       "      <th>3</th>\n",
       "      <td>BFrYARaRh55</td>\n",
       "      <td>20824486</td>\n",
       "      <td>629488</td>\n",
       "      <td>808150</td>\n",
       "      <td>629488</td>\n",
       "      <td>David Crombie Park</td>\n",
       "      <td>131 The Esplanade</td>\n",
       "      <td>M5A 4P5</td>\n",
       "      <td>Toronto, Ontario</td>\n",
       "      <td>NaN</td>\n",
       "      <td>...</td>\n",
       "      <td>Saint Lawrence</td>\n",
       "      <td>saint-lawrence</td>\n",
       "      <td>CA</td>\n",
       "      <td>Canada</td>\n",
       "      <td>-79.368635</td>\n",
       "      <td>43.648486</td>\n",
       "      <td>NaN</td>\n",
       "      <td>david-crombie-park</td>\n",
       "      <td>http://www1.toronto.ca/parks/prd/facilities/co...</td>\n",
       "      <td>2019-06-01 19:46:51.479</td>\n",
       "    </tr>\n",
       "    <tr>\n",
       "      <th>4</th>\n",
       "      <td>BZNHb3ijnDT</td>\n",
       "      <td>25025320</td>\n",
       "      <td>350021298</td>\n",
       "      <td>838341</td>\n",
       "      <td>350021298</td>\n",
       "      <td>Parkland County</td>\n",
       "      <td>NaN</td>\n",
       "      <td>NaN</td>\n",
       "      <td>Stony Plain, Alberta</td>\n",
       "      <td>NaN</td>\n",
       "      <td>...</td>\n",
       "      <td>NaN</td>\n",
       "      <td>NaN</td>\n",
       "      <td>NaN</td>\n",
       "      <td>NaN</td>\n",
       "      <td>-114.006000</td>\n",
       "      <td>53.530000</td>\n",
       "      <td>NaN</td>\n",
       "      <td>parkland-county</td>\n",
       "      <td>http://www.parklandcounty.com</td>\n",
       "      <td>2019-06-03 04:41:24.810</td>\n",
       "    </tr>\n",
       "    <tr>\n",
       "      <th>...</th>\n",
       "      <td>...</td>\n",
       "      <td>...</td>\n",
       "      <td>...</td>\n",
       "      <td>...</td>\n",
       "      <td>...</td>\n",
       "      <td>...</td>\n",
       "      <td>...</td>\n",
       "      <td>...</td>\n",
       "      <td>...</td>\n",
       "      <td>...</td>\n",
       "      <td>...</td>\n",
       "      <td>...</td>\n",
       "      <td>...</td>\n",
       "      <td>...</td>\n",
       "      <td>...</td>\n",
       "      <td>...</td>\n",
       "      <td>...</td>\n",
       "      <td>...</td>\n",
       "      <td>...</td>\n",
       "      <td>...</td>\n",
       "      <td>...</td>\n",
       "    </tr>\n",
       "    <tr>\n",
       "      <th>100</th>\n",
       "      <td>BswHrnTB2HN</td>\n",
       "      <td>25025320</td>\n",
       "      <td>838523900</td>\n",
       "      <td>709981</td>\n",
       "      <td>838523900</td>\n",
       "      <td>Stanislaus National Forest</td>\n",
       "      <td>NaN</td>\n",
       "      <td>NaN</td>\n",
       "      <td>Lodi, California</td>\n",
       "      <td>NaN</td>\n",
       "      <td>...</td>\n",
       "      <td>NaN</td>\n",
       "      <td>NaN</td>\n",
       "      <td>NaN</td>\n",
       "      <td>NaN</td>\n",
       "      <td>-121.291619</td>\n",
       "      <td>38.139407</td>\n",
       "      <td>NaN</td>\n",
       "      <td>stanislaus-national-forest</td>\n",
       "      <td>http://www.fs.usda.gov/main/stanislaus/home</td>\n",
       "      <td>2019-05-28 14:07:28.559</td>\n",
       "    </tr>\n",
       "    <tr>\n",
       "      <th>101</th>\n",
       "      <td>Bi7wE8uBWNI</td>\n",
       "      <td>25025320</td>\n",
       "      <td>1011688667</td>\n",
       "      <td>712659</td>\n",
       "      <td>1011688667</td>\n",
       "      <td>Leuser Ecosystem</td>\n",
       "      <td>Leuser</td>\n",
       "      <td>NaN</td>\n",
       "      <td>Blangpidi, Aceh, Indonesia</td>\n",
       "      <td>NaN</td>\n",
       "      <td>...</td>\n",
       "      <td>NaN</td>\n",
       "      <td>NaN</td>\n",
       "      <td>NaN</td>\n",
       "      <td>NaN</td>\n",
       "      <td>96.847161</td>\n",
       "      <td>3.743398</td>\n",
       "      <td>NaN</td>\n",
       "      <td>leuser-ecosystem</td>\n",
       "      <td>http://leuserecosystem.org</td>\n",
       "      <td>2019-05-28 17:05:17.449</td>\n",
       "    </tr>\n",
       "    <tr>\n",
       "      <th>102</th>\n",
       "      <td>rdbaZkRhzl</td>\n",
       "      <td>20824486</td>\n",
       "      <td>244021299</td>\n",
       "      <td>722170</td>\n",
       "      <td>244021299</td>\n",
       "      <td>InfoCision Stadium–Summa Field</td>\n",
       "      <td>427 Nash St</td>\n",
       "      <td>44304</td>\n",
       "      <td>Akron, Ohio</td>\n",
       "      <td>NaN</td>\n",
       "      <td>...</td>\n",
       "      <td>NaN</td>\n",
       "      <td>NaN</td>\n",
       "      <td>NaN</td>\n",
       "      <td>NaN</td>\n",
       "      <td>-81.508443</td>\n",
       "      <td>41.072518</td>\n",
       "      <td>NaN</td>\n",
       "      <td>infocision-stadiumsumma-field</td>\n",
       "      <td>http://www.gozips.com/athletics/facilities/Inf...</td>\n",
       "      <td>2019-05-29 03:39:14.795</td>\n",
       "    </tr>\n",
       "    <tr>\n",
       "      <th>103</th>\n",
       "      <td>Bf4WZMdljVZ</td>\n",
       "      <td>20824486</td>\n",
       "      <td>433604130</td>\n",
       "      <td>734424</td>\n",
       "      <td>433604130</td>\n",
       "      <td>The Toyta Center</td>\n",
       "      <td>1510 Polk St</td>\n",
       "      <td>77010</td>\n",
       "      <td>Houston, Texas</td>\n",
       "      <td>NaN</td>\n",
       "      <td>...</td>\n",
       "      <td>Downtown Houston</td>\n",
       "      <td>downtown-houston</td>\n",
       "      <td>US</td>\n",
       "      <td>United States</td>\n",
       "      <td>-95.362071</td>\n",
       "      <td>29.750773</td>\n",
       "      <td>NaN</td>\n",
       "      <td>the-toyta-center</td>\n",
       "      <td>www.houstontoyotacenter.com</td>\n",
       "      <td>2019-05-29 16:21:10.297</td>\n",
       "    </tr>\n",
       "    <tr>\n",
       "      <th>104</th>\n",
       "      <td>BTmr1kIApHj</td>\n",
       "      <td>25025320</td>\n",
       "      <td>9519563</td>\n",
       "      <td>742280</td>\n",
       "      <td>9519563</td>\n",
       "      <td>榮發大排檔 Wing Fat Restaurant</td>\n",
       "      <td>Temple Street 148</td>\n",
       "      <td>852</td>\n",
       "      <td>Kowloon, Hong Kong</td>\n",
       "      <td>NaN</td>\n",
       "      <td>...</td>\n",
       "      <td>NaN</td>\n",
       "      <td>NaN</td>\n",
       "      <td>NaN</td>\n",
       "      <td>NaN</td>\n",
       "      <td>114.170372</td>\n",
       "      <td>22.307680</td>\n",
       "      <td>wingfatseafood</td>\n",
       "      <td>wing-fat-restaurant</td>\n",
       "      <td>http://en.wikipedia.org/wiki/Temple_Street,_Ho...</td>\n",
       "      <td>2019-05-30 00:49:34.425</td>\n",
       "    </tr>\n",
       "  </tbody>\n",
       "</table>\n",
       "<p>105 rows × 26 columns</p>\n",
       "</div>"
      ],
      "text/plain": [
       "         post_id  profile_id      location_id     sid               id  \\\n",
       "0     Ss3ULFBQeM    25025320          5332856  762145          5332856   \n",
       "1    BeECzRuh1O6    25025320        587387369  775485        587387369   \n",
       "2    Brl3hGMAxiy    25025320  877066659067597  804342  877066659067597   \n",
       "3    BFrYARaRh55    20824486           629488  808150           629488   \n",
       "4    BZNHb3ijnDT    25025320        350021298  838341        350021298   \n",
       "..           ...         ...              ...     ...              ...   \n",
       "100  BswHrnTB2HN    25025320        838523900  709981        838523900   \n",
       "101  Bi7wE8uBWNI    25025320       1011688667  712659       1011688667   \n",
       "102   rdbaZkRhzl    20824486        244021299  722170        244021299   \n",
       "103  Bf4WZMdljVZ    20824486        433604130  734424        433604130   \n",
       "104  BTmr1kIApHj    25025320          9519563  742280          9519563   \n",
       "\n",
       "                               name             street      zip  \\\n",
       "0                  Rosa Parks Plaza     250 N Lamar St    75202   \n",
       "1               Ethiopian Highlands                NaN      NaN   \n",
       "2                      Machu Picchu       Machu Picchu      NaN   \n",
       "3                David Crombie Park  131 The Esplanade  M5A 4P5   \n",
       "4                   Parkland County                NaN      NaN   \n",
       "..                              ...                ...      ...   \n",
       "100      Stanislaus National Forest                NaN      NaN   \n",
       "101                Leuser Ecosystem             Leuser      NaN   \n",
       "102  InfoCision Stadium–Summa Field        427 Nash St    44304   \n",
       "103                The Toyta Center       1510 Polk St    77010   \n",
       "104       榮發大排檔 Wing Fat Restaurant  Temple Street 148      852   \n",
       "\n",
       "                           city region  ...            dir_city_name  \\\n",
       "0                 Dallas, Texas    NaN  ...          Downtown Dallas   \n",
       "1                           NaN    NaN  ...                      NaN   \n",
       "2                   Cusco, Peru    NaN  ...  Mondor Pampa Aserradero   \n",
       "3              Toronto, Ontario    NaN  ...           Saint Lawrence   \n",
       "4          Stony Plain, Alberta    NaN  ...                      NaN   \n",
       "..                          ...    ...  ...                      ...   \n",
       "100            Lodi, California    NaN  ...                      NaN   \n",
       "101  Blangpidi, Aceh, Indonesia    NaN  ...                      NaN   \n",
       "102                 Akron, Ohio    NaN  ...                      NaN   \n",
       "103              Houston, Texas    NaN  ...         Downtown Houston   \n",
       "104          Kowloon, Hong Kong    NaN  ...                      NaN   \n",
       "\n",
       "               dir_city_slug dir_country_id dir_country_name         lat  \\\n",
       "0            downtown-dallas             US    United States  -96.804370   \n",
       "1                        NaN            NaN              NaN   38.166667   \n",
       "2    mondor-pampa-aserradero             PE             Peru  -72.545428   \n",
       "3             saint-lawrence             CA           Canada  -79.368635   \n",
       "4                        NaN            NaN              NaN -114.006000   \n",
       "..                       ...            ...              ...         ...   \n",
       "100                      NaN            NaN              NaN -121.291619   \n",
       "101                      NaN            NaN              NaN   96.847161   \n",
       "102                      NaN            NaN              NaN  -81.508443   \n",
       "103         downtown-houston             US    United States  -95.362071   \n",
       "104                      NaN            NaN              NaN  114.170372   \n",
       "\n",
       "           lng          primary_alias_on_fb                           slug  \\\n",
       "0    32.780616                          NaN               rosa-parks-plaza   \n",
       "1    10.000000                          NaN            ethiopian-highlands   \n",
       "2   -13.164656  MachuPicchuWonderOfTheWorld                   machu-picchu   \n",
       "3    43.648486                          NaN             david-crombie-park   \n",
       "4    53.530000                          NaN                parkland-county   \n",
       "..         ...                          ...                            ...   \n",
       "100  38.139407                          NaN     stanislaus-national-forest   \n",
       "101   3.743398                          NaN               leuser-ecosystem   \n",
       "102  41.072518                          NaN  infocision-stadiumsumma-field   \n",
       "103  29.750773                          NaN               the-toyta-center   \n",
       "104  22.307680               wingfatseafood            wing-fat-restaurant   \n",
       "\n",
       "                                               website  \\\n",
       "0                                                  NaN   \n",
       "1                                                  NaN   \n",
       "2                                                  NaN   \n",
       "3    http://www1.toronto.ca/parks/prd/facilities/co...   \n",
       "4                        http://www.parklandcounty.com   \n",
       "..                                                 ...   \n",
       "100        http://www.fs.usda.gov/main/stanislaus/home   \n",
       "101                         http://leuserecosystem.org   \n",
       "102  http://www.gozips.com/athletics/facilities/Inf...   \n",
       "103                        www.houstontoyotacenter.com   \n",
       "104  http://en.wikipedia.org/wiki/Temple_Street,_Ho...   \n",
       "\n",
       "                         cts  \n",
       "0    2019-05-30 21:26:01.789  \n",
       "1    2019-05-31 11:22:21.183  \n",
       "2    2019-06-01 16:12:10.227  \n",
       "3    2019-06-01 19:46:51.479  \n",
       "4    2019-06-03 04:41:24.810  \n",
       "..                       ...  \n",
       "100  2019-05-28 14:07:28.559  \n",
       "101  2019-05-28 17:05:17.449  \n",
       "102  2019-05-29 03:39:14.795  \n",
       "103  2019-05-29 16:21:10.297  \n",
       "104  2019-05-30 00:49:34.425  \n",
       "\n",
       "[105 rows x 26 columns]"
      ]
     },
     "metadata": {},
     "output_type": "display_data"
    }
   ],
   "source": [
    "location_post_area = pd.merge(left=posts_top10_df_location, right=locations_df, left_on='location_id', right_on='id')\n",
    "location_post_area"
   ]
  },
  {
   "cell_type": "markdown",
   "metadata": {},
   "source": [
    "##### The most frequent areas are obtained by a \"groupby\" using the Location Name and a counter used in the post_id. The most visited areas by the 10 most popular influencers are Sydney, Australia and Victoria's Secret."
   ]
  },
  {
   "cell_type": "code",
   "execution_count": null,
   "metadata": {},
   "outputs": [
    {
     "data": {
      "text/html": [
       "<div>\n",
       "<style scoped>\n",
       "    .dataframe tbody tr th:only-of-type {\n",
       "        vertical-align: middle;\n",
       "    }\n",
       "\n",
       "    .dataframe tbody tr th {\n",
       "        vertical-align: top;\n",
       "    }\n",
       "\n",
       "    .dataframe thead th {\n",
       "        text-align: right;\n",
       "    }\n",
       "</style>\n",
       "<table border=\"1\" class=\"dataframe\">\n",
       "  <thead>\n",
       "    <tr style=\"text-align: right;\">\n",
       "      <th></th>\n",
       "      <th>name</th>\n",
       "      <th>count</th>\n",
       "    </tr>\n",
       "  </thead>\n",
       "  <tbody>\n",
       "    <tr>\n",
       "      <th>70</th>\n",
       "      <td>Sydney, Australia</td>\n",
       "      <td>9</td>\n",
       "    </tr>\n",
       "    <tr>\n",
       "      <th>80</th>\n",
       "      <td>Victoria's Secret</td>\n",
       "      <td>4</td>\n",
       "    </tr>\n",
       "    <tr>\n",
       "      <th>37</th>\n",
       "      <td>Kobe-shi, Hyogo, Japan</td>\n",
       "      <td>3</td>\n",
       "    </tr>\n",
       "    <tr>\n",
       "      <th>9</th>\n",
       "      <td>Bel-Air Estate</td>\n",
       "      <td>2</td>\n",
       "    </tr>\n",
       "    <tr>\n",
       "      <th>11</th>\n",
       "      <td>Bora Bora, French Polynesia</td>\n",
       "      <td>2</td>\n",
       "    </tr>\n",
       "    <tr>\n",
       "      <th>81</th>\n",
       "      <td>Wells Fargo Center</td>\n",
       "      <td>2</td>\n",
       "    </tr>\n",
       "    <tr>\n",
       "      <th>0</th>\n",
       "      <td>666 Fifth Avenue</td>\n",
       "      <td>1</td>\n",
       "    </tr>\n",
       "    <tr>\n",
       "      <th>1</th>\n",
       "      <td>ARIA Poker Room</td>\n",
       "      <td>1</td>\n",
       "    </tr>\n",
       "    <tr>\n",
       "      <th>2</th>\n",
       "      <td>AZULIK Tulum</td>\n",
       "      <td>1</td>\n",
       "    </tr>\n",
       "    <tr>\n",
       "      <th>3</th>\n",
       "      <td>Amsterdam Forest</td>\n",
       "      <td>1</td>\n",
       "    </tr>\n",
       "  </tbody>\n",
       "</table>\n",
       "</div>"
      ],
      "text/plain": [
       "                           name  count\n",
       "70            Sydney, Australia      9\n",
       "80            Victoria's Secret      4\n",
       "37       Kobe-shi, Hyogo, Japan      3\n",
       "9                Bel-Air Estate      2\n",
       "11  Bora Bora, French Polynesia      2\n",
       "81           Wells Fargo Center      2\n",
       "0              666 Fifth Avenue      1\n",
       "1               ARIA Poker Room      1\n",
       "2                  AZULIK Tulum      1\n",
       "3              Amsterdam Forest      1"
      ]
     },
     "metadata": {},
     "output_type": "display_data"
    }
   ],
   "source": [
    "locations_frequent_area = location_post_area \\\n",
    "    .groupby(['name']) \\\n",
    "    .agg(count=('post_id', 'count'))\n",
    "    \n",
    "locations_frequent_area.reset_index(inplace=True)\n",
    "\n",
    "locations_frequent_area.nlargest(10, 'count')"
   ]
  },
  {
   "cell_type": "markdown",
   "metadata": {},
   "source": [
    "##### To obtain the plot of visits by city, a \"groupby\" is first made by city and a post_id counter. Then, the cities are sorted in descending order using a pd.sort_values ​​with respect to the number of visits. Finally, pd.plot() was used to obtain the plot shown below."
   ]
  },
  {
   "cell_type": "code",
   "execution_count": null,
   "metadata": {},
   "outputs": [
    {
     "data": {
      "text/plain": [
       "<AxesSubplot:title={'center':'Cities visited'}, xlabel='City', ylabel='Number of times visited'>"
      ]
     },
     "metadata": {},
     "output_type": "display_data"
    },
    {
     "data": {
      "image/png": "[encoded data removed]",
      "text/plain": [
       "<Figure size 2160x576 with 1 Axes>"
      ]
     },
     "metadata": {},
     "output_type": "display_data"
    }
   ],
   "source": [
    "#Count on City\n",
    "\n",
    "locations_city_count =location_post_area \\\n",
    "    .groupby(['city'], dropna=True) \\\n",
    "    .agg(count=('post_id', 'count'))\n",
    "\n",
    "locations_city_count.reset_index(inplace=True)\n",
    "\n",
    "#Order from highest to lowest with respect to visits\n",
    "locations_city_count.sort_values(by='count', ascending=False, inplace=True)\n",
    "\n",
    "#Plot each time city has been visit \n",
    "locations_city_count.plot(x='city', y='count', kind='bar', \n",
    "           title='Cities visited', figsize=(30, 8),\n",
    "           xlabel='City', ylabel='Number of times visited')\n"
   ]
  },
  {
   "cell_type": "markdown",
   "metadata": {},
   "source": [
    "#### 5.4 How many pictures-only posts have they published? How many reels? (only videos) and how many with both contents? Provide the number as percentages and interpret those figures.\n",
    "\n",
    "##### A \"groupby\" was used per post_type and a counter of the post_id was used to calculate the total number of post types. Then, a pd.plot.pie was used and through the \"autopct\" attribute the option to show the percentage was enabled. From the final result, it can be concluded that 90.8% of the posts made by the 10 most influential people contain only pictures and 9.2% contain only videos. There is no post that contains both post types together. Therefore, it can be inferred that the world population prefers to use platforms like Instagram to post mostly photos and leave other apps to watch videos.\n",
    "\n"
   ]
  },
  {
   "cell_type": "code",
   "execution_count": null,
   "metadata": {},
   "outputs": [
    {
     "data": {
      "text/plain": [
       "<AxesSubplot:title={'center':'Post Types'}, ylabel='count'>"
      ]
     },
     "metadata": {},
     "output_type": "display_data"
    },
    {
     "data": {
      "image/png": "[encoded data removed]",
      "text/plain": [
       "<Figure size 432x288 with 1 Axes>"
      ]
     },
     "metadata": {},
     "output_type": "display_data"
    }
   ],
   "source": [
    "#Pictures Only - Post type = 1\n",
    "#Videos Only - Post type = 2\n",
    "#Both - Post type =3\n",
    "post_type_count =posts_top10_df \\\n",
    "    .groupby(['post_type']) \\\n",
    "    .agg(count=('post_id', 'count'))\n",
    "\n",
    "post_type_count.plot.pie(y='count', title='Post Types', \\\n",
    "                         shadow=True, autopct='%1.1f%%', \\\n",
    "                         explode=(0, 0.1), startangle=0)"
   ]
  },
  {
   "cell_type": "markdown",
   "metadata": {},
   "source": [
    "### 5.5 How many \"likes\" and comments did posts with only pictures receive? How about videos and mixed posts? Try to provide the average numbers and confront them with their followers amount, explaining what you can say from that comparison.\n",
    "\n",
    "##### To answer the first question, a \"group by\" per type of post is used and then the number of likes and comments obtained by each type of post is added.\n",
    "\n",
    "##### It can be concluded that posts that only contain pictures have a higher number of acceptance and interactions with followers. Post type 1 has 69M likes vs. Post type 2 has 3M likes, obtaining a ratio of 95.8% against 4.2%. \n",
    "##### Regarding the comments, Post type 1 has approximately 500k comments vs. Post type 2 that has 26k, obtaining a ratio of 95.6% vs 4.4%. Thus maintaining the ratio obtained in the previous analysis.\n"
   ]
  },
  {
   "cell_type": "code",
   "execution_count": null,
   "metadata": {},
   "outputs": [
    {
     "data": {
      "text/html": [
       "<div>\n",
       "<style scoped>\n",
       "    .dataframe tbody tr th:only-of-type {\n",
       "        vertical-align: middle;\n",
       "    }\n",
       "\n",
       "    .dataframe tbody tr th {\n",
       "        vertical-align: top;\n",
       "    }\n",
       "\n",
       "    .dataframe thead th {\n",
       "        text-align: right;\n",
       "    }\n",
       "</style>\n",
       "<table border=\"1\" class=\"dataframe\">\n",
       "  <thead>\n",
       "    <tr style=\"text-align: right;\">\n",
       "      <th></th>\n",
       "      <th>sum_likes</th>\n",
       "      <th>sum_comments</th>\n",
       "    </tr>\n",
       "    <tr>\n",
       "      <th>post_type</th>\n",
       "      <th></th>\n",
       "      <th></th>\n",
       "    </tr>\n",
       "  </thead>\n",
       "  <tbody>\n",
       "    <tr>\n",
       "      <th>1</th>\n",
       "      <td>69285634.0</td>\n",
       "      <td>497013.0</td>\n",
       "    </tr>\n",
       "    <tr>\n",
       "      <th>2</th>\n",
       "      <td>3464814.0</td>\n",
       "      <td>26258.0</td>\n",
       "    </tr>\n",
       "  </tbody>\n",
       "</table>\n",
       "</div>"
      ],
      "text/plain": [
       "            sum_likes  sum_comments\n",
       "post_type                          \n",
       "1          69285634.0      497013.0\n",
       "2           3464814.0       26258.0"
      ]
     },
     "metadata": {},
     "output_type": "display_data"
    }
   ],
   "source": [
    "#Number of likes and comments per post_type\n",
    "post_type_landc =posts_top10_df \\\n",
    "    .groupby(['post_type']) \\\n",
    "    .agg(sum_likes=('numbr_likes', 'sum'), sum_comments=('number_comments', 'sum'))\n",
    "\n",
    "post_type_landc\n"
   ]
  },
  {
   "cell_type": "markdown",
   "metadata": {},
   "source": [
    "##### A pd.merge() was used to fetch the number of followers using the profile_id key."
   ]
  },
  {
   "cell_type": "code",
   "execution_count": null,
   "metadata": {},
   "outputs": [],
   "source": [
    "#Join posts and profile\n",
    "followers_likes_posts = pd.merge(left=posts_top10_df, right=top10, left_on='profile_id', right_on='profile_id')\n"
   ]
  },
  {
   "cell_type": "markdown",
   "metadata": {},
   "source": [
    "##### A .groupby() was used for profile_name and post_type along with the calculation of the average number of likes and comments and the number of followers per profile. Finally, the final DataFrame is ordered by the number of followers in descending order.\n",
    "\n",
    "##### The final result shows what was previously analyzed. The number of likes is much higher than the number of comments on all the 10 most popular profiles.\n",
    "\n",
    "##### It is also evident that, with the exception of the \"Instragram\" profile, there is no direct relationship between the number of likes and comments along with the number of followers. For example, \"andresiniesta8\" has fewer followers compared to the profile \"victoriassecret\" and still has on average a higher number of likes on their comments and videos."
   ]
  },
  {
   "cell_type": "code",
   "execution_count": null,
   "metadata": {},
   "outputs": [
    {
     "data": {
      "text/html": [
       "<div>\n",
       "<style scoped>\n",
       "    .dataframe tbody tr th:only-of-type {\n",
       "        vertical-align: middle;\n",
       "    }\n",
       "\n",
       "    .dataframe tbody tr th {\n",
       "        vertical-align: top;\n",
       "    }\n",
       "\n",
       "    .dataframe thead th {\n",
       "        text-align: right;\n",
       "    }\n",
       "</style>\n",
       "<table border=\"1\" class=\"dataframe\">\n",
       "  <thead>\n",
       "    <tr style=\"text-align: right;\">\n",
       "      <th></th>\n",
       "      <th>profile_name</th>\n",
       "      <th>post_type</th>\n",
       "      <th>mean_likes</th>\n",
       "      <th>mean_comments</th>\n",
       "      <th>followers</th>\n",
       "    </tr>\n",
       "  </thead>\n",
       "  <tbody>\n",
       "    <tr>\n",
       "      <th>5</th>\n",
       "      <td>instagram</td>\n",
       "      <td>1</td>\n",
       "      <td>905933</td>\n",
       "      <td>6703</td>\n",
       "      <td>285457645</td>\n",
       "    </tr>\n",
       "    <tr>\n",
       "      <th>6</th>\n",
       "      <td>instagram</td>\n",
       "      <td>2</td>\n",
       "      <td>593409</td>\n",
       "      <td>5749</td>\n",
       "      <td>285457645</td>\n",
       "    </tr>\n",
       "    <tr>\n",
       "      <th>12</th>\n",
       "      <td>victoriassecret</td>\n",
       "      <td>1</td>\n",
       "      <td>230749</td>\n",
       "      <td>438</td>\n",
       "      <td>65269440</td>\n",
       "    </tr>\n",
       "    <tr>\n",
       "      <th>13</th>\n",
       "      <td>victoriassecret</td>\n",
       "      <td>2</td>\n",
       "      <td>261408</td>\n",
       "      <td>583</td>\n",
       "      <td>65269440</td>\n",
       "    </tr>\n",
       "    <tr>\n",
       "      <th>8</th>\n",
       "      <td>nba</td>\n",
       "      <td>1</td>\n",
       "      <td>242235</td>\n",
       "      <td>1087</td>\n",
       "      <td>35339708</td>\n",
       "    </tr>\n",
       "    <tr>\n",
       "      <th>9</th>\n",
       "      <td>nba</td>\n",
       "      <td>2</td>\n",
       "      <td>207295</td>\n",
       "      <td>1026</td>\n",
       "      <td>35339708</td>\n",
       "    </tr>\n",
       "    <tr>\n",
       "      <th>7</th>\n",
       "      <td>louisvuitton</td>\n",
       "      <td>1</td>\n",
       "      <td>186857</td>\n",
       "      <td>867</td>\n",
       "      <td>30689316</td>\n",
       "    </tr>\n",
       "    <tr>\n",
       "      <th>2</th>\n",
       "      <td>buzzfeedtasty</td>\n",
       "      <td>1</td>\n",
       "      <td>100862</td>\n",
       "      <td>963</td>\n",
       "      <td>30246783</td>\n",
       "    </tr>\n",
       "    <tr>\n",
       "      <th>1</th>\n",
       "      <td>andresiniesta8</td>\n",
       "      <td>1</td>\n",
       "      <td>473022</td>\n",
       "      <td>2237</td>\n",
       "      <td>29542143</td>\n",
       "    </tr>\n",
       "    <tr>\n",
       "      <th>4</th>\n",
       "      <td>hm</td>\n",
       "      <td>1</td>\n",
       "      <td>81213</td>\n",
       "      <td>365</td>\n",
       "      <td>29176804</td>\n",
       "    </tr>\n",
       "    <tr>\n",
       "      <th>10</th>\n",
       "      <td>princessyahrini</td>\n",
       "      <td>1</td>\n",
       "      <td>141873</td>\n",
       "      <td>757</td>\n",
       "      <td>29042823</td>\n",
       "    </tr>\n",
       "    <tr>\n",
       "      <th>11</th>\n",
       "      <td>princessyahrini</td>\n",
       "      <td>2</td>\n",
       "      <td>41763</td>\n",
       "      <td>903</td>\n",
       "      <td>29042823</td>\n",
       "    </tr>\n",
       "    <tr>\n",
       "      <th>3</th>\n",
       "      <td>danbilzerian</td>\n",
       "      <td>1</td>\n",
       "      <td>863113</td>\n",
       "      <td>8594</td>\n",
       "      <td>26476004</td>\n",
       "    </tr>\n",
       "    <tr>\n",
       "      <th>0</th>\n",
       "      <td>akshaykumar</td>\n",
       "      <td>1</td>\n",
       "      <td>1027101</td>\n",
       "      <td>6582</td>\n",
       "      <td>26252169</td>\n",
       "    </tr>\n",
       "  </tbody>\n",
       "</table>\n",
       "</div>"
      ],
      "text/plain": [
       "       profile_name  post_type  mean_likes  mean_comments  followers\n",
       "5         instagram          1      905933           6703  285457645\n",
       "6         instagram          2      593409           5749  285457645\n",
       "12  victoriassecret          1      230749            438   65269440\n",
       "13  victoriassecret          2      261408            583   65269440\n",
       "8               nba          1      242235           1087   35339708\n",
       "9               nba          2      207295           1026   35339708\n",
       "7      louisvuitton          1      186857            867   30689316\n",
       "2     buzzfeedtasty          1      100862            963   30246783\n",
       "1    andresiniesta8          1      473022           2237   29542143\n",
       "4                hm          1       81213            365   29176804\n",
       "10  princessyahrini          1      141873            757   29042823\n",
       "11  princessyahrini          2       41763            903   29042823\n",
       "3      danbilzerian          1      863113           8594   26476004\n",
       "0       akshaykumar          1     1027101           6582   26252169"
      ]
     },
     "metadata": {},
     "output_type": "display_data"
    }
   ],
   "source": [
    "#Average number of likes and comments per post_type per top 10 user\n",
    "post_type_landc =followers_likes_posts \\\n",
    "    .groupby(['profile_name','post_type']) \\\n",
    "    .agg(mean_likes=('numbr_likes', 'mean'), mean_comments=('number_comments', 'mean'), followers=('followers','mean'))\n",
    "\n",
    "post_type_landc.reset_index(inplace=True)\n",
    "\n",
    "post_type_landc  = post_type_landc  \\\n",
    "    .astype({'mean_likes' : 'int64','mean_comments' : 'int64','followers': 'int64'})\n",
    "\n",
    "post_type_landc.sort_values(by='followers', ascending= False)"
   ]
  },
  {
   "cell_type": "markdown",
   "metadata": {},
   "source": [
    "## RQ6"
   ]
  },
  {
   "cell_type": "markdown",
   "metadata": {},
   "source": [
    "#### It's time to get information from the user posting effectiveness."
   ]
  },
  {
   "cell_type": "markdown",
   "metadata": {},
   "source": [
    "#### 6.1 What is the average time (days and minutes) a user lets pass before publishing another post? Plot the top 3 users that publish posts more frequently (calculate the average time that passes between posts), including their amount of followers and following. Provide insights from that chart."
   ]
  },
  {
   "cell_type": "markdown",
   "metadata": {},
   "source": [
    "##### Through the for loop and the established chunksize, we select only the columns of interest: profile_id and cts"
   ]
  },
  {
   "cell_type": "code",
   "execution_count": null,
   "metadata": {},
   "outputs": [
    {
     "name": "stderr",
     "output_type": "stream",
     "text": [
      "86it [03:12,  2.24s/it]\n"
     ]
    }
   ],
   "source": [
    "import pandas as pd\n",
    "from tqdm import tqdm\n",
    "\n",
    "df_list = []\n",
    "\n",
    "for chunk in tqdm(pd.read_csv('instagram_posts.csv', delimiter='\\t', chunksize=500000)):\n",
    "    \n",
    "    filtered = chunk[['profile_id','cts']]\n",
    "    \n",
    "    df_list.append(filtered)"
   ]
  },
  {
   "cell_type": "markdown",
   "metadata": {},
   "source": [
    "##### Through the lambda function, an append is made of all the 86 DataFrames that were obtained in the previous loop and they are saved in the DataFrame \"post_dt_by_profile_id\""
   ]
  },
  {
   "cell_type": "code",
   "execution_count": null,
   "metadata": {},
   "outputs": [
    {
     "data": {
      "text/html": [
       "<div>\n",
       "<style scoped>\n",
       "    .dataframe tbody tr th:only-of-type {\n",
       "        vertical-align: middle;\n",
       "    }\n",
       "\n",
       "    .dataframe tbody tr th {\n",
       "        vertical-align: top;\n",
       "    }\n",
       "\n",
       "    .dataframe thead th {\n",
       "        text-align: right;\n",
       "    }\n",
       "</style>\n",
       "<table border=\"1\" class=\"dataframe\">\n",
       "  <thead>\n",
       "    <tr style=\"text-align: right;\">\n",
       "      <th></th>\n",
       "      <th>profile_id</th>\n",
       "      <th>cts</th>\n",
       "    </tr>\n",
       "  </thead>\n",
       "  <tbody>\n",
       "    <tr>\n",
       "      <th>0</th>\n",
       "      <td>2.237948e+09</td>\n",
       "      <td>2017-08-06 20:06:57.000</td>\n",
       "    </tr>\n",
       "    <tr>\n",
       "      <th>1</th>\n",
       "      <td>5.579335e+09</td>\n",
       "      <td>2017-06-19 09:31:16.000</td>\n",
       "    </tr>\n",
       "    <tr>\n",
       "      <th>2</th>\n",
       "      <td>3.134296e+08</td>\n",
       "      <td>2017-03-11 20:05:03.000</td>\n",
       "    </tr>\n",
       "    <tr>\n",
       "      <th>3</th>\n",
       "      <td>1.837593e+09</td>\n",
       "      <td>2016-09-13 16:27:16.000</td>\n",
       "    </tr>\n",
       "    <tr>\n",
       "      <th>4</th>\n",
       "      <td>1.131527e+09</td>\n",
       "      <td>2015-10-18 10:19:27.000</td>\n",
       "    </tr>\n",
       "  </tbody>\n",
       "</table>\n",
       "</div>"
      ],
      "text/plain": [
       "     profile_id                      cts\n",
       "0  2.237948e+09  2017-08-06 20:06:57.000\n",
       "1  5.579335e+09  2017-06-19 09:31:16.000\n",
       "2  3.134296e+08  2017-03-11 20:05:03.000\n",
       "3  1.837593e+09  2016-09-13 16:27:16.000\n",
       "4  1.131527e+09  2015-10-18 10:19:27.000"
      ]
     },
     "metadata": {},
     "output_type": "display_data"
    }
   ],
   "source": [
    "from functools import reduce\n",
    "\n",
    "post_dt_by_profile_id = reduce(lambda df1, df2: df1.append(df2), df_list)\n",
    "\n",
    "post_dt_by_profile_id.head(5)"
   ]
  },
  {
   "cell_type": "markdown",
   "metadata": {},
   "source": [
    "##### A backup CSV file is saved"
   ]
  },
  {
   "cell_type": "code",
   "execution_count": null,
   "metadata": {},
   "outputs": [],
   "source": [
    "post_dt_by_profile_id.to_csv('post_dt_by_profile_id.csv')\n",
    "\n",
    "post_dt_by_profile_id = pd.read_csv('post_dt_by_profile_id.csv', header=0, index_col=0)"
   ]
  },
  {
   "cell_type": "markdown",
   "metadata": {},
   "source": [
    "##### A window operation was performed to obtain the time delta that a user had between one operation and another.\n",
    "\n",
    "##### A count was made to find out how many posts had been made per user and the DataFrame was restricted to analyze the average time between posts only for users who had made more than one post."
   ]
  },
  {
   "cell_type": "code",
   "execution_count": null,
   "metadata": {},
   "outputs": [],
   "source": [
    "post_dt_by_profile_id.cts = pd.to_datetime(post_dt_by_profile_id.cts)\n",
    "\n",
    "#Window operation \n",
    "post_dt_by_profile_id[\"_previous_time\"] = ( \n",
    "    post_dt_by_profile_id.sort_values(\"cts\").groupby(\"profile_id\")[\"cts\"].shift(1)\n",
    "    )\n",
    "\n",
    "post_dt_by_profile_id[\"_count_cts\"] = post_dt_by_profile_id.groupby(\"profile_id\")[\"cts\"].transform(\"count\")\n",
    "\n",
    "post_dt_by_profile_id = post_dt_by_profile_id[post_dt_by_profile_id[\"_count_cts\"] > 1].reset_index()\n",
    "\n",
    "post_dt_by_profile_id[\"delta_time\"] = post_dt_by_profile_id[\"cts\"] - post_dt_by_profile_id[\"_previous_time\"]"
   ]
  },
  {
   "cell_type": "markdown",
   "metadata": {},
   "source": [
    "##### The columns of interest are saved in the DataFrame, the NaT values ​​are eliminated and we convert the DataFrame to Int64"
   ]
  },
  {
   "cell_type": "code",
   "execution_count": null,
   "metadata": {},
   "outputs": [],
   "source": [
    "post_dt_by_profile_id = post_dt_by_profile_id[['profile_id','delta_time']]\n",
    "\n",
    "post_dt_by_profile_id = post_dt_by_profile_id[post_dt_by_profile_id[\"delta_time\"].notna()]\n",
    "\n",
    "post_dt_by_profile_id = post_dt_by_profile_id.astype('int64')"
   ]
  },
  {
   "cell_type": "markdown",
   "metadata": {},
   "source": [
    "##### The average time that passes between posts was calculated using .mean() after a groupby per profile_id"
   ]
  },
  {
   "cell_type": "code",
   "execution_count": null,
   "metadata": {},
   "outputs": [],
   "source": [
    "post_dt_by_profile_id_mean = post_dt_by_profile_id \\\n",
    "    .groupby(\"profile_id\")['delta_time'].mean().reset_index(name=\"mean\")"
   ]
  },
  {
   "cell_type": "markdown",
   "metadata": {},
   "source": [
    "##### The 3 people with the shortest average time were selected."
   ]
  },
  {
   "cell_type": "code",
   "execution_count": null,
   "metadata": {},
   "outputs": [
    {
     "data": {
      "text/html": [
       "<div>\n",
       "<style scoped>\n",
       "    .dataframe tbody tr th:only-of-type {\n",
       "        vertical-align: middle;\n",
       "    }\n",
       "\n",
       "    .dataframe tbody tr th {\n",
       "        vertical-align: top;\n",
       "    }\n",
       "\n",
       "    .dataframe thead th {\n",
       "        text-align: right;\n",
       "    }\n",
       "</style>\n",
       "<table border=\"1\" class=\"dataframe\">\n",
       "  <thead>\n",
       "    <tr style=\"text-align: right;\">\n",
       "      <th></th>\n",
       "      <th>profile_id</th>\n",
       "      <th>mean</th>\n",
       "    </tr>\n",
       "  </thead>\n",
       "  <tbody>\n",
       "    <tr>\n",
       "      <th>125819</th>\n",
       "      <td>8801686</td>\n",
       "      <td>0.0</td>\n",
       "    </tr>\n",
       "    <tr>\n",
       "      <th>160364</th>\n",
       "      <td>11534437</td>\n",
       "      <td>0.0</td>\n",
       "    </tr>\n",
       "    <tr>\n",
       "      <th>256203</th>\n",
       "      <td>19420666</td>\n",
       "      <td>0.0</td>\n",
       "    </tr>\n",
       "  </tbody>\n",
       "</table>\n",
       "</div>"
      ],
      "text/plain": [
       "        profile_id  mean\n",
       "125819     8801686   0.0\n",
       "160364    11534437   0.0\n",
       "256203    19420666   0.0"
      ]
     },
     "metadata": {},
     "output_type": "display_data"
    }
   ],
   "source": [
    "post_dt_by_profile_id_mean = post_dt_by_profile_id_mean.nsmallest(3,'mean')\n",
    "\n",
    "#Use to have the mean time in Days.\n",
    "post_dt_by_profile_id_mean = post_dt_by_profile_id_mean.astype({'profile_id':'int64', 'mean': 'timedelta64[ns]'})\n",
    "\n",
    "post_dt_by_profile_id_mean"
   ]
  },
  {
   "cell_type": "markdown",
   "metadata": {},
   "source": [
    "##### To verify why there are 3 users with an average of 0, a filter was made of all the posts that these users made."
   ]
  },
  {
   "cell_type": "code",
   "execution_count": null,
   "metadata": {},
   "outputs": [
    {
     "name": "stderr",
     "output_type": "stream",
     "text": [
      "86it [04:04,  2.84s/it]\n"
     ]
    }
   ],
   "source": [
    "top_3_smallest_mean = post_dt_by_profile_id_mean.profile_id.astype('int32').to_list()\n",
    "\n",
    "from tqdm import tqdm\n",
    "\n",
    "posts_list = []\n",
    "\n",
    "for chunk in tqdm(pd.read_csv('instagram_posts.zip', delimiter='\\t', chunksize=500000)):\n",
    "    \n",
    "    filtered = chunk[chunk.profile_id.isin(top_3_smallest_mean)]\n",
    "    \n",
    "    posts_list.append(filtered)"
   ]
  },
  {
   "cell_type": "markdown",
   "metadata": {},
   "source": [
    "##### As you can see, these 3 people made 2 different posts (they have different post IDs) at the same time. Therefore, they are the top 3 people with the lowest average between posts."
   ]
  },
  {
   "cell_type": "code",
   "execution_count": null,
   "metadata": {},
   "outputs": [],
   "source": [
    "from functools import reduce\n",
    "\n",
    "top_3_smallest_mean_posts = reduce(lambda df1, df2: df1.append(df2), posts_list)\n",
    "\n"
   ]
  },
  {
   "cell_type": "code",
   "execution_count": null,
   "metadata": {},
   "outputs": [
    {
     "data": {
      "text/html": [
       "<div>\n",
       "<style scoped>\n",
       "    .dataframe tbody tr th:only-of-type {\n",
       "        vertical-align: middle;\n",
       "    }\n",
       "\n",
       "    .dataframe tbody tr th {\n",
       "        vertical-align: top;\n",
       "    }\n",
       "\n",
       "    .dataframe thead th {\n",
       "        text-align: right;\n",
       "    }\n",
       "</style>\n",
       "<table border=\"1\" class=\"dataframe\">\n",
       "  <thead>\n",
       "    <tr style=\"text-align: right;\">\n",
       "      <th></th>\n",
       "      <th>sid</th>\n",
       "      <th>sid_profile</th>\n",
       "      <th>post_id</th>\n",
       "      <th>profile_id</th>\n",
       "      <th>location_id</th>\n",
       "      <th>cts</th>\n",
       "      <th>post_type</th>\n",
       "      <th>description</th>\n",
       "      <th>numbr_likes</th>\n",
       "      <th>number_comments</th>\n",
       "    </tr>\n",
       "  </thead>\n",
       "  <tbody>\n",
       "    <tr>\n",
       "      <th>8777270</th>\n",
       "      <td>37101699</td>\n",
       "      <td>156474</td>\n",
       "      <td>BnfClvhHN1WDJjKC_arIKYTniDzomnufr0qJRM0</td>\n",
       "      <td>8801686.0</td>\n",
       "      <td>2.049153e+14</td>\n",
       "      <td>2018-09-09 02:19:42.000</td>\n",
       "      <td>1</td>\n",
       "      <td>Saltountastic</td>\n",
       "      <td>46.0</td>\n",
       "      <td>3.0</td>\n",
       "    </tr>\n",
       "    <tr>\n",
       "      <th>31198194</th>\n",
       "      <td>15778261</td>\n",
       "      <td>156474</td>\n",
       "      <td>BnfClvhHN1W</td>\n",
       "      <td>8801686.0</td>\n",
       "      <td>2.049153e+14</td>\n",
       "      <td>2018-09-09 02:19:42.000</td>\n",
       "      <td>1</td>\n",
       "      <td>Saltountastic</td>\n",
       "      <td>46.0</td>\n",
       "      <td>3.0</td>\n",
       "    </tr>\n",
       "    <tr>\n",
       "      <th>39888507</th>\n",
       "      <td>25490420</td>\n",
       "      <td>-1</td>\n",
       "      <td>BvM-wR9lSUB</td>\n",
       "      <td>19420666.0</td>\n",
       "      <td>8.559840e+06</td>\n",
       "      <td>2019-03-19 21:11:01.000</td>\n",
       "      <td>1</td>\n",
       "      <td>She has the best big brother 💗</td>\n",
       "      <td>21.0</td>\n",
       "      <td>0.0</td>\n",
       "    </tr>\n",
       "    <tr>\n",
       "      <th>39888508</th>\n",
       "      <td>25490422</td>\n",
       "      <td>-1</td>\n",
       "      <td>BvM-wRnllHV</td>\n",
       "      <td>19420666.0</td>\n",
       "      <td>8.559840e+06</td>\n",
       "      <td>2019-03-19 21:11:01.000</td>\n",
       "      <td>1</td>\n",
       "      <td>“Angels are often disguised as daughters” - un...</td>\n",
       "      <td>21.0</td>\n",
       "      <td>0.0</td>\n",
       "    </tr>\n",
       "    <tr>\n",
       "      <th>42142328</th>\n",
       "      <td>27785492</td>\n",
       "      <td>-1</td>\n",
       "      <td>Msn7GmxVvS</td>\n",
       "      <td>11534437.0</td>\n",
       "      <td>2.176185e+07</td>\n",
       "      <td>2012-07-05 13:19:11.000</td>\n",
       "      <td>1</td>\n",
       "      <td>NaN</td>\n",
       "      <td>0.0</td>\n",
       "      <td>0.0</td>\n",
       "    </tr>\n",
       "    <tr>\n",
       "      <th>42142453</th>\n",
       "      <td>27785493</td>\n",
       "      <td>-1</td>\n",
       "      <td>Msn6-9xVvR</td>\n",
       "      <td>11534437.0</td>\n",
       "      <td>2.176185e+07</td>\n",
       "      <td>2012-07-05 13:19:11.000</td>\n",
       "      <td>1</td>\n",
       "      <td>NaN</td>\n",
       "      <td>0.0</td>\n",
       "      <td>0.0</td>\n",
       "    </tr>\n",
       "  </tbody>\n",
       "</table>\n",
       "</div>"
      ],
      "text/plain": [
       "               sid  sid_profile                                  post_id  \\\n",
       "8777270   37101699       156474  BnfClvhHN1WDJjKC_arIKYTniDzomnufr0qJRM0   \n",
       "31198194  15778261       156474                              BnfClvhHN1W   \n",
       "39888507  25490420           -1                              BvM-wR9lSUB   \n",
       "39888508  25490422           -1                              BvM-wRnllHV   \n",
       "42142328  27785492           -1                               Msn7GmxVvS   \n",
       "42142453  27785493           -1                               Msn6-9xVvR   \n",
       "\n",
       "          profile_id   location_id                      cts  post_type  \\\n",
       "8777270    8801686.0  2.049153e+14  2018-09-09 02:19:42.000          1   \n",
       "31198194   8801686.0  2.049153e+14  2018-09-09 02:19:42.000          1   \n",
       "39888507  19420666.0  8.559840e+06  2019-03-19 21:11:01.000          1   \n",
       "39888508  19420666.0  8.559840e+06  2019-03-19 21:11:01.000          1   \n",
       "42142328  11534437.0  2.176185e+07  2012-07-05 13:19:11.000          1   \n",
       "42142453  11534437.0  2.176185e+07  2012-07-05 13:19:11.000          1   \n",
       "\n",
       "                                                description  numbr_likes  \\\n",
       "8777270                                       Saltountastic         46.0   \n",
       "31198194                                      Saltountastic         46.0   \n",
       "39888507                     She has the best big brother 💗         21.0   \n",
       "39888508  “Angels are often disguised as daughters” - un...         21.0   \n",
       "42142328                                                NaN          0.0   \n",
       "42142453                                                NaN          0.0   \n",
       "\n",
       "          number_comments  \n",
       "8777270               3.0  \n",
       "31198194              3.0  \n",
       "39888507              0.0  \n",
       "39888508              0.0  \n",
       "42142328              0.0  \n",
       "42142453              0.0  "
      ]
     },
     "metadata": {},
     "output_type": "display_data"
    }
   ],
   "source": [
    "top_3_smallest_mean_posts"
   ]
  },
  {
   "cell_type": "markdown",
   "metadata": {},
   "source": [
    "##### The Data Frame Profiles was brought to obtain the number of followers and following."
   ]
  },
  {
   "cell_type": "code",
   "execution_count": null,
   "metadata": {},
   "outputs": [],
   "source": [
    "profiles_df = pd.read_csv('instagram_profiles.zip', delimiter='\\t')\n",
    "\n",
    "profiles_df = profiles_df[profiles_df[\"profile_id\"].notna()]\n",
    "\n",
    "profiles_df = profiles_df.astype({'profile_id':'int64'})"
   ]
  },
  {
   "cell_type": "code",
   "execution_count": null,
   "metadata": {},
   "outputs": [
    {
     "data": {
      "text/html": [
       "<div>\n",
       "<style scoped>\n",
       "    .dataframe tbody tr th:only-of-type {\n",
       "        vertical-align: middle;\n",
       "    }\n",
       "\n",
       "    .dataframe tbody tr th {\n",
       "        vertical-align: top;\n",
       "    }\n",
       "\n",
       "    .dataframe thead th {\n",
       "        text-align: right;\n",
       "    }\n",
       "</style>\n",
       "<table border=\"1\" class=\"dataframe\">\n",
       "  <thead>\n",
       "    <tr style=\"text-align: right;\">\n",
       "      <th></th>\n",
       "      <th>profile_id</th>\n",
       "      <th>mean</th>\n",
       "    </tr>\n",
       "  </thead>\n",
       "  <tbody>\n",
       "    <tr>\n",
       "      <th>125819</th>\n",
       "      <td>8801686</td>\n",
       "      <td>0.0</td>\n",
       "    </tr>\n",
       "    <tr>\n",
       "      <th>160364</th>\n",
       "      <td>11534437</td>\n",
       "      <td>0.0</td>\n",
       "    </tr>\n",
       "    <tr>\n",
       "      <th>256203</th>\n",
       "      <td>19420666</td>\n",
       "      <td>0.0</td>\n",
       "    </tr>\n",
       "  </tbody>\n",
       "</table>\n",
       "</div>"
      ],
      "text/plain": [
       "        profile_id  mean\n",
       "125819     8801686   0.0\n",
       "160364    11534437   0.0\n",
       "256203    19420666   0.0"
      ]
     },
     "metadata": {},
     "output_type": "display_data"
    }
   ],
   "source": [
    "post_dt_by_profile_id_mean"
   ]
  },
  {
   "cell_type": "markdown",
   "metadata": {},
   "source": [
    "##### A pd.merge() was used to fetch the number of followers using the profile_id key."
   ]
  },
  {
   "cell_type": "code",
   "execution_count": null,
   "metadata": {},
   "outputs": [],
   "source": [
    "#Join posts and profile\n",
    "followers_following_top3 = pd.merge(left=post_dt_by_profile_id_mean, right=profiles_df, left_on='profile_id', right_on='profile_id')"
   ]
  },
  {
   "cell_type": "markdown",
   "metadata": {},
   "source": [
    "##### As stated above, there are inconsistencies between the databases, so it only matched a profile ID belonging to Alex Dinsdale with 705 followers and 1572 following.\n",
    "\n",
    "##### The number of n_posts is also ignored due to inconsistencies found between databases."
   ]
  },
  {
   "cell_type": "code",
   "execution_count": null,
   "metadata": {},
   "outputs": [
    {
     "data": {
      "text/html": [
       "<div>\n",
       "<style scoped>\n",
       "    .dataframe tbody tr th:only-of-type {\n",
       "        vertical-align: middle;\n",
       "    }\n",
       "\n",
       "    .dataframe tbody tr th {\n",
       "        vertical-align: top;\n",
       "    }\n",
       "\n",
       "    .dataframe thead th {\n",
       "        text-align: right;\n",
       "    }\n",
       "</style>\n",
       "<table border=\"1\" class=\"dataframe\">\n",
       "  <thead>\n",
       "    <tr style=\"text-align: right;\">\n",
       "      <th></th>\n",
       "      <th>profile_id</th>\n",
       "      <th>mean</th>\n",
       "      <th>followers</th>\n",
       "      <th>following</th>\n",
       "    </tr>\n",
       "  </thead>\n",
       "  <tbody>\n",
       "    <tr>\n",
       "      <th>0</th>\n",
       "      <td>8801686</td>\n",
       "      <td>0.0</td>\n",
       "      <td>705.0</td>\n",
       "      <td>1572.0</td>\n",
       "    </tr>\n",
       "  </tbody>\n",
       "</table>\n",
       "</div>"
      ],
      "text/plain": [
       "   profile_id  mean  followers  following\n",
       "0     8801686   0.0      705.0     1572.0"
      ]
     },
     "metadata": {},
     "output_type": "display_data"
    }
   ],
   "source": [
    "followers_following_top3 = followers_following_top3[['profile_id','mean','followers','following']]\n",
    "followers_following_top3"
   ]
  },
  {
   "cell_type": "markdown",
   "metadata": {},
   "source": [
    "##### According to experts, it is recommended to make 3 posts a week to have an active profile on Instagram: https://www.iprofesional.com/actualidad/330966-instagram-revela-su-secreto-cuantas-veces-debes-postear-al-dia\n",
    "\n",
    "##### A year has 52.14 weeks. Doing the multiplication, this is equivalent to 156 publications per year. Taking into account that Instagram was created in 2010 and the base was extracted in 2019, by multiplying 156 by 9, we have 1,404 posts. Therefore, a better analysis would have been to look at the average number of posts from users who have at least 1,404 posts in these 9 years. It should be noted that the results would not have been entirely correct because the databases present inconsistencies."
   ]
  },
  {
   "cell_type": "markdown",
   "metadata": {},
   "source": [
    "#### 6.2 Using the function you previously coded, plot the time intervals with the highest average number of “likes” and the ones with the highest average number of comments on posts."
   ]
  },
  {
   "cell_type": "markdown",
   "metadata": {},
   "source": [
    "##### Through the for loop and the established chunksize, we select only the columns of interest: profile_id and cts"
   ]
  },
  {
   "cell_type": "code",
   "execution_count": null,
   "metadata": {},
   "outputs": [
    {
     "name": "stderr",
     "output_type": "stream",
     "text": [
      "86it [12:01,  8.38s/it] \n"
     ]
    }
   ],
   "source": [
    "import pandas as pd\n",
    "from tqdm import tqdm\n",
    "\n",
    "likesandcomments_list = []\n",
    "\n",
    "for chunk in tqdm(pd.read_csv('instagram_posts.zip', delimiter='\\t', chunksize=500000)):\n",
    "    \n",
    "    filtered = chunk[['numbr_likes','number_comments','cts']]\n",
    "    \n",
    "    likesandcomments_list.append(filtered)"
   ]
  },
  {
   "cell_type": "markdown",
   "metadata": {},
   "source": [
    "##### Through the lambda function, an append is made of all the 86 DataFrames that were obtained in the previous loop and they are saved in the DataFrame \"post_dt_by_profile_id\""
   ]
  },
  {
   "cell_type": "code",
   "execution_count": null,
   "metadata": {},
   "outputs": [
    {
     "name": "stderr",
     "output_type": "stream",
     "text": [
      "/var/folders/gy/6j7jtq4n7m36jvtq0tfc4t880000gn/T/ipykernel_1230/1804233208.py:3: FutureWarning: The frame.append method is deprecated and will be removed from pandas in a future version. Use pandas.concat instead.\n",
      "  likesandcomments_df = reduce(lambda df1, df2: df1.append(df2), likesandcomments_list)\n"
     ]
    },
    {
     "data": {
      "text/html": [
       "<div>\n",
       "<style scoped>\n",
       "    .dataframe tbody tr th:only-of-type {\n",
       "        vertical-align: middle;\n",
       "    }\n",
       "\n",
       "    .dataframe tbody tr th {\n",
       "        vertical-align: top;\n",
       "    }\n",
       "\n",
       "    .dataframe thead th {\n",
       "        text-align: right;\n",
       "    }\n",
       "</style>\n",
       "<table border=\"1\" class=\"dataframe\">\n",
       "  <thead>\n",
       "    <tr style=\"text-align: right;\">\n",
       "      <th></th>\n",
       "      <th>numbr_likes</th>\n",
       "      <th>number_comments</th>\n",
       "      <th>cts</th>\n",
       "    </tr>\n",
       "  </thead>\n",
       "  <tbody>\n",
       "    <tr>\n",
       "      <th>0</th>\n",
       "      <td>80.0</td>\n",
       "      <td>0.0</td>\n",
       "      <td>2017-08-06 20:06:57.000</td>\n",
       "    </tr>\n",
       "    <tr>\n",
       "      <th>1</th>\n",
       "      <td>25.0</td>\n",
       "      <td>1.0</td>\n",
       "      <td>2017-06-19 09:31:16.000</td>\n",
       "    </tr>\n",
       "    <tr>\n",
       "      <th>2</th>\n",
       "      <td>9.0</td>\n",
       "      <td>0.0</td>\n",
       "      <td>2017-03-11 20:05:03.000</td>\n",
       "    </tr>\n",
       "    <tr>\n",
       "      <th>3</th>\n",
       "      <td>4.0</td>\n",
       "      <td>0.0</td>\n",
       "      <td>2016-09-13 16:27:16.000</td>\n",
       "    </tr>\n",
       "    <tr>\n",
       "      <th>4</th>\n",
       "      <td>8.0</td>\n",
       "      <td>0.0</td>\n",
       "      <td>2015-10-18 10:19:27.000</td>\n",
       "    </tr>\n",
       "  </tbody>\n",
       "</table>\n",
       "</div>"
      ],
      "text/plain": [
       "   numbr_likes  number_comments                      cts\n",
       "0         80.0              0.0  2017-08-06 20:06:57.000\n",
       "1         25.0              1.0  2017-06-19 09:31:16.000\n",
       "2          9.0              0.0  2017-03-11 20:05:03.000\n",
       "3          4.0              0.0  2016-09-13 16:27:16.000\n",
       "4          8.0              0.0  2015-10-18 10:19:27.000"
      ]
     },
     "metadata": {},
     "output_type": "display_data"
    }
   ],
   "source": [
    "from functools import reduce\n",
    "\n",
    "likesandcomments_df = reduce(lambda df1, df2: df1.append(df2), likesandcomments_list)\n",
    "\n",
    "likesandcomments_df.head(5)"
   ]
  },
  {
   "cell_type": "markdown",
   "metadata": {},
   "source": [
    "##### A backup CSV file is saved"
   ]
  },
  {
   "cell_type": "code",
   "execution_count": null,
   "metadata": {},
   "outputs": [],
   "source": [
    "#Save a copy of the DF of interest\n",
    "\n",
    "likesandcomments_df.to_csv('likesandcomments_df.csv')\n",
    "\n",
    "likesandcomments_df = pd.read_csv('likesandcomments_df.csv', header=0, index_col=0)"
   ]
  },
  {
   "cell_type": "markdown",
   "metadata": {},
   "source": [
    "#### The function from point 3 was used to convert the \"cts\" column to a datetime"
   ]
  },
  {
   "cell_type": "code",
   "execution_count": null,
   "metadata": {},
   "outputs": [
    {
     "data": {
      "text/plain": [
       "numbr_likes        float64\n",
       "number_comments    float64\n",
       "cts                 object\n",
       "dtype: object"
      ]
     },
     "metadata": {},
     "output_type": "display_data"
    }
   ],
   "source": [
    "#Function used in RQ3\n",
    "def posts_cts_manager(post_dataframe):\n",
    "    post_dataframe['cts'] = pd.to_datetime(post_dataframe.cts).dt.time\n",
    "    return post_dataframe#\n",
    "\n",
    "likesandcomments_df = posts_cts_manager(likesandcomments_df)\n",
    "likesandcomments_df.dtypes"
   ]
  },
  {
   "cell_type": "markdown",
   "metadata": {},
   "source": [
    "##### All null values ​​that are in the cts column are removed."
   ]
  },
  {
   "cell_type": "code",
   "execution_count": null,
   "metadata": {},
   "outputs": [],
   "source": [
    "likesandcomments_df.dropna(inplace = True, subset = ['cts'])"
   ]
  },
  {
   "cell_type": "markdown",
   "metadata": {},
   "source": [
    "##### Two DataFrame are created, one for the number of likes and another for the number of comments, both related to cts."
   ]
  },
  {
   "cell_type": "code",
   "execution_count": null,
   "metadata": {},
   "outputs": [],
   "source": [
    "#DataFrime for the Number of Likes\n",
    "likes_df = likesandcomments_df[['numbr_likes','cts']]\n",
    "\n",
    "#DataFrime for the Number of Comments\n",
    "comments_df = likesandcomments_df[['number_comments','cts']]"
   ]
  },
  {
   "cell_type": "markdown",
   "metadata": {},
   "source": [
    "##### .hour was used to extract only the hour from the cts column and save it to a new one (_hour)"
   ]
  },
  {
   "cell_type": "code",
   "execution_count": null,
   "metadata": {},
   "outputs": [
    {
     "data": {
      "text/html": [
       "<div>\n",
       "<style scoped>\n",
       "    .dataframe tbody tr th:only-of-type {\n",
       "        vertical-align: middle;\n",
       "    }\n",
       "\n",
       "    .dataframe tbody tr th {\n",
       "        vertical-align: top;\n",
       "    }\n",
       "\n",
       "    .dataframe thead th {\n",
       "        text-align: right;\n",
       "    }\n",
       "</style>\n",
       "<table border=\"1\" class=\"dataframe\">\n",
       "  <thead>\n",
       "    <tr style=\"text-align: right;\">\n",
       "      <th></th>\n",
       "      <th>numbr_likes</th>\n",
       "      <th>cts</th>\n",
       "      <th>_hour</th>\n",
       "    </tr>\n",
       "  </thead>\n",
       "  <tbody>\n",
       "    <tr>\n",
       "      <th>0</th>\n",
       "      <td>80.0</td>\n",
       "      <td>20:06:57</td>\n",
       "      <td>20</td>\n",
       "    </tr>\n",
       "    <tr>\n",
       "      <th>1</th>\n",
       "      <td>25.0</td>\n",
       "      <td>09:31:16</td>\n",
       "      <td>9</td>\n",
       "    </tr>\n",
       "    <tr>\n",
       "      <th>2</th>\n",
       "      <td>9.0</td>\n",
       "      <td>20:05:03</td>\n",
       "      <td>20</td>\n",
       "    </tr>\n",
       "    <tr>\n",
       "      <th>3</th>\n",
       "      <td>4.0</td>\n",
       "      <td>16:27:16</td>\n",
       "      <td>16</td>\n",
       "    </tr>\n",
       "    <tr>\n",
       "      <th>4</th>\n",
       "      <td>8.0</td>\n",
       "      <td>10:19:27</td>\n",
       "      <td>10</td>\n",
       "    </tr>\n",
       "    <tr>\n",
       "      <th>...</th>\n",
       "      <td>...</td>\n",
       "      <td>...</td>\n",
       "      <td>...</td>\n",
       "    </tr>\n",
       "    <tr>\n",
       "      <th>42710192</th>\n",
       "      <td>74.0</td>\n",
       "      <td>15:38:04</td>\n",
       "      <td>15</td>\n",
       "    </tr>\n",
       "    <tr>\n",
       "      <th>42710193</th>\n",
       "      <td>49.0</td>\n",
       "      <td>11:28:01</td>\n",
       "      <td>11</td>\n",
       "    </tr>\n",
       "    <tr>\n",
       "      <th>42710194</th>\n",
       "      <td>18.0</td>\n",
       "      <td>20:16:37</td>\n",
       "      <td>20</td>\n",
       "    </tr>\n",
       "    <tr>\n",
       "      <th>42710195</th>\n",
       "      <td>27.0</td>\n",
       "      <td>20:07:52</td>\n",
       "      <td>20</td>\n",
       "    </tr>\n",
       "    <tr>\n",
       "      <th>42710196</th>\n",
       "      <td>1824.0</td>\n",
       "      <td>02:57:17</td>\n",
       "      <td>2</td>\n",
       "    </tr>\n",
       "  </tbody>\n",
       "</table>\n",
       "<p>42706865 rows × 3 columns</p>\n",
       "</div>"
      ],
      "text/plain": [
       "          numbr_likes       cts  _hour\n",
       "0                80.0  20:06:57     20\n",
       "1                25.0  09:31:16      9\n",
       "2                 9.0  20:05:03     20\n",
       "3                 4.0  16:27:16     16\n",
       "4                 8.0  10:19:27     10\n",
       "...               ...       ...    ...\n",
       "42710192         74.0  15:38:04     15\n",
       "42710193         49.0  11:28:01     11\n",
       "42710194         18.0  20:16:37     20\n",
       "42710195         27.0  20:07:52     20\n",
       "42710196       1824.0  02:57:17      2\n",
       "\n",
       "[42706865 rows x 3 columns]"
      ]
     },
     "metadata": {},
     "output_type": "display_data"
    }
   ],
   "source": [
    "likes_df['_hour'] = likes_df.cts.apply(lambda i: i.hour).astype(int)\n",
    "likes_df"
   ]
  },
  {
   "cell_type": "markdown",
   "metadata": {},
   "source": [
    "##### We define the predefined intervals in point 3 in the \"intervals\" list.\n",
    "\n",
    "##### Some changes were made to the function that was made in RQ3 since it works perfectly to count the number of posts but to perform operations it is not efficient."
   ]
  },
  {
   "cell_type": "code",
   "execution_count": null,
   "metadata": {},
   "outputs": [],
   "source": [
    "intervals = [0, 3, 6, 11, 14, 17, 20, 24]"
   ]
  },
  {
   "cell_type": "markdown",
   "metadata": {},
   "source": [
    "##### Used pd.cut() function to segment and sort data values ​​into bins (time intervals)\n",
    "\n",
    "##### The execution time is lower, so it's evident that it's more efficient to use pandas for databases than loops."
   ]
  },
  {
   "cell_type": "code",
   "execution_count": null,
   "metadata": {},
   "outputs": [
    {
     "data": {
      "text/html": [
       "<div>\n",
       "<style scoped>\n",
       "    .dataframe tbody tr th:only-of-type {\n",
       "        vertical-align: middle;\n",
       "    }\n",
       "\n",
       "    .dataframe tbody tr th {\n",
       "        vertical-align: top;\n",
       "    }\n",
       "\n",
       "    .dataframe thead th {\n",
       "        text-align: right;\n",
       "    }\n",
       "</style>\n",
       "<table border=\"1\" class=\"dataframe\">\n",
       "  <thead>\n",
       "    <tr style=\"text-align: right;\">\n",
       "      <th></th>\n",
       "      <th>numbr_likes</th>\n",
       "      <th>cts</th>\n",
       "      <th>_hour</th>\n",
       "      <th>_bin</th>\n",
       "    </tr>\n",
       "  </thead>\n",
       "  <tbody>\n",
       "    <tr>\n",
       "      <th>0</th>\n",
       "      <td>80.0</td>\n",
       "      <td>20:06:57</td>\n",
       "      <td>20</td>\n",
       "      <td>[20, 24)</td>\n",
       "    </tr>\n",
       "    <tr>\n",
       "      <th>1</th>\n",
       "      <td>25.0</td>\n",
       "      <td>09:31:16</td>\n",
       "      <td>9</td>\n",
       "      <td>[6, 11)</td>\n",
       "    </tr>\n",
       "    <tr>\n",
       "      <th>2</th>\n",
       "      <td>9.0</td>\n",
       "      <td>20:05:03</td>\n",
       "      <td>20</td>\n",
       "      <td>[20, 24)</td>\n",
       "    </tr>\n",
       "    <tr>\n",
       "      <th>3</th>\n",
       "      <td>4.0</td>\n",
       "      <td>16:27:16</td>\n",
       "      <td>16</td>\n",
       "      <td>[14, 17)</td>\n",
       "    </tr>\n",
       "    <tr>\n",
       "      <th>4</th>\n",
       "      <td>8.0</td>\n",
       "      <td>10:19:27</td>\n",
       "      <td>10</td>\n",
       "      <td>[6, 11)</td>\n",
       "    </tr>\n",
       "    <tr>\n",
       "      <th>...</th>\n",
       "      <td>...</td>\n",
       "      <td>...</td>\n",
       "      <td>...</td>\n",
       "      <td>...</td>\n",
       "    </tr>\n",
       "    <tr>\n",
       "      <th>42710192</th>\n",
       "      <td>74.0</td>\n",
       "      <td>15:38:04</td>\n",
       "      <td>15</td>\n",
       "      <td>[14, 17)</td>\n",
       "    </tr>\n",
       "    <tr>\n",
       "      <th>42710193</th>\n",
       "      <td>49.0</td>\n",
       "      <td>11:28:01</td>\n",
       "      <td>11</td>\n",
       "      <td>[11, 14)</td>\n",
       "    </tr>\n",
       "    <tr>\n",
       "      <th>42710194</th>\n",
       "      <td>18.0</td>\n",
       "      <td>20:16:37</td>\n",
       "      <td>20</td>\n",
       "      <td>[20, 24)</td>\n",
       "    </tr>\n",
       "    <tr>\n",
       "      <th>42710195</th>\n",
       "      <td>27.0</td>\n",
       "      <td>20:07:52</td>\n",
       "      <td>20</td>\n",
       "      <td>[20, 24)</td>\n",
       "    </tr>\n",
       "    <tr>\n",
       "      <th>42710196</th>\n",
       "      <td>1824.0</td>\n",
       "      <td>02:57:17</td>\n",
       "      <td>2</td>\n",
       "      <td>[0, 3)</td>\n",
       "    </tr>\n",
       "  </tbody>\n",
       "</table>\n",
       "<p>42706865 rows × 4 columns</p>\n",
       "</div>"
      ],
      "text/plain": [
       "          numbr_likes       cts  _hour      _bin\n",
       "0                80.0  20:06:57     20  [20, 24)\n",
       "1                25.0  09:31:16      9   [6, 11)\n",
       "2                 9.0  20:05:03     20  [20, 24)\n",
       "3                 4.0  16:27:16     16  [14, 17)\n",
       "4                 8.0  10:19:27     10   [6, 11)\n",
       "...               ...       ...    ...       ...\n",
       "42710192         74.0  15:38:04     15  [14, 17)\n",
       "42710193         49.0  11:28:01     11  [11, 14)\n",
       "42710194         18.0  20:16:37     20  [20, 24)\n",
       "42710195         27.0  20:07:52     20  [20, 24)\n",
       "42710196       1824.0  02:57:17      2    [0, 3)\n",
       "\n",
       "[42706865 rows x 4 columns]"
      ]
     },
     "metadata": {},
     "output_type": "display_data"
    }
   ],
   "source": [
    "likes_df['_bin'] = pd.cut(likes_df['_hour'], intervals, include_lowest=True, right=False)\n",
    "\n",
    "likes_df"
   ]
  },
  {
   "cell_type": "markdown",
   "metadata": {},
   "source": [
    "##### We perform a group by by _bin and add the number of likes to find out which is the interval with the highest number of likes."
   ]
  },
  {
   "cell_type": "code",
   "execution_count": null,
   "metadata": {},
   "outputs": [
    {
     "data": {
      "text/html": [
       "<div>\n",
       "<style scoped>\n",
       "    .dataframe tbody tr th:only-of-type {\n",
       "        vertical-align: middle;\n",
       "    }\n",
       "\n",
       "    .dataframe tbody tr th {\n",
       "        vertical-align: top;\n",
       "    }\n",
       "\n",
       "    .dataframe thead th {\n",
       "        text-align: right;\n",
       "    }\n",
       "</style>\n",
       "<table border=\"1\" class=\"dataframe\">\n",
       "  <thead>\n",
       "    <tr style=\"text-align: right;\">\n",
       "      <th></th>\n",
       "      <th>_bin</th>\n",
       "      <th>numbr_likes</th>\n",
       "    </tr>\n",
       "  </thead>\n",
       "  <tbody>\n",
       "    <tr>\n",
       "      <th>0</th>\n",
       "      <td>[0, 3)</td>\n",
       "      <td>1132228305</td>\n",
       "    </tr>\n",
       "    <tr>\n",
       "      <th>1</th>\n",
       "      <td>[3, 6)</td>\n",
       "      <td>906307766</td>\n",
       "    </tr>\n",
       "    <tr>\n",
       "      <th>2</th>\n",
       "      <td>[6, 11)</td>\n",
       "      <td>1714755026</td>\n",
       "    </tr>\n",
       "    <tr>\n",
       "      <th>3</th>\n",
       "      <td>[11, 14)</td>\n",
       "      <td>1655934971</td>\n",
       "    </tr>\n",
       "    <tr>\n",
       "      <th>4</th>\n",
       "      <td>[14, 17)</td>\n",
       "      <td>2008428995</td>\n",
       "    </tr>\n",
       "    <tr>\n",
       "      <th>5</th>\n",
       "      <td>[17, 20)</td>\n",
       "      <td>2228425199</td>\n",
       "    </tr>\n",
       "    <tr>\n",
       "      <th>6</th>\n",
       "      <td>[20, 24)</td>\n",
       "      <td>2461097190</td>\n",
       "    </tr>\n",
       "  </tbody>\n",
       "</table>\n",
       "</div>"
      ],
      "text/plain": [
       "       _bin  numbr_likes\n",
       "0    [0, 3)   1132228305\n",
       "1    [3, 6)    906307766\n",
       "2   [6, 11)   1714755026\n",
       "3  [11, 14)   1655934971\n",
       "4  [14, 17)   2008428995\n",
       "5  [17, 20)   2228425199\n",
       "6  [20, 24)   2461097190"
      ]
     },
     "metadata": {},
     "output_type": "display_data"
    }
   ],
   "source": [
    "result_group_by_likes = likes_df \\\n",
    "    .groupby(['_bin'])[['numbr_likes']] \\\n",
    "    .sum() \\\n",
    "    .reset_index()\n",
    "\n",
    "result_group_by_likes = result_group_by_likes \\\n",
    "    .astype({'numbr_likes' : 'int64'})\n",
    "\n",
    "result_group_by_likes"
   ]
  },
  {
   "cell_type": "markdown",
   "metadata": {},
   "source": [
    "##### Each interval has 4 hours, therefore the total sum obtained previously is divided into 4 to obtain the average"
   ]
  },
  {
   "cell_type": "code",
   "execution_count": null,
   "metadata": {},
   "outputs": [
    {
     "data": {
      "text/html": [
       "<div>\n",
       "<style scoped>\n",
       "    .dataframe tbody tr th:only-of-type {\n",
       "        vertical-align: middle;\n",
       "    }\n",
       "\n",
       "    .dataframe tbody tr th {\n",
       "        vertical-align: top;\n",
       "    }\n",
       "\n",
       "    .dataframe thead th {\n",
       "        text-align: right;\n",
       "    }\n",
       "</style>\n",
       "<table border=\"1\" class=\"dataframe\">\n",
       "  <thead>\n",
       "    <tr style=\"text-align: right;\">\n",
       "      <th></th>\n",
       "      <th>_bin</th>\n",
       "      <th>numbr_likes</th>\n",
       "      <th>average_of_likes_per_interval</th>\n",
       "    </tr>\n",
       "  </thead>\n",
       "  <tbody>\n",
       "    <tr>\n",
       "      <th>0</th>\n",
       "      <td>[0, 3)</td>\n",
       "      <td>1132228305</td>\n",
       "      <td>283057076</td>\n",
       "    </tr>\n",
       "    <tr>\n",
       "      <th>1</th>\n",
       "      <td>[3, 6)</td>\n",
       "      <td>906307766</td>\n",
       "      <td>226576941</td>\n",
       "    </tr>\n",
       "    <tr>\n",
       "      <th>2</th>\n",
       "      <td>[6, 11)</td>\n",
       "      <td>1714755026</td>\n",
       "      <td>428688756</td>\n",
       "    </tr>\n",
       "    <tr>\n",
       "      <th>3</th>\n",
       "      <td>[11, 14)</td>\n",
       "      <td>1655934971</td>\n",
       "      <td>413983742</td>\n",
       "    </tr>\n",
       "    <tr>\n",
       "      <th>4</th>\n",
       "      <td>[14, 17)</td>\n",
       "      <td>2008428995</td>\n",
       "      <td>502107248</td>\n",
       "    </tr>\n",
       "    <tr>\n",
       "      <th>5</th>\n",
       "      <td>[17, 20)</td>\n",
       "      <td>2228425199</td>\n",
       "      <td>557106299</td>\n",
       "    </tr>\n",
       "    <tr>\n",
       "      <th>6</th>\n",
       "      <td>[20, 24)</td>\n",
       "      <td>2461097190</td>\n",
       "      <td>615274297</td>\n",
       "    </tr>\n",
       "  </tbody>\n",
       "</table>\n",
       "</div>"
      ],
      "text/plain": [
       "       _bin  numbr_likes  average_of_likes_per_interval\n",
       "0    [0, 3)   1132228305                      283057076\n",
       "1    [3, 6)    906307766                      226576941\n",
       "2   [6, 11)   1714755026                      428688756\n",
       "3  [11, 14)   1655934971                      413983742\n",
       "4  [14, 17)   2008428995                      502107248\n",
       "5  [17, 20)   2228425199                      557106299\n",
       "6  [20, 24)   2461097190                      615274297"
      ]
     },
     "metadata": {},
     "output_type": "display_data"
    }
   ],
   "source": [
    "#Average of Likes\n",
    "result_group_by_likes['average_of_likes_per_interval']=result_group_by_likes['numbr_likes']/4\n",
    "\n",
    "result_group_by_likes = result_group_by_likes \\\n",
    "    .astype({'average_of_likes_per_interval' : 'int64'})\n",
    "\n",
    "result_group_by_likes"
   ]
  },
  {
   "cell_type": "markdown",
   "metadata": {},
   "source": [
    "##### The DataFrame was transformed to Numpy to be able to plot it."
   ]
  },
  {
   "cell_type": "code",
   "execution_count": null,
   "metadata": {},
   "outputs": [],
   "source": [
    "result_group_by_likes_values = result_group_by_likes[['_bin','average_of_likes_per_interval']].astype(str)\n",
    " \n",
    "result_group_by_likes_values_array = result_group_by_likes_values.to_numpy().tolist()"
   ]
  },
  {
   "cell_type": "code",
   "execution_count": null,
   "metadata": {},
   "outputs": [
    {
     "data": {
      "text/plain": [
       "[['[0, 3)', '283057076'],\n",
       " ['[3, 6)', '226576941'],\n",
       " ['[6, 11)', '428688756'],\n",
       " ['[11, 14)', '413983742'],\n",
       " ['[14, 17)', '502107248'],\n",
       " ['[17, 20)', '557106299'],\n",
       " ['[20, 24)', '615274297']]"
      ]
     },
     "metadata": {},
     "output_type": "display_data"
    }
   ],
   "source": [
    "result_group_by_likes_values_array"
   ]
  },
  {
   "cell_type": "code",
   "execution_count": null,
   "metadata": {},
   "outputs": [],
   "source": [
    "from collections import defaultdict\n",
    "import matplotlib.pyplot as plt\n",
    "from datetime import datetime"
   ]
  },
  {
   "cell_type": "markdown",
   "metadata": {},
   "source": [
    "##### The function carried out in point 3 was slightly modified in order to continue using dictionaries and their attributes in the creation of the histogram."
   ]
  },
  {
   "cell_type": "code",
   "execution_count": null,
   "metadata": {},
   "outputs": [],
   "source": [
    "#Function used in RQ3\n",
    "def time_interval(time_list,posts):\n",
    "    counter  = defaultdict()\n",
    "    for time in time_list:\n",
    "        interval = time[0].strftime(\"%H:%M:%S\")+\" \"+time[1].strftime(\"%H:%M:%S\")\n",
    "        counter[interval] = 0\n",
    "\n",
    "    for _bin, value in posts:\n",
    "        if _bin == '[0, 3)':\n",
    "            counter['00:00:00 02:59:59'] = value\n",
    "        elif _bin == '[3, 6)':\n",
    "            counter['03:00:00 05:59:59'] = value \n",
    "        elif _bin == '[6, 11)':\n",
    "            counter['06:00:00 10:59:59'] = value \n",
    "        elif _bin == '[11, 14)':\n",
    "            counter['11:00:00 13:59:59'] = value \n",
    "        elif _bin == '[14, 17)':\n",
    "            counter['14:00:00 16:59:59'] = value \n",
    "        elif _bin == '[17, 20)':\n",
    "            counter['17:00:00 19:59:59'] = value \n",
    "        elif _bin == '[20, 24)':\n",
    "            counter['20:00:00 23:59:59'] = value \n",
    "    for key in counter:\n",
    "        counter[key] = int(counter[key])\n",
    "    hist  = plt.bar(range(len(list(counter.keys()))), counter.values(), color='g')\n",
    "    print(\"Histogram with the avergae quantity of number of likes for each interval given as input:\")\n",
    "    i= 0\n",
    "    for key in counter.keys():\n",
    "        print( \"Interval \"+str(i)+\" = \"+key)\n",
    "        i+=1"
   ]
  },
  {
   "cell_type": "markdown",
   "metadata": {},
   "source": [
    "##### In the histogram we can see that the interval that has the highest number of likes is interval 4 from 8:00 p.m. to 12:00 a.m with an average of 615M likes per hour"
   ]
  },
  {
   "cell_type": "code",
   "execution_count": null,
   "metadata": {},
   "outputs": [
    {
     "name": "stdout",
     "output_type": "stream",
     "text": [
      "Digit 1 to insert custom input, other char will execute code with default\n",
      "\n",
      "\n",
      "Histogram with the avergae quantity of number of likes for each interval given as input:\n",
      "Interval 0 = 06:00:00 10:59:59\n",
      "Interval 1 = 11:00:00 13:59:59\n",
      "Interval 2 = 14:00:00 16:59:59\n",
      "Interval 3 = 17:00:00 19:59:59\n",
      "Interval 4 = 20:00:00 23:59:59\n",
      "Interval 5 = 00:00:00 02:59:59\n",
      "Interval 6 = 03:00:00 05:59:59\n"
     ]
    },
    {
     "data": {
      "image/png": "[encoded data removed]",
      "text/plain": [
       "<Figure size 432x288 with 1 Axes>"
      ]
     },
     "metadata": {},
     "output_type": "display_data"
    }
   ],
   "source": [
    "posts = result_group_by_likes_values_array\n",
    "\n",
    "#Function used in RQ3\n",
    "print(\"Digit 1 to insert custom input, other char will execute code with default\")\n",
    "if(input() ==  str(1)):\n",
    "    print(\"\\n\")\n",
    "    input_t = [] \n",
    "    print(\"Write number of intervals:\")\n",
    "    n = int(input())\n",
    "    print(\"Insert \"+str(n)+\" time intervals: (example: 06:00:00 10:59:59)\")\n",
    "    for i in range(n):\n",
    "        print(\"Interval #\",i)\n",
    "        input_t.append(list(input().split()))\n",
    "else:\n",
    "    print(\"\\n\")\n",
    "    input_t = [['06:00:00','10:59:59'],['11:00:00','13:59:59'],['14:00:00','16:59:59'],['17:00:00', '19:59:59'],['20:00:00','23:59:59'],['00:00:00','02:59:59'],['03:00:00','05:59:59']]\n",
    "time_list = []\n",
    "for interval in input_t:\n",
    "    row  = []\n",
    "    row.append(datetime.strptime(interval[0], '%H:%M:%S').time())\n",
    "    row.append(datetime.strptime(interval[1],'%H:%M:%S').time())\n",
    "    time_list.append(row)\n",
    "time_interval(time_list,posts)\n",
    "plt.show()"
   ]
  },
  {
   "cell_type": "markdown",
   "metadata": {},
   "source": [
    "##### The same process is repeated but with number of comments:"
   ]
  },
  {
   "cell_type": "code",
   "execution_count": null,
   "metadata": {},
   "outputs": [
    {
     "data": {
      "text/html": [
       "<div>\n",
       "<style scoped>\n",
       "    .dataframe tbody tr th:only-of-type {\n",
       "        vertical-align: middle;\n",
       "    }\n",
       "\n",
       "    .dataframe tbody tr th {\n",
       "        vertical-align: top;\n",
       "    }\n",
       "\n",
       "    .dataframe thead th {\n",
       "        text-align: right;\n",
       "    }\n",
       "</style>\n",
       "<table border=\"1\" class=\"dataframe\">\n",
       "  <thead>\n",
       "    <tr style=\"text-align: right;\">\n",
       "      <th></th>\n",
       "      <th>number_comments</th>\n",
       "      <th>cts</th>\n",
       "      <th>_hour</th>\n",
       "    </tr>\n",
       "  </thead>\n",
       "  <tbody>\n",
       "    <tr>\n",
       "      <th>0</th>\n",
       "      <td>0.0</td>\n",
       "      <td>20:06:57</td>\n",
       "      <td>20</td>\n",
       "    </tr>\n",
       "    <tr>\n",
       "      <th>1</th>\n",
       "      <td>1.0</td>\n",
       "      <td>09:31:16</td>\n",
       "      <td>9</td>\n",
       "    </tr>\n",
       "    <tr>\n",
       "      <th>2</th>\n",
       "      <td>0.0</td>\n",
       "      <td>20:05:03</td>\n",
       "      <td>20</td>\n",
       "    </tr>\n",
       "    <tr>\n",
       "      <th>3</th>\n",
       "      <td>0.0</td>\n",
       "      <td>16:27:16</td>\n",
       "      <td>16</td>\n",
       "    </tr>\n",
       "    <tr>\n",
       "      <th>4</th>\n",
       "      <td>0.0</td>\n",
       "      <td>10:19:27</td>\n",
       "      <td>10</td>\n",
       "    </tr>\n",
       "    <tr>\n",
       "      <th>...</th>\n",
       "      <td>...</td>\n",
       "      <td>...</td>\n",
       "      <td>...</td>\n",
       "    </tr>\n",
       "    <tr>\n",
       "      <th>42710192</th>\n",
       "      <td>0.0</td>\n",
       "      <td>15:38:04</td>\n",
       "      <td>15</td>\n",
       "    </tr>\n",
       "    <tr>\n",
       "      <th>42710193</th>\n",
       "      <td>0.0</td>\n",
       "      <td>11:28:01</td>\n",
       "      <td>11</td>\n",
       "    </tr>\n",
       "    <tr>\n",
       "      <th>42710194</th>\n",
       "      <td>0.0</td>\n",
       "      <td>20:16:37</td>\n",
       "      <td>20</td>\n",
       "    </tr>\n",
       "    <tr>\n",
       "      <th>42710195</th>\n",
       "      <td>1.0</td>\n",
       "      <td>20:07:52</td>\n",
       "      <td>20</td>\n",
       "    </tr>\n",
       "    <tr>\n",
       "      <th>42710196</th>\n",
       "      <td>49.0</td>\n",
       "      <td>02:57:17</td>\n",
       "      <td>2</td>\n",
       "    </tr>\n",
       "  </tbody>\n",
       "</table>\n",
       "<p>42706865 rows × 3 columns</p>\n",
       "</div>"
      ],
      "text/plain": [
       "          number_comments       cts  _hour\n",
       "0                     0.0  20:06:57     20\n",
       "1                     1.0  09:31:16      9\n",
       "2                     0.0  20:05:03     20\n",
       "3                     0.0  16:27:16     16\n",
       "4                     0.0  10:19:27     10\n",
       "...                   ...       ...    ...\n",
       "42710192              0.0  15:38:04     15\n",
       "42710193              0.0  11:28:01     11\n",
       "42710194              0.0  20:16:37     20\n",
       "42710195              1.0  20:07:52     20\n",
       "42710196             49.0  02:57:17      2\n",
       "\n",
       "[42706865 rows x 3 columns]"
      ]
     },
     "metadata": {},
     "output_type": "display_data"
    }
   ],
   "source": [
    "comments_df['_hour'] = comments_df.cts.apply(lambda i: i.hour).astype(int)\n",
    "comments_df"
   ]
  },
  {
   "cell_type": "code",
   "execution_count": null,
   "metadata": {},
   "outputs": [
    {
     "data": {
      "text/html": [
       "<div>\n",
       "<style scoped>\n",
       "    .dataframe tbody tr th:only-of-type {\n",
       "        vertical-align: middle;\n",
       "    }\n",
       "\n",
       "    .dataframe tbody tr th {\n",
       "        vertical-align: top;\n",
       "    }\n",
       "\n",
       "    .dataframe thead th {\n",
       "        text-align: right;\n",
       "    }\n",
       "</style>\n",
       "<table border=\"1\" class=\"dataframe\">\n",
       "  <thead>\n",
       "    <tr style=\"text-align: right;\">\n",
       "      <th></th>\n",
       "      <th>number_comments</th>\n",
       "      <th>cts</th>\n",
       "      <th>_hour</th>\n",
       "      <th>_bin</th>\n",
       "    </tr>\n",
       "  </thead>\n",
       "  <tbody>\n",
       "    <tr>\n",
       "      <th>0</th>\n",
       "      <td>0.0</td>\n",
       "      <td>20:06:57</td>\n",
       "      <td>20</td>\n",
       "      <td>[20, 24)</td>\n",
       "    </tr>\n",
       "    <tr>\n",
       "      <th>1</th>\n",
       "      <td>1.0</td>\n",
       "      <td>09:31:16</td>\n",
       "      <td>9</td>\n",
       "      <td>[6, 11)</td>\n",
       "    </tr>\n",
       "    <tr>\n",
       "      <th>2</th>\n",
       "      <td>0.0</td>\n",
       "      <td>20:05:03</td>\n",
       "      <td>20</td>\n",
       "      <td>[20, 24)</td>\n",
       "    </tr>\n",
       "    <tr>\n",
       "      <th>3</th>\n",
       "      <td>0.0</td>\n",
       "      <td>16:27:16</td>\n",
       "      <td>16</td>\n",
       "      <td>[14, 17)</td>\n",
       "    </tr>\n",
       "    <tr>\n",
       "      <th>4</th>\n",
       "      <td>0.0</td>\n",
       "      <td>10:19:27</td>\n",
       "      <td>10</td>\n",
       "      <td>[6, 11)</td>\n",
       "    </tr>\n",
       "    <tr>\n",
       "      <th>...</th>\n",
       "      <td>...</td>\n",
       "      <td>...</td>\n",
       "      <td>...</td>\n",
       "      <td>...</td>\n",
       "    </tr>\n",
       "    <tr>\n",
       "      <th>42710192</th>\n",
       "      <td>0.0</td>\n",
       "      <td>15:38:04</td>\n",
       "      <td>15</td>\n",
       "      <td>[14, 17)</td>\n",
       "    </tr>\n",
       "    <tr>\n",
       "      <th>42710193</th>\n",
       "      <td>0.0</td>\n",
       "      <td>11:28:01</td>\n",
       "      <td>11</td>\n",
       "      <td>[11, 14)</td>\n",
       "    </tr>\n",
       "    <tr>\n",
       "      <th>42710194</th>\n",
       "      <td>0.0</td>\n",
       "      <td>20:16:37</td>\n",
       "      <td>20</td>\n",
       "      <td>[20, 24)</td>\n",
       "    </tr>\n",
       "    <tr>\n",
       "      <th>42710195</th>\n",
       "      <td>1.0</td>\n",
       "      <td>20:07:52</td>\n",
       "      <td>20</td>\n",
       "      <td>[20, 24)</td>\n",
       "    </tr>\n",
       "    <tr>\n",
       "      <th>42710196</th>\n",
       "      <td>49.0</td>\n",
       "      <td>02:57:17</td>\n",
       "      <td>2</td>\n",
       "      <td>[0, 3)</td>\n",
       "    </tr>\n",
       "  </tbody>\n",
       "</table>\n",
       "<p>42706865 rows × 4 columns</p>\n",
       "</div>"
      ],
      "text/plain": [
       "          number_comments       cts  _hour      _bin\n",
       "0                     0.0  20:06:57     20  [20, 24)\n",
       "1                     1.0  09:31:16      9   [6, 11)\n",
       "2                     0.0  20:05:03     20  [20, 24)\n",
       "3                     0.0  16:27:16     16  [14, 17)\n",
       "4                     0.0  10:19:27     10   [6, 11)\n",
       "...                   ...       ...    ...       ...\n",
       "42710192              0.0  15:38:04     15  [14, 17)\n",
       "42710193              0.0  11:28:01     11  [11, 14)\n",
       "42710194              0.0  20:16:37     20  [20, 24)\n",
       "42710195              1.0  20:07:52     20  [20, 24)\n",
       "42710196             49.0  02:57:17      2    [0, 3)\n",
       "\n",
       "[42706865 rows x 4 columns]"
      ]
     },
     "metadata": {},
     "output_type": "display_data"
    }
   ],
   "source": [
    "comments_df['_bin'] = pd.cut(comments_df['_hour'], intervals, include_lowest=True, right=False)\n",
    "comments_df"
   ]
  },
  {
   "cell_type": "code",
   "execution_count": null,
   "metadata": {},
   "outputs": [
    {
     "data": {
      "text/html": [
       "<div>\n",
       "<style scoped>\n",
       "    .dataframe tbody tr th:only-of-type {\n",
       "        vertical-align: middle;\n",
       "    }\n",
       "\n",
       "    .dataframe tbody tr th {\n",
       "        vertical-align: top;\n",
       "    }\n",
       "\n",
       "    .dataframe thead th {\n",
       "        text-align: right;\n",
       "    }\n",
       "</style>\n",
       "<table border=\"1\" class=\"dataframe\">\n",
       "  <thead>\n",
       "    <tr style=\"text-align: right;\">\n",
       "      <th></th>\n",
       "      <th>_bin</th>\n",
       "      <th>number_comments</th>\n",
       "    </tr>\n",
       "  </thead>\n",
       "  <tbody>\n",
       "    <tr>\n",
       "      <th>0</th>\n",
       "      <td>[0, 3)</td>\n",
       "      <td>32027925</td>\n",
       "    </tr>\n",
       "    <tr>\n",
       "      <th>1</th>\n",
       "      <td>[3, 6)</td>\n",
       "      <td>23870239</td>\n",
       "    </tr>\n",
       "    <tr>\n",
       "      <th>2</th>\n",
       "      <td>[6, 11)</td>\n",
       "      <td>46784338</td>\n",
       "    </tr>\n",
       "    <tr>\n",
       "      <th>3</th>\n",
       "      <td>[11, 14)</td>\n",
       "      <td>43755376</td>\n",
       "    </tr>\n",
       "    <tr>\n",
       "      <th>4</th>\n",
       "      <td>[14, 17)</td>\n",
       "      <td>52081094</td>\n",
       "    </tr>\n",
       "    <tr>\n",
       "      <th>5</th>\n",
       "      <td>[17, 20)</td>\n",
       "      <td>59538096</td>\n",
       "    </tr>\n",
       "    <tr>\n",
       "      <th>6</th>\n",
       "      <td>[20, 24)</td>\n",
       "      <td>66302700</td>\n",
       "    </tr>\n",
       "  </tbody>\n",
       "</table>\n",
       "</div>"
      ],
      "text/plain": [
       "       _bin  number_comments\n",
       "0    [0, 3)         32027925\n",
       "1    [3, 6)         23870239\n",
       "2   [6, 11)         46784338\n",
       "3  [11, 14)         43755376\n",
       "4  [14, 17)         52081094\n",
       "5  [17, 20)         59538096\n",
       "6  [20, 24)         66302700"
      ]
     },
     "metadata": {},
     "output_type": "display_data"
    }
   ],
   "source": [
    "result_group_by_comments = comments_df \\\n",
    "    .groupby(['_bin'])[['number_comments']] \\\n",
    "    .sum() \\\n",
    "    .reset_index()\n",
    "\n",
    "result_group_by_comments = result_group_by_comments \\\n",
    "    .astype({'number_comments' : 'int64'})\n",
    "\n",
    "result_group_by_comments"
   ]
  },
  {
   "cell_type": "code",
   "execution_count": null,
   "metadata": {},
   "outputs": [],
   "source": [
    "#Average of comments\n",
    "result_group_by_comments['average_of_comments_per_hour']=result_group_by_comments['number_comments']/4\n",
    "\n",
    "result_group_by_comments = result_group_by_comments \\\n",
    "    .astype({'average_of_comments_per_hour' : 'int64'})"
   ]
  },
  {
   "cell_type": "code",
   "execution_count": null,
   "metadata": {},
   "outputs": [
    {
     "data": {
      "text/plain": [
       "[['[0, 3)', '8006981'],\n",
       " ['[3, 6)', '5967559'],\n",
       " ['[6, 11)', '11696084'],\n",
       " ['[11, 14)', '10938844'],\n",
       " ['[14, 17)', '13020273'],\n",
       " ['[17, 20)', '14884524'],\n",
       " ['[20, 24)', '16575675']]"
      ]
     },
     "metadata": {},
     "output_type": "display_data"
    }
   ],
   "source": [
    "result_group_by_comments_values = result_group_by_comments[['_bin','average_of_comments_per_hour']].astype(str)\n",
    " \n",
    "result_group_by_comments_values_array = result_group_by_comments_values.to_numpy().tolist()\n",
    "\n",
    "result_group_by_comments_values_array"
   ]
  },
  {
   "cell_type": "code",
   "execution_count": null,
   "metadata": {},
   "outputs": [],
   "source": [
    "#Function used in RQ3\n",
    "def time_interval(time_list,posts):\n",
    "    counter  = defaultdict()\n",
    "    for time in time_list:\n",
    "        interval = time[0].strftime(\"%H:%M:%S\")+\" \"+time[1].strftime(\"%H:%M:%S\")\n",
    "        counter[interval] = 0\n",
    "\n",
    "    for _bin, value in posts:\n",
    "        if _bin == '[0, 3)':\n",
    "            counter['00:00:00 02:59:59'] = value\n",
    "        elif _bin == '[3, 6)':\n",
    "            counter['03:00:00 05:59:59'] = value \n",
    "        elif _bin == '[6, 11)':\n",
    "            counter['06:00:00 10:59:59'] = value \n",
    "        elif _bin == '[11, 14)':\n",
    "            counter['11:00:00 13:59:59'] = value \n",
    "        elif _bin == '[14, 17)':\n",
    "            counter['14:00:00 16:59:59'] = value \n",
    "        elif _bin == '[17, 20)':\n",
    "            counter['17:00:00 19:59:59'] = value \n",
    "        elif _bin == '[20, 24)':\n",
    "            counter['20:00:00 23:59:59'] = value \n",
    "    for key in counter:\n",
    "        counter[key] = int(counter[key])\n",
    "    hist  = plt.bar(range(len(list(counter.keys()))), counter.values(), color='g')\n",
    "    print(\"Histogram with the avergae quantity of number of likes for each interval given as input:\")\n",
    "    i= 0\n",
    "    for key in counter.keys():\n",
    "        print( \"Interval \"+str(i)+\" = \"+key)\n",
    "        i+=1"
   ]
  },
  {
   "cell_type": "markdown",
   "metadata": {},
   "source": [
    "##### As can be seen in the histogram, interval 4 is the one that obtains the highest number of comments as well as the highest number of likes."
   ]
  },
  {
   "cell_type": "code",
   "execution_count": null,
   "metadata": {},
   "outputs": [
    {
     "name": "stdout",
     "output_type": "stream",
     "text": [
      "Digit 1 to insert custom input, other char will execute code with default\n",
      "\n",
      "\n",
      "Histogram with the avergae quantity of number of likes for each interval given as input:\n",
      "Interval 0 = 06:00:00 10:59:59\n",
      "Interval 1 = 11:00:00 13:59:59\n",
      "Interval 2 = 14:00:00 16:59:59\n",
      "Interval 3 = 17:00:00 19:59:59\n",
      "Interval 4 = 20:00:00 23:59:59\n",
      "Interval 5 = 00:00:00 02:59:59\n",
      "Interval 6 = 03:00:00 05:59:59\n"
     ]
    },
    {
     "data": {
      "image/png": "[encoded data removed]",
      "text/plain": [
       "<Figure size 432x288 with 1 Axes>"
      ]
     },
     "metadata": {},
     "output_type": "display_data"
    }
   ],
   "source": [
    "posts = result_group_by_comments_values_array\n",
    "\n",
    "#Function used in RQ3\n",
    "input_t = [['06:00:00','10:59:59'],['11:00:00','13:59:59'],['14:00:00','16:59:59'],['17:00:00', '19:59:59'],['20:00:00','23:59:59'],['00:00:00','02:59:59'],['03:00:00','05:59:59']]\n",
    "time_list = []\n",
    "for interval in input_t:\n",
    "    row  = []\n",
    "    row.append(datetime.strptime(interval[0], '%H:%M:%S').time())\n",
    "    row.append(datetime.strptime(interval[1],'%H:%M:%S').time())\n",
    "    time_list.append(row)\n",
    "time_interval(time_list,posts)\n",
    "plt.show()"
   ]
  },
  {
   "cell_type": "markdown",
   "metadata": {},
   "source": [
    "# Command Line Question \n",
    "\n",
    "Using the command line is a feature that Data Scientists must master. It is relevant since the operations there require less memory to use in comparison to other interfaces. It also does not use as much CPU processing time as other interfaces. In addition, it can be faster and more efficient and handle repetitive tasks quickly. \n",
    "\n",
    "In this question, you should use command line tools such as grep and possibly other commands to answer the following question: \n",
    "- Using the instagram_posts.csv, retrieve the first __ten posts__ with descriptions __longer than 100 characters__ and output the <ins>profiles that posted them</ins>. (Please keep in mind that the profile associated with some of those posts may not be found in the profiles. You can simply output __User was not found!__ for those posts.)\n",
    "\n",
    "__Note:__ You may work on this question <ins>in any environment</ins> (AWS, your PC command line, Jupyter notebook, etc.), but the final script must be placed in __CommandLine.sh__, which must be executable.\n"
   ]
  },
  {
   "cell_type": "markdown",
   "metadata": {},
   "source": [
    "**I did the command line question in my Ec2 instance to work properly on all the file instagrmam_posts.csv**\n",
    "\n",
    "\n",
    "**I used the following lines in the linux terminal to obatain the result asked in the question**\n",
    "\n",
    "\n",
    "**The file containing the all profile_id corresponding to the profiles that published a post with a description longer than 100 characters is saved in a new .csv file (profile.csv) than i take the first ten rows of that file to obtain the final result which is printed on the terminal**"
   ]
  },
  {
   "cell_type": "markdown",
   "metadata": {},
   "source": [
    "**Content of commandLine.sh**\n",
    "\n",
    "\n",
    "1 awk 'length($8)>100{print($4)}' instagram_posts.csv > profile.csv\n",
    "\n",
    "\n",
    "2 cat profile.csv | head -10\n"
   ]
  },
  {
   "cell_type": "markdown",
   "id": "ef6cac68",
   "metadata": {},
   "source": [
    "# Algorithmic Question\n",
    "1. [**AQ1**] Given the following pseudocode, answer the questions: \n",
    "\n",
    "<pre>\n",
    "Input: \n",
    "    N : an integer \n",
    "    List : array of characters of length N without repetition\n",
    "    \n",
    "function f1(sequence, end): \n",
    "    For i=0 To end:\n",
    "        OUTPUT sequence[i]\n",
    "    EndFor\n",
    "    Output \"\\n\"\n",
    "    \n",
    "function f2(sequence, start, end): \n",
    "    If start = end: \n",
    "        f1(sequence, end)\n",
    "    Else\n",
    "        For i=start To end: \n",
    "            temp <-- sequence[start]\n",
    "            sequence[start] <-- sequence[i]\n",
    "            sequence[i] <-- temp\n",
    "            f2(sequence, start+1, end)\n",
    "            temp <-- sequence[start]\n",
    "            sequence[start] <-- sequence[i]\n",
    "            sequence[i] <-- temp\n",
    "f2(List, 0, N)\n",
    "</pre>\n",
    "- What is the output of this algorithm? Describe the mechanism of the algorithm <ins>in detail </ins>. We __do not__ want to know only its final result. (Describe one example on your own)\n",
    "- What is asymptotically (i.e., we are asking for big-O complexity) the algorithm's running time as a function of N? \n",
    "- Is this algorithm the __optimal__ one to produce this output? If not, can you suggest a <ins>better algorithm</ins> to perform the same task?\n"
   ]
  },
  {
   "cell_type": "markdown",
   "id": "de14d24c",
   "metadata": {},
   "source": [
    "**Pyhton implementation of the algorithm**"
   ]
  },
  {
   "cell_type": "code",
   "execution_count": null,
   "id": "220f4079",
   "metadata": {},
   "outputs": [],
   "source": [
    "def f1(sequence,end):\n",
    "    for i in range(end):\n",
    "        print(sequence[i])\n",
    "    print('\\n')\n",
    "def f2(sequence,start,end):\n",
    "    if start == end :\n",
    "        f1(sequence,end)\n",
    "    else: \n",
    "        for i in range(start,end):\n",
    "            temp = sequence[start]\n",
    "            sequence[start] = sequence[i]\n",
    "            sequence[i] = temp\n",
    "            f2(sequence,start+1,end)\n",
    "            temp = sequence[start]\n",
    "            sequence[start] = sequence[i]\n",
    "            sequence[i] = temp\n",
    "            "
   ]
  },
  {
   "cell_type": "markdown",
   "id": "0659cdfc",
   "metadata": {},
   "source": [
    "**Example of execution**"
   ]
  },
  {
   "cell_type": "code",
   "execution_count": null,
   "id": "c0d44be1",
   "metadata": {},
   "outputs": [],
   "source": [
    "sequence = ['a','b','c']\n",
    "N= 3"
   ]
  },
  {
   "cell_type": "code",
   "execution_count": null,
   "id": "fa17a1bb",
   "metadata": {},
   "outputs": [
    {
     "name": "stdout",
     "output_type": "stream",
     "text": [
      "a\n",
      "b\n",
      "c\n",
      "\n",
      "\n",
      "a\n",
      "c\n",
      "b\n",
      "\n",
      "\n",
      "b\n",
      "a\n",
      "c\n",
      "\n",
      "\n",
      "b\n",
      "c\n",
      "a\n",
      "\n",
      "\n",
      "c\n",
      "b\n",
      "a\n",
      "\n",
      "\n",
      "c\n",
      "a\n",
      "b\n",
      "\n",
      "\n"
     ]
    }
   ],
   "source": [
    "f2(sequence,0,N)"
   ]
  },
  {
   "cell_type": "markdown",
   "id": "0925cb26",
   "metadata": {},
   "source": [
    "**AQ1.1**\n",
    "\n",
    "***The algorithm implements 1 recursive function f2 and 1 function f1 to print all the possible combination of a list of N characters.\n",
    "At first the call f2(sequence,0,N) enters in the else block,because start(=0)!=end(=N), and inside the for loop, the for is blocked, beacuse f2(sequence,0+1,N) is called, and waits for the execution of this recursive call. f2(sequence,0+1,N) starts a recursive chain. \n",
    "This is create a n-ary tree of recursive calls, its leaves are the call to f1(sequence,N) function which\n",
    "prints the sequence given as input.\n",
    "The sequence is modified in the execution of this algorithm beacuse f2 does side-effect.***\n"
   ]
  },
  {
   "cell_type": "markdown",
   "id": "cb1db206",
   "metadata": {},
   "source": [
    "**AQ1.2**\n",
    "\n",
    "\n",
    "***To compute with the big-O notation the asymptotic i counted the number of recursive call made by  f2(sequece,0,N)***\n"
   ]
  },
  {
   "cell_type": "markdown",
   "id": "29ee00c1",
   "metadata": {},
   "source": [
    "$$\n",
    "\\begin{equation}\n",
    "T(N) = N*T(N-1) + const\n",
    "\\end{equation}\n",
    "$$\n",
    "$$\n",
    "\\begin{equation}\n",
    "T(0) = const\n",
    "\\end{equation}\n",
    "$$\n",
    "$$\n",
    "\\begin{equation}\n",
    "T(N-1) = (N-1)*T(N-2) + const\n",
    "\\end{equation}\n",
    "$$\n",
    "$$\n",
    "\\begin{equation}\n",
    "T(N) = N*(N-1)*T(N-2) + const*(N+1)\n",
    "\\end{equation}\n",
    "$$\n",
    "$$\n",
    "\\begin{equation}\n",
    "T(N) = N*(N-1)*(N-2)*T(N-3) + N*(N-1)*const + (N+1)*const\n",
    "\\end{equation}\n",
    "$$\n",
    "$$\n",
    "\\begin{equation}\n",
    "T(N) = N*(N-1)*(N-2)*....*2*1*T(0) + const*[1+N+N*(N-1)+N*(N-1)*(N-2)+...+N*(N-1)*(N-2)*...*4*3]\n",
    "\\end{equation}\n",
    "$$\n",
    "$$\n",
    "\\begin{equation}\n",
    "T(N) = N! + (\\sum_{k = 0}^{N-2} \\frac {N!}{(N-K)!})\n",
    "\\end{equation}\n",
    "$$\n",
    "\n",
    "**T(N) IS O(N!)**"
   ]
  },
  {
   "cell_type": "markdown",
   "id": "9cb725b8",
   "metadata": {},
   "source": [
    "**AQ1.3**\n",
    "\n",
    "***This algorithm is O(N!) which is optimal for the problem of printing all the possible combination of a list of N characters. This result match with the number of all the possible combinations of N elements which is N!.***"
   ]
  },
  {
   "cell_type": "markdown",
   "metadata": {},
   "source": [
    "### [AQ2] Considering the following problem, answer the questions:\n",
    "\n",
    "##### Alex has a ribbon of length N. He wants to cut the ribbon in a way that fulfils the following three conditions:\n",
    "\n",
    "##### Each piece of the cut should have an integer length\n",
    "##### He should at least cut the ribbon once\n",
    "##### The multiplication of the length of all the pieces be the maximum possible"
   ]
  },
  {
   "cell_type": "markdown",
   "metadata": {},
   "source": [
    "#### 1. Implement a recursive algorithm to help Alex find the maximum possible value after multiplying the length of the pieces. Explain your algorithm in detail."
   ]
  },
  {
   "cell_type": "markdown",
   "metadata": {},
   "source": [
    "##### ribbon_pieces is the recursive function that is going to be in charge of using max() to solve condition 3 of the problem statement.\n",
    "\n",
    "##### max() funcion returns the item with the highest value of the multiplication of the parts.\n",
    "\n",
    "##### The ribbon cannot be of negative length and cannot be less than 1 to meet conditions 1 and 2. This is why the first base case was made.\n",
    "\n",
    "##### A for loop is set to iterate piece in the range of N (ribbon len). The range of the iteration is going to be from 1 to N-1 to be able to apply recursion without reaching N = 1. When N = 2, the only solution is to cut the ribbon into 2 parts (1 and 1) so it returns 1 and would be the second base case.\n",
    "\n",
    "##### The ribbon begins to be cut in \"piece\" and the remainder of the ribbon is \"N - piece\". Recursion is performed in this second part of the ribbon to choose the maximum value that results from the multiplication of the cuts by doing comparisons. This result is saved in the variable \"recursive_path\". As the for loop progresses, the variable \"ans_max\" will choose between which multiplication is greater, if the one that is being done now or the one that was done in the previous iteration.\n"
   ]
  },
  {
   "cell_type": "code",
   "execution_count": null,
   "metadata": {},
   "outputs": [
    {
     "data": {
      "text/plain": [
       "36"
      ]
     },
     "metadata": {},
     "output_type": "display_data"
    }
   ],
   "source": [
    "def ribbon_pieces(N):\n",
    "\n",
    "    ans_max = 1\n",
    "\n",
    "    #Base cases:\n",
    "    if (N <= 1):\n",
    "        return 0\n",
    "    \n",
    "    if (N == 2):\n",
    "        return 1\n",
    "    \n",
    "    #range from 1 to N: to be able to apply recursion without reaching N = 1.\n",
    "    for piece in range(1, N-1):\n",
    "\n",
    "        recursive_path = max(piece * (N-piece), piece * ribbon_pieces(N-piece))\n",
    "        \n",
    "        ans_max = max(ans_max, recursive_path)\n",
    "    \n",
    "\n",
    "    return ans_max\n",
    "\n",
    "N= int(input().strip())\n",
    "\n",
    "ribbon_pieces(N)"
   ]
  },
  {
   "cell_type": "markdown",
   "metadata": {},
   "source": [
    "#### 2. Show that the algorithm has exponential running time."
   ]
  },
  {
   "cell_type": "markdown",
   "metadata": {},
   "source": [
    "##### To show that the time complexity of the algorithm is exponential, a recursion tree was made:"
   ]
  },
  {
   "cell_type": "markdown",
   "metadata": {},
   "source": [
    "<img src= 'ADMHW2AQ2.png'>"
   ]
  },
  {
   "cell_type": "markdown",
   "metadata": {},
   "source": [
    "##### This is the recursion tree of ribbon_pieces when N=7. \n",
    "\n",
    "#### Therefore, the time complexity if the algorithm is equal to: (The number of times the function is repeated was counted following the recursion tree)\n",
    "\n",
    "$$ T(1) = 0 $$\n",
    "$$ T(2) = T(1) + 1 = 1 $$\n",
    "$$ T(3) = T(2) + 1 = 2 $$\n",
    "$$ T(4) = T(3) + T(2) + 1 = 4 $$\n",
    "$$ T(5) = T(4) + T(3) + T(2) + 1 = 8 $$\n",
    "$$ T(6) = T(5) + T(4) + T(3) + T(2) + 1 = 16 $$\n",
    "$$ T(7) = T(6) + T(5) + T(4) + T(3) + T(2) + 1 = 32 $$\n"
   ]
  },
  {
   "cell_type": "markdown",
   "metadata": {},
   "source": [
    "$$ T(n) = \\sum_{i=2}^{n-1} T(i) + 1 $$\n",
    "\n",
    "$$ T(n) = 2^{n-2}  \\ n>=2 $$"
   ]
  },
  {
   "cell_type": "markdown",
   "metadata": {},
   "source": [
    "##### Math induction:\n",
    "\n"
   ]
  },
  {
   "cell_type": "markdown",
   "metadata": {},
   "source": [
    "$$ T(2) = 2^{2-2} = 1 $$\n",
    "$$ T(n) = 2^{n-2} $$\n",
    "$$ T(n+1) = 2^{n+1-2} $$\n",
    "$$ T(n+1) = \\sum_{i=2}^{n+1-1} T(i) + 1 $$\n",
    "$$ T(n+1) = T(n) + \\sum_{i=2}^{n-1} T(i) + 1 $$\n",
    "$$ T(n+1) = T(n) + T(n) $$\n",
    "$$ T(n+1) = 2T(n) = 2(2^{n-2}) = 2^{n-1}\n",
    "\n"
   ]
  },
  {
   "cell_type": "markdown",
   "metadata": {},
   "source": [
    "##### The result is that the time complexity has an exponencial running time: \n",
    "$$ 2^{n-1}"
   ]
  },
  {
   "cell_type": "markdown",
   "metadata": {},
   "source": [
    "#### 3. Now provide a polynomial solution, based on dynamic programming, and compute its running-time complexity."
   ]
  },
  {
   "cell_type": "code",
   "execution_count": null,
   "metadata": {},
   "outputs": [
    {
     "data": {
      "text/plain": [
       "12"
      ]
     },
     "metadata": {},
     "output_type": "display_data"
    }
   ],
   "source": [
    "def ribbon_pieces_dynamic(N):\n",
    "\n",
    "    #Base cases:\n",
    "    if (N <= 1):\n",
    "        return 0\n",
    "    \n",
    "    if (N == 2):\n",
    "        return 1\n",
    "    \n",
    "    #list_ans will save all the results of the previous iterations\n",
    "    list_ans = []\n",
    "\n",
    "    for piece_len in range(0,N+1):\n",
    "            \n",
    "        a = 0\n",
    "        list_ans.append(a)\n",
    "\n",
    "    for piece_len in range(1,N+1):\n",
    "\n",
    "        ans_max = 0\n",
    "    \n",
    "        for piece in range(1, piece_len):\n",
    "\n",
    "             ans_max = max(ans_max, (list_ans[piece_len - piece]*piece))\n",
    "\n",
    "             ans_max = max(ans_max, (piece_len - piece)*piece)\n",
    "\n",
    "        list_ans[piece_len] = ans_max\n",
    "    \n",
    "    return list_ans[N]\n",
    "\n",
    "N= int(input().strip())\n",
    "\n",
    "ribbon_pieces_dynamic(N)"
   ]
  },
  {
   "cell_type": "markdown",
   "metadata": {},
   "source": [
    "##### Since we are saving the values ​​of each traversal in the \"list_ans\" list, the time complexity would be as follows:\n",
    "\n",
    "##### Without focusing on the for loop of the list, and only focusing on the double for, we get the execution time.\n",
    "\n",
    "##### With N= 3, in the first for, the execution time would be:\n",
    "\n",
    "$$ T(1) = 1 + 3(n+1) + 3n = 6n + 4 $$\n",
    "\n",
    "##### The inner for execution time:\n",
    "\n",
    "$$ T(2) = 1 + \\frac{((n-1)*n)}{2} = \\frac{(n^{2} - n + 2)}{2} $$\n",
    "\n",
    "##### Total time execution:\n",
    "\n",
    "$$ T(1) + T(2) = \\frac{n^2 + 11n + 10}{2} $$\n",
    "\n",
    "##### Therefore, the time complexity is:\n",
    "\n",
    "$$ O(n^2)"
   ]
  },
  {
   "cell_type": "markdown",
   "metadata": {},
   "source": [
    "#### 4. Evaluate the running time of your algorithm for the sizes (Ns) in the range of [2, 25], plot the results, and interpret it (if you have implemented two algorithms, please include both in the plot and compare them)."
   ]
  },
  {
   "cell_type": "code",
   "execution_count": null,
   "metadata": {},
   "outputs": [],
   "source": [
    "import time\n",
    "\n",
    "def f1(x):\n",
    "    ## f1 is the recursion algorithm\n",
    "    ans = ribbon_pieces(x)\n",
    "    return ans\n",
    "\n",
    "def f2(x):\n",
    "    ## f2 is the dynamic solution\n",
    "    ans = ribbon_pieces_dynamic(x)\n",
    "    return ans\n",
    "\n",
    "def timed(f):\n",
    "    \n",
    "    def wrapper(n):\n",
    "        start_time = time.time()\n",
    "        ret = f(n)\n",
    "        elapsed_time = time.time() - start_time\n",
    "        return elapsed_time, ret\n",
    "    \n",
    "    return wrapper\n",
    "\n",
    "timed_f1 = timed(f1)\n",
    "\n",
    "timed_f2 = timed(f2)\n",
    "\n",
    "#timed_f2(10)\n"
   ]
  },
  {
   "cell_type": "code",
   "execution_count": null,
   "metadata": {},
   "outputs": [
    {
     "data": {
      "text/html": [
       "<div>\n",
       "<style scoped>\n",
       "    .dataframe tbody tr th:only-of-type {\n",
       "        vertical-align: middle;\n",
       "    }\n",
       "\n",
       "    .dataframe tbody tr th {\n",
       "        vertical-align: top;\n",
       "    }\n",
       "\n",
       "    .dataframe thead th {\n",
       "        text-align: right;\n",
       "    }\n",
       "</style>\n",
       "<table border=\"1\" class=\"dataframe\">\n",
       "  <thead>\n",
       "    <tr style=\"text-align: right;\">\n",
       "      <th></th>\n",
       "      <th>index</th>\n",
       "      <th>time_f1</th>\n",
       "      <th>result_f1</th>\n",
       "      <th>time_f2</th>\n",
       "      <th>result_f2</th>\n",
       "    </tr>\n",
       "  </thead>\n",
       "  <tbody>\n",
       "    <tr>\n",
       "      <th>0</th>\n",
       "      <td>0</td>\n",
       "      <td>0.000010</td>\n",
       "      <td>1</td>\n",
       "      <td>0.000002</td>\n",
       "      <td>1</td>\n",
       "    </tr>\n",
       "    <tr>\n",
       "      <th>1</th>\n",
       "      <td>1</td>\n",
       "      <td>0.000016</td>\n",
       "      <td>2</td>\n",
       "      <td>0.000004</td>\n",
       "      <td>2</td>\n",
       "    </tr>\n",
       "    <tr>\n",
       "      <th>2</th>\n",
       "      <td>2</td>\n",
       "      <td>0.000002</td>\n",
       "      <td>4</td>\n",
       "      <td>0.000005</td>\n",
       "      <td>4</td>\n",
       "    </tr>\n",
       "    <tr>\n",
       "      <th>3</th>\n",
       "      <td>3</td>\n",
       "      <td>0.000005</td>\n",
       "      <td>6</td>\n",
       "      <td>0.000007</td>\n",
       "      <td>6</td>\n",
       "    </tr>\n",
       "    <tr>\n",
       "      <th>4</th>\n",
       "      <td>4</td>\n",
       "      <td>0.000009</td>\n",
       "      <td>9</td>\n",
       "      <td>0.000009</td>\n",
       "      <td>9</td>\n",
       "    </tr>\n",
       "    <tr>\n",
       "      <th>5</th>\n",
       "      <td>5</td>\n",
       "      <td>0.000017</td>\n",
       "      <td>12</td>\n",
       "      <td>0.000011</td>\n",
       "      <td>12</td>\n",
       "    </tr>\n",
       "    <tr>\n",
       "      <th>6</th>\n",
       "      <td>6</td>\n",
       "      <td>0.000035</td>\n",
       "      <td>18</td>\n",
       "      <td>0.000015</td>\n",
       "      <td>18</td>\n",
       "    </tr>\n",
       "    <tr>\n",
       "      <th>7</th>\n",
       "      <td>7</td>\n",
       "      <td>0.000071</td>\n",
       "      <td>27</td>\n",
       "      <td>0.000018</td>\n",
       "      <td>27</td>\n",
       "    </tr>\n",
       "    <tr>\n",
       "      <th>8</th>\n",
       "      <td>8</td>\n",
       "      <td>0.000141</td>\n",
       "      <td>36</td>\n",
       "      <td>0.000022</td>\n",
       "      <td>36</td>\n",
       "    </tr>\n",
       "    <tr>\n",
       "      <th>9</th>\n",
       "      <td>9</td>\n",
       "      <td>0.000283</td>\n",
       "      <td>54</td>\n",
       "      <td>0.000025</td>\n",
       "      <td>54</td>\n",
       "    </tr>\n",
       "    <tr>\n",
       "      <th>10</th>\n",
       "      <td>10</td>\n",
       "      <td>0.000582</td>\n",
       "      <td>81</td>\n",
       "      <td>0.000030</td>\n",
       "      <td>81</td>\n",
       "    </tr>\n",
       "    <tr>\n",
       "      <th>11</th>\n",
       "      <td>11</td>\n",
       "      <td>0.001054</td>\n",
       "      <td>108</td>\n",
       "      <td>0.000032</td>\n",
       "      <td>108</td>\n",
       "    </tr>\n",
       "    <tr>\n",
       "      <th>12</th>\n",
       "      <td>12</td>\n",
       "      <td>0.002089</td>\n",
       "      <td>162</td>\n",
       "      <td>0.000041</td>\n",
       "      <td>162</td>\n",
       "    </tr>\n",
       "    <tr>\n",
       "      <th>13</th>\n",
       "      <td>13</td>\n",
       "      <td>0.004318</td>\n",
       "      <td>243</td>\n",
       "      <td>0.000047</td>\n",
       "      <td>243</td>\n",
       "    </tr>\n",
       "    <tr>\n",
       "      <th>14</th>\n",
       "      <td>14</td>\n",
       "      <td>0.007957</td>\n",
       "      <td>324</td>\n",
       "      <td>0.000049</td>\n",
       "      <td>324</td>\n",
       "    </tr>\n",
       "    <tr>\n",
       "      <th>15</th>\n",
       "      <td>15</td>\n",
       "      <td>0.014689</td>\n",
       "      <td>486</td>\n",
       "      <td>0.000054</td>\n",
       "      <td>486</td>\n",
       "    </tr>\n",
       "    <tr>\n",
       "      <th>16</th>\n",
       "      <td>16</td>\n",
       "      <td>0.027961</td>\n",
       "      <td>729</td>\n",
       "      <td>0.000056</td>\n",
       "      <td>729</td>\n",
       "    </tr>\n",
       "    <tr>\n",
       "      <th>17</th>\n",
       "      <td>17</td>\n",
       "      <td>0.061311</td>\n",
       "      <td>972</td>\n",
       "      <td>0.000060</td>\n",
       "      <td>972</td>\n",
       "    </tr>\n",
       "    <tr>\n",
       "      <th>18</th>\n",
       "      <td>18</td>\n",
       "      <td>0.112588</td>\n",
       "      <td>1458</td>\n",
       "      <td>0.000071</td>\n",
       "      <td>1458</td>\n",
       "    </tr>\n",
       "    <tr>\n",
       "      <th>19</th>\n",
       "      <td>19</td>\n",
       "      <td>0.219032</td>\n",
       "      <td>2187</td>\n",
       "      <td>0.000074</td>\n",
       "      <td>2187</td>\n",
       "    </tr>\n",
       "    <tr>\n",
       "      <th>20</th>\n",
       "      <td>20</td>\n",
       "      <td>0.439364</td>\n",
       "      <td>2916</td>\n",
       "      <td>0.000079</td>\n",
       "      <td>2916</td>\n",
       "    </tr>\n",
       "    <tr>\n",
       "      <th>21</th>\n",
       "      <td>21</td>\n",
       "      <td>0.877928</td>\n",
       "      <td>4374</td>\n",
       "      <td>0.000087</td>\n",
       "      <td>4374</td>\n",
       "    </tr>\n",
       "    <tr>\n",
       "      <th>22</th>\n",
       "      <td>22</td>\n",
       "      <td>1.753172</td>\n",
       "      <td>6561</td>\n",
       "      <td>0.000091</td>\n",
       "      <td>6561</td>\n",
       "    </tr>\n",
       "    <tr>\n",
       "      <th>23</th>\n",
       "      <td>23</td>\n",
       "      <td>3.511542</td>\n",
       "      <td>8748</td>\n",
       "      <td>0.000102</td>\n",
       "      <td>8748</td>\n",
       "    </tr>\n",
       "  </tbody>\n",
       "</table>\n",
       "</div>"
      ],
      "text/plain": [
       "    index   time_f1  result_f1   time_f2  result_f2\n",
       "0       0  0.000010          1  0.000002          1\n",
       "1       1  0.000016          2  0.000004          2\n",
       "2       2  0.000002          4  0.000005          4\n",
       "3       3  0.000005          6  0.000007          6\n",
       "4       4  0.000009          9  0.000009          9\n",
       "5       5  0.000017         12  0.000011         12\n",
       "6       6  0.000035         18  0.000015         18\n",
       "7       7  0.000071         27  0.000018         27\n",
       "8       8  0.000141         36  0.000022         36\n",
       "9       9  0.000283         54  0.000025         54\n",
       "10     10  0.000582         81  0.000030         81\n",
       "11     11  0.001054        108  0.000032        108\n",
       "12     12  0.002089        162  0.000041        162\n",
       "13     13  0.004318        243  0.000047        243\n",
       "14     14  0.007957        324  0.000049        324\n",
       "15     15  0.014689        486  0.000054        486\n",
       "16     16  0.027961        729  0.000056        729\n",
       "17     17  0.061311        972  0.000060        972\n",
       "18     18  0.112588       1458  0.000071       1458\n",
       "19     19  0.219032       2187  0.000074       2187\n",
       "20     20  0.439364       2916  0.000079       2916\n",
       "21     21  0.877928       4374  0.000087       4374\n",
       "22     22  1.753172       6561  0.000091       6561\n",
       "23     23  3.511542       8748  0.000102       8748"
      ]
     },
     "metadata": {},
     "output_type": "display_data"
    }
   ],
   "source": [
    "import pandas as pd\n",
    "\n",
    "result = pd.DataFrame([(*timed_f1(x), *timed_f2(x)) for x in range(2,26)], \n",
    "                        columns=[\"time_f1\",\"result_f1\",\"time_f2\",\"result_f2\"])\n",
    "\n",
    "result.reset_index(inplace = True)\n",
    "\n",
    "result"
   ]
  },
  {
   "cell_type": "code",
   "execution_count": null,
   "metadata": {},
   "outputs": [
    {
     "data": {
      "text/plain": [
       "<AxesSubplot:title={'center':'Execution time'}, xlabel='Ns', ylabel='Executon time'>"
      ]
     },
     "metadata": {},
     "output_type": "display_data"
    },
    {
     "data": {
      "image/png": "[encoded data removed]",
      "text/plain": [
       "<Figure size 432x288 with 1 Axes>"
      ]
     },
     "metadata": {},
     "output_type": "display_data"
    }
   ],
   "source": [
    "result.plot.line(x='index', y=['time_f1','time_f2'], title='Execution time',\n",
    "                    xlabel='Ns', ylabel='Executon time')"
   ]
  },
  {
   "cell_type": "markdown",
   "metadata": {},
   "source": [
    "##### As evidenced in the line graph, when the execution time is exponential, as the number of iterations increases, the execution time increases exponentially. On the other hand, f_2, which was the polynomial solution, has a very small increase in execution time, so it will be more efficient. Likewise, as shown in the \"result\" DataFrame, the results of both implementations are the same, so it can be concluded that you should always try to get a solution that has a polynomial execution time, and not an exponential one so that the algorithm can be more efficient."
   ]
  },
  {
   "cell_type": "markdown",
   "metadata": {},
   "source": [
    "#### 5. (Optional, mini bonus) Is the algorithm of question 3 optimal? If you belive it, can you prove it? If not, can you find a faster algorithm? In case you found a faster algorithm implement it and explain your algorithm in detail."
   ]
  },
  {
   "cell_type": "markdown",
   "metadata": {},
   "source": [
    "##### As we could see in the previous implementations, when the ribbon is cut into pieces of 3, we are going to get the largest multiplication number.\n",
    "\n",
    "##### For example: N = 15\n",
    "\n",
    "$$ \\frac{15}{3} = 5 $$\n",
    "\n",
    "##### Therefore, we have to do:\n",
    "\n",
    "$$ 3^{5} $$\n",
    "\n",
    "##### to get the largest product.\n",
    "\n",
    "##### The problem is when N is not divisible by 3. So the last part of the ribbon must be left at 2 or 4. Therefore, the operation \"N = N-3\" is performed to cut the ribbon in 3 and the piece (initialized in 1) is multiplied by 3.\n",
    "##### As N is greater, and can be divided into 3, piece = piece * 3 will carry out the multiplication of the pieces of len 3 that are cut."
   ]
  },
  {
   "cell_type": "code",
   "execution_count": null,
   "metadata": {},
   "outputs": [
    {
     "data": {
      "text/plain": [
       "59049"
      ]
     },
     "metadata": {},
     "output_type": "display_data"
    }
   ],
   "source": [
    "def ribbon_pieces__(N):\n",
    "\n",
    "    piece = 1\n",
    "\n",
    "    if (N <= 1):\n",
    "        return 0\n",
    "    \n",
    "    if (N == 2):\n",
    "        return 1\n",
    "     \n",
    "    if (N == 3):\n",
    "        return 2\n",
    "  \n",
    "    while (N > 4):\n",
    "        \n",
    "        N = N - 3\n",
    "        \n",
    "        piece = piece * 3\n",
    "        \n",
    "     \n",
    "    return (N * piece)\n",
    " \n",
    "N= int(input().strip())\n",
    "\n",
    "ribbon_pieces__(N)\n",
    "     "
   ]
  }
 ],
 "metadata": {
  "kernelspec": {
   "display_name": "Python 3.9.12 ('base')",
   "language": "python",
   "name": "python3"
  },
  "language_info": {
   "codemirror_mode": {
    "name": "ipython",
    "version": 3
   },
   "file_extension": ".py",
   "mimetype": "text/x-python",
   "name": "python",
   "nbconvert_exporter": "python",
   "pygments_lexer": "ipython3",
   "version": "3.9.12"
  },
  "orig_nbformat": 4,
  "vscode": {
   "interpreter": {
    "hash": "1fe61594923d2a5d982534718f3a44d80d54aa84bc222edb79bd8e8f2cce8cae"
   }
  }
 },
 "nbformat": 4,
 "nbformat_minor": 2
}
