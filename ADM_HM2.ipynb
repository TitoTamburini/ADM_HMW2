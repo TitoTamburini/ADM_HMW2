{
 "cells": [
  {
   "cell_type": "markdown",
   "metadata": {},
   "source": [
    "### Packages and Data"
   ]
  },
  {
   "cell_type": "code",
   "execution_count": 2,
   "metadata": {},
   "outputs": [
    {
     "name": "stdout",
     "output_type": "stream",
     "text": [
      "Requirement already satisfied: pandas in /Users/simonefacchiano/opt/anaconda3/lib/python3.9/site-packages (1.5.0)\n",
      "Requirement already satisfied: pytz>=2020.1 in /Users/simonefacchiano/opt/anaconda3/lib/python3.9/site-packages (from pandas) (2021.3)\n",
      "Requirement already satisfied: numpy>=1.20.3 in /Users/simonefacchiano/opt/anaconda3/lib/python3.9/site-packages (from pandas) (1.21.5)\n",
      "Requirement already satisfied: python-dateutil>=2.8.1 in /Users/simonefacchiano/opt/anaconda3/lib/python3.9/site-packages (from pandas) (2.8.2)\n",
      "Requirement already satisfied: six>=1.5 in /Users/simonefacchiano/opt/anaconda3/lib/python3.9/site-packages (from python-dateutil>=2.8.1->pandas) (1.16.0)\n",
      "Requirement already satisfied: tqdm in /Users/simonefacchiano/opt/anaconda3/lib/python3.9/site-packages (4.64.0)\n",
      "Requirement already satisfied: seaborn in /Users/simonefacchiano/opt/anaconda3/lib/python3.9/site-packages (0.11.2)\n",
      "Requirement already satisfied: matplotlib>=2.2 in /Users/simonefacchiano/opt/anaconda3/lib/python3.9/site-packages (from seaborn) (3.5.1)\n",
      "Requirement already satisfied: scipy>=1.0 in /Users/simonefacchiano/opt/anaconda3/lib/python3.9/site-packages (from seaborn) (1.7.3)\n",
      "Requirement already satisfied: pandas>=0.23 in /Users/simonefacchiano/opt/anaconda3/lib/python3.9/site-packages (from seaborn) (1.5.0)\n",
      "Requirement already satisfied: numpy>=1.15 in /Users/simonefacchiano/opt/anaconda3/lib/python3.9/site-packages (from seaborn) (1.21.5)\n",
      "Requirement already satisfied: cycler>=0.10 in /Users/simonefacchiano/opt/anaconda3/lib/python3.9/site-packages (from matplotlib>=2.2->seaborn) (0.11.0)\n",
      "Requirement already satisfied: kiwisolver>=1.0.1 in /Users/simonefacchiano/opt/anaconda3/lib/python3.9/site-packages (from matplotlib>=2.2->seaborn) (1.3.2)\n",
      "Requirement already satisfied: fonttools>=4.22.0 in /Users/simonefacchiano/opt/anaconda3/lib/python3.9/site-packages (from matplotlib>=2.2->seaborn) (4.25.0)\n",
      "Requirement already satisfied: python-dateutil>=2.7 in /Users/simonefacchiano/opt/anaconda3/lib/python3.9/site-packages (from matplotlib>=2.2->seaborn) (2.8.2)\n",
      "Requirement already satisfied: pillow>=6.2.0 in /Users/simonefacchiano/opt/anaconda3/lib/python3.9/site-packages (from matplotlib>=2.2->seaborn) (9.0.1)\n",
      "Requirement already satisfied: pyparsing>=2.2.1 in /Users/simonefacchiano/opt/anaconda3/lib/python3.9/site-packages (from matplotlib>=2.2->seaborn) (3.0.4)\n",
      "Requirement already satisfied: packaging>=20.0 in /Users/simonefacchiano/opt/anaconda3/lib/python3.9/site-packages (from matplotlib>=2.2->seaborn) (21.3)\n",
      "Requirement already satisfied: pytz>=2020.1 in /Users/simonefacchiano/opt/anaconda3/lib/python3.9/site-packages (from pandas>=0.23->seaborn) (2021.3)\n",
      "Requirement already satisfied: six>=1.5 in /Users/simonefacchiano/opt/anaconda3/lib/python3.9/site-packages (from python-dateutil>=2.7->matplotlib>=2.2->seaborn) (1.16.0)\n",
      "Requirement already satisfied: researchpy in /Users/simonefacchiano/opt/anaconda3/lib/python3.9/site-packages (0.3.5)\n",
      "Requirement already satisfied: statsmodels in /Users/simonefacchiano/opt/anaconda3/lib/python3.9/site-packages (from researchpy) (0.13.2)\n",
      "Requirement already satisfied: pandas in /Users/simonefacchiano/opt/anaconda3/lib/python3.9/site-packages (from researchpy) (1.5.0)\n",
      "Requirement already satisfied: numpy in /Users/simonefacchiano/opt/anaconda3/lib/python3.9/site-packages (from researchpy) (1.21.5)\n",
      "Requirement already satisfied: scipy in /Users/simonefacchiano/opt/anaconda3/lib/python3.9/site-packages (from researchpy) (1.7.3)\n",
      "Requirement already satisfied: patsy in /Users/simonefacchiano/opt/anaconda3/lib/python3.9/site-packages (from researchpy) (0.5.2)\n",
      "Requirement already satisfied: python-dateutil>=2.8.1 in /Users/simonefacchiano/opt/anaconda3/lib/python3.9/site-packages (from pandas->researchpy) (2.8.2)\n",
      "Requirement already satisfied: pytz>=2020.1 in /Users/simonefacchiano/opt/anaconda3/lib/python3.9/site-packages (from pandas->researchpy) (2021.3)\n",
      "Requirement already satisfied: six>=1.5 in /Users/simonefacchiano/opt/anaconda3/lib/python3.9/site-packages (from python-dateutil>=2.8.1->pandas->researchpy) (1.16.0)\n",
      "Requirement already satisfied: packaging>=21.3 in /Users/simonefacchiano/opt/anaconda3/lib/python3.9/site-packages (from statsmodels->researchpy) (21.3)\n",
      "Requirement already satisfied: pyparsing!=3.0.5,>=2.0.2 in /Users/simonefacchiano/opt/anaconda3/lib/python3.9/site-packages (from packaging>=21.3->statsmodels->researchpy) (3.0.4)\n",
      "Looking in indexes: https://pypi.anaconda.org/scipy-wheels-nightly/simple\n",
      "Requirement already satisfied: scipy in /Users/simonefacchiano/opt/anaconda3/lib/python3.9/site-packages (1.7.3)\n",
      "Requirement already satisfied: numpy<1.23.0,>=1.16.5 in /Users/simonefacchiano/opt/anaconda3/lib/python3.9/site-packages (from scipy) (1.21.5)\n"
     ]
    }
   ],
   "source": [
    "!pip3 install pandas\n",
    "!pip3 install tqdm\n",
    "!pip3 install seaborn\n",
    "!pip install researchpy\n",
    "!pip install --pre -i https://pypi.anaconda.org/scipy-wheels-nightly/simple scipy\n",
    "!pip install datatable"
   ]
  },
  {
   "cell_type": "code",
   "execution_count": 4,
   "metadata": {},
   "outputs": [
    {
     "name": "stdout",
     "output_type": "stream",
     "text": [
      "Looking in indexes: https://pypi.anaconda.org/scipy-wheels-nightly/simple\n",
      "Requirement already satisfied: scipy in /Users/simonefacchiano/opt/anaconda3/lib/python3.9/site-packages (1.7.3)\n",
      "Requirement already satisfied: numpy<1.23.0,>=1.16.5 in /Users/simonefacchiano/opt/anaconda3/lib/python3.9/site-packages (from scipy) (1.21.5)\n",
      "Note: you may need to restart the kernel to use updated packages.\n"
     ]
    }
   ],
   "source": [
    "pip install --pre -i https://pypi.anaconda.org/scipy-wheels-nightly/simple scipy"
   ]
  },
  {
   "cell_type": "code",
   "execution_count": 1,
   "metadata": {},
   "outputs": [
    {
     "data": {
      "text/html": [
       "<style type='text/css'>\n",
       ".datatable table.frame { margin-bottom: 0; }\n",
       ".datatable table.frame thead { border-bottom: none; }\n",
       ".datatable table.frame tr.coltypes td {  color: #FFFFFF;  line-height: 6px;  padding: 0 0.5em;}\n",
       ".datatable .bool    { background: #DDDD99; }\n",
       ".datatable .object  { background: #565656; }\n",
       ".datatable .int     { background: #5D9E5D; }\n",
       ".datatable .float   { background: #4040CC; }\n",
       ".datatable .str     { background: #CC4040; }\n",
       ".datatable .time    { background: #40CC40; }\n",
       ".datatable .row_index {  background: var(--jp-border-color3);  border-right: 1px solid var(--jp-border-color0);  color: var(--jp-ui-font-color3);  font-size: 9px;}\n",
       ".datatable .frame tbody td { text-align: left; }\n",
       ".datatable .frame tr.coltypes .row_index {  background: var(--jp-border-color0);}\n",
       ".datatable th:nth-child(2) { padding-left: 12px; }\n",
       ".datatable .hellipsis {  color: var(--jp-cell-editor-border-color);}\n",
       ".datatable .vellipsis {  background: var(--jp-layout-color0);  color: var(--jp-cell-editor-border-color);}\n",
       ".datatable .na {  color: var(--jp-cell-editor-border-color);  font-size: 80%;}\n",
       ".datatable .sp {  opacity: 0.25;}\n",
       ".datatable .footer { font-size: 9px; }\n",
       ".datatable .frame_dimensions {  background: var(--jp-border-color3);  border-top: 1px solid var(--jp-border-color0);  color: var(--jp-ui-font-color3);  display: inline-block;  opacity: 0.6;  padding: 1px 10px 1px 5px;}\n",
       "</style>\n"
      ],
      "text/plain": [
       "<IPython.core.display.HTML object>"
      ]
     },
     "metadata": {},
     "output_type": "display_data"
    }
   ],
   "source": [
    "import seaborn as sns\n",
    "import pandas as pd\n",
    "from tqdm import tqdm\n",
    "import numpy as np\n",
    "import matplotlib.pyplot as plt\n",
    "import scipy.stats as stats\n",
    "import scipy\n",
    "from scipy.stats.stats import pearsonr\n",
    "import seaborn as sns\n",
    "import statsmodels.api as sm\n",
    "import random\n",
    "from datatable import dt, f, by"
   ]
  },
  {
   "cell_type": "code",
   "execution_count": 2,
   "metadata": {},
   "outputs": [
    {
     "name": "stdout",
     "output_type": "stream",
     "text": [
      "Requirement already satisfied: datatable in /Users/simonefacchiano/opt/anaconda3/lib/python3.9/site-packages (1.0.0)\n"
     ]
    }
   ],
   "source": [
    "!pip install datatable\n",
    "from datatable import dt, f, by"
   ]
  },
  {
   "cell_type": "code",
   "execution_count": 46,
   "metadata": {},
   "outputs": [],
   "source": [
    "# POSTS\n",
    "posts = dt.fread('/Users/simonefacchiano/Desktop/Data Science/ADM/HW2-Instagram/instagram_posts.csv')\n",
    "columns = ['profile_id', 'numbr_likes', 'location_id', 'number_comments', 'post_type']\n",
    "posts = posts[:, columns]\n",
    "\n",
    "posts = posts.to_pandas()\n",
    "posts = posts.dropna()"
   ]
  },
  {
   "cell_type": "code",
   "execution_count": 19,
   "metadata": {},
   "outputs": [
    {
     "data": {
      "text/html": [
       "<div>\n",
       "<style scoped>\n",
       "    .dataframe tbody tr th:only-of-type {\n",
       "        vertical-align: middle;\n",
       "    }\n",
       "\n",
       "    .dataframe tbody tr th {\n",
       "        vertical-align: top;\n",
       "    }\n",
       "\n",
       "    .dataframe thead th {\n",
       "        text-align: right;\n",
       "    }\n",
       "</style>\n",
       "<table border=\"1\" class=\"dataframe\">\n",
       "  <thead>\n",
       "    <tr style=\"text-align: right;\">\n",
       "      <th></th>\n",
       "      <th>profile_id</th>\n",
       "      <th>followers</th>\n",
       "      <th>following</th>\n",
       "      <th>n_posts</th>\n",
       "      <th>is_business_account</th>\n",
       "    </tr>\n",
       "  </thead>\n",
       "  <tbody>\n",
       "    <tr>\n",
       "      <th>0</th>\n",
       "      <td>4.721050e+09</td>\n",
       "      <td>146.0</td>\n",
       "      <td>250.0</td>\n",
       "      <td>170.0</td>\n",
       "      <td>False</td>\n",
       "    </tr>\n",
       "    <tr>\n",
       "      <th>1</th>\n",
       "      <td>5.905830e+08</td>\n",
       "      <td>1145.0</td>\n",
       "      <td>534.0</td>\n",
       "      <td>2878.0</td>\n",
       "      <td>False</td>\n",
       "    </tr>\n",
       "    <tr>\n",
       "      <th>2</th>\n",
       "      <td>1.074147e+09</td>\n",
       "      <td>324.0</td>\n",
       "      <td>469.0</td>\n",
       "      <td>431.0</td>\n",
       "      <td>False</td>\n",
       "    </tr>\n",
       "    <tr>\n",
       "      <th>5</th>\n",
       "      <td>1.450642e+08</td>\n",
       "      <td>192.0</td>\n",
       "      <td>266.0</td>\n",
       "      <td>590.0</td>\n",
       "      <td>False</td>\n",
       "    </tr>\n",
       "    <tr>\n",
       "      <th>6</th>\n",
       "      <td>2.061868e+09</td>\n",
       "      <td>4137.0</td>\n",
       "      <td>157.0</td>\n",
       "      <td>753.0</td>\n",
       "      <td>True</td>\n",
       "    </tr>\n",
       "    <tr>\n",
       "      <th>...</th>\n",
       "      <td>...</td>\n",
       "      <td>...</td>\n",
       "      <td>...</td>\n",
       "      <td>...</td>\n",
       "      <td>...</td>\n",
       "    </tr>\n",
       "    <tr>\n",
       "      <th>4509578</th>\n",
       "      <td>4.038738e+09</td>\n",
       "      <td>809.0</td>\n",
       "      <td>3217.0</td>\n",
       "      <td>576.0</td>\n",
       "      <td>False</td>\n",
       "    </tr>\n",
       "    <tr>\n",
       "      <th>4509579</th>\n",
       "      <td>1.840612e+08</td>\n",
       "      <td>599.0</td>\n",
       "      <td>651.0</td>\n",
       "      <td>193.0</td>\n",
       "      <td>False</td>\n",
       "    </tr>\n",
       "    <tr>\n",
       "      <th>4509580</th>\n",
       "      <td>4.070370e+09</td>\n",
       "      <td>261.0</td>\n",
       "      <td>386.0</td>\n",
       "      <td>30.0</td>\n",
       "      <td>False</td>\n",
       "    </tr>\n",
       "    <tr>\n",
       "      <th>4509581</th>\n",
       "      <td>1.418322e+09</td>\n",
       "      <td>481.0</td>\n",
       "      <td>468.0</td>\n",
       "      <td>497.0</td>\n",
       "      <td>False</td>\n",
       "    </tr>\n",
       "    <tr>\n",
       "      <th>4509584</th>\n",
       "      <td>2.338990e+07</td>\n",
       "      <td>153.0</td>\n",
       "      <td>504.0</td>\n",
       "      <td>183.0</td>\n",
       "      <td>False</td>\n",
       "    </tr>\n",
       "  </tbody>\n",
       "</table>\n",
       "<p>3445323 rows × 5 columns</p>\n",
       "</div>"
      ],
      "text/plain": [
       "           profile_id  followers  following  n_posts is_business_account\n",
       "0        4.721050e+09      146.0      250.0    170.0               False\n",
       "1        5.905830e+08     1145.0      534.0   2878.0               False\n",
       "2        1.074147e+09      324.0      469.0    431.0               False\n",
       "5        1.450642e+08      192.0      266.0    590.0               False\n",
       "6        2.061868e+09     4137.0      157.0    753.0                True\n",
       "...               ...        ...        ...      ...                 ...\n",
       "4509578  4.038738e+09      809.0     3217.0    576.0               False\n",
       "4509579  1.840612e+08      599.0      651.0    193.0               False\n",
       "4509580  4.070370e+09      261.0      386.0     30.0               False\n",
       "4509581  1.418322e+09      481.0      468.0    497.0               False\n",
       "4509584  2.338990e+07      153.0      504.0    183.0               False\n",
       "\n",
       "[3445323 rows x 5 columns]"
      ]
     },
     "execution_count": 19,
     "metadata": {},
     "output_type": "execute_result"
    }
   ],
   "source": [
    "# PROFILES\n",
    "profiles = dt.fread('/Users/simonefacchiano/Desktop/Data Science/ADM/HW2-Instagram/instagram_profiles.csv')\n",
    "columns2 = ['profile_id', 'followers', 'following', 'n_posts', 'is_business_account']\n",
    "profiles = profiles[:, columns2]\n",
    "\n",
    "profiles = profiles.to_pandas()\n",
    "profiles.dropna()"
   ]
  },
  {
   "cell_type": "code",
   "execution_count": 142,
   "metadata": {},
   "outputs": [],
   "source": [
    "locations = dt.fread('/Users/simonefacchiano/Desktop/Data Science/ADM/HW2-Instagram/instagram_locations.csv')\n",
    "locations = locations.to_pandas()"
   ]
  },
  {
   "cell_type": "code",
   "execution_count": 47,
   "metadata": {},
   "outputs": [
    {
     "data": {
      "text/html": [
       "<div>\n",
       "<style scoped>\n",
       "    .dataframe tbody tr th:only-of-type {\n",
       "        vertical-align: middle;\n",
       "    }\n",
       "\n",
       "    .dataframe tbody tr th {\n",
       "        vertical-align: top;\n",
       "    }\n",
       "\n",
       "    .dataframe thead th {\n",
       "        text-align: right;\n",
       "    }\n",
       "</style>\n",
       "<table border=\"1\" class=\"dataframe\">\n",
       "  <thead>\n",
       "    <tr style=\"text-align: right;\">\n",
       "      <th></th>\n",
       "      <th>sid</th>\n",
       "      <th>sid_profile</th>\n",
       "      <th>post_id</th>\n",
       "      <th>profile_id</th>\n",
       "      <th>location_id</th>\n",
       "      <th>cts</th>\n",
       "      <th>post_type</th>\n",
       "      <th>description</th>\n",
       "      <th>numbr_likes</th>\n",
       "      <th>number_comments</th>\n",
       "    </tr>\n",
       "  </thead>\n",
       "  <tbody>\n",
       "    <tr>\n",
       "      <th>0</th>\n",
       "      <td>28370919</td>\n",
       "      <td>3496776</td>\n",
       "      <td>BXdjjUlgcgq</td>\n",
       "      <td>2.237948e+09</td>\n",
       "      <td>1.022366e+15</td>\n",
       "      <td>2017-08-06 20:06:57</td>\n",
       "      <td>2</td>\n",
       "      <td>Wreckloose! Deevalley bike park laps on the @i...</td>\n",
       "      <td>80</td>\n",
       "      <td>0</td>\n",
       "    </tr>\n",
       "    <tr>\n",
       "      <th>1</th>\n",
       "      <td>28370932</td>\n",
       "      <td>-1</td>\n",
       "      <td>BVg0pbolYBC</td>\n",
       "      <td>5.579335e+09</td>\n",
       "      <td>4.574268e+14</td>\n",
       "      <td>2017-06-19 09:31:16</td>\n",
       "      <td>1</td>\n",
       "      <td>🙌🏼 believe in ya dreams 🙌🏼 just like I believe...</td>\n",
       "      <td>25</td>\n",
       "      <td>1</td>\n",
       "    </tr>\n",
       "    <tr>\n",
       "      <th>2</th>\n",
       "      <td>28370933</td>\n",
       "      <td>-1</td>\n",
       "      <td>BRgkjcXFp3Q</td>\n",
       "      <td>3.134296e+08</td>\n",
       "      <td>4.574268e+14</td>\n",
       "      <td>2017-03-11 20:05:03</td>\n",
       "      <td>1</td>\n",
       "      <td>#meraviglia #incensi #the #candele #profumo #a...</td>\n",
       "      <td>9</td>\n",
       "      <td>0</td>\n",
       "    </tr>\n",
       "  </tbody>\n",
       "</table>\n",
       "</div>"
      ],
      "text/plain": [
       "        sid  sid_profile      post_id    profile_id   location_id  \\\n",
       "0  28370919      3496776  BXdjjUlgcgq  2.237948e+09  1.022366e+15   \n",
       "1  28370932           -1  BVg0pbolYBC  5.579335e+09  4.574268e+14   \n",
       "2  28370933           -1  BRgkjcXFp3Q  3.134296e+08  4.574268e+14   \n",
       "\n",
       "                  cts  post_type  \\\n",
       "0 2017-08-06 20:06:57          2   \n",
       "1 2017-06-19 09:31:16          1   \n",
       "2 2017-03-11 20:05:03          1   \n",
       "\n",
       "                                         description  numbr_likes  \\\n",
       "0  Wreckloose! Deevalley bike park laps on the @i...           80   \n",
       "1  🙌🏼 believe in ya dreams 🙌🏼 just like I believe...           25   \n",
       "2  #meraviglia #incensi #the #candele #profumo #a...            9   \n",
       "\n",
       "   number_comments  \n",
       "0                0  \n",
       "1                1  \n",
       "2                0  "
      ]
     },
     "execution_count": 47,
     "metadata": {},
     "output_type": "execute_result"
    }
   ],
   "source": [
    "posts.head(3)"
   ]
  },
  {
   "cell_type": "code",
   "execution_count": 49,
   "metadata": {},
   "outputs": [
    {
     "data": {
      "text/html": [
       "<div>\n",
       "<style scoped>\n",
       "    .dataframe tbody tr th:only-of-type {\n",
       "        vertical-align: middle;\n",
       "    }\n",
       "\n",
       "    .dataframe tbody tr th {\n",
       "        vertical-align: top;\n",
       "    }\n",
       "\n",
       "    .dataframe thead th {\n",
       "        text-align: right;\n",
       "    }\n",
       "</style>\n",
       "<table border=\"1\" class=\"dataframe\">\n",
       "  <thead>\n",
       "    <tr style=\"text-align: right;\">\n",
       "      <th></th>\n",
       "      <th>sid</th>\n",
       "      <th>profile_id</th>\n",
       "      <th>profile_name</th>\n",
       "      <th>firstname_lastname</th>\n",
       "      <th>description</th>\n",
       "      <th>following</th>\n",
       "      <th>followers</th>\n",
       "      <th>n_posts</th>\n",
       "      <th>url</th>\n",
       "      <th>cts</th>\n",
       "      <th>is_business_account</th>\n",
       "    </tr>\n",
       "  </thead>\n",
       "  <tbody>\n",
       "    <tr>\n",
       "      <th>0</th>\n",
       "      <td>4184446</td>\n",
       "      <td>4.721050e+09</td>\n",
       "      <td>jphillip033</td>\n",
       "      <td>John Pierce</td>\n",
       "      <td>\"Document Everything Always\"</td>\n",
       "      <td>250.0</td>\n",
       "      <td>146.0</td>\n",
       "      <td>170.0</td>\n",
       "      <td></td>\n",
       "      <td>2019-08-01 14:38:55.394 -0400</td>\n",
       "      <td>False</td>\n",
       "    </tr>\n",
       "    <tr>\n",
       "      <th>1</th>\n",
       "      <td>4184457</td>\n",
       "      <td>5.905830e+08</td>\n",
       "      <td>mama_haas</td>\n",
       "      <td>Deanna</td>\n",
       "      <td>Trying to enjoy the simple things in life. Kni...</td>\n",
       "      <td>534.0</td>\n",
       "      <td>1145.0</td>\n",
       "      <td>2878.0</td>\n",
       "      <td>www.etsy.com/shop/MamaHaas69</td>\n",
       "      <td>2019-08-01 14:39:36.526 -0400</td>\n",
       "      <td>False</td>\n",
       "    </tr>\n",
       "    <tr>\n",
       "      <th>2</th>\n",
       "      <td>4184460</td>\n",
       "      <td>1.074147e+09</td>\n",
       "      <td>yellowlightbreen</td>\n",
       "      <td>Eliza Gray</td>\n",
       "      <td>Maine is for Lovers</td>\n",
       "      <td>469.0</td>\n",
       "      <td>324.0</td>\n",
       "      <td>431.0</td>\n",
       "      <td>elizajanegray.com</td>\n",
       "      <td>2019-08-01 14:39:54.407 -0400</td>\n",
       "      <td>False</td>\n",
       "    </tr>\n",
       "  </tbody>\n",
       "</table>\n",
       "</div>"
      ],
      "text/plain": [
       "       sid    profile_id      profile_name firstname_lastname  \\\n",
       "0  4184446  4.721050e+09       jphillip033        John Pierce   \n",
       "1  4184457  5.905830e+08         mama_haas             Deanna   \n",
       "2  4184460  1.074147e+09  yellowlightbreen         Eliza Gray   \n",
       "\n",
       "                                         description  following  followers  \\\n",
       "0                       \"Document Everything Always\"      250.0      146.0   \n",
       "1  Trying to enjoy the simple things in life. Kni...      534.0     1145.0   \n",
       "2                                Maine is for Lovers      469.0      324.0   \n",
       "\n",
       "   n_posts                           url                            cts  \\\n",
       "0    170.0                                2019-08-01 14:38:55.394 -0400   \n",
       "1   2878.0  www.etsy.com/shop/MamaHaas69  2019-08-01 14:39:36.526 -0400   \n",
       "2    431.0             elizajanegray.com  2019-08-01 14:39:54.407 -0400   \n",
       "\n",
       "  is_business_account  \n",
       "0               False  \n",
       "1               False  \n",
       "2               False  "
      ]
     },
     "execution_count": 49,
     "metadata": {},
     "output_type": "execute_result"
    }
   ],
   "source": [
    "profiles.head(3)"
   ]
  },
  {
   "cell_type": "code",
   "execution_count": 50,
   "metadata": {},
   "outputs": [
    {
     "data": {
      "text/html": [
       "<div>\n",
       "<style scoped>\n",
       "    .dataframe tbody tr th:only-of-type {\n",
       "        vertical-align: middle;\n",
       "    }\n",
       "\n",
       "    .dataframe tbody tr th {\n",
       "        vertical-align: top;\n",
       "    }\n",
       "\n",
       "    .dataframe thead th {\n",
       "        text-align: right;\n",
       "    }\n",
       "</style>\n",
       "<table border=\"1\" class=\"dataframe\">\n",
       "  <thead>\n",
       "    <tr style=\"text-align: right;\">\n",
       "      <th></th>\n",
       "      <th>sid</th>\n",
       "      <th>id</th>\n",
       "      <th>name</th>\n",
       "      <th>street</th>\n",
       "      <th>zip</th>\n",
       "      <th>city</th>\n",
       "      <th>region</th>\n",
       "      <th>cd</th>\n",
       "      <th>phone</th>\n",
       "      <th>aj_exact_city_match</th>\n",
       "      <th>...</th>\n",
       "      <th>dir_city_name</th>\n",
       "      <th>dir_city_slug</th>\n",
       "      <th>dir_country_id</th>\n",
       "      <th>dir_country_name</th>\n",
       "      <th>lat</th>\n",
       "      <th>lng</th>\n",
       "      <th>primary_alias_on_fb</th>\n",
       "      <th>slug</th>\n",
       "      <th>website</th>\n",
       "      <th>cts</th>\n",
       "    </tr>\n",
       "  </thead>\n",
       "  <tbody>\n",
       "    <tr>\n",
       "      <th>0</th>\n",
       "      <td>719981</td>\n",
       "      <td>110296492939207</td>\n",
       "      <td>Playa de Daimuz - Valencia, España</td>\n",
       "      <td></td>\n",
       "      <td></td>\n",
       "      <td></td>\n",
       "      <td></td>\n",
       "      <td></td>\n",
       "      <td></td>\n",
       "      <td>False</td>\n",
       "      <td>...</td>\n",
       "      <td></td>\n",
       "      <td></td>\n",
       "      <td></td>\n",
       "      <td></td>\n",
       "      <td>-0.139475</td>\n",
       "      <td>38.974391</td>\n",
       "      <td>daimuzplaya</td>\n",
       "      <td>playa-de-daimuz-valencia-espana</td>\n",
       "      <td>https://es.wikipedia.org/wiki/Daimuz</td>\n",
       "      <td>2019-05-29 01:21:29.987</td>\n",
       "    </tr>\n",
       "    <tr>\n",
       "      <th>1</th>\n",
       "      <td>719983</td>\n",
       "      <td>274391278</td>\n",
       "      <td>Nová Vieska</td>\n",
       "      <td></td>\n",
       "      <td></td>\n",
       "      <td>Nová Vieska</td>\n",
       "      <td></td>\n",
       "      <td>SK</td>\n",
       "      <td></td>\n",
       "      <td>True</td>\n",
       "      <td>...</td>\n",
       "      <td>Kis-Újfalu</td>\n",
       "      <td>kis-ujfalu</td>\n",
       "      <td>SK</td>\n",
       "      <td>Slovakia</td>\n",
       "      <td>18.466667</td>\n",
       "      <td>47.866667</td>\n",
       "      <td></td>\n",
       "      <td>nova-vieska</td>\n",
       "      <td></td>\n",
       "      <td>2019-05-29 01:21:38.037</td>\n",
       "    </tr>\n",
       "    <tr>\n",
       "      <th>2</th>\n",
       "      <td>719985</td>\n",
       "      <td>148885595789195</td>\n",
       "      <td>Everest Today</td>\n",
       "      <td>Himalayas</td>\n",
       "      <td>+977</td>\n",
       "      <td>Kathmandu, Nepal</td>\n",
       "      <td></td>\n",
       "      <td>NP</td>\n",
       "      <td></td>\n",
       "      <td>False</td>\n",
       "      <td>...</td>\n",
       "      <td>Pasupati</td>\n",
       "      <td>pasupati</td>\n",
       "      <td>NP</td>\n",
       "      <td>Nepal</td>\n",
       "      <td>85.330150</td>\n",
       "      <td>27.701960</td>\n",
       "      <td>EverestToday</td>\n",
       "      <td>everest-today</td>\n",
       "      <td></td>\n",
       "      <td>2019-05-29 01:21:46.295</td>\n",
       "    </tr>\n",
       "  </tbody>\n",
       "</table>\n",
       "<p>3 rows × 23 columns</p>\n",
       "</div>"
      ],
      "text/plain": [
       "      sid               id                                name     street  \\\n",
       "0  719981  110296492939207  Playa de Daimuz - Valencia, España              \n",
       "1  719983        274391278                         Nová Vieska              \n",
       "2  719985  148885595789195                       Everest Today  Himalayas   \n",
       "\n",
       "    zip              city region  cd phone aj_exact_city_match  ...  \\\n",
       "0                                                        False  ...   \n",
       "1             Nová Vieska         SK                      True  ...   \n",
       "2  +977  Kathmandu, Nepal         NP                     False  ...   \n",
       "\n",
       "  dir_city_name dir_city_slug dir_country_id dir_country_name        lat  \\\n",
       "0                                                              -0.139475   \n",
       "1    Kis-Újfalu    kis-ujfalu             SK         Slovakia  18.466667   \n",
       "2      Pasupati      pasupati             NP            Nepal  85.330150   \n",
       "\n",
       "         lng primary_alias_on_fb                             slug  \\\n",
       "0  38.974391         daimuzplaya  playa-de-daimuz-valencia-espana   \n",
       "1  47.866667                                          nova-vieska   \n",
       "2  27.701960        EverestToday                    everest-today   \n",
       "\n",
       "                                website                     cts  \n",
       "0  https://es.wikipedia.org/wiki/Daimuz 2019-05-29 01:21:29.987  \n",
       "1                                       2019-05-29 01:21:38.037  \n",
       "2                                       2019-05-29 01:21:46.295  \n",
       "\n",
       "[3 rows x 23 columns]"
      ]
     },
     "execution_count": 50,
     "metadata": {},
     "output_type": "execute_result"
    }
   ],
   "source": [
    "locations.head(3)"
   ]
  },
  {
   "cell_type": "markdown",
   "metadata": {},
   "source": [
    "### RQ1"
   ]
  },
  {
   "cell_type": "code",
   "execution_count": 130,
   "metadata": {},
   "outputs": [
    {
     "data": {
      "text/html": [
       "<div>\n",
       "<style scoped>\n",
       "    .dataframe tbody tr th:only-of-type {\n",
       "        vertical-align: middle;\n",
       "    }\n",
       "\n",
       "    .dataframe tbody tr th {\n",
       "        vertical-align: top;\n",
       "    }\n",
       "\n",
       "    .dataframe thead th {\n",
       "        text-align: right;\n",
       "    }\n",
       "</style>\n",
       "<table border=\"1\" class=\"dataframe\">\n",
       "  <thead>\n",
       "    <tr style=\"text-align: right;\">\n",
       "      <th></th>\n",
       "      <th>numbr_likes</th>\n",
       "      <th>number_comments</th>\n",
       "    </tr>\n",
       "  </thead>\n",
       "  <tbody>\n",
       "    <tr>\n",
       "      <th>count</th>\n",
       "      <td>2.862506e+07</td>\n",
       "      <td>2.862506e+07</td>\n",
       "    </tr>\n",
       "    <tr>\n",
       "      <th>mean</th>\n",
       "      <td>2.880860e+02</td>\n",
       "      <td>7.327707e+00</td>\n",
       "    </tr>\n",
       "    <tr>\n",
       "      <th>std</th>\n",
       "      <td>5.166535e+03</td>\n",
       "      <td>1.763913e+02</td>\n",
       "    </tr>\n",
       "    <tr>\n",
       "      <th>min</th>\n",
       "      <td>0.000000e+00</td>\n",
       "      <td>0.000000e+00</td>\n",
       "    </tr>\n",
       "    <tr>\n",
       "      <th>25%</th>\n",
       "      <td>2.100000e+01</td>\n",
       "      <td>0.000000e+00</td>\n",
       "    </tr>\n",
       "    <tr>\n",
       "      <th>50%</th>\n",
       "      <td>5.000000e+01</td>\n",
       "      <td>2.000000e+00</td>\n",
       "    </tr>\n",
       "    <tr>\n",
       "      <th>75%</th>\n",
       "      <td>1.240000e+02</td>\n",
       "      <td>5.000000e+00</td>\n",
       "    </tr>\n",
       "    <tr>\n",
       "      <th>max</th>\n",
       "      <td>4.264745e+06</td>\n",
       "      <td>4.889530e+05</td>\n",
       "    </tr>\n",
       "  </tbody>\n",
       "</table>\n",
       "</div>"
      ],
      "text/plain": [
       "        numbr_likes  number_comments\n",
       "count  2.862506e+07     2.862506e+07\n",
       "mean   2.880860e+02     7.327707e+00\n",
       "std    5.166535e+03     1.763913e+02\n",
       "min    0.000000e+00     0.000000e+00\n",
       "25%    2.100000e+01     0.000000e+00\n",
       "50%    5.000000e+01     2.000000e+00\n",
       "75%    1.240000e+02     5.000000e+00\n",
       "max    4.264745e+06     4.889530e+05"
      ]
     },
     "execution_count": 130,
     "metadata": {},
     "output_type": "execute_result"
    }
   ],
   "source": [
    "from matplotlib.pyplot import xlim\n",
    "\n",
    "posts[['numbr_likes', 'number_comments']].describe()\n",
    "\n",
    "# Looking at the table below, it is clear that we are in the presence of outliers. In fact, the 75th percentile and the maximum value for likes and comments are strongly different."
   ]
  },
  {
   "cell_type": "code",
   "execution_count": 131,
   "metadata": {},
   "outputs": [
    {
     "data": {
      "text/plain": [
       "Text(0, 0.5, 'Frequencies')"
      ]
     },
     "execution_count": 131,
     "metadata": {},
     "output_type": "execute_result"
    },
    {
     "data": {
      "image/png": "[encoded data removed]",
      "text/plain": [
       "<Figure size 432x288 with 2 Axes>"
      ]
     },
     "metadata": {
      "needs_background": "light"
     },
     "output_type": "display_data"
    }
   ],
   "source": [
    "# For example,\n",
    "#  doing an histograms produces this output for numbr_likes...\n",
    "from matplotlib.pyplot import xlabel\n",
    "\n",
    "\n",
    "plt.subplot(1, 2, 1)\n",
    "plt.hist(posts['numbr_likes'])\n",
    "plt.title('Number of Likes')\n",
    "plt.xlabel('Number of Likes')\n",
    "plt.ylabel('Frequencies')\n",
    "\n",
    "plt.subplot(1, 2, 2)\n",
    "plt.hist(posts['number_comments'])\n",
    "plt.title('Number of Comments')\n",
    "plt.xlabel('Number of Comments')\n",
    "plt.ylabel('Frequencies')\n",
    "\n",
    "# Clearly not useful! The distribution is too skewed."
   ]
  },
  {
   "cell_type": "code",
   "execution_count": 132,
   "metadata": {},
   "outputs": [
    {
     "data": {
      "text/plain": [
       "Text(0, 0.5, 'Frequencies')"
      ]
     },
     "execution_count": 132,
     "metadata": {},
     "output_type": "execute_result"
    },
    {
     "data": {
      "image/png": "[encoded data removed]",
      "text/plain": [
       "<Figure size 432x288 with 2 Axes>"
      ]
     },
     "metadata": {
      "needs_background": "light"
     },
     "output_type": "display_data"
    }
   ],
   "source": [
    "# A valid alternative is to provide a representation by removing the outliers. For example, we can use a box plot, which gives us information about the quartiles of the distribution. \n",
    "# How to remove outliers? We have to compute the InterQuantile Range (IQR), that is Quartile3 - Quartile1 (Q3 - Q1). The observations that fall outside the range [Q1 - 1.5 * IQR, Q3 + 1.5 * IQR] are considered outliers. We can easily do this opration with the option showfliers = False:\n",
    "\n",
    "plt.subplot(1, 2, 1)\n",
    "plt.boxplot(posts['numbr_likes'], showfliers= False)\n",
    "plt.title('Number of Likes')\n",
    "plt.xlabel('Number of Likes')\n",
    "plt.ylabel('Frequencies')\n",
    "\n",
    "plt.subplot(1, 2, 2)\n",
    "plt.boxplot(posts['number_comments'], showfliers= False)\n",
    "plt.title('Number of Comments')\n",
    "plt.xlabel('Number of Comments')\n",
    "plt.ylabel('Frequencies')\n",
    "\n",
    "# Also in the boxplot, there is an evident positive skewness."
   ]
  },
  {
   "cell_type": "code",
   "execution_count": 135,
   "metadata": {},
   "outputs": [
    {
     "data": {
      "text/plain": [
       "([<matplotlib.patches.Wedge at 0x7fc87b333400>,\n",
       "  <matplotlib.patches.Wedge at 0x7fc87b333b20>],\n",
       " [Text(-1.0917523052900666, 0.13445037706836419, 'Photos'),\n",
       "  Text(1.0917523257458024, -0.13445021096536722, 'Videos')],\n",
       " [Text(-0.5955012574309454, 0.07333656931001682, '96.1%'),\n",
       "  Text(0.5955012685886194, -0.07333647870838211, '3.9%')])"
      ]
     },
     "execution_count": 135,
     "metadata": {},
     "output_type": "execute_result"
    },
    {
     "data": {
      "image/png": "[encoded data removed]",
      "text/plain": [
       "<Figure size 432x288 with 1 Axes>"
      ]
     },
     "metadata": {},
     "output_type": "display_data"
    }
   ],
   "source": [
    "# Instagram gives you the possibility to post various kinds of content, such as photos and videos.\n",
    "# In our dataset the trend is the following:\n",
    "\n",
    "counts = np.array(posts['post_type'].value_counts())[:2]\n",
    "labels = ['Photos', 'Videos', 'Multy']\n",
    "plt.pie(counts, labels = labels[:2], autopct='%.1f%%')\n",
    "\n",
    "# This means the majority of contents on Instagram are photos.\n",
    "# The dataset id referred to 2019, however. In the last year, Instagram has made some big changes to the app as it moved to more videos on the feed, following the steps of Tik Tok.\n"
   ]
  },
  {
   "cell_type": "code",
   "execution_count": 138,
   "metadata": {},
   "outputs": [
    {
     "data": {
      "text/html": [
       "<div>\n",
       "<style scoped>\n",
       "    .dataframe tbody tr th:only-of-type {\n",
       "        vertical-align: middle;\n",
       "    }\n",
       "\n",
       "    .dataframe tbody tr th {\n",
       "        vertical-align: top;\n",
       "    }\n",
       "\n",
       "    .dataframe thead th {\n",
       "        text-align: right;\n",
       "    }\n",
       "</style>\n",
       "<table border=\"1\" class=\"dataframe\">\n",
       "  <thead>\n",
       "    <tr style=\"text-align: right;\">\n",
       "      <th></th>\n",
       "      <th>following</th>\n",
       "      <th>followers</th>\n",
       "      <th>n_posts</th>\n",
       "    </tr>\n",
       "  </thead>\n",
       "  <tbody>\n",
       "    <tr>\n",
       "      <th>count</th>\n",
       "      <td>3.452771e+06</td>\n",
       "      <td>3.452771e+06</td>\n",
       "      <td>3.452771e+06</td>\n",
       "    </tr>\n",
       "    <tr>\n",
       "      <th>mean</th>\n",
       "      <td>1.405641e+03</td>\n",
       "      <td>4.739899e+03</td>\n",
       "      <td>4.095414e+02</td>\n",
       "    </tr>\n",
       "    <tr>\n",
       "      <th>std</th>\n",
       "      <td>8.113473e+03</td>\n",
       "      <td>1.939087e+05</td>\n",
       "      <td>1.041940e+03</td>\n",
       "    </tr>\n",
       "    <tr>\n",
       "      <th>min</th>\n",
       "      <td>0.000000e+00</td>\n",
       "      <td>0.000000e+00</td>\n",
       "      <td>0.000000e+00</td>\n",
       "    </tr>\n",
       "    <tr>\n",
       "      <th>25%</th>\n",
       "      <td>3.560000e+02</td>\n",
       "      <td>1.590000e+02</td>\n",
       "      <td>2.200000e+01</td>\n",
       "    </tr>\n",
       "    <tr>\n",
       "      <th>50%</th>\n",
       "      <td>7.540000e+02</td>\n",
       "      <td>4.060000e+02</td>\n",
       "      <td>1.200000e+02</td>\n",
       "    </tr>\n",
       "    <tr>\n",
       "      <th>75%</th>\n",
       "      <td>1.573000e+03</td>\n",
       "      <td>9.740000e+02</td>\n",
       "      <td>4.200000e+02</td>\n",
       "    </tr>\n",
       "    <tr>\n",
       "      <th>max</th>\n",
       "      <td>4.191080e+06</td>\n",
       "      <td>2.854576e+08</td>\n",
       "      <td>1.837300e+05</td>\n",
       "    </tr>\n",
       "  </tbody>\n",
       "</table>\n",
       "</div>"
      ],
      "text/plain": [
       "          following     followers       n_posts\n",
       "count  3.452771e+06  3.452771e+06  3.452771e+06\n",
       "mean   1.405641e+03  4.739899e+03  4.095414e+02\n",
       "std    8.113473e+03  1.939087e+05  1.041940e+03\n",
       "min    0.000000e+00  0.000000e+00  0.000000e+00\n",
       "25%    3.560000e+02  1.590000e+02  2.200000e+01\n",
       "50%    7.540000e+02  4.060000e+02  1.200000e+02\n",
       "75%    1.573000e+03  9.740000e+02  4.200000e+02\n",
       "max    4.191080e+06  2.854576e+08  1.837300e+05"
      ]
     },
     "execution_count": 138,
     "metadata": {},
     "output_type": "execute_result"
    }
   ],
   "source": [
    "# And what about the number of following and followers?\n",
    "# For an in-depth analysis, please refer to RQ8.\n",
    "\n",
    "profiles[['following', 'followers', 'n_posts']].describe()"
   ]
  },
  {
   "cell_type": "code",
   "execution_count": 140,
   "metadata": {},
   "outputs": [
    {
     "name": "stdout",
     "output_type": "stream",
     "text": [
      "Pearson product-moment correlation coefficient for following vs followers: 0.008368111707669252\n"
     ]
    },
    {
     "data": {
      "text/plain": [
       "Text(0, 0.5, 'Number of followers')"
      ]
     },
     "execution_count": 140,
     "metadata": {},
     "output_type": "execute_result"
    },
    {
     "data": {
      "image/png": "[encoded data removed]",
      "text/plain": [
       "<Figure size 432x288 with 2 Axes>"
      ]
     },
     "metadata": {
      "needs_background": "light"
     },
     "output_type": "display_data"
    }
   ],
   "source": [
    "# UPDATE: I THINK THIS IS NOT USEFUL, MAYBE WE HAVE TO DELETE THIS CELL\n",
    "# For now, I leave it here.\n",
    "\n",
    "# But let's try to see if there is a relationship between the number of followers and the number of following, and if these values are influenced by the number of posts of the user.\n",
    "# We use a scatter plot to look for some association:\n",
    "\n",
    "filtered_followers = profiles['followers'].dropna()\n",
    "filtered_following = profiles['following'].dropna()\n",
    "filtered_npost = profiles['n_posts'].dropna()\n",
    "\n",
    "# First plot (left):\n",
    "plt.subplot(1, 2, 1)\n",
    "plt.xlim(0, 150000)\n",
    "plt.ylim(0, 200000)\n",
    "\n",
    "plt.scatter(filtered_following, filtered_followers, alpha=0.2, edgecolors = 'lightskyblue')\n",
    "plt.xlabel('Number of following')\n",
    "plt.ylabel('Number of followers')\n",
    "\n",
    "# It seems there is not a strong (linear) association between the number of people a user follows on Instagram and the number of followers he/she has. In fact:\n",
    "\n",
    "print('Pearson product-moment correlation coefficient for following vs followers:', stats.pearsonr(filtered_following, filtered_followers)[0])\n",
    "\n",
    "# Second plot (right):\n",
    "plt.subplot(1, 2, 2)\n",
    "\n",
    "plt.xlim(0, 100000)\n",
    "plt.ylim(0, 1000000)\n",
    "\n",
    "plt.scatter(filtered_npost, filtered_followers, alpha=0.2, edgecolors = 'lightsteelblue')\n",
    "plt.xlabel('Number of posts')\n",
    "plt.ylabel('Number of followers')\n",
    "# Again, we cannot conclude that posting more photos brings a larger number of followers.\n"
   ]
  },
  {
   "cell_type": "code",
   "execution_count": 57,
   "metadata": {},
   "outputs": [
    {
     "data": {
      "text/plain": [
       "Text(0, 0.5, 'Number of followers')"
      ]
     },
     "execution_count": 57,
     "metadata": {},
     "output_type": "execute_result"
    },
    {
     "data": {
      "image/png": "[encoded data removed]",
      "text/plain": [
       "<Figure size 432x288 with 1 Axes>"
      ]
     },
     "metadata": {
      "needs_background": "light"
     },
     "output_type": "display_data"
    }
   ],
   "source": [
    "# UPDATE: I THINK THIS IS NOT USEFUL, MAYBE WE HAVE TO DELETE THIS CELL\n",
    "# For now, I leave it here.\n",
    "\n",
    "# And what about the number of posts and the number of followers? We can try to do another scatterplot:\n",
    "\n",
    "filtered_npost = profiles['n_posts'].dropna()\n",
    "\n",
    "plt.xlim(0, 100000)\n",
    "plt.ylim(0, 1000000)\n",
    "\n",
    "plt.scatter(filtered_npost, filtered_followers, alpha=0.2)\n",
    "plt.xlabel('Number of posts')\n",
    "plt.ylabel('Number of followers')\n",
    "\n",
    "# Again, we cannot conclude that posting more photos brings a larger number of followers."
   ]
  },
  {
   "cell_type": "code",
   "execution_count": 140,
   "metadata": {},
   "outputs": [
    {
     "data": {
      "text/plain": [
       "([<matplotlib.patches.Wedge at 0x7fc881e2c070>,\n",
       "  <matplotlib.patches.Wedge at 0x7fc8592f16a0>],\n",
       " [Text(-0.7821153977760188, 0.7734956396526487, 'Business account'),\n",
       "  Text(0.7821153977760186, -0.7734956396526489, 'Non-business account')],\n",
       " [Text(-0.4266083987869193, 0.42190671253780837, '75.2%'),\n",
       "  Text(0.4266083987869192, -0.4219067125378084, '24.8%')])"
      ]
     },
     "execution_count": 140,
     "metadata": {},
     "output_type": "execute_result"
    },
    {
     "data": {
      "image/png": "[encoded data removed]",
      "text/plain": [
       "<Figure size 432x288 with 1 Axes>"
      ]
     },
     "metadata": {},
     "output_type": "display_data"
    }
   ],
   "source": [
    "# Another consideration. In the last years social networks have also become an important commercial tool, also thanks to the possibility of using business accounts.\n",
    "# In our dataset, almost the 25% of the accounts were business accounts!\n",
    "counts_business = profiles['is_business_account'].value_counts()\n",
    "labels_business = ['Business account', 'Non-business account']\n",
    "plt.pie(counts_business, labels = labels_business, autopct='%.1f%%')\n"
   ]
  },
  {
   "cell_type": "code",
   "execution_count": 143,
   "metadata": {},
   "outputs": [
    {
     "data": {
      "image/png": "[encoded data removed]",
      "text/plain": [
       "<Figure size 432x288 with 1 Axes>"
      ]
     },
     "metadata": {
      "needs_background": "light"
     },
     "output_type": "display_data"
    }
   ],
   "source": [
    "# We also have some informations about the countries of the users. We can plot the 15 most popular ones inside our dataset: \n",
    "\n",
    "counts = dict(locations['dir_country_name'].value_counts())\n",
    "countries = list(counts.keys())[1:16]\n",
    "values = list(counts.values())[1:16]\n",
    "\n",
    "\n",
    "plt.barh(countries, values, color ='lightsteelblue') \n",
    "plt.show()"
   ]
  },
  {
   "cell_type": "markdown",
   "metadata": {},
   "source": [
    "### RQ7"
   ]
  },
  {
   "cell_type": "markdown",
   "metadata": {},
   "source": [
    "#### RQ7.1"
   ]
  },
  {
   "cell_type": "code",
   "execution_count": null,
   "metadata": {},
   "outputs": [],
   "source": [
    "# Basic idea: computing the ratio between 'favorable cases' and 'possible cases'.\n",
    "# \n",
    "# So we create a binary variable: assign 1 if the post gets more than 20% \"likes\" of the number of followers a user has, 0 otherwise."
   ]
  },
  {
   "cell_type": "code",
   "execution_count": 6,
   "metadata": {},
   "outputs": [
    {
     "data": {
      "text/plain": [
       "(13209910, 3)"
      ]
     },
     "execution_count": 6,
     "metadata": {},
     "output_type": "execute_result"
    }
   ],
   "source": [
    "# First, merge the two datasets 'posts' and 'profiles'\n",
    "\n",
    "posts2 = posts[['profile_id', 'numbr_likes']]\n",
    "profiles2 = profiles[['profile_id', 'followers']]\n",
    "\n",
    "data = pd.merge(posts2, profiles2, on = \"profile_id\")\n",
    "data = data.dropna()\n",
    "\n",
    "data.shape"
   ]
  },
  {
   "cell_type": "code",
   "execution_count": 7,
   "metadata": {},
   "outputs": [],
   "source": [
    "# Second, we create the binary variable '20%'\n",
    "\n",
    "data['20%'] = data.apply(lambda x :  (x.numbr_likes + 1 )/ (x.followers + 1), axis = 1 ) > 0.20"
   ]
  },
  {
   "cell_type": "code",
   "execution_count": 8,
   "metadata": {},
   "outputs": [
    {
     "name": "stdout",
     "output_type": "stream",
     "text": [
      "The probability computed as favorable cases/ possible cases is 15.45 %\n"
     ]
    }
   ],
   "source": [
    "# Third: we compute the probability as the ratio between favorable cases and possible cases\n",
    "\n",
    "N = len(data)\n",
    "X = sum(data['20%'])\n",
    "\n",
    "prob = round(X/N * 100, 2)\n",
    "\n",
    "print('The probability computed as favorable cases/ possible cases is', prob, '%')\n",
    "\n",
    "\n",
    "# Note that dropping or not dropping NAs could lead to slightly different approximations."
   ]
  },
  {
   "cell_type": "code",
   "execution_count": 16,
   "metadata": {},
   "outputs": [],
   "source": [
    "# We also have another option: bootstrapping.\n",
    "# The problem is that it is too slow, and the result we obtain weìhen try to reduce the time will never be accurate.\n",
    "\n",
    "# I report the code here below\n",
    "\n",
    "#profiles2 --> profile_id, followers\n",
    "#lst=[] \n",
    "#for i in tqdm(range(500)):\n",
    "#  random_id= random.sample(list(posts['profile_id']), 500)\n",
    "#  sample = posts[posts['profile_id'].isin(random_id)].reset_index(drop=True)\n",
    "  \n",
    "#  data=pd.merge(sample, profiles2, on = \"profile_id\")\n",
    "#  lst.append(sum(data.apply(lambda x :  (x.numbr_likes + 1 )/ (x.followers +1), axis = 1 ) > 0.20)/ data.shape[0])"
   ]
  },
  {
   "cell_type": "markdown",
   "metadata": {},
   "source": [
    "#### RQ7.2"
   ]
  },
  {
   "cell_type": "code",
   "execution_count": 157,
   "metadata": {},
   "outputs": [
    {
     "data": {
      "text/html": [
       "<div>\n",
       "<style scoped>\n",
       "    .dataframe tbody tr th:only-of-type {\n",
       "        vertical-align: middle;\n",
       "    }\n",
       "\n",
       "    .dataframe tbody tr th {\n",
       "        vertical-align: top;\n",
       "    }\n",
       "\n",
       "    .dataframe thead th {\n",
       "        text-align: right;\n",
       "    }\n",
       "</style>\n",
       "<table border=\"1\" class=\"dataframe\">\n",
       "  <thead>\n",
       "    <tr style=\"text-align: right;\">\n",
       "      <th></th>\n",
       "      <th>profile_id</th>\n",
       "      <th>location_id</th>\n",
       "      <th>counts</th>\n",
       "    </tr>\n",
       "  </thead>\n",
       "  <tbody>\n",
       "    <tr>\n",
       "      <th>0</th>\n",
       "      <td>3.000000e+00</td>\n",
       "      <td>1.000000e+01</td>\n",
       "      <td>1</td>\n",
       "    </tr>\n",
       "    <tr>\n",
       "      <th>1</th>\n",
       "      <td>3.000000e+00</td>\n",
       "      <td>5.400000e+01</td>\n",
       "      <td>1</td>\n",
       "    </tr>\n",
       "    <tr>\n",
       "      <th>2</th>\n",
       "      <td>3.000000e+00</td>\n",
       "      <td>8.030000e+02</td>\n",
       "      <td>1</td>\n",
       "    </tr>\n",
       "    <tr>\n",
       "      <th>3</th>\n",
       "      <td>3.000000e+00</td>\n",
       "      <td>1.526200e+04</td>\n",
       "      <td>1</td>\n",
       "    </tr>\n",
       "    <tr>\n",
       "      <th>4</th>\n",
       "      <td>3.000000e+00</td>\n",
       "      <td>2.705200e+04</td>\n",
       "      <td>1</td>\n",
       "    </tr>\n",
       "    <tr>\n",
       "      <th>...</th>\n",
       "      <td>...</td>\n",
       "      <td>...</td>\n",
       "      <td>...</td>\n",
       "    </tr>\n",
       "    <tr>\n",
       "      <th>21096130</th>\n",
       "      <td>9.001013e+13</td>\n",
       "      <td>6.631216e+14</td>\n",
       "      <td>1</td>\n",
       "    </tr>\n",
       "    <tr>\n",
       "      <th>21096131</th>\n",
       "      <td>9.001013e+13</td>\n",
       "      <td>2.075964e+14</td>\n",
       "      <td>1</td>\n",
       "    </tr>\n",
       "    <tr>\n",
       "      <th>21096132</th>\n",
       "      <td>9.001013e+13</td>\n",
       "      <td>1.855425e+14</td>\n",
       "      <td>2</td>\n",
       "    </tr>\n",
       "    <tr>\n",
       "      <th>21096133</th>\n",
       "      <td>9.001013e+13</td>\n",
       "      <td>2.418404e+08</td>\n",
       "      <td>1</td>\n",
       "    </tr>\n",
       "    <tr>\n",
       "      <th>21096134</th>\n",
       "      <td>9.001014e+13</td>\n",
       "      <td>1.077310e+06</td>\n",
       "      <td>1</td>\n",
       "    </tr>\n",
       "  </tbody>\n",
       "</table>\n",
       "<p>21096135 rows × 3 columns</p>\n",
       "</div>"
      ],
      "text/plain": [
       "            profile_id   location_id  counts\n",
       "0         3.000000e+00  1.000000e+01       1\n",
       "1         3.000000e+00  5.400000e+01       1\n",
       "2         3.000000e+00  8.030000e+02       1\n",
       "3         3.000000e+00  1.526200e+04       1\n",
       "4         3.000000e+00  2.705200e+04       1\n",
       "...                ...           ...     ...\n",
       "21096130  9.001013e+13  6.631216e+14       1\n",
       "21096131  9.001013e+13  2.075964e+14       1\n",
       "21096132  9.001013e+13  1.855425e+14       2\n",
       "21096133  9.001013e+13  2.418404e+08       1\n",
       "21096134  9.001014e+13  1.077310e+06       1\n",
       "\n",
       "[21096135 rows x 3 columns]"
      ]
     },
     "execution_count": 157,
     "metadata": {},
     "output_type": "execute_result"
    }
   ],
   "source": [
    "# Similar appproac to RQ7.1. First, we group by profile_id to know the times a user visited (posted) the same place\n",
    "\n",
    "posts3 = posts[['profile_id', 'location_id']]\n",
    "\n",
    "posts_groups = posts3.groupby(['profile_id', 'location_id']).size().reset_index(name='counts')\n",
    "posts_groups"
   ]
  },
  {
   "cell_type": "code",
   "execution_count": 161,
   "metadata": {},
   "outputs": [
    {
     "name": "stdout",
     "output_type": "stream",
     "text": [
      "The probability that a user returns to a site after having posted it in the past is: 14.04 %\n"
     ]
    }
   ],
   "source": [
    "# Then we search on the favorable cases, m, and divide by M, that is the number of possible cases.\n",
    "\n",
    "m = len(posts_groups[posts_groups['counts'] > 1])\n",
    "M = len(posts_groups)\n",
    "\n",
    "# Finally we compute the probability\n",
    "\n",
    "prob2 = m/M\n",
    "print('The probability that a user returns to a site after having posted it in the past is:', round(prob2*100, 2), '%')\n",
    "\n",
    "# This makes sense. If a user posts a certin place, it is likely to be a place he/she usually frequents, so 14% is good probability"
   ]
  },
  {
   "cell_type": "markdown",
   "metadata": {},
   "source": [
    "### RQ8"
   ]
  },
  {
   "cell_type": "markdown",
   "metadata": {},
   "source": [
    "#### Question R8.1"
   ]
  },
  {
   "cell_type": "code",
   "execution_count": 13,
   "metadata": {},
   "outputs": [
    {
     "data": {
      "text/plain": [
       "[<matplotlib.lines.Line2D at 0x7fce48d15e80>]"
      ]
     },
     "execution_count": 13,
     "metadata": {},
     "output_type": "execute_result"
    },
    {
     "data": {
      "image/png": "[encoded data removed]",
      "text/plain": [
       "<Figure size 432x288 with 1 Axes>"
      ]
     },
     "metadata": {
      "needs_background": "light"
     },
     "output_type": "display_data"
    }
   ],
   "source": [
    "from matplotlib.pyplot import xlabel, ylabel\n",
    "\n",
    "# We want to draw a scatter plot of number of likes vs number of comments:\n",
    "plt.xlim(0,300000)\n",
    "plt.ylim(0,7000)\n",
    "plt.scatter(posts['numbr_likes'], posts['number_comments'], alpha=0.1, edgecolors = 'lightsteelblue')\n",
    "xlabel('Number of likes')\n",
    "ylabel('Number of comments')\n",
    "plt.title('Likes vs comments')\n",
    "\n",
    "# Problem: we have too many points! We cannot really say anything about the association between the two variables.\n",
    "# So we can draw the best fit line to obtain some additional info...\n",
    "\n",
    "slope, intercept = np.polyfit(posts['numbr_likes'], posts['number_comments'], 1)\n",
    "plt.plot(posts['numbr_likes'], slope*posts['numbr_likes']+intercept) "
   ]
  },
  {
   "cell_type": "markdown",
   "metadata": {},
   "source": [
    "It seems there is some positive correlation... but we can say nothing about the significance! It may have arised from some kind of sampling error...\n",
    "We have to test this linear relationship. We can do this using the Pearson Correlation Coefficient. We run the following test:\n",
    "\n",
    "Null Hypothesis --> H0 --> Pearson coefficient 'rho' == 0 \n",
    "\n",
    "Alternative Hypothesis --> H1 --> rho != 0 "
   ]
  },
  {
   "cell_type": "code",
   "execution_count": 200,
   "metadata": {},
   "outputs": [
    {
     "name": "stdout",
     "output_type": "stream",
     "text": [
      "The Pearson correlation coefficient is 0.378\n",
      "The corrisponding p-value is 0.0\n"
     ]
    }
   ],
   "source": [
    "from scipy import stats\n",
    "\n",
    "# Let's calculate correlation coefficient and p-value between number of likes and number of comments:\n",
    "rho = stats.pearsonr(posts['numbr_likes'], posts['number_comments'])\n",
    "r = rho[0]\n",
    "\n",
    "# What do we expect? From the plot shown above, is clear that there is some linear relationship... so we expect to see a rho that is not too high.\n",
    "# At the same time we know that our sample size is very big... it is almost an asymptotic! So we expect to see a p-value really really low...\n",
    "\n",
    "p_value = rho[1]\n",
    "\n",
    "# And in fact:\n",
    "\n",
    "print('The Pearson correlation coefficient is', round(r, 3))\n",
    "print('The corrisponding p-value is', p_value)\n",
    "\n",
    "# As the p-value is really small, the test is significant and we can reject the Null Hypothesis H0. We can therefore conclude that there is a linear association between the number of likes and the number of comments. However, the value of rho is strongly influenced by the presence of (a lot of) posts with few likes but a lot of comment. \n",
    "\n",
    "# But why we were so confident about our p-value's claims?\n",
    "# There are two reason. The first one is strictly mathematical: the p-value depends on the sample size. So when N increases, p decreases.\n",
    "# The second one is purely logical: we know that the larger the sample size, the weaker the impact of random errors on our estimate.\n"
   ]
  },
  {
   "cell_type": "markdown",
   "metadata": {},
   "source": [
    "#### Question RQ8.2"
   ]
  },
  {
   "cell_type": "code",
   "execution_count": 88,
   "metadata": {},
   "outputs": [],
   "source": [
    "posts = dt.fread('/Users/simonefacchiano/Desktop/Data Science/ADM/HW2-Instagram/instagram_posts.csv')\n",
    "columns = ['cts', 'numbr_likes', 'post_id', 'number_comments']\n",
    "posts = posts[:, columns]\n",
    "\n",
    "posts = posts.to_pandas().dropna()"
   ]
  },
  {
   "cell_type": "code",
   "execution_count": 90,
   "metadata": {},
   "outputs": [],
   "source": [
    "# First thing to do is extracting a random sample. Since we have 40+ millions of observations, let's take a very large sample:\n",
    "\n",
    "import random\n",
    "\n",
    "id_post = list(posts['post_id'])\n",
    "random_sample_id = random.sample(id_post, 5000000)\n",
    "\n",
    "random_sample_posts = posts[posts['post_id'].isin(random_sample_id)].reset_index(drop=True)"
   ]
  },
  {
   "cell_type": "code",
   "execution_count": 93,
   "metadata": {},
   "outputs": [],
   "source": [
    "# Now let's define a function that classifies the posts based on the time they were published. We will do it following the steps Prof. Ioannis did in class, but for semplicity we will consider just 4 'slots':\n",
    "\n",
    "random_sample_posts.cts = pd.to_datetime(random_sample_posts.cts)\n",
    "random_sample_posts['hour'] = random_sample_posts.cts.dt.hour\n",
    "\n",
    "slots = [(0, 4), (5, 11), (12, 18), (19, 24)]  # 'slots' of hour... as we did in class \n",
    "\n",
    "def check_time(hour):\n",
    "    for slot in slots:\n",
    "        if hour >= slot[0] and hour <= slot[1]:\n",
    "            return slots.index(slot)+1            "
   ]
  },
  {
   "cell_type": "code",
   "execution_count": 94,
   "metadata": {},
   "outputs": [],
   "source": [
    "# Now we add the variable 'slot' to our 'little' dataset:\n",
    "\n",
    "random_sample_posts['slot'] = random_sample_posts.hour.apply(lambda row:check_time(row))  # new variables with the 'slot' hour"
   ]
  },
  {
   "cell_type": "code",
   "execution_count": 95,
   "metadata": {},
   "outputs": [
    {
     "name": "stdout",
     "output_type": "stream",
     "text": [
      "\n",
      "\n"
     ]
    },
    {
     "data": {
      "text/html": [
       "<div>\n",
       "<style scoped>\n",
       "    .dataframe tbody tr th:only-of-type {\n",
       "        vertical-align: middle;\n",
       "    }\n",
       "\n",
       "    .dataframe tbody tr th {\n",
       "        vertical-align: top;\n",
       "    }\n",
       "\n",
       "    .dataframe thead th {\n",
       "        text-align: right;\n",
       "    }\n",
       "</style>\n",
       "<table border=\"1\" class=\"dataframe\">\n",
       "  <thead>\n",
       "    <tr style=\"text-align: right;\">\n",
       "      <th></th>\n",
       "      <th>N</th>\n",
       "      <th>Mean</th>\n",
       "      <th>SD</th>\n",
       "      <th>SE</th>\n",
       "      <th>95% Conf.</th>\n",
       "      <th>Interval</th>\n",
       "    </tr>\n",
       "    <tr>\n",
       "      <th>slot</th>\n",
       "      <th></th>\n",
       "      <th></th>\n",
       "      <th></th>\n",
       "      <th></th>\n",
       "      <th></th>\n",
       "      <th></th>\n",
       "    </tr>\n",
       "  </thead>\n",
       "  <tbody>\n",
       "    <tr>\n",
       "      <th>1</th>\n",
       "      <td>771720</td>\n",
       "      <td>276.5513</td>\n",
       "      <td>7531.2333</td>\n",
       "      <td>8.5731</td>\n",
       "      <td>259.7484</td>\n",
       "      <td>293.3542</td>\n",
       "    </tr>\n",
       "    <tr>\n",
       "      <th>2</th>\n",
       "      <td>1069797</td>\n",
       "      <td>276.7934</td>\n",
       "      <td>6102.0559</td>\n",
       "      <td>5.8996</td>\n",
       "      <td>265.2303</td>\n",
       "      <td>288.3565</td>\n",
       "    </tr>\n",
       "    <tr>\n",
       "      <th>3</th>\n",
       "      <td>1821976</td>\n",
       "      <td>306.3248</td>\n",
       "      <td>6006.3151</td>\n",
       "      <td>4.4498</td>\n",
       "      <td>297.6034</td>\n",
       "      <td>315.0461</td>\n",
       "    </tr>\n",
       "    <tr>\n",
       "      <th>4</th>\n",
       "      <td>1336507</td>\n",
       "      <td>280.6655</td>\n",
       "      <td>6261.8616</td>\n",
       "      <td>5.4165</td>\n",
       "      <td>270.0494</td>\n",
       "      <td>291.2816</td>\n",
       "    </tr>\n",
       "  </tbody>\n",
       "</table>\n",
       "</div>"
      ],
      "text/plain": [
       "            N      Mean         SD      SE  95% Conf.  Interval\n",
       "slot                                                           \n",
       "1      771720  276.5513  7531.2333  8.5731   259.7484  293.3542\n",
       "2     1069797  276.7934  6102.0559  5.8996   265.2303  288.3565\n",
       "3     1821976  306.3248  6006.3151  4.4498   297.6034  315.0461\n",
       "4     1336507  280.6655  6261.8616  5.4165   270.0494  291.2816"
      ]
     },
     "execution_count": 95,
     "metadata": {},
     "output_type": "execute_result"
    }
   ],
   "source": [
    "# It's time to see if there is any difference in the number of likes a user receives if he posts in different ours.\n",
    "# We can use the following command to have a quick look:\n",
    "\n",
    "import researchpy as rp\n",
    "\n",
    "rp.summary_cont(random_sample_posts['numbr_likes'].groupby(random_sample_posts['slot']))\n",
    "\n",
    "# Just looking at the table, we notice that there are some little differences in the verage number of likes. The problem is that we cannot conclude anything! We need to be more rigorous and run a statistical test to compare the different groups"
   ]
  },
  {
   "cell_type": "code",
   "execution_count": 63,
   "metadata": {},
   "outputs": [
    {
     "data": {
      "text/plain": [
       "{'whiskers': [<matplotlib.lines.Line2D at 0x7fcab0f66550>,\n",
       "  <matplotlib.lines.Line2D at 0x7fcab0f66820>,\n",
       "  <matplotlib.lines.Line2D at 0x7fce4d6c5670>,\n",
       "  <matplotlib.lines.Line2D at 0x7fce4d6c5940>,\n",
       "  <matplotlib.lines.Line2D at 0x7fcab35a9790>,\n",
       "  <matplotlib.lines.Line2D at 0x7fcab35a9a60>,\n",
       "  <matplotlib.lines.Line2D at 0x7fd4114578b0>,\n",
       "  <matplotlib.lines.Line2D at 0x7fd411457b80>],\n",
       " 'caps': [<matplotlib.lines.Line2D at 0x7fcab0f66af0>,\n",
       "  <matplotlib.lines.Line2D at 0x7fcab0f66dc0>,\n",
       "  <matplotlib.lines.Line2D at 0x7fce4d6c5c10>,\n",
       "  <matplotlib.lines.Line2D at 0x7fce4d6c5ee0>,\n",
       "  <matplotlib.lines.Line2D at 0x7fcab35a9d30>,\n",
       "  <matplotlib.lines.Line2D at 0x7fd411457040>,\n",
       "  <matplotlib.lines.Line2D at 0x7fd411457e50>,\n",
       "  <matplotlib.lines.Line2D at 0x7fca5cf11160>],\n",
       " 'boxes': [<matplotlib.lines.Line2D at 0x7fcab0f66280>,\n",
       "  <matplotlib.lines.Line2D at 0x7fce4d6c53a0>,\n",
       "  <matplotlib.lines.Line2D at 0x7fcab35a94c0>,\n",
       "  <matplotlib.lines.Line2D at 0x7fd4114575e0>],\n",
       " 'medians': [<matplotlib.lines.Line2D at 0x7fce4d6c50d0>,\n",
       "  <matplotlib.lines.Line2D at 0x7fcab35a91f0>,\n",
       "  <matplotlib.lines.Line2D at 0x7fd411457310>,\n",
       "  <matplotlib.lines.Line2D at 0x7fca5cf11430>],\n",
       " 'fliers': [],\n",
       " 'means': []}"
      ]
     },
     "execution_count": 63,
     "metadata": {},
     "output_type": "execute_result"
    },
    {
     "data": {
      "image/png": "[encoded data removed]",
      "text/plain": [
       "<Figure size 432x288 with 1 Axes>"
      ]
     },
     "metadata": {
      "needs_background": "light"
     },
     "output_type": "display_data"
    }
   ],
   "source": [
    "# The typical test when we want to compare the meaf of 2+ groups is the ANOVA test.\n",
    "# ANOVA relies on the following assumptions:\n",
    "# Random sampling --> Check\n",
    "# Omoschedasticity --> Check\n",
    "# Normality --> NOT Check!\n",
    "\n",
    "# In fact, the distribution of likes is very skewed, so we can't say that residuals or observations are normally distributed.\n",
    "# ANOVA is typically 'resistant' to the hypothesis of normality, in the sense that a small deviation from this assumption is allowed, but in this case we are very distant.\n",
    "# \n",
    "# The solution is to proceed with a non-parametric test (which is not based on the assumption of normality as ANOVA does).\n",
    "# A possibility is the Kruskal Wallis Test, that compares the medians of 2+ populations instead of the mean and that does not require normality.\n",
    "\n",
    "# First, let's see if the median seem similar in our groups:\n",
    "\n",
    "likes_df = pd.DataFrame({'likes':random_sample_posts['numbr_likes'], 'slot':random_sample_posts['slot']})\n",
    "groups = likes_df.groupby('slot').groups\n",
    "\n",
    "slot_1 = likes_df.loc[groups[1]]['likes']\n",
    "slot_2 = likes_df.loc[groups[2]]['likes']\n",
    "slot_3 = likes_df.loc[groups[3]]['likes']\n",
    "slot_4 = likes_df.loc[groups[4]]['likes']\n",
    "\n",
    "\n",
    "plt.boxplot([slot_1, slot_2, slot_3, slot_4], showfliers= False)\n",
    "\n",
    "# They look really similar. Now let's test:"
   ]
  },
  {
   "cell_type": "code",
   "execution_count": 67,
   "metadata": {},
   "outputs": [
    {
     "name": "stdout",
     "output_type": "stream",
     "text": [
      "Median for group 1: 45.0\n",
      "Median for group 2: 45.0\n",
      "Median for group 3: 47.0\n",
      "Median for group 4: 48.0\n"
     ]
    }
   ],
   "source": [
    "# Numerically:\n",
    "print('Median for group 1:', np.median(slot_1))\n",
    "print('Median for group 2:', np.median(slot_2))\n",
    "print('Median for group 3:', np.median(slot_3))\n",
    "print('Median for group 4:', np.median(slot_4))\n",
    "\n",
    "# So they are very close to each oter."
   ]
  },
  {
   "cell_type": "code",
   "execution_count": 83,
   "metadata": {},
   "outputs": [
    {
     "name": "stdout",
     "output_type": "stream",
     "text": [
      "MannwhitneyuResult(statistic=415255328245.5, pvalue=2.9800285192353245e-10)\n",
      "MannwhitneyuResult(statistic=692612207348.0, pvalue=3.247759243258442e-68)\n",
      "MannwhitneyuResult(statistic=504385287825.5, pvalue=1.429469649230281e-147)\n",
      "MannwhitneyuResult(statistic=956458060973.5, pvalue=5.2524164963347326e-166)\n",
      "MannwhitneyuResult(statistic=696359319622.0, pvalue=3.1930890043363838e-288)\n",
      "MannwhitneyuResult(statistic=1207478869358.5, pvalue=5.972150749779974e-33)\n"
     ]
    }
   ],
   "source": [
    "# But if we try to test:\n",
    "print(scipy.stats.mannwhitneyu(slot_1, slot_2))\n",
    "print(scipy.stats.mannwhitneyu(slot_1, slot_3))\n",
    "print(scipy.stats.mannwhitneyu(slot_1, slot_4))\n",
    "print(scipy.stats.mannwhitneyu(slot_2, slot_3))\n",
    "print(scipy.stats.mannwhitneyu(slot_2, slot_4))\n",
    "print(scipy.stats.mannwhitneyu(slot_3, slot_4))\n",
    "\n",
    "# A very high H statistic ad a p-value of zero! We should reject the null hypothesis and conclude that medians are different, also when they are the same?\n",
    "# It seems a paradox, but we can try to give an explanation.\n",
    "# \n",
    "# 1) Mann–Whitney test doesn't only focus on the median value, but on the distribution around that value. So, even if two groups have the same median, they may have different distributions around it. Furthermore, when we work with very large samples our test become more precise, and this means that even a small difference is detected: this is reflected in a large decrease in the p-value.\n",
    "#\n",
    "# 2) In this case, the problem of 'statistical significance' vs 'practical significant' arises.\n",
    "# A we said, when we deal with lot of observations, also a tiny difference between two values can become STATISTICALLY significant. But statistically significant does not mean PRATICALLY significant. In other words, big-size sample make the p-value go down very easily, but the Data Scientist must have the sensibility to understand if its value is due to either an actual difference or a simple issue of the size of the dataset.\n",
    "\n",
    "# So the answer to RQ8.2 is: if we talk about 'statistically-significant differences', yes.\n",
    "# But if we speak in practical terms, knowing that we are dealing with millions and millions of observations and also remembering that the p-value is affected by the sample size, then we can conclude that there are no differences between our groups."
   ]
  },
  {
   "cell_type": "code",
   "execution_count": 117,
   "metadata": {},
   "outputs": [],
   "source": [
    "# Removing outliers:\n",
    "\n",
    "#number_likes = random_sample_posts['numbr_likes']\n",
    "\n",
    "#q1, q3= np.percentile(number_likes,[25, 75])\n",
    "#iqr = q3-q1\n",
    "\n",
    "#upper = q3 + (1.5*iqr)\n",
    "#lower = q3 - (1.5*iqr)\n",
    "\n",
    "#random_sample_posts['numbr_likes'] = np.where(random_sample_posts['numbr_likes'] > upper , np.nan, random_sample_posts['numbr_likes'])\n",
    "#random_sample_posts['numbr_likes'] = np.where(random_sample_posts['numbr_likes'] < lower , np.nan, random_sample_posts['numbr_likes'])\n",
    "\n",
    "#random_sample_posts['numbr_likes'].dropna\n",
    "\n",
    "# Checking normality assumption\n",
    "\n",
    "#for slot in range(1, 6):\n",
    "#    if scipy.stats.shapiro(random_sample_posts[random_sample_posts['slot'] == slot]['numbr_likes'])[1] > 0.05:\n",
    "#        print('Slot', slot, ': we cannot reject the null hypotesis that data come from a normal distribution')"
   ]
  },
  {
   "cell_type": "code",
   "execution_count": 110,
   "metadata": {},
   "outputs": [
    {
     "name": "stdout",
     "output_type": "stream",
     "text": [
      "Median for group 1: 2.0\n",
      "Median for group 2: 1.0\n",
      "Median for group 3: 2.0\n",
      "Median for group 4: 2.0\n"
     ]
    },
    {
     "data": {
      "text/plain": [
       "{'whiskers': [<matplotlib.lines.Line2D at 0x7fca66dd4cd0>,\n",
       "  <matplotlib.lines.Line2D at 0x7fca66dd4e80>,\n",
       "  <matplotlib.lines.Line2D at 0x7fca66dddcd0>,\n",
       "  <matplotlib.lines.Line2D at 0x7fca66dddfd0>,\n",
       "  <matplotlib.lines.Line2D at 0x7fca66de9e20>,\n",
       "  <matplotlib.lines.Line2D at 0x7fca66df7130>,\n",
       "  <matplotlib.lines.Line2D at 0x7fca66df7f40>,\n",
       "  <matplotlib.lines.Line2D at 0x7fca66e02250>],\n",
       " 'caps': [<matplotlib.lines.Line2D at 0x7fca66ddd190>,\n",
       "  <matplotlib.lines.Line2D at 0x7fca66ddd460>,\n",
       "  <matplotlib.lines.Line2D at 0x7fca66de92e0>,\n",
       "  <matplotlib.lines.Line2D at 0x7fca66de95b0>,\n",
       "  <matplotlib.lines.Line2D at 0x7fca66df7400>,\n",
       "  <matplotlib.lines.Line2D at 0x7fca66df76d0>,\n",
       "  <matplotlib.lines.Line2D at 0x7fca66e02520>,\n",
       "  <matplotlib.lines.Line2D at 0x7fca66e027f0>],\n",
       " 'boxes': [<matplotlib.lines.Line2D at 0x7fca66dd4a00>,\n",
       "  <matplotlib.lines.Line2D at 0x7fca66ddda00>,\n",
       "  <matplotlib.lines.Line2D at 0x7fca66de9b50>,\n",
       "  <matplotlib.lines.Line2D at 0x7fca66df7c70>],\n",
       " 'medians': [<matplotlib.lines.Line2D at 0x7fca66ddd730>,\n",
       "  <matplotlib.lines.Line2D at 0x7fca66de9880>,\n",
       "  <matplotlib.lines.Line2D at 0x7fca66df79a0>,\n",
       "  <matplotlib.lines.Line2D at 0x7fca66e02ac0>],\n",
       " 'fliers': [],\n",
       " 'means': []}"
      ]
     },
     "execution_count": 110,
     "metadata": {},
     "output_type": "execute_result"
    },
    {
     "data": {
      "image/png": "[encoded data removed]",
      "text/plain": [
       "<Figure size 432x288 with 1 Axes>"
      ]
     },
     "metadata": {
      "needs_background": "light"
     },
     "output_type": "display_data"
    }
   ],
   "source": [
    "# The same goes for comments!\n",
    "\n",
    "comments_df = pd.DataFrame({'comments':random_sample_posts['number_comments'], 'slot':random_sample_posts['slot']})\n",
    "groups_comments = comments_df.groupby('slot').groups\n",
    "\n",
    "slot_1_2 = comments_df.loc[groups_comments[1]]['comments']\n",
    "slot_2_2 = comments_df.loc[groups_comments[2]]['comments']\n",
    "slot_3_2 = comments_df.loc[groups_comments[3]]['comments']\n",
    "slot_4_2 = comments_df.loc[groups_comments[4]]['comments']\n",
    "\n",
    "print('Median for group 1:', np.median(slot_1_2))\n",
    "print('Median for group 2:', np.median(slot_2_2))\n",
    "print('Median for group 3:', np.median(slot_3_2))\n",
    "print('Median for group 4:', np.median(slot_4_2))\n",
    "\n",
    "\n",
    "plt.boxplot([slot_1_2, slot_2_2, slot_3_2, slot_4_2], showfliers= False)\n"
   ]
  },
  {
   "cell_type": "code",
   "execution_count": null,
   "metadata": {},
   "outputs": [],
   "source": [
    "# The distribution is very similar. So, practically speaking, there is no difference!"
   ]
  },
  {
   "cell_type": "markdown",
   "metadata": {},
   "source": [
    "#### Question RQ8.3"
   ]
  },
  {
   "cell_type": "code",
   "execution_count": 112,
   "metadata": {},
   "outputs": [
    {
     "data": {
      "text/html": [
       "<div>\n",
       "<style scoped>\n",
       "    .dataframe tbody tr th:only-of-type {\n",
       "        vertical-align: middle;\n",
       "    }\n",
       "\n",
       "    .dataframe tbody tr th {\n",
       "        vertical-align: top;\n",
       "    }\n",
       "\n",
       "    .dataframe thead th {\n",
       "        text-align: right;\n",
       "    }\n",
       "</style>\n",
       "<table border=\"1\" class=\"dataframe\">\n",
       "  <thead>\n",
       "    <tr style=\"text-align: right;\">\n",
       "      <th></th>\n",
       "      <th>profile_id</th>\n",
       "      <th>followers</th>\n",
       "    </tr>\n",
       "  </thead>\n",
       "  <tbody>\n",
       "    <tr>\n",
       "      <th>0</th>\n",
       "      <td>4.721050e+09</td>\n",
       "      <td>146.0</td>\n",
       "    </tr>\n",
       "    <tr>\n",
       "      <th>1</th>\n",
       "      <td>5.905830e+08</td>\n",
       "      <td>1145.0</td>\n",
       "    </tr>\n",
       "    <tr>\n",
       "      <th>2</th>\n",
       "      <td>1.074147e+09</td>\n",
       "      <td>324.0</td>\n",
       "    </tr>\n",
       "    <tr>\n",
       "      <th>5</th>\n",
       "      <td>1.450642e+08</td>\n",
       "      <td>192.0</td>\n",
       "    </tr>\n",
       "    <tr>\n",
       "      <th>6</th>\n",
       "      <td>2.061868e+09</td>\n",
       "      <td>4137.0</td>\n",
       "    </tr>\n",
       "    <tr>\n",
       "      <th>...</th>\n",
       "      <td>...</td>\n",
       "      <td>...</td>\n",
       "    </tr>\n",
       "    <tr>\n",
       "      <th>4509578</th>\n",
       "      <td>4.038738e+09</td>\n",
       "      <td>809.0</td>\n",
       "    </tr>\n",
       "    <tr>\n",
       "      <th>4509579</th>\n",
       "      <td>1.840612e+08</td>\n",
       "      <td>599.0</td>\n",
       "    </tr>\n",
       "    <tr>\n",
       "      <th>4509580</th>\n",
       "      <td>4.070370e+09</td>\n",
       "      <td>261.0</td>\n",
       "    </tr>\n",
       "    <tr>\n",
       "      <th>4509581</th>\n",
       "      <td>1.418322e+09</td>\n",
       "      <td>481.0</td>\n",
       "    </tr>\n",
       "    <tr>\n",
       "      <th>4509584</th>\n",
       "      <td>2.338990e+07</td>\n",
       "      <td>153.0</td>\n",
       "    </tr>\n",
       "  </tbody>\n",
       "</table>\n",
       "<p>3447698 rows × 2 columns</p>\n",
       "</div>"
      ],
      "text/plain": [
       "           profile_id  followers\n",
       "0        4.721050e+09      146.0\n",
       "1        5.905830e+08     1145.0\n",
       "2        1.074147e+09      324.0\n",
       "5        1.450642e+08      192.0\n",
       "6        2.061868e+09     4137.0\n",
       "...               ...        ...\n",
       "4509578  4.038738e+09      809.0\n",
       "4509579  1.840612e+08      599.0\n",
       "4509580  4.070370e+09      261.0\n",
       "4509581  1.418322e+09      481.0\n",
       "4509584  2.338990e+07      153.0\n",
       "\n",
       "[3447698 rows x 2 columns]"
      ]
     },
     "execution_count": 112,
     "metadata": {},
     "output_type": "execute_result"
    }
   ],
   "source": [
    "profiles = dt.fread('/Users/simonefacchiano/Desktop/Data Science/ADM/HW2-Instagram/instagram_profiles.csv')\n",
    "\n",
    "columns2 = ['profile_id', 'followers']\n",
    "profiles = profiles[:, columns2]\n",
    "\n",
    "profiles = profiles.to_pandas()\n",
    "profiles.dropna()"
   ]
  },
  {
   "cell_type": "code",
   "execution_count": 115,
   "metadata": {},
   "outputs": [
    {
     "name": "stderr",
     "output_type": "stream",
     "text": [
      "/Users/simonefacchiano/opt/anaconda3/lib/python3.9/site-packages/seaborn/distributions.py:2619: FutureWarning: `distplot` is a deprecated function and will be removed in a future version. Please adapt your code to use either `displot` (a figure-level function with similar flexibility) or `kdeplot` (an axes-level function for kernel density plots).\n",
      "  warnings.warn(msg, FutureWarning)\n"
     ]
    },
    {
     "name": "stdout",
     "output_type": "stream",
     "text": [
      "The maximum number of followers in our dataset is: 285457645.0\n",
      "The minimum number of followers in our dataset is: 0.0\n"
     ]
    },
    {
     "data": {
      "image/png": "[encoded data removed]",
      "text/plain": [
       "<Figure size 432x288 with 1 Axes>"
      ]
     },
     "metadata": {
      "needs_background": "light"
     },
     "output_type": "display_data"
    }
   ],
   "source": [
    "# If we want to plot the histogram we discover that...\n",
    "sns.distplot(profiles['followers'], hist=False, kde=True, \n",
    "             color = 'darkblue', \n",
    "             hist_kws={'edgecolor':'black'},\n",
    "             kde_kws={'linewidth': 1})\n",
    "\n",
    "# Ther very majority of users have few followers! But there are some outliers with thousands and thousands...\n",
    "# In fact, if we have a closer look:\n",
    "\n",
    "followers = profiles['followers']\n",
    "print('The maximum number of followers in our dataset is:', np.max(followers))\n",
    "print('The minimum number of followers in our dataset is:', np.min(followers))\n",
    "\n",
    "# So, the histogram is not very useful in this case...\n",
    "# We can try to extract some summaries."
   ]
  },
  {
   "cell_type": "code",
   "execution_count": 121,
   "metadata": {},
   "outputs": [
    {
     "name": "stdout",
     "output_type": "stream",
     "text": [
      "The average is: 4740\n",
      "25th, 50th (median), 75th quantiles 159.0 406.0 974.0\n",
      "\n",
      "The average is 4740 but the median is 406.0\n",
      "The 90th percentile is: 2502\n"
     ]
    }
   ],
   "source": [
    "print('The average is:', round(np.mean(followers))) # Very low, compared to the maximum\n",
    "\n",
    "# Let's remove the NAs first:\n",
    "filtered_followers = followers[~np.isnan(followers)]\n",
    "\n",
    "print('25th, 50th (median), 75th quantiles', np.quantile(filtered_followers, 0.25), np.quantile(filtered_followers, 0.5), np.quantile(filtered_followers, 0.75))\n",
    "\n",
    "# This is the point!\n",
    "print('')\n",
    "print('The average is', round(np.mean(followers)), 'but the median is', np.quantile(filtered_followers, 0.5)) # !\n",
    "\n",
    "# If we look at the 90th percentile:\n",
    "print('')\n",
    "print('The 90th percentile is:', round(np.quantile(filtered_followers, 0.90))) # !!!\n",
    "\n",
    "# This means that more than 90% of the profiles in the dataset have less than 2500 followers... while the average number was 4740!\n",
    "# Why? Because the men is not robust to outliers! We have to find an alternative:"
   ]
  },
  {
   "cell_type": "code",
   "execution_count": 124,
   "metadata": {},
   "outputs": [
    {
     "name": "stderr",
     "output_type": "stream",
     "text": [
      "/Users/simonefacchiano/opt/anaconda3/lib/python3.9/site-packages/seaborn/distributions.py:2619: FutureWarning: `distplot` is a deprecated function and will be removed in a future version. Please adapt your code to use either `displot` (a figure-level function with similar flexibility) or `histplot` (an axes-level function for histograms).\n",
      "  warnings.warn(msg, FutureWarning)\n"
     ]
    },
    {
     "data": {
      "text/plain": [
       "<matplotlib.legend.Legend at 0x7fc87b6c3820>"
      ]
     },
     "execution_count": 124,
     "metadata": {},
     "output_type": "execute_result"
    },
    {
     "data": {
      "image/png": "[encoded data removed]",
      "text/plain": [
       "<Figure size 432x288 with 1 Axes>"
      ]
     },
     "metadata": {
      "needs_background": "light"
     },
     "output_type": "display_data"
    }
   ],
   "source": [
    "# For example, we can focus on the first 90% of the dataset:\n",
    "\n",
    "ok_followers = followers[followers <= round(np.quantile(filtered_followers, 0.91))]\n",
    "\n",
    "# If we try to represent them:\n",
    "sns.distplot(ok_followers, hist=True, kde=True, \n",
    "             bins = 20, color = 'darkblue', \n",
    "             hist_kws={'edgecolor':'black'},\n",
    "             kde_kws={'linewidth': 1})\n",
    "xlabel('Number of followers')             \n",
    "\n",
    "# But look where the total average is:             \n",
    "plt.axvline(followers.mean(), color='red', linestyle='dashed', linewidth=1)\n",
    "\n",
    "# Now it is very evident the way in which outliers are 'pulling-up' the mean (red line).\n",
    "\n",
    "# If we plot the median (blue line) we can see that it is way more representative than the average in this case\n",
    "plt.axvline(np.quantile(filtered_followers, 0.5), color='blue', linewidth=2)\n",
    "\n",
    "plt.gca().legend(('Median','Mean'))\n",
    "\n",
    "# Now it is understandable what's going on here!"
   ]
  },
  {
   "cell_type": "code",
   "execution_count": null,
   "metadata": {},
   "outputs": [],
   "source": [
    "# Final reflection and considerations\n",
    "\n",
    "# When we notice the presence of ouliers, a common approach is to delete them.\n",
    "# In this case, we can't do that. That's because the distribution of followers on social media follows a Pareto-look-alike distribution: deleting the outliers would be like totally changing the reality!\n",
    "# In this case, in fact, they are not due to measurement or transcription errors: they simply reflect the reality of social networks, where the 80-20 rule is an ever-present constant.\n",
    "# So, instead of eliminating ouliers, we can simply focus on the majority of the cases."
   ]
  },
  {
   "cell_type": "markdown",
   "metadata": {},
   "source": [
    "#### Question RQ8.4"
   ]
  },
  {
   "cell_type": "markdown",
   "metadata": {},
   "source": [
    "In statistical analysis, plotting the data by choosing the most appropriate representation is a crucial step.\n",
    "We know we can divide data in two macro-groups: numerical data (discrete and continous) and categorical data. \n",
    "\n",
    "When we are working with continuous data, we may want to break them in 'categories' or intervals, for example when we deal with big datasets. This allows us to count how many observations fall inside each interval (or, same thing, we can count the frequency of data that fall in these intervals). The graphical representation that does this is called a histogram. For example, histograms can be used to plot the distribution of heights of children, or to represent the distribution of grades in an exam...\n",
    "\n",
    "Visually, histograms are very similar to bar plots. However there is a big difference between these two: in barplots, we are working with categorical data.\n",
    "While in histograms the x axis hosted the continous variable, in the bar chart it serves to list the categories, in correspondence of which the vertical bar indicates the relative frequency (or absolute number) of occurrences.\n",
    "We can use barplots for represent how many people live in urban areas vs rural reas, or to plot the number of contagions of a disease in the different months.\n",
    "\n",
    "The bar plot, however, is not very illustrative when there is a total (a very common case is when we work with percentages) to be distributed over the various categories. To stress the fact that the sum of the occurrences is one, the bar plot is therefore replaced by the pie plot, which basically summarizes the same information. For example, pie charts are used for describing the percentage of students attending a certain class divided in males and females, or to illustrate which countries are most responsible of CO2 emissions.\n",
    "\n",
    "We also have graphs that allow the comparison between two numerical variables: that's the case of scatter plots, that we used in question RQ8.1, which are widely used to visualize correlation of any type, not only linear. For example, scatter plots are use to check the presence of relationships between the height and the weight, or between the extension in m2 of a house and its market value.\n"
   ]
  },
  {
   "cell_type": "markdown",
   "metadata": {},
   "source": [
    "#### Question RQ8.5"
   ]
  },
  {
   "cell_type": "markdown",
   "metadata": {},
   "source": [
    "Finally, we have boxplots. Boxplots are quite similar to histograms, in the sense that both are used to visualize the distribution of a certain numerical variable. The boxplot, however, has the advantage to incorporate information regarding the percentiles of the distribution and the presence of outliers, and allows to compare different groups of observations better than an histogram.\n",
    "\n",
    "The shape of the 'box', infact, is built in such a way that the line in the center is the median, that is, the value that 'cuts in two' the distribution, while the 'extremes' indicate the first and third quartiles (or the 25th and 75th percentile). The two segments that come out from the box are limited by the\n",
    "the minimum and the maximum.  Beyond the segments, outliers are represented as points.\n",
    "\n",
    "\n",
    "\n"
   ]
  },
  {
   "cell_type": "code",
   "execution_count": null,
   "metadata": {},
   "outputs": [],
   "source": [
    "## COPY ALL THIS AT THE TOP"
   ]
  },
  {
   "cell_type": "code",
   "execution_count": 4,
   "metadata": {},
   "outputs": [],
   "source": [
    "# POSTS\n",
    "posts = dt.fread('/Users/simonefacchiano/Desktop/Data Science/ADM/HW2-Instagram/instagram_posts.csv')\n",
    "columns = ['profile_id', 'numbr_likes', 'location_id', 'number_comments']\n",
    "posts = posts[:, columns]\n",
    "\n",
    "posts = posts.to_pandas()\n",
    "posts = posts.dropna()"
   ]
  },
  {
   "cell_type": "code",
   "execution_count": 6,
   "metadata": {},
   "outputs": [],
   "source": [
    "# PROFILES\n",
    "profiles = dt.fread('/Users/simonefacchiano/Desktop/Data Science/ADM/HW2-Instagram/instagram_profiles.csv')\n",
    "columns2 = ['profile_id', 'followers']\n",
    "profiles = profiles[:, columns2]\n",
    "\n",
    "profiles = profiles.to_pandas()\n",
    "profiles.dropna()"
   ]
  },
  {
   "cell_type": "markdown",
   "metadata": {},
   "source": [
    "### AQ"
   ]
  },
  {
   "cell_type": "code",
   "execution_count": null,
   "metadata": {},
   "outputs": [],
   "source": [
    "#### Algorithmic Question\n",
    "\n",
    "# This algorithm in AQ1 is used to do BHO.\n",
    "# It consists of two parts.\n",
    "# In the first part a function 'f1' is defined: it takes in input two arguments, a 'sequence' (of charachters) and an ending point 'end', that # is used for indexing our sequence. In fact, with a for loop we scan the entire sequence until the ending point, and for each charachter we \n",
    "# visit, we output it.\n",
    "# In the second part we define another function, 'f2'. f2 takes the same inputs as f1, with the addition of a starting point 'start'.\n",
    "# When 'start' and 'end' coincide, we run f1(sequence, end), which works as described above.\n",
    "# "
   ]
  },
  {
   "cell_type": "code",
   "execution_count": null,
   "metadata": {},
   "outputs": [],
   "source": []
  },
  {
   "cell_type": "markdown",
   "metadata": {},
   "source": [
    "## Bonus Points"
   ]
  },
  {
   "cell_type": "code",
   "execution_count": 48,
   "metadata": {},
   "outputs": [],
   "source": [
    "## Let's try if our code for RQ6 works!\n",
    "\n",
    "posts = dt.fread('/Users/simonefacchiano/Desktop/Data Science/ADM/HW2-Instagram/instagram_posts.csv')\n",
    "columns = ['profile_id', 'cts']\n",
    "posts = posts[:, columns]\n",
    "\n",
    "posts = posts.to_pandas()\n",
    "posts = posts.dropna()"
   ]
  },
  {
   "cell_type": "code",
   "execution_count": 49,
   "metadata": {},
   "outputs": [],
   "source": [
    "posts.cts = pd.to_datetime(posts.cts) # converting in datetime format"
   ]
  },
  {
   "cell_type": "code",
   "execution_count": 5,
   "metadata": {},
   "outputs": [],
   "source": [
    "posts[\"_previous_time\"] = ( \n",
    "    posts.sort_values(\"cts\").groupby(\"profile_id\")[\"cts\"].shift(1)\n",
    "    )"
   ]
  },
  {
   "cell_type": "code",
   "execution_count": 6,
   "metadata": {},
   "outputs": [],
   "source": [
    "posts[\"_count_cts\"] = posts.groupby(\"profile_id\")[\"cts\"].transform(\"count\")\n",
    "\n",
    "post_dt_by_profile_id = posts[posts[\"_count_cts\"] > 1].reset_index()\n",
    "\n",
    "posts[\"delta_time\"] = posts[\"cts\"] - posts[\"_previous_time\"]"
   ]
  },
  {
   "cell_type": "code",
   "execution_count": 12,
   "metadata": {},
   "outputs": [],
   "source": [
    "post_dt_by_profile_id = posts[['profile_id','delta_time']]\n",
    "post_dt_by_profile_id = post_dt_by_profile_id[post_dt_by_profile_id[\"delta_time\"].notna()]"
   ]
  },
  {
   "cell_type": "code",
   "execution_count": 15,
   "metadata": {},
   "outputs": [],
   "source": [
    "# Sinceramente non ho ben capito\n",
    "post_dt_by_profile_id_mean = post_dt_by_profile_id \\\n",
    "    .groupby(\"profile_id\")['delta_time'].mean().reset_index(name=\"mean\")"
   ]
  },
  {
   "cell_type": "code",
   "execution_count": 18,
   "metadata": {},
   "outputs": [
    {
     "data": {
      "text/plain": [
       "Timedelta('33 days 04:45:21.097663463')"
      ]
     },
     "execution_count": 18,
     "metadata": {},
     "output_type": "execute_result"
    }
   ],
   "source": [
    "post_dt_by_profile_id['delta_time'].mean()\n",
    "\n",
    "# Ok funziona. Ora devo applicarlo ai giusti dati"
   ]
  },
  {
   "cell_type": "markdown",
   "metadata": {},
   "source": [
    "#### Bonus Point 1"
   ]
  },
  {
   "cell_type": "code",
   "execution_count": 26,
   "metadata": {},
   "outputs": [
    {
     "name": "stdout",
     "output_type": "stream",
     "text": [
      "2502\n"
     ]
    }
   ],
   "source": [
    "# Bonus Points\n",
    "# a) As we said 90% of users have less than   followers\n",
    "\n",
    "followers = profiles.followers.dropna()\n",
    "treshold = round(np.quantile(followers, 0.90))\n",
    "\n"
   ]
  },
  {
   "cell_type": "code",
   "execution_count": 30,
   "metadata": {},
   "outputs": [],
   "source": [
    "# Creating two datasets:\n",
    "\n",
    "profiles = profiles[['profile_id', 'followers', 'cts']]\n",
    "profiles = profiles[profiles[\"followers\"].notna()]\n"
   ]
  },
  {
   "cell_type": "code",
   "execution_count": 44,
   "metadata": {},
   "outputs": [
    {
     "name": "stdout",
     "output_type": "stream",
     "text": [
      "3452771\n",
      "345378\n",
      "0.10002922290531287\n"
     ]
    }
   ],
   "source": [
    "treshold = round(np.quantile(profiles['followers'], 0.90))\n",
    "\n",
    "top_10 = profiles[profiles['followers'] >= treshold]\n",
    "bottom_90 = profiles[profiles['followers'] < treshold]\n",
    "print(len(profiles))\n",
    "print(len(top_10))\n",
    "\n",
    "print(len(top_10)/len(profiles))  # as we expected..."
   ]
  },
  {
   "cell_type": "code",
   "execution_count": 50,
   "metadata": {},
   "outputs": [],
   "source": [
    "# Now. We have divided profiles in two parts. What we need to do is to separate the posts apparteining to the 2 subsets\n",
    "\n",
    "posts_bonus = posts[['profile_id', 'cts']]\n",
    "top_10_posts = pd.merge(posts_bonus, top_10, on = \"profile_id\")\n",
    "bottom_90_posts = pd.merge(posts_bonus, bottom_90, on = \"profile_id\")"
   ]
  },
  {
   "cell_type": "code",
   "execution_count": 80,
   "metadata": {},
   "outputs": [],
   "source": [
    "# We use the code of RQ6\n",
    "\n",
    "# Bottom 90%:\n",
    "bottom_90_posts[\"_previous_time\"] = ( \n",
    "    bottom_90_posts.sort_values(\"cts\").groupby(\"profile_id\")[\"cts\"].shift(1)\n",
    "    )\n",
    "\n",
    "bottom_90_posts[\"_count_cts\"] = bottom_90_posts.groupby(\"profile_id\")[\"cts\"].transform(\"count\")\n",
    "post_dt_by_profile_id = bottom_90_posts[bottom_90_posts[\"_count_cts\"] > 1].reset_index()\n",
    "bottom_90_posts[\"delta_time\"] = bottom_90_posts[\"cts\"] - bottom_90_posts[\"_previous_time\"] \n",
    "\n",
    "new_bottom_90 = bottom_90_posts[['profile_id','delta_time']]\n",
    "new_bottom_90 = new_bottom_90[new_bottom_90[\"delta_time\"].notna()]\n",
    "\n",
    "new_bottom_90_mean = new_bottom_90 \\\n",
    "    .groupby(\"profile_id\")['delta_time'].mean().reset_index(name=\"mean\")\n"
   ]
  },
  {
   "cell_type": "code",
   "execution_count": 82,
   "metadata": {},
   "outputs": [],
   "source": [
    "# Top 10%:\n",
    "top_10_posts[\"_previous_time\"] = ( \n",
    "    top_10_posts.sort_values(\"cts\").groupby(\"profile_id\")[\"cts\"].shift(1)\n",
    "    )\n",
    "\n",
    "top_10_posts[\"_count_cts\"] = top_10_posts.groupby(\"profile_id\")[\"cts\"].transform(\"count\")\n",
    "post_dt_by_profile_id = top_10_posts[top_10_posts[\"_count_cts\"] > 1].reset_index()\n",
    "top_10_posts[\"delta_time\"] = top_10_posts[\"cts\"] - top_10_posts[\"_previous_time\"] \n",
    "\n",
    "new_top_10 = top_10_posts[['profile_id','delta_time']]\n",
    "new_top_10 = new_top_10[new_top_10[\"delta_time\"].notna()]\n",
    "\n",
    "new_top_10_mean = new_top_10 \\\n",
    "    .groupby(\"profile_id\")['delta_time'].mean().reset_index(name=\"mean\")"
   ]
  },
  {
   "cell_type": "code",
   "execution_count": 83,
   "metadata": {},
   "outputs": [
    {
     "name": "stdout",
     "output_type": "stream",
     "text": [
      "The average time for the top 10% users with more followers is profile_id             2007393800.188173\n",
      "mean          28 days 17:32:46.147065806\n",
      "dtype: object\n",
      "The average time for the rest is profile_id             3477889957.771525\n",
      "mean          23 days 17:58:51.851115172\n",
      "dtype: object\n"
     ]
    },
    {
     "name": "stderr",
     "output_type": "stream",
     "text": [
      "/Users/simonefacchiano/opt/anaconda3/lib/python3.9/site-packages/numpy/core/fromnumeric.py:3438: FutureWarning: In a future version, DataFrame.mean(axis=None) will return a scalar mean over the entire DataFrame. To retain the old behavior, use 'frame.mean(axis=0)' or just 'frame.mean()'\n",
      "  return mean(axis=axis, dtype=dtype, out=out, **kwargs)\n"
     ]
    }
   ],
   "source": [
    "print('The average time for the top 10% users with more followers is', np.mean(new_top_10_mean))\n",
    "print('The average time for the rest is', np.mean(new_bottom_90_mean))"
   ]
  },
  {
   "cell_type": "code",
   "execution_count": 84,
   "metadata": {},
   "outputs": [
    {
     "name": "stdout",
     "output_type": "stream",
     "text": [
      "The average time for the rest is profile_id             1085861774.125802\n",
      "mean          48 days 10:08:09.746302583\n",
      "dtype: object\n"
     ]
    },
    {
     "name": "stderr",
     "output_type": "stream",
     "text": [
      "/Users/simonefacchiano/opt/anaconda3/lib/python3.9/site-packages/numpy/core/fromnumeric.py:3438: FutureWarning: In a future version, DataFrame.mean(axis=None) will return a scalar mean over the entire DataFrame. To retain the old behavior, use 'frame.mean(axis=0)' or just 'frame.mean()'\n",
      "  return mean(axis=axis, dtype=dtype, out=out, **kwargs)\n"
     ]
    }
   ],
   "source": [
    "# Let's see another little thing\n",
    "\n",
    "new_treshold = round(np.quantile(profiles['followers'], 0.99)) #20k followers\n",
    "top_1 = profiles[profiles['followers'] >= new_treshold] # top 1%\n",
    "\n",
    "top_1_posts = pd.merge(posts_bonus, top_1, on = \"profile_id\") # merge\n",
    "\n",
    "# Top 1%:\n",
    "top_1_posts[\"_previous_time\"] = ( \n",
    "    top_1_posts.sort_values(\"cts\").groupby(\"profile_id\")[\"cts\"].shift(1)\n",
    "    )\n",
    "\n",
    "top_1_posts[\"_count_cts\"] = top_1_posts.groupby(\"profile_id\")[\"cts\"].transform(\"count\")\n",
    "post_dt_by_profile_id = top_1_posts[top_1_posts[\"_count_cts\"] > 1].reset_index()\n",
    "top_1_posts[\"delta_time\"] = top_1_posts[\"cts\"] - top_1_posts[\"_previous_time\"] \n",
    "\n",
    "new_top_1 = top_1_posts[['profile_id','delta_time']]\n",
    "new_top_1 = new_top_1[new_top_1[\"delta_time\"].notna()]\n",
    "\n",
    "new_top_1_mean = new_top_1 \\\n",
    "    .groupby(\"profile_id\")['delta_time'].mean().reset_index(name=\"mean\")\n",
    "\n",
    "print('The average time for the rest is', np.mean(new_top_1_mean))"
   ]
  },
  {
   "cell_type": "code",
   "execution_count": 78,
   "metadata": {},
   "outputs": [
    {
     "name": "stdout",
     "output_type": "stream",
     "text": [
      "The average time for the top 1% 39 days 07:08:03.877269890\n",
      "The average time for the top 10% users with more followers is 25 days 10:26:51.187565831\n",
      "The average time for the rest is 20 days 18:51:35.197643068\n"
     ]
    }
   ],
   "source": [
    "print('The average time for the top 1%', np.mean(new_top_1['delta_time']))\n",
    "print('The average time for the top 10% users with more followers is', np.mean(new_top_10['delta_time']))\n",
    "print('The average time for the rest is', np.mean(new_bottom_90['delta_time']))\n"
   ]
  },
  {
   "cell_type": "code",
   "execution_count": null,
   "metadata": {},
   "outputs": [],
   "source": []
  },
  {
   "cell_type": "markdown",
   "metadata": {},
   "source": [
    "#### Bonus point 2\n"
   ]
  },
  {
   "cell_type": "code",
   "execution_count": null,
   "metadata": {},
   "outputs": [],
   "source": [
    "# NOTE:\n",
    "# I actually don't understand what is he asking for...\n",
    "# Does he mean:\n",
    "# 'Are there DIFFERENT users hat have visited the same location on the same day' or\n",
    "# Are there users that came back to the same place during the same day?\n",
    "\n",
    "# Let's try both:"
   ]
  },
  {
   "cell_type": "code",
   "execution_count": 3,
   "metadata": {},
   "outputs": [],
   "source": [
    "posts = dt.fread('/Users/simonefacchiano/Desktop/Data Science/ADM/HW2-Instagram/instagram_posts.csv')\n",
    "columns = ['profile_id', 'location_id', 'cts']\n",
    "posts = posts[:, columns]\n",
    "\n",
    "posts = posts.to_pandas()\n",
    "posts = posts.dropna()"
   ]
  },
  {
   "cell_type": "code",
   "execution_count": 29,
   "metadata": {},
   "outputs": [],
   "source": [
    "posts.cts = pd.to_datetime(posts.cts) # converting in datetime format\n",
    "\n",
    "posts['date'] = posts.cts.dt.date     # year-month-day"
   ]
  },
  {
   "cell_type": "code",
   "execution_count": 6,
   "metadata": {},
   "outputs": [
    {
     "data": {
      "text/html": [
       "<div>\n",
       "<style scoped>\n",
       "    .dataframe tbody tr th:only-of-type {\n",
       "        vertical-align: middle;\n",
       "    }\n",
       "\n",
       "    .dataframe tbody tr th {\n",
       "        vertical-align: top;\n",
       "    }\n",
       "\n",
       "    .dataframe thead th {\n",
       "        text-align: right;\n",
       "    }\n",
       "</style>\n",
       "<table border=\"1\" class=\"dataframe\">\n",
       "  <thead>\n",
       "    <tr style=\"text-align: right;\">\n",
       "      <th></th>\n",
       "      <th>profile_id</th>\n",
       "      <th>location_id</th>\n",
       "      <th>date</th>\n",
       "      <th>counts</th>\n",
       "    </tr>\n",
       "  </thead>\n",
       "  <tbody>\n",
       "    <tr>\n",
       "      <th>0</th>\n",
       "      <td>3.000000e+00</td>\n",
       "      <td>1.000000e+01</td>\n",
       "      <td>2010-07-19</td>\n",
       "      <td>1</td>\n",
       "    </tr>\n",
       "    <tr>\n",
       "      <th>1</th>\n",
       "      <td>3.000000e+00</td>\n",
       "      <td>5.400000e+01</td>\n",
       "      <td>2011-11-12</td>\n",
       "      <td>1</td>\n",
       "    </tr>\n",
       "    <tr>\n",
       "      <th>2</th>\n",
       "      <td>3.000000e+00</td>\n",
       "      <td>8.030000e+02</td>\n",
       "      <td>2010-08-21</td>\n",
       "      <td>1</td>\n",
       "    </tr>\n",
       "    <tr>\n",
       "      <th>3</th>\n",
       "      <td>3.000000e+00</td>\n",
       "      <td>1.526200e+04</td>\n",
       "      <td>2011-01-01</td>\n",
       "      <td>1</td>\n",
       "    </tr>\n",
       "    <tr>\n",
       "      <th>4</th>\n",
       "      <td>3.000000e+00</td>\n",
       "      <td>2.705200e+04</td>\n",
       "      <td>2012-07-19</td>\n",
       "      <td>1</td>\n",
       "    </tr>\n",
       "    <tr>\n",
       "      <th>...</th>\n",
       "      <td>...</td>\n",
       "      <td>...</td>\n",
       "      <td>...</td>\n",
       "      <td>...</td>\n",
       "    </tr>\n",
       "    <tr>\n",
       "      <th>26602382</th>\n",
       "      <td>9.001013e+13</td>\n",
       "      <td>6.631216e+14</td>\n",
       "      <td>2018-06-30</td>\n",
       "      <td>1</td>\n",
       "    </tr>\n",
       "    <tr>\n",
       "      <th>26602383</th>\n",
       "      <td>9.001013e+13</td>\n",
       "      <td>2.075964e+14</td>\n",
       "      <td>2019-01-25</td>\n",
       "      <td>1</td>\n",
       "    </tr>\n",
       "    <tr>\n",
       "      <th>26602384</th>\n",
       "      <td>9.001013e+13</td>\n",
       "      <td>1.855425e+14</td>\n",
       "      <td>2019-04-12</td>\n",
       "      <td>2</td>\n",
       "    </tr>\n",
       "    <tr>\n",
       "      <th>26602385</th>\n",
       "      <td>9.001013e+13</td>\n",
       "      <td>2.418404e+08</td>\n",
       "      <td>2019-05-13</td>\n",
       "      <td>1</td>\n",
       "    </tr>\n",
       "    <tr>\n",
       "      <th>26602386</th>\n",
       "      <td>9.001014e+13</td>\n",
       "      <td>1.077310e+06</td>\n",
       "      <td>2019-05-10</td>\n",
       "      <td>1</td>\n",
       "    </tr>\n",
       "  </tbody>\n",
       "</table>\n",
       "<p>26602387 rows × 4 columns</p>\n",
       "</div>"
      ],
      "text/plain": [
       "            profile_id   location_id        date  counts\n",
       "0         3.000000e+00  1.000000e+01  2010-07-19       1\n",
       "1         3.000000e+00  5.400000e+01  2011-11-12       1\n",
       "2         3.000000e+00  8.030000e+02  2010-08-21       1\n",
       "3         3.000000e+00  1.526200e+04  2011-01-01       1\n",
       "4         3.000000e+00  2.705200e+04  2012-07-19       1\n",
       "...                ...           ...         ...     ...\n",
       "26602382  9.001013e+13  6.631216e+14  2018-06-30       1\n",
       "26602383  9.001013e+13  2.075964e+14  2019-01-25       1\n",
       "26602384  9.001013e+13  1.855425e+14  2019-04-12       2\n",
       "26602385  9.001013e+13  2.418404e+08  2019-05-13       1\n",
       "26602386  9.001014e+13  1.077310e+06  2019-05-10       1\n",
       "\n",
       "[26602387 rows x 4 columns]"
      ]
     },
     "execution_count": 6,
     "metadata": {},
     "output_type": "execute_result"
    }
   ],
   "source": [
    "# First way\n",
    "\n",
    "posts_groups = posts.groupby(['profile_id', 'location_id', 'date']).size().reset_index(name='counts')\n",
    "posts_groups"
   ]
  },
  {
   "cell_type": "code",
   "execution_count": 8,
   "metadata": {},
   "outputs": [
    {
     "name": "stdout",
     "output_type": "stream",
     "text": [
      "5.12 % of users posted the same place two or more times in the same day\n"
     ]
    }
   ],
   "source": [
    "print(round(len(posts_groups[posts_groups['counts'] > 1])/len(posts_groups) * 100, 2), '% of users posted the same place two or more times in the same day.')\n",
    "\n",
    "# The probability is actually quite low. Does it make any sense? Well, yes. In fact, in most cases there is no need to post two or more photos of the same place within a short distance of each other"
   ]
  },
  {
   "cell_type": "code",
   "execution_count": 12,
   "metadata": {},
   "outputs": [
    {
     "data": {
      "text/html": [
       "<div>\n",
       "<style scoped>\n",
       "    .dataframe tbody tr th:only-of-type {\n",
       "        vertical-align: middle;\n",
       "    }\n",
       "\n",
       "    .dataframe tbody tr th {\n",
       "        vertical-align: top;\n",
       "    }\n",
       "\n",
       "    .dataframe thead th {\n",
       "        text-align: right;\n",
       "    }\n",
       "</style>\n",
       "<table border=\"1\" class=\"dataframe\">\n",
       "  <thead>\n",
       "    <tr style=\"text-align: right;\">\n",
       "      <th></th>\n",
       "      <th>profile_id</th>\n",
       "      <th>location_id</th>\n",
       "      <th>week</th>\n",
       "      <th>counts</th>\n",
       "    </tr>\n",
       "  </thead>\n",
       "  <tbody>\n",
       "    <tr>\n",
       "      <th>0</th>\n",
       "      <td>3.000000e+00</td>\n",
       "      <td>1.000000e+01</td>\n",
       "      <td>29</td>\n",
       "      <td>1</td>\n",
       "    </tr>\n",
       "    <tr>\n",
       "      <th>1</th>\n",
       "      <td>3.000000e+00</td>\n",
       "      <td>5.400000e+01</td>\n",
       "      <td>45</td>\n",
       "      <td>1</td>\n",
       "    </tr>\n",
       "    <tr>\n",
       "      <th>2</th>\n",
       "      <td>3.000000e+00</td>\n",
       "      <td>8.030000e+02</td>\n",
       "      <td>33</td>\n",
       "      <td>1</td>\n",
       "    </tr>\n",
       "    <tr>\n",
       "      <th>3</th>\n",
       "      <td>3.000000e+00</td>\n",
       "      <td>1.526200e+04</td>\n",
       "      <td>52</td>\n",
       "      <td>1</td>\n",
       "    </tr>\n",
       "    <tr>\n",
       "      <th>4</th>\n",
       "      <td>3.000000e+00</td>\n",
       "      <td>2.705200e+04</td>\n",
       "      <td>29</td>\n",
       "      <td>1</td>\n",
       "    </tr>\n",
       "    <tr>\n",
       "      <th>...</th>\n",
       "      <td>...</td>\n",
       "      <td>...</td>\n",
       "      <td>...</td>\n",
       "      <td>...</td>\n",
       "    </tr>\n",
       "    <tr>\n",
       "      <th>24564551</th>\n",
       "      <td>9.001013e+13</td>\n",
       "      <td>6.631216e+14</td>\n",
       "      <td>26</td>\n",
       "      <td>1</td>\n",
       "    </tr>\n",
       "    <tr>\n",
       "      <th>24564552</th>\n",
       "      <td>9.001013e+13</td>\n",
       "      <td>2.075964e+14</td>\n",
       "      <td>4</td>\n",
       "      <td>1</td>\n",
       "    </tr>\n",
       "    <tr>\n",
       "      <th>24564553</th>\n",
       "      <td>9.001013e+13</td>\n",
       "      <td>1.855425e+14</td>\n",
       "      <td>15</td>\n",
       "      <td>2</td>\n",
       "    </tr>\n",
       "    <tr>\n",
       "      <th>24564554</th>\n",
       "      <td>9.001013e+13</td>\n",
       "      <td>2.418404e+08</td>\n",
       "      <td>20</td>\n",
       "      <td>1</td>\n",
       "    </tr>\n",
       "    <tr>\n",
       "      <th>24564555</th>\n",
       "      <td>9.001014e+13</td>\n",
       "      <td>1.077310e+06</td>\n",
       "      <td>19</td>\n",
       "      <td>1</td>\n",
       "    </tr>\n",
       "  </tbody>\n",
       "</table>\n",
       "<p>24564556 rows × 4 columns</p>\n",
       "</div>"
      ],
      "text/plain": [
       "            profile_id   location_id  week  counts\n",
       "0         3.000000e+00  1.000000e+01    29       1\n",
       "1         3.000000e+00  5.400000e+01    45       1\n",
       "2         3.000000e+00  8.030000e+02    33       1\n",
       "3         3.000000e+00  1.526200e+04    52       1\n",
       "4         3.000000e+00  2.705200e+04    29       1\n",
       "...                ...           ...   ...     ...\n",
       "24564551  9.001013e+13  6.631216e+14    26       1\n",
       "24564552  9.001013e+13  2.075964e+14     4       1\n",
       "24564553  9.001013e+13  1.855425e+14    15       2\n",
       "24564554  9.001013e+13  2.418404e+08    20       1\n",
       "24564555  9.001014e+13  1.077310e+06    19       1\n",
       "\n",
       "[24564556 rows x 4 columns]"
      ]
     },
     "execution_count": 12,
     "metadata": {},
     "output_type": "execute_result"
    }
   ],
   "source": [
    "# Different speech if we extend the time interval to a whole week. In fact, for example, when people go on vacation they are likely to post photos throughout the week. So we expect to see an higher probability.\n",
    "# We consider the week going from Monday to Sunday. So we first extract the week number:\n",
    "posts['week'] = posts.cts.dt.isocalendar().week\n",
    "\n",
    "# Then we group by week and then we count:\n",
    "posts_groups_week = posts.groupby(['profile_id', 'location_id', 'week']).size().reset_index(name='counts')\n",
    "posts_groups_week\n"
   ]
  },
  {
   "cell_type": "code",
   "execution_count": 13,
   "metadata": {},
   "outputs": [
    {
     "name": "stdout",
     "output_type": "stream",
     "text": [
      "9.76 % of users posted the same place two or more times in the same week.\n"
     ]
    }
   ],
   "source": [
    "# Finally we compute the % of people posting the same place during the same week\n",
    "print(round(len(posts_groups_week[posts_groups_week['counts'] > 1])/len(posts_groups_week) * 100, 2), '% of users posted the same place two or more times in the same week.')\n",
    "\n",
    "# Note: this is only an approximation. In fact we can interpret the question in 3 ways:\n",
    "# 1) We can intend the week as the interval [day, day+7]\n",
    "# 2)                                        [day, day-7]\n",
    "# 3) Using the 'standard' week (like we did) that is Monday, Tuesday, ... , Saturday, Sunday.\n",
    "\n",
    "# Since we used the 3rd way, a user who posts on Sunday, and then again the next day, is treated as having posted in two different weeks, despite him having posted within an interval of 48 hours."
   ]
  },
  {
   "cell_type": "code",
   "execution_count": 58,
   "metadata": {},
   "outputs": [],
   "source": [
    "# Second way\n",
    "\n",
    "posts_groups = posts.groupby(['date', 'location_id'])['profile_id'].nunique()\n"
   ]
  },
  {
   "cell_type": "code",
   "execution_count": 60,
   "metadata": {},
   "outputs": [
    {
     "name": "stdout",
     "output_type": "stream",
     "text": [
      "In about 16.7 % of the cases, different users visited the same place in the same day\n"
     ]
    }
   ],
   "source": [
    "#len(posts_groups[posts_groups > 1])\n",
    "#len(posts_groups)\n",
    "\n",
    "ratio = round(len(posts_groups[posts_groups > 1]) / len(posts_groups),3)\n",
    "\n",
    "print('In about', ratio*100, '% of the cases, different users visited the same place in the same day')"
   ]
  },
  {
   "cell_type": "code",
   "execution_count": 62,
   "metadata": {},
   "outputs": [
    {
     "data": {
      "text/plain": [
       "week  location_id \n",
       "1     1.200000e+02    1\n",
       "      1.410000e+02    3\n",
       "      2.060000e+02    1\n",
       "      3.430000e+02    2\n",
       "      3.890000e+02    1\n",
       "                     ..\n",
       "53    2.265224e+15    1\n",
       "      2.335185e+15    1\n",
       "      2.346459e+15    2\n",
       "      2.355736e+15    1\n",
       "      2.627658e+15    1\n",
       "Name: profile_id, Length: 11441358, dtype: int64"
      ]
     },
     "execution_count": 62,
     "metadata": {},
     "output_type": "execute_result"
    }
   ],
   "source": [
    "# What about the same week?\n",
    "\n",
    "posts['week'] = posts.cts.dt.isocalendar().week\n",
    "\n",
    "posts_groups_week = posts.groupby(['week', 'location_id'])['profile_id'].nunique()\n",
    "posts_groups_week\n"
   ]
  },
  {
   "cell_type": "code",
   "execution_count": 63,
   "metadata": {},
   "outputs": [
    {
     "name": "stdout",
     "output_type": "stream",
     "text": [
      "In about 32.6 % of the cases, different users visited the same place in the same day\n"
     ]
    }
   ],
   "source": [
    "ratio_week = round(len(posts_groups_week[posts_groups_week > 1]) / len(posts_groups_week),3)\n",
    "\n",
    "print('In about', ratio_week*100, '% of the cases, different users visited the same place in the same day')\n",
    "\n",
    "\n",
    "# And obviously, also in this case the probability is higer."
   ]
  },
  {
   "cell_type": "markdown",
   "metadata": {},
   "source": [
    "#### Bonus Point 3"
   ]
  },
  {
   "cell_type": "code",
   "execution_count": 2,
   "metadata": {},
   "outputs": [],
   "source": [
    "# Provo con 3 milioni di righe solo per vedere se riesco\n",
    "\n",
    "posts = dt.fread('/Users/simonefacchiano/Desktop/Data Science/ADM/HW2-Instagram/instagram_posts.csv', max_nrows = 3000000)\n",
    "descr = posts['description']\n",
    "\n",
    "descr = descr.to_pandas()"
   ]
  },
  {
   "cell_type": "code",
   "execution_count": 3,
   "metadata": {},
   "outputs": [],
   "source": [
    "# First, we define a function 'descriptions_to_dictionary' that adds every word of a single description into a dictionary 'd'\n",
    "\n",
    "d = {}\n",
    "\n",
    "def descriptions_to_dictionary(description):\n",
    "    \n",
    "    for word in description.split():\n",
    "        if (not word.isalpha()):\n",
    "            description = description.replace(word, '')\n",
    "        #elif word in ['the', 'a', 'A', 'The', 'and', 'of', 'in', 'for', 'but', 'or', 'an', 'at', 'on']:\n",
    "             #description = description.replace(word, '')   \n",
    "\n",
    "    #description_splitted = description.split()\n",
    "\n",
    "    for word in description.split():\n",
    "        if word in d:\n",
    "            d[word] += 1\n",
    "        else:\n",
    "            d[word] = 1    \n",
    "    #return(dict(sorted(d.items(), key=lambda x:x[1], reverse=True)))  # remove the comment!!!\n",
    "\n",
    "#frase_prova = 'Questa frase è solo una prova , prendila come una prova !😎'\n",
    "#print(descriptions_to_dictionary(frase_prova)) # --> works\n"
   ]
  },
  {
   "cell_type": "code",
   "execution_count": 5,
   "metadata": {},
   "outputs": [
    {
     "data": {
      "text/plain": [
       "0          None\n",
       "1          None\n",
       "2          None\n",
       "3          None\n",
       "4          None\n",
       "           ... \n",
       "2999995    None\n",
       "2999996    None\n",
       "2999997    None\n",
       "2999998    None\n",
       "2999999    None\n",
       "Name: description, Length: 3000000, dtype: object"
      ]
     },
     "execution_count": 5,
     "metadata": {},
     "output_type": "execute_result"
    }
   ],
   "source": [
    "# Second, we apply this function to each row:\n",
    "\n",
    "descr['description'].apply(descriptions_to_dictionary)\n",
    "\n",
    "#descr['description']\n"
   ]
  },
  {
   "cell_type": "code",
   "execution_count": 7,
   "metadata": {},
   "outputs": [],
   "source": [
    "d = dict(sorted(d.items(), key=lambda x:x[1], reverse=True))\n",
    "\n",
    "# The problem is that we have to clean it!\n",
    "# In fact the most common words are like 'the', 'a', 'for' ecc ecc\n",
    "# but we also have non English words..."
   ]
  },
  {
   "cell_type": "code",
   "execution_count": 22,
   "metadata": {},
   "outputs": [
    {
     "name": "stdout",
     "output_type": "stream",
     "text": [
      "Requirement already satisfied: nltk in /Users/simonefacchiano/opt/anaconda3/lib/python3.9/site-packages (3.7)\n",
      "Requirement already satisfied: joblib in /Users/simonefacchiano/opt/anaconda3/lib/python3.9/site-packages (from nltk) (1.1.0)\n",
      "Requirement already satisfied: tqdm in /Users/simonefacchiano/opt/anaconda3/lib/python3.9/site-packages (from nltk) (4.64.0)\n",
      "Requirement already satisfied: regex>=2021.8.3 in /Users/simonefacchiano/opt/anaconda3/lib/python3.9/site-packages (from nltk) (2022.3.15)\n",
      "Requirement already satisfied: click in /Users/simonefacchiano/opt/anaconda3/lib/python3.9/site-packages (from nltk) (8.0.4)\n",
      "Note: you may need to restart the kernel to use updated packages.\n"
     ]
    }
   ],
   "source": [
    "pip install nltk"
   ]
  },
  {
   "cell_type": "code",
   "execution_count": 29,
   "metadata": {},
   "outputs": [
    {
     "name": "stderr",
     "output_type": "stream",
     "text": [
      "[nltk_data] Downloading package stopwords to\n",
      "[nltk_data]     /Users/simonefacchiano/nltk_data...\n",
      "[nltk_data]   Package stopwords is already up-to-date!\n"
     ]
    }
   ],
   "source": [
    "import re\n",
    "import nltk\n",
    "nltk.download('stopwords')\n",
    "from nltk.corpus import stopwords"
   ]
  },
  {
   "cell_type": "code",
   "execution_count": 43,
   "metadata": {},
   "outputs": [
    {
     "data": {
      "text/plain": [
       "{'love': 77477,\n",
       " 'time': 67606,\n",
       " 'like': 62229,\n",
       " 'life': 52841,\n",
       " 'This': 44030,\n",
       " 'good': 41933,\n",
       " 'best': 41366,\n",
       " 'great': 41014,\n",
       " 'para': 39605,\n",
       " 'back': 38652,\n",
       " 'last': 38353,\n",
       " 'little': 36713,\n",
       " 'Happy': 35929,\n",
       " 'today': 35609,\n",
       " 'first': 35511,\n",
       " 'beautiful': 34623,\n",
       " 'much': 33916,\n",
       " 'know': 32345,\n",
       " 'night': 31872,\n",
       " 'make': 31422,\n",
       " 'amazing': 31274,\n",
       " 'photography': 29869,\n",
       " 'always': 28610,\n",
       " 'work': 28046,\n",
       " 'come': 27160,\n",
       " 'people': 26076,\n",
       " 'Thank': 25527,\n",
       " 'made': 25155,\n",
       " 'next': 24782,\n",
       " 'food': 24068,\n",
       " 'year': 23244,\n",
       " 'happy': 23171,\n",
       " 'take': 22997,\n",
       " 'weekend': 22304,\n",
       " 'look': 22044,\n",
       " 'очень': 21994,\n",
       " 'place': 21841,\n",
       " 'want': 21720,\n",
       " 'still': 21700,\n",
       " 'also': 21326,\n",
       " 'going': 21060,\n",
       " 'never': 20969,\n",
       " 'really': 20895,\n",
       " 'every': 20867,\n",
       " 'week': 20768,\n",
       " 'would': 20356,\n",
       " 'many': 20295,\n",
       " 'только': 20017,\n",
       " 'меня': 20006,\n",
       " 'even': 19497,\n",
       " 'What': 19376,\n",
       " 'years': 19294,\n",
       " 'friends': 19164,\n",
       " 'можно': 18768,\n",
       " 'Thanks': 18088,\n",
       " 'When': 17629,\n",
       " 'days': 17456,\n",
       " 'ever': 17446,\n",
       " 'need': 17404,\n",
       " 'morning': 17390,\n",
       " 'better': 17244,\n",
       " 'feel': 17081,\n",
       " 'Love': 17021,\n",
       " 'home': 16980,\n",
       " 'Just': 16745,\n",
       " 'everyone': 16741,\n",
       " 'birthday': 16672,\n",
       " 'family': 16658,\n",
       " 'around': 16369,\n",
       " 'favorite': 16345,\n",
       " 'Come': 16168,\n",
       " 'things': 16128,\n",
       " 'right': 16057,\n",
       " 'show': 16038,\n",
       " 'thank': 15891,\n",
       " 'think': 15819,\n",
       " 'photo': 15796,\n",
       " 'есть': 15626,\n",
       " 'could': 15551,\n",
       " 'hair': 15395,\n",
       " 'girl': 15176,\n",
       " 'getting': 14716,\n",
       " 'long': 14682,\n",
       " 'ready': 14466,\n",
       " 'если': 14443,\n",
       " 'будет': 14423,\n",
       " 'чтобы': 14255,\n",
       " 'full': 14244,\n",
       " 'wait': 14146,\n",
       " 'part': 14052,\n",
       " 'find': 14051,\n",
       " 'Sunday': 13907,\n",
       " 'world': 13905,\n",
       " 'когда': 13849,\n",
       " 'looking': 13808,\n",
       " 'mais': 13746,\n",
       " 'another': 13567,\n",
       " 'help': 13505,\n",
       " 'sure': 13390,\n",
       " 'lovely': 13346,\n",
       " 'день': 13340,\n",
       " 'pour': 13319,\n",
       " 'thanks': 13307,\n",
       " 'perfect': 13305,\n",
       " 'coming': 13264,\n",
       " 'просто': 13204,\n",
       " 'something': 13115,\n",
       " 'team': 13087,\n",
       " 'start': 13055,\n",
       " 'yang': 12963,\n",
       " 'special': 12915,\n",
       " 'making': 12814,\n",
       " 'well': 12668,\n",
       " 'gram': 12403,\n",
       " 'Great': 12384,\n",
       " 'style': 12262,\n",
       " 'Good': 12245,\n",
       " 'время': 12145,\n",
       " 'done': 11997,\n",
       " 'give': 11962,\n",
       " 'miss': 11941,\n",
       " 'было': 11923,\n",
       " 'live': 11913,\n",
       " 'como': 11860,\n",
       " 'summer': 11752,\n",
       " 'hard': 11735,\n",
       " 'Saturday': 11668,\n",
       " 'free': 11504,\n",
       " 'post': 11433,\n",
       " 'friend': 11406,\n",
       " 'link': 11341,\n",
       " 'keep': 11332,\n",
       " 'open': 11177,\n",
       " 'proud': 11159,\n",
       " 'быть': 11088,\n",
       " 'came': 11078,\n",
       " 'всегда': 11052,\n",
       " 'super': 10925,\n",
       " 'себя': 10888,\n",
       " 'porn': 10848,\n",
       " 'excited': 10836,\n",
       " 'которые': 10806,\n",
       " 'Friday': 10795,\n",
       " 'lover': 10706,\n",
       " 'working': 10617,\n",
       " 'pretty': 10548,\n",
       " 'without': 10464,\n",
       " 'даже': 10425,\n",
       " 'wonderful': 10272,\n",
       " 'coffee': 10269,\n",
       " 'check': 10194,\n",
       " 'They': 10148,\n",
       " 'tonight': 10114,\n",
       " 'nice': 10021,\n",
       " 'sofinstagram': 10002,\n",
       " 'после': 9978,\n",
       " 'visit': 9977,\n",
       " 'everything': 9954,\n",
       " 'wedding': 9888,\n",
       " 'stop': 9876,\n",
       " 'enjoy': 9866,\n",
       " 'support': 9839,\n",
       " 'lovers': 9830,\n",
       " 'walk': 9793,\n",
       " 'went': 9741,\n",
       " 'available': 9731,\n",
       " 'First': 9614,\n",
       " 'away': 9601,\n",
       " 'этот': 9586,\n",
       " 'thing': 9547,\n",
       " 'hope': 9545,\n",
       " 'trip': 9541,\n",
       " 'took': 9536,\n",
       " 'фото': 9486,\n",
       " 'awesome': 9459,\n",
       " 'blogger': 9429,\n",
       " 'local': 9361,\n",
       " 'baby': 9290,\n",
       " 'share': 9254,\n",
       " 'party': 9219,\n",
       " 'event': 9156,\n",
       " 'since': 9131,\n",
       " 'school': 9108,\n",
       " 'Last': 9098,\n",
       " 'class': 9083,\n",
       " 'call': 9027,\n",
       " 'book': 8989,\n",
       " 'oftheday': 8960,\n",
       " 'guys': 8911,\n",
       " 'heart': 8892,\n",
       " 'может': 8887,\n",
       " 'shop': 8845,\n",
       " 'lunch': 8825,\n",
       " 'этом': 8811,\n",
       " 'together': 8764,\n",
       " 'sweet': 8717,\n",
       " 'photos': 8675,\n",
       " 'makes': 8650,\n",
       " 'experience': 8632,\n",
       " 'music': 8607,\n",
       " 'Today': 8604,\n",
       " 'taking': 8598,\n",
       " 'girls': 8568,\n",
       " 'view': 8489,\n",
       " 'found': 8486,\n",
       " 'able': 8446,\n",
       " 'всех': 8428,\n",
       " 'Birthday': 8415,\n",
       " 'vida': 8303,\n",
       " 'different': 8250,\n",
       " 'este': 8209,\n",
       " 'больше': 8197,\n",
       " 'season': 8104,\n",
       " 'finally': 8029,\n",
       " 'Christmas': 8016,\n",
       " 'weeks': 7997,\n",
       " 'With': 7955,\n",
       " 'favourite': 7950,\n",
       " 'todo': 7896,\n",
       " 'нужно': 7833,\n",
       " 'picture': 7821,\n",
       " 'city': 7819,\n",
       " 'всем': 7800,\n",
       " 'dinner': 7797,\n",
       " 'Another': 7790,\n",
       " 'много': 7779,\n",
       " 'along': 7777,\n",
       " 'body': 7755,\n",
       " 'feeling': 7727,\n",
       " 'training': 7714,\n",
       " 'tomorrow': 7712,\n",
       " 'stagram': 7689,\n",
       " 'delicious': 7685,\n",
       " 'real': 7672,\n",
       " 'whole': 7668,\n",
       " 'meet': 7667,\n",
       " 'left': 7631,\n",
       " 'fresh': 7605,\n",
       " 'please': 7544,\n",
       " 'play': 7482,\n",
       " 'себе': 7471,\n",
       " 'couple': 7440,\n",
       " 'forward': 7411,\n",
       " 'сегодня': 7350,\n",
       " 'house': 7348,\n",
       " 'face': 7292,\n",
       " 'этого': 7274,\n",
       " 'todos': 7237,\n",
       " 'moment': 7221,\n",
       " 'который': 7213,\n",
       " 'high': 7202,\n",
       " 'video': 7184,\n",
       " 'side': 7172,\n",
       " 'kids': 7164,\n",
       " 'enough': 7129,\n",
       " 'beach': 7127,\n",
       " 'times': 7117,\n",
       " 'care': 7095,\n",
       " 'cool': 7074,\n",
       " 'June': 7062,\n",
       " 'someone': 7042,\n",
       " 'These': 7037,\n",
       " 'тебя': 7007,\n",
       " 'past': 7000,\n",
       " 'avec': 6980,\n",
       " 'join': 6969,\n",
       " 'loved': 6937,\n",
       " 'bring': 6929,\n",
       " 'believe': 6916,\n",
       " 'всего': 6910,\n",
       " 'evening': 6881,\n",
       " 'stay': 6836,\n",
       " 'sempre': 6809,\n",
       " 'Beautiful': 6799,\n",
       " 'beauty': 6730,\n",
       " 'light': 6685,\n",
       " 'said': 6682,\n",
       " 'dans': 6643,\n",
       " 'ofinstagram': 6615,\n",
       " 'water': 6602,\n",
       " 'Have': 6582,\n",
       " 'used': 6572,\n",
       " 'wanted': 6571,\n",
       " 'game': 6564,\n",
       " 'Best': 6563,\n",
       " 'plus': 6559,\n",
       " 'Some': 6554,\n",
       " 'color': 6534,\n",
       " 'tell': 6488,\n",
       " 'already': 6485,\n",
       " 'vous': 6467,\n",
       " 'definitely': 6447,\n",
       " 'pics': 6416,\n",
       " 'yesterday': 6411,\n",
       " 'gorgeous': 6403,\n",
       " 'solo': 6397,\n",
       " 'community': 6387,\n",
       " 'esta': 6379,\n",
       " 'small': 6378,\n",
       " 'более': 6370,\n",
       " 'каждый': 6337,\n",
       " 'hours': 6336,\n",
       " 'trying': 6334,\n",
       " 'celebrate': 6329,\n",
       " 'second': 6309,\n",
       " 'After': 6277,\n",
       " 'There': 6269,\n",
       " 'Check': 6242,\n",
       " 'design': 6238,\n",
       " 'looks': 6235,\n",
       " 'started': 6235,\n",
       " 'person': 6215,\n",
       " 'thought': 6197,\n",
       " 'artist': 6190,\n",
       " 'head': 6183,\n",
       " 'incredible': 6180,\n",
       " 'living': 6171,\n",
       " 'você': 6152,\n",
       " 'forget': 6137,\n",
       " 'weather': 6126,\n",
       " 'Monday': 6106,\n",
       " 'была': 6101,\n",
       " 'course': 6002,\n",
       " 'Your': 5945,\n",
       " 'skin': 5904,\n",
       " 'foto': 5903,\n",
       " 'soon': 5890,\n",
       " 'journey': 5890,\n",
       " 'worth': 5857,\n",
       " 'month': 5847,\n",
       " 'grateful': 5839,\n",
       " 'cute': 5834,\n",
       " 'один': 5832,\n",
       " 'follow': 5831,\n",
       " 'gonna': 5820,\n",
       " 'change': 5812,\n",
       " 'almost': 5802,\n",
       " 'через': 5793,\n",
       " 'kind': 5779,\n",
       " 'шапке': 5777,\n",
       " 'months': 5768,\n",
       " 'Если': 5730,\n",
       " 'chance': 5729,\n",
       " 'Summer': 5699,\n",
       " 'date': 5691,\n",
       " 'using': 5653,\n",
       " 'holiday': 5620,\n",
       " 'learn': 5606,\n",
       " 'watch': 5593,\n",
       " 'store': 5590,\n",
       " 'cream': 5573,\n",
       " 'такой': 5569,\n",
       " 'Life': 5567,\n",
       " 'actually': 5542,\n",
       " 'comes': 5540,\n",
       " 'della': 5503,\n",
       " 'pero': 5485,\n",
       " 'nothing': 5485,\n",
       " 'spend': 5480,\n",
       " 'свои': 5434,\n",
       " 'room': 5426,\n",
       " 'session': 5417,\n",
       " 'pictures': 5390,\n",
       " 'свой': 5389,\n",
       " 'early': 5380,\n",
       " 'está': 5374,\n",
       " 'natural': 5367,\n",
       " 'wish': 5359,\n",
       " 'three': 5355,\n",
       " 'нашей': 5354,\n",
       " 'business': 5348,\n",
       " 'жизни': 5329,\n",
       " 'playing': 5313,\n",
       " 'truly': 5307,\n",
       " 'afternoon': 5302,\n",
       " 'wine': 5299,\n",
       " 'might': 5296,\n",
       " 'final': 5289,\n",
       " 'свою': 5283,\n",
       " 'till': 5273,\n",
       " 'vibes': 5272,\n",
       " 'сейчас': 5267,\n",
       " 'group': 5267,\n",
       " 'dance': 5261,\n",
       " 'order': 5261,\n",
       " 'must': 5251,\n",
       " 'drink': 5245,\n",
       " 'That': 5242,\n",
       " 'chocolate': 5235,\n",
       " 'untuk': 5229,\n",
       " 'seeing': 5227,\n",
       " 'mejor': 5223,\n",
       " 'break': 5219,\n",
       " 'также': 5217,\n",
       " 'тоже': 5205,\n",
       " 'spot': 5202,\n",
       " 'cada': 5195,\n",
       " 'lots': 5168,\n",
       " 'else': 5168,\n",
       " 'были': 5163,\n",
       " 'сделать': 5162,\n",
       " 'Easter': 5151,\n",
       " 'motivation': 5146,\n",
       " 'своей': 5143,\n",
       " 'именно': 5141,\n",
       " 'tattoo': 5121,\n",
       " 'shot': 5117,\n",
       " 'ride': 5117,\n",
       " 'mind': 5101,\n",
       " 'half': 5098,\n",
       " 'тебе': 5089,\n",
       " 'cake': 5087,\n",
       " 'anyone': 5079,\n",
       " 'Time': 5065,\n",
       " 'travel': 5056,\n",
       " 'daily': 5048,\n",
       " 'спасибо': 5037,\n",
       " 'remember': 5023,\n",
       " 'breakfast': 5000,\n",
       " 'Join': 4994,\n",
       " 'felt': 4982,\n",
       " 'этой': 4978,\n",
       " 'women': 4965,\n",
       " 'beer': 4950,\n",
       " 'From': 4949,\n",
       " 'Back': 4937,\n",
       " 'running': 4918,\n",
       " 'More': 4914,\n",
       " 'story': 4911,\n",
       " 'spent': 4901,\n",
       " 'giving': 4900,\n",
       " 'Congratulations': 4892,\n",
       " 'muito': 4888,\n",
       " 'Always': 4887,\n",
       " 'seen': 4870,\n",
       " 'minha': 4857,\n",
       " 'photographer': 4853,\n",
       " 'taken': 4842,\n",
       " 'boys': 4816,\n",
       " 'white': 4805,\n",
       " 'lucky': 4801,\n",
       " 'needed': 4795,\n",
       " 'Сегодня': 4784,\n",
       " 'gift': 4771,\n",
       " 'starting': 4761,\n",
       " 'space': 4759,\n",
       " '2019': 4747,\n",
       " 'можете': 4733,\n",
       " 'rest': 4727,\n",
       " 'means': 4714,\n",
       " 'hour': 4702,\n",
       " 'amor': 4695,\n",
       " 'thankful': 4693,\n",
       " 'close': 4689,\n",
       " 'cold': 4688,\n",
       " 'restaurant': 4651,\n",
       " 'absolutely': 4651,\n",
       " 'workout': 4641,\n",
       " 'dress': 4634,\n",
       " 'chicken': 4633,\n",
       " 'fashion': 4622,\n",
       " 'spring': 4603,\n",
       " 'waiting': 4594,\n",
       " 'Spring': 4593,\n",
       " 'front': 4573,\n",
       " 'important': 4569,\n",
       " 'addict': 4565,\n",
       " 'forever': 4563,\n",
       " 'behind': 4561,\n",
       " 'hand': 4559,\n",
       " 'London': 4547,\n",
       " 'celebrating': 4545,\n",
       " 'black': 4544,\n",
       " 'Here': 4541,\n",
       " 'online': 4541,\n",
       " 'leave': 4528,\n",
       " 'blog': 4525,\n",
       " 'Спасибо': 4516,\n",
       " 'menu': 4500,\n",
       " 'crazy': 4496,\n",
       " 'become': 4493,\n",
       " 'name': 4485,\n",
       " 'anything': 4483,\n",
       " 'outside': 4475,\n",
       " 'smile': 4475,\n",
       " 'opportunity': 4463,\n",
       " 'sono': 4461,\n",
       " 'though': 4453,\n",
       " 'shoot': 4429,\n",
       " 'warm': 4428,\n",
       " 'April': 4410,\n",
       " 'такие': 4394,\n",
       " 'talk': 4374,\n",
       " 'club': 4371,\n",
       " 'наших': 4370,\n",
       " 'loves': 4369,\n",
       " 'yoga': 4349,\n",
       " 'vegan': 4341,\n",
       " 'pizza': 4321,\n",
       " 'extra': 4320,\n",
       " 'service': 4314,\n",
       " 'tour': 4311,\n",
       " 'Look': 4286,\n",
       " 'dengan': 4276,\n",
       " 'наши': 4270,\n",
       " 'Thursday': 4268,\n",
       " 'makeup': 4268,\n",
       " 'Park': 4255,\n",
       " 'пока': 4250,\n",
       " 'пишите': 4250,\n",
       " 'tried': 4246,\n",
       " 'моей': 4243,\n",
       " 'students': 4243,\n",
       " 'Looking': 4237,\n",
       " 'eyes': 4223,\n",
       " 'places': 4222,\n",
       " 'late': 4210,\n",
       " 'kita': 4205,\n",
       " 'goes': 4161,\n",
       " 'piece': 4161,\n",
       " 'жизнь': 4160,\n",
       " 'graphy': 4155,\n",
       " 'huge': 4152,\n",
       " 'eating': 4150,\n",
       " 'decided': 4150,\n",
       " 'Make': 4140,\n",
       " 'Such': 4138,\n",
       " 'blessed': 4135,\n",
       " 'meal': 4127,\n",
       " 'dream': 4125,\n",
       " 'своих': 4122,\n",
       " 'года': 4115,\n",
       " 'watching': 4110,\n",
       " 'goals': 4094,\n",
       " 'future': 4086,\n",
       " 'будут': 4080,\n",
       " 'нашем': 4076,\n",
       " 'Well': 4074,\n",
       " 'работы': 4068,\n",
       " 'Когда': 4068,\n",
       " 'enjoying': 4061,\n",
       " 'create': 4057,\n",
       " 'Night': 4051,\n",
       " 'Please': 4046,\n",
       " 'true': 4038,\n",
       " 'short': 4033,\n",
       " 'strong': 4032,\n",
       " 'bien': 4032,\n",
       " 'теперь': 4027,\n",
       " 'called': 4021,\n",
       " 'siempre': 4020,\n",
       " 'gave': 4020,\n",
       " 'ведь': 4016,\n",
       " 'tickets': 4002,\n",
       " 'cheese': 4001,\n",
       " 'quite': 3995,\n",
       " 'single': 3992,\n",
       " 'young': 3988,\n",
       " 'page': 3988,\n",
       " 'easy': 3986,\n",
       " 'inside': 3978,\n",
       " 'fantastic': 3967,\n",
       " 'loving': 3964,\n",
       " 'Link': 3962,\n",
       " 'надо': 3957,\n",
       " 'across': 3954,\n",
       " 'lost': 3945,\n",
       " 'любой': 3942,\n",
       " 'moments': 3937,\n",
       " 'место': 3937,\n",
       " 'blue': 3928,\n",
       " 'green': 3902,\n",
       " 'Only': 3901,\n",
       " 'несколько': 3900,\n",
       " 'park': 3899,\n",
       " 'Family': 3899,\n",
       " 'лучше': 3883,\n",
       " 'lifestyle': 3881,\n",
       " 'вместе': 3880,\n",
       " 'model': 3877,\n",
       " 'gets': 3869,\n",
       " 'needs': 3863,\n",
       " 'которая': 3843,\n",
       " 'catch': 3838,\n",
       " 'Little': 3833,\n",
       " 'потому': 3832,\n",
       " 'sobre': 3830,\n",
       " 'люблю': 3829,\n",
       " 'takes': 3822,\n",
       " 'parte': 3822,\n",
       " 'studio': 3818,\n",
       " 'opening': 3816,\n",
       " 'nuestro': 3801,\n",
       " 'dari': 3787,\n",
       " 'поэтому': 3781,\n",
       " 'memories': 3773,\n",
       " 'glad': 3772,\n",
       " 'helping': 3771,\n",
       " 'Team': 3767,\n",
       " 'хочу': 3758,\n",
       " 'enjoyed': 3751,\n",
       " 'самое': 3747,\n",
       " 'хочется': 3744,\n",
       " 'feels': 3741,\n",
       " 'wanna': 3734,\n",
       " 'road': 3731,\n",
       " 'Black': 3723,\n",
       " 'делать': 3723,\n",
       " 'line': 3716,\n",
       " 'power': 3715,\n",
       " 'Super': 3712,\n",
       " 'alla': 3710,\n",
       " 'town': 3705,\n",
       " 'welcome': 3695,\n",
       " 'especially': 3680,\n",
       " 'less': 3667,\n",
       " 'здесь': 3659,\n",
       " 'City': 3650,\n",
       " 'including': 3646,\n",
       " 'заказа': 3637,\n",
       " 'Instagram': 3619,\n",
       " 'потом': 3615,\n",
       " 'matter': 3611,\n",
       " 'porque': 3604,\n",
       " 'meeting': 3604,\n",
       " 'wear': 3597,\n",
       " 'ladies': 3591,\n",
       " 'Take': 3590,\n",
       " 'healthy': 3587,\n",
       " 'told': 3584,\n",
       " 'mean': 3582,\n",
       " 'ones': 3577,\n",
       " 'flowers': 3576,\n",
       " 'Amazing': 3574,\n",
       " 'fall': 3564,\n",
       " 'ничего': 3562,\n",
       " 'quando': 3559,\n",
       " 'busy': 3555,\n",
       " 'совсем': 3546,\n",
       " 'gente': 3545,\n",
       " 'FREE': 3544,\n",
       " 'pick': 3541,\n",
       " 'sharing': 3533,\n",
       " 'gracias': 3533,\n",
       " 'National': 3526,\n",
       " 'continue': 3521,\n",
       " 'treat': 3509,\n",
       " 'Hope': 3507,\n",
       " 'auch': 3507,\n",
       " 'asked': 3506,\n",
       " 'nicht': 3506,\n",
       " 'lugar': 3504,\n",
       " 'near': 3504,\n",
       " 'sister': 3503,\n",
       " 'Getting': 3501,\n",
       " 'semana': 3498,\n",
       " 'building': 3497,\n",
       " 'nuestra': 3486,\n",
       " 'Gracias': 3479,\n",
       " 'least': 3474,\n",
       " 'hear': 3472,\n",
       " 'Photo': 3469,\n",
       " 'Never': 3462,\n",
       " 'Memorial': 3461,\n",
       " 'Tuesday': 3461,\n",
       " 'brought': 3450,\n",
       " 'Lovely': 3442,\n",
       " 'minutes': 3441,\n",
       " 'Sometimes': 3440,\n",
       " 'nature': 3437,\n",
       " 'finished': 3429,\n",
       " 'info': 3421,\n",
       " 'point': 3416,\n",
       " 'самый': 3412,\n",
       " 'later': 3408,\n",
       " 'первый': 3405,\n",
       " 'Nice': 3400,\n",
       " 'turn': 3377,\n",
       " 'Still': 3373,\n",
       " 'House': 3370,\n",
       " 'taste': 3363,\n",
       " 'Open': 3356,\n",
       " 'вообще': 3339,\n",
       " 'inspiration': 3338,\n",
       " 'bisa': 3332,\n",
       " 'могут': 3330,\n",
       " 'Follow': 3328,\n",
       " 'буду': 3326,\n",
       " 'collection': 3324,\n",
       " 'move': 3323,\n",
       " 'стоит': 3314,\n",
       " 'могу': 3311,\n",
       " 'Every': 3301,\n",
       " 'products': 3299,\n",
       " 'round': 3295,\n",
       " 'Also': 3295,\n",
       " 'сразу': 3279,\n",
       " 'перед': 3279,\n",
       " 'Club': 3278,\n",
       " 'Wednesday': 3278,\n",
       " 'website': 3272,\n",
       " 'social': 3271,\n",
       " 'garden': 3265,\n",
       " 'Lunch': 3262,\n",
       " 'learning': 3258,\n",
       " 'stunning': 3256,\n",
       " 'nous': 3253,\n",
       " 'quick': 3249,\n",
       " 'others': 3248,\n",
       " 'grow': 3243,\n",
       " 'Finally': 3235,\n",
       " 'talented': 3230,\n",
       " 'rain': 3230,\n",
       " 'fine': 3227,\n",
       " 'Morning': 3225,\n",
       " 'alle': 3224,\n",
       " 'salon': 3218,\n",
       " 'anche': 3218,\n",
       " 'desde': 3215,\n",
       " 'quality': 3214,\n",
       " 'Dinner': 3211,\n",
       " 'health': 3208,\n",
       " 'step': 3207,\n",
       " 'personal': 3204,\n",
       " 'money': 3203,\n",
       " 'offer': 3195,\n",
       " 'staff': 3194,\n",
       " 'нашего': 3190,\n",
       " 'Call': 3190,\n",
       " 'fitness': 3184,\n",
       " 'details': 3184,\n",
       " 'конечно': 3183,\n",
       " 'minute': 3180,\n",
       " 'School': 3179,\n",
       " 'Welcome': 3176,\n",
       " 'pelo': 3176,\n",
       " 'area': 3174,\n",
       " 'energy': 3174,\n",
       " 'views': 3170,\n",
       " 'esse': 3168,\n",
       " 'drinks': 3165,\n",
       " 'essa': 3165,\n",
       " 'table': 3163,\n",
       " 'pleasure': 3160,\n",
       " 'honor': 3160,\n",
       " 'plan': 3154,\n",
       " 'Keep': 3154,\n",
       " 'Stop': 3154,\n",
       " 'adventure': 3149,\n",
       " 'такое': 3149,\n",
       " 'Stay': 3144,\n",
       " 'finish': 3142,\n",
       " 'немного': 3139,\n",
       " 'brunch': 3133,\n",
       " 'practice': 3132,\n",
       " 'Coffee': 3128,\n",
       " 'filled': 3127,\n",
       " 'LOVE': 3125,\n",
       " 'nights': 3122,\n",
       " 'cause': 3120,\n",
       " 'sunset': 3119,\n",
       " 'WhatsApp': 3117,\n",
       " 'grande': 3106,\n",
       " 'Like': 3103,\n",
       " 'office': 3099,\n",
       " 'mood': 3098,\n",
       " 'read': 3096,\n",
       " 'idea': 3094,\n",
       " 'everyday': 3088,\n",
       " 'project': 3084,\n",
       " 'ideas': 3078,\n",
       " 'mundo': 3077,\n",
       " 'drive': 3073,\n",
       " 'starts': 3065,\n",
       " 'Congrats': 3060,\n",
       " 'woman': 3058,\n",
       " 'words': 3057,\n",
       " 'walking': 3053,\n",
       " 'shopping': 3049,\n",
       " 'clients': 3037,\n",
       " 'entre': 3031,\n",
       " 'Beach': 3031,\n",
       " 'всей': 3031,\n",
       " 'rock': 3029,\n",
       " 'tudo': 3028,\n",
       " 'самые': 3027,\n",
       " 'choose': 3027,\n",
       " 'чего': 3025,\n",
       " 'thinking': 3023,\n",
       " 'Nothing': 3021,\n",
       " 'within': 3018,\n",
       " 'люди': 3017,\n",
       " 'helped': 3017,\n",
       " 'High': 3014,\n",
       " 'своего': 3013,\n",
       " 'pela': 3010,\n",
       " 'stories': 3008,\n",
       " 'stylist': 2999,\n",
       " 'main': 2996,\n",
       " 'москва': 2993,\n",
       " 'детей': 2991,\n",
       " 'sale': 2990,\n",
       " 'country': 2987,\n",
       " 'festival': 2984,\n",
       " 'Директ': 2983,\n",
       " 'melhor': 2981,\n",
       " 'наличии': 2975,\n",
       " 'самых': 2975,\n",
       " 'turned': 2969,\n",
       " 'guess': 2968,\n",
       " 'brother': 2967,\n",
       " 'Perfect': 2966,\n",
       " 'South': 2966,\n",
       " 'unique': 2964,\n",
       " 'todas': 2960,\n",
       " 'simple': 2957,\n",
       " 'shots': 2957,\n",
       " 'casa': 2955,\n",
       " 'nosso': 2954,\n",
       " 'events': 2953,\n",
       " 'winter': 2948,\n",
       " 'этим': 2944,\n",
       " 'fabulous': 2944,\n",
       " 'brand': 2944,\n",
       " 'своим': 2933,\n",
       " 'inspired': 2933,\n",
       " 'soul': 2925,\n",
       " 'cannot': 2923,\n",
       " 'sometimes': 2898,\n",
       " 'probably': 2898,\n",
       " 'часто': 2897,\n",
       " 'sign': 2892,\n",
       " 'Wedding': 2892,\n",
       " 'sunny': 2891,\n",
       " 'никогда': 2891,\n",
       " 'film': 2887,\n",
       " 'ваши': 2886,\n",
       " 'Even': 2881,\n",
       " 'lives': 2878,\n",
       " 'tanto': 2877,\n",
       " 'knew': 2877,\n",
       " 'deep': 2874,\n",
       " 'served': 2874,\n",
       " 'feliz': 2862,\n",
       " 'хорошо': 2858,\n",
       " 'often': 2857,\n",
       " 'appreciate': 2856,\n",
       " 'fast': 2856,\n",
       " 'человек': 2856,\n",
       " 'Ready': 2855,\n",
       " 'stand': 2855,\n",
       " 'missed': 2849,\n",
       " 'crew': 2845,\n",
       " 'self': 2840,\n",
       " 'edit': 2831,\n",
       " 'showing': 2831,\n",
       " 'cuando': 2830,\n",
       " 'nossa': 2829,\n",
       " 'Swipe': 2820,\n",
       " 'glass': 2819,\n",
       " 'recommend': 2818,\n",
       " 'eine': 2818,\n",
       " 'которых': 2815,\n",
       " 'entire': 2812,\n",
       " 'людей': 2811,\n",
       " 'fish': 2808,\n",
       " 'company': 2806,\n",
       " 'challenge': 2803,\n",
       " 'обязательно': 2802,\n",
       " 'Free': 2800,\n",
       " 'России': 2799,\n",
       " 'wild': 2798,\n",
       " 'sunshine': 2792,\n",
       " 'North': 2792,\n",
       " 'created': 2789,\n",
       " 'hold': 2785,\n",
       " 'race': 2783,\n",
       " 'toda': 2781,\n",
       " 'stuff': 2780,\n",
       " 'colour': 2778,\n",
       " 'location': 2777,\n",
       " 'Facebook': 2777,\n",
       " 'Live': 2776,\n",
       " 'Party': 2775,\n",
       " 'снова': 2773,\n",
       " 'train': 2771,\n",
       " 'adventures': 2770,\n",
       " 'noch': 2769,\n",
       " 'hands': 2768,\n",
       " 'March': 2767,\n",
       " 'лишь': 2763,\n",
       " 'hotel': 2752,\n",
       " 'maybe': 2749,\n",
       " 'appointment': 2748,\n",
       " 'точно': 2746,\n",
       " 'gasm': 2746,\n",
       " 'Enjoy': 2746,\n",
       " 'says': 2741,\n",
       " 'looked': 2741,\n",
       " 'tout': 2741,\n",
       " 'Deus': 2733,\n",
       " 'weight': 2733,\n",
       " 'worked': 2731,\n",
       " 'stage': 2730,\n",
       " 'wearing': 2729,\n",
       " 'grab': 2729,\n",
       " 'bike': 2726,\n",
       " 'miles': 2726,\n",
       " 'Lake': 2721,\n",
       " 'putting': 2719,\n",
       " 'officially': 2715,\n",
       " 'burger': 2714,\n",
       " 'shit': 2704,\n",
       " 'message': 2700,\n",
       " 'ссылке': 2699,\n",
       " 'complete': 2696,\n",
       " 'дома': 2693,\n",
       " 'Festival': 2693,\n",
       " 'gran': 2692,\n",
       " 'Next': 2692,\n",
       " 'snow': 2692,\n",
       " 'learned': 2692,\n",
       " 'dreams': 2689,\n",
       " 'Food': 2689,\n",
       " 'Very': 2684,\n",
       " 'Book': 2684,\n",
       " 'Street': 2684,\n",
       " 'cafe': 2679,\n",
       " 'momento': 2679,\n",
       " 'hasta': 2678,\n",
       " 'Show': 2677,\n",
       " 'absolute': 2677,\n",
       " 'number': 2675,\n",
       " 'aqui': 2672,\n",
       " 'band': 2672,\n",
       " 'Hello': 2669,\n",
       " 'кожи': 2668,\n",
       " 'works': 2668,\n",
       " 'classes': 2662,\n",
       " 'волос': 2659,\n",
       " 'возможность': 2657,\n",
       " 'estar': 2656,\n",
       " 'World': 2651,\n",
       " 'West': 2635,\n",
       " 'four': 2634,\n",
       " 'eats': 2630,\n",
       " 'Feliz': 2627,\n",
       " 'nunca': 2625,\n",
       " 'весь': 2624,\n",
       " 'contact': 2623,\n",
       " 'akan': 2614,\n",
       " 'door': 2613,\n",
       " 'времени': 2604,\n",
       " 'году': 2604,\n",
       " 'touch': 2603,\n",
       " 'dark': 2601,\n",
       " 'knows': 2599,\n",
       " 'tempo': 2594,\n",
       " 'tagram': 2589,\n",
       " 'White': 2588,\n",
       " 'sauce': 2582,\n",
       " 'hike': 2581,\n",
       " 'reason': 2580,\n",
       " 'given': 2576,\n",
       " 'tree': 2575,\n",
       " 'fire': 2569,\n",
       " 'build': 2568,\n",
       " 'Очень': 2567,\n",
       " 'workshop': 2566,\n",
       " 'performance': 2561,\n",
       " 'самом': 2558,\n",
       " 'lady': 2546,\n",
       " 'Special': 2544,\n",
       " 'Miss': 2544,\n",
       " 'bringing': 2544,\n",
       " 'какой': 2538,\n",
       " 'новый': 2535,\n",
       " 'одной': 2527,\n",
       " 'него': 2527,\n",
       " 'voor': 2519,\n",
       " 'human': 2517,\n",
       " 'wants': 2516,\n",
       " 'magic': 2516,\n",
       " 'Cheers': 2515,\n",
       " 'Having': 2511,\n",
       " 'treatment': 2507,\n",
       " 'mini': 2507,\n",
       " 'original': 2507,\n",
       " 'questo': 2503,\n",
       " 'cette': 2501,\n",
       " 'missing': 2500,\n",
       " 'такая': 2494,\n",
       " 'children': 2494,\n",
       " 'собой': 2491,\n",
       " 'send': 2491,\n",
       " 'Blue': 2490,\n",
       " 'является': 2490,\n",
       " 'clean': 2482,\n",
       " 'amigos': 2480,\n",
       " 'island': 2475,\n",
       " ...}"
      ]
     },
     "execution_count": 43,
     "metadata": {},
     "output_type": "execute_result"
    }
   ],
   "source": [
    "# One way to clean our dictionary is to delete the words with a number of letters <= 3 (and obvisouly deleting non-english words):\n",
    "\n",
    "# There is a useful package for doing this:\n",
    "\n",
    "\n",
    "#import enchant\n",
    "#english = enchant.Dict('en_US')\n",
    "\n",
    "clean_d = {key : d[key] for key in d if key not in stopwords.words('english') and len(key) > 3}\n",
    "clean_d\n"
   ]
  },
  {
   "cell_type": "code",
   "execution_count": 51,
   "metadata": {},
   "outputs": [
    {
     "name": "stdout",
     "output_type": "stream",
     "text": [
      "Collecting wordcloud\n",
      "  Downloading wordcloud-1.8.2.2-cp39-cp39-macosx_10_9_x86_64.whl (160 kB)\n",
      "\u001b[K     |████████████████████████████████| 160 kB 2.4 MB/s eta 0:00:01\n",
      "\u001b[?25hRequirement already satisfied: pillow in /Users/simonefacchiano/opt/anaconda3/lib/python3.9/site-packages (from wordcloud) (9.0.1)\n",
      "Requirement already satisfied: matplotlib in /Users/simonefacchiano/opt/anaconda3/lib/python3.9/site-packages (from wordcloud) (3.5.1)\n",
      "Requirement already satisfied: numpy>=1.6.1 in /Users/simonefacchiano/opt/anaconda3/lib/python3.9/site-packages (from wordcloud) (1.21.5)\n",
      "Requirement already satisfied: fonttools>=4.22.0 in /Users/simonefacchiano/opt/anaconda3/lib/python3.9/site-packages (from matplotlib->wordcloud) (4.25.0)\n",
      "Requirement already satisfied: pyparsing>=2.2.1 in /Users/simonefacchiano/opt/anaconda3/lib/python3.9/site-packages (from matplotlib->wordcloud) (3.0.4)\n",
      "Requirement already satisfied: cycler>=0.10 in /Users/simonefacchiano/opt/anaconda3/lib/python3.9/site-packages (from matplotlib->wordcloud) (0.11.0)\n",
      "Requirement already satisfied: python-dateutil>=2.7 in /Users/simonefacchiano/opt/anaconda3/lib/python3.9/site-packages (from matplotlib->wordcloud) (2.8.2)\n",
      "Requirement already satisfied: kiwisolver>=1.0.1 in /Users/simonefacchiano/opt/anaconda3/lib/python3.9/site-packages (from matplotlib->wordcloud) (1.3.2)\n",
      "Requirement already satisfied: packaging>=20.0 in /Users/simonefacchiano/opt/anaconda3/lib/python3.9/site-packages (from matplotlib->wordcloud) (21.3)\n",
      "Requirement already satisfied: six>=1.5 in /Users/simonefacchiano/opt/anaconda3/lib/python3.9/site-packages (from python-dateutil>=2.7->matplotlib->wordcloud) (1.16.0)\n",
      "Installing collected packages: wordcloud\n",
      "Successfully installed wordcloud-1.8.2.2\n",
      "Note: you may need to restart the kernel to use updated packages.\n"
     ]
    }
   ],
   "source": [
    "pip install wordcloud"
   ]
  },
  {
   "cell_type": "code",
   "execution_count": 83,
   "metadata": {},
   "outputs": [
    {
     "data": {
      "text/plain": [
       "<matplotlib.image.AxesImage at 0x7fc8255542e0>"
      ]
     },
     "execution_count": 83,
     "metadata": {},
     "output_type": "execute_result"
    },
    {
     "data": {
      "image/png": "[encoded data removed]",
      "text/plain": [
       "<Figure size 648x648 with 1 Axes>"
      ]
     },
     "metadata": {
      "needs_background": "light"
     },
     "output_type": "display_data"
    }
   ],
   "source": [
    "from wordcloud import WordCloud\n",
    "\n",
    "wc = WordCloud(\n",
    "    background_color=\"lightsalmon\",\n",
    "    colormap = 'Pastel2',\n",
    "    width = 4000,\n",
    "    height = 3000,\n",
    "    max_words = 250,\n",
    "    relative_scaling=0.5\n",
    "    ).generate_from_frequencies(clean_d)\n",
    "\n",
    "plt.figure(figsize = (9, 9)) # bigger plot\n",
    "plt.axis('off') # removing axis\n",
    "plt.imshow(wc)"
   ]
  }
 ],
 "metadata": {
  "kernelspec": {
   "display_name": "Python 3.9.12 ('base')",
   "language": "python",
   "name": "python3"
  },
  "language_info": {
   "codemirror_mode": {
    "name": "ipython",
    "version": 3
   },
   "file_extension": ".py",
   "mimetype": "text/x-python",
   "name": "python",
   "nbconvert_exporter": "python",
   "pygments_lexer": "ipython3",
   "version": "3.9.12"
  },
  "orig_nbformat": 4,
  "vscode": {
   "interpreter": {
    "hash": "8922abe8a2f354f864dd8097bc99cbc9988d6260d5a3250d7fc0c8c4274840cd"
   }
  }
 },
 "nbformat": 4,
 "nbformat_minor": 2
}
